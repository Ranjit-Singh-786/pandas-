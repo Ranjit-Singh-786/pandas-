{
 "cells": [
  {
   "cell_type": "markdown",
   "id": "92991ae5",
   "metadata": {},
   "source": [
    "## amazing tips & tricks of pandas in one notebook"
   ]
  },
  {
   "cell_type": "code",
   "execution_count": 1,
   "id": "19365776",
   "metadata": {},
   "outputs": [],
   "source": [
    "import pandas as pd\n",
    "import numpy as np\n",
    "import warnings\n",
    "warnings.filterwarnings('ignore')"
   ]
  },
  {
   "cell_type": "code",
   "execution_count": 2,
   "id": "1af011e5",
   "metadata": {},
   "outputs": [
    {
     "data": {
      "text/html": [
       "<div>\n",
       "<style scoped>\n",
       "    .dataframe tbody tr th:only-of-type {\n",
       "        vertical-align: middle;\n",
       "    }\n",
       "\n",
       "    .dataframe tbody tr th {\n",
       "        vertical-align: top;\n",
       "    }\n",
       "\n",
       "    .dataframe thead th {\n",
       "        text-align: right;\n",
       "    }\n",
       "</style>\n",
       "<table border=\"1\" class=\"dataframe\">\n",
       "  <thead>\n",
       "    <tr style=\"text-align: right;\">\n",
       "      <th></th>\n",
       "      <th>stop_duration</th>\n",
       "    </tr>\n",
       "  </thead>\n",
       "  <tbody>\n",
       "    <tr>\n",
       "      <th>0</th>\n",
       "      <td>0-15 Min</td>\n",
       "    </tr>\n",
       "    <tr>\n",
       "      <th>1</th>\n",
       "      <td>0-15 Min</td>\n",
       "    </tr>\n",
       "    <tr>\n",
       "      <th>2</th>\n",
       "      <td>0-15 Min</td>\n",
       "    </tr>\n",
       "    <tr>\n",
       "      <th>3</th>\n",
       "      <td>16-30 Min</td>\n",
       "    </tr>\n",
       "    <tr>\n",
       "      <th>4</th>\n",
       "      <td>0-15 Min</td>\n",
       "    </tr>\n",
       "  </tbody>\n",
       "</table>\n",
       "</div>"
      ],
      "text/plain": [
       "  stop_duration\n",
       "0      0-15 Min\n",
       "1      0-15 Min\n",
       "2      0-15 Min\n",
       "3     16-30 Min\n",
       "4      0-15 Min"
      ]
     },
     "execution_count": 2,
     "metadata": {},
     "output_type": "execute_result"
    }
   ],
   "source": [
    "data=pd.read_csv('pollice data.csv',parse_dates=['stop_date'])\n",
    "data[['stop_duration']].head()"
   ]
  },
  {
   "cell_type": "code",
   "execution_count": 5,
   "id": "8126c273",
   "metadata": {},
   "outputs": [
    {
     "data": {
      "text/html": [
       "<div>\n",
       "<style scoped>\n",
       "    .dataframe tbody tr th:only-of-type {\n",
       "        vertical-align: middle;\n",
       "    }\n",
       "\n",
       "    .dataframe tbody tr th {\n",
       "        vertical-align: top;\n",
       "    }\n",
       "\n",
       "    .dataframe thead th {\n",
       "        text-align: right;\n",
       "    }\n",
       "</style>\n",
       "<table border=\"1\" class=\"dataframe\">\n",
       "  <thead>\n",
       "    <tr style=\"text-align: right;\">\n",
       "      <th></th>\n",
       "      <th>stop_date</th>\n",
       "      <th>stop_time</th>\n",
       "      <th>country_name</th>\n",
       "      <th>driver_gender</th>\n",
       "      <th>driver_age_raw</th>\n",
       "      <th>driver_age</th>\n",
       "      <th>driver_race</th>\n",
       "      <th>violation_raw</th>\n",
       "      <th>violation</th>\n",
       "      <th>search_conducted</th>\n",
       "      <th>search_type</th>\n",
       "      <th>stop_outcome</th>\n",
       "      <th>is_arrested</th>\n",
       "      <th>stop_duration</th>\n",
       "      <th>drugs_related_stop</th>\n",
       "    </tr>\n",
       "  </thead>\n",
       "  <tbody>\n",
       "    <tr>\n",
       "      <th>0</th>\n",
       "      <td>2005-01-02</td>\n",
       "      <td>1:55</td>\n",
       "      <td>NaN</td>\n",
       "      <td>M</td>\n",
       "      <td>1985.0</td>\n",
       "      <td>20.0</td>\n",
       "      <td>White</td>\n",
       "      <td>Speeding</td>\n",
       "      <td>Speeding</td>\n",
       "      <td>False</td>\n",
       "      <td>NaN</td>\n",
       "      <td>Citation</td>\n",
       "      <td>False</td>\n",
       "      <td>0 15 Min</td>\n",
       "      <td>False</td>\n",
       "    </tr>\n",
       "    <tr>\n",
       "      <th>1</th>\n",
       "      <td>2005-01-18</td>\n",
       "      <td>8:15</td>\n",
       "      <td>NaN</td>\n",
       "      <td>M</td>\n",
       "      <td>1965.0</td>\n",
       "      <td>40.0</td>\n",
       "      <td>White</td>\n",
       "      <td>Speeding</td>\n",
       "      <td>Speeding</td>\n",
       "      <td>False</td>\n",
       "      <td>NaN</td>\n",
       "      <td>Citation</td>\n",
       "      <td>False</td>\n",
       "      <td>0 15 Min</td>\n",
       "      <td>False</td>\n",
       "    </tr>\n",
       "    <tr>\n",
       "      <th>2</th>\n",
       "      <td>2005-01-23</td>\n",
       "      <td>23:15</td>\n",
       "      <td>NaN</td>\n",
       "      <td>M</td>\n",
       "      <td>1972.0</td>\n",
       "      <td>33.0</td>\n",
       "      <td>White</td>\n",
       "      <td>Speeding</td>\n",
       "      <td>Speeding</td>\n",
       "      <td>False</td>\n",
       "      <td>NaN</td>\n",
       "      <td>Citation</td>\n",
       "      <td>False</td>\n",
       "      <td>0 15 Min</td>\n",
       "      <td>False</td>\n",
       "    </tr>\n",
       "    <tr>\n",
       "      <th>3</th>\n",
       "      <td>2005-02-20</td>\n",
       "      <td>17:15</td>\n",
       "      <td>NaN</td>\n",
       "      <td>M</td>\n",
       "      <td>1986.0</td>\n",
       "      <td>19.0</td>\n",
       "      <td>White</td>\n",
       "      <td>Call for Service</td>\n",
       "      <td>Other</td>\n",
       "      <td>False</td>\n",
       "      <td>NaN</td>\n",
       "      <td>Arrest Driver</td>\n",
       "      <td>True</td>\n",
       "      <td>16 30 Min</td>\n",
       "      <td>False</td>\n",
       "    </tr>\n",
       "    <tr>\n",
       "      <th>4</th>\n",
       "      <td>2005-03-14</td>\n",
       "      <td>10:00</td>\n",
       "      <td>NaN</td>\n",
       "      <td>F</td>\n",
       "      <td>1984.0</td>\n",
       "      <td>21.0</td>\n",
       "      <td>White</td>\n",
       "      <td>Speeding</td>\n",
       "      <td>Speeding</td>\n",
       "      <td>False</td>\n",
       "      <td>NaN</td>\n",
       "      <td>Citation</td>\n",
       "      <td>False</td>\n",
       "      <td>0 15 Min</td>\n",
       "      <td>False</td>\n",
       "    </tr>\n",
       "  </tbody>\n",
       "</table>\n",
       "</div>"
      ],
      "text/plain": [
       "   stop_date stop_time  country_name driver_gender  driver_age_raw  \\\n",
       "0 2005-01-02      1:55           NaN             M          1985.0   \n",
       "1 2005-01-18      8:15           NaN             M          1965.0   \n",
       "2 2005-01-23     23:15           NaN             M          1972.0   \n",
       "3 2005-02-20     17:15           NaN             M          1986.0   \n",
       "4 2005-03-14     10:00           NaN             F          1984.0   \n",
       "\n",
       "   driver_age driver_race     violation_raw violation  search_conducted  \\\n",
       "0        20.0       White          Speeding  Speeding             False   \n",
       "1        40.0       White          Speeding  Speeding             False   \n",
       "2        33.0       White          Speeding  Speeding             False   \n",
       "3        19.0       White  Call for Service     Other             False   \n",
       "4        21.0       White          Speeding  Speeding             False   \n",
       "\n",
       "  search_type   stop_outcome is_arrested stop_duration  drugs_related_stop  \n",
       "0         NaN       Citation       False      0 15 Min               False  \n",
       "1         NaN       Citation       False      0 15 Min               False  \n",
       "2         NaN       Citation       False      0 15 Min               False  \n",
       "3         NaN  Arrest Driver        True     16 30 Min               False  \n",
       "4         NaN       Citation       False      0 15 Min               False  "
      ]
     },
     "execution_count": 5,
     "metadata": {},
     "output_type": "execute_result"
    }
   ],
   "source": [
    "data.head()"
   ]
  },
  {
   "cell_type": "code",
   "execution_count": 4,
   "id": "fee73cce",
   "metadata": {},
   "outputs": [
    {
     "data": {
      "text/html": [
       "<div>\n",
       "<style scoped>\n",
       "    .dataframe tbody tr th:only-of-type {\n",
       "        vertical-align: middle;\n",
       "    }\n",
       "\n",
       "    .dataframe tbody tr th {\n",
       "        vertical-align: top;\n",
       "    }\n",
       "\n",
       "    .dataframe thead th {\n",
       "        text-align: right;\n",
       "    }\n",
       "</style>\n",
       "<table border=\"1\" class=\"dataframe\">\n",
       "  <thead>\n",
       "    <tr style=\"text-align: right;\">\n",
       "      <th></th>\n",
       "      <th>stop_duration</th>\n",
       "    </tr>\n",
       "  </thead>\n",
       "  <tbody>\n",
       "    <tr>\n",
       "      <th>0</th>\n",
       "      <td>0 15 Min</td>\n",
       "    </tr>\n",
       "    <tr>\n",
       "      <th>1</th>\n",
       "      <td>0 15 Min</td>\n",
       "    </tr>\n",
       "    <tr>\n",
       "      <th>2</th>\n",
       "      <td>0 15 Min</td>\n",
       "    </tr>\n",
       "    <tr>\n",
       "      <th>3</th>\n",
       "      <td>16 30 Min</td>\n",
       "    </tr>\n",
       "    <tr>\n",
       "      <th>4</th>\n",
       "      <td>0 15 Min</td>\n",
       "    </tr>\n",
       "  </tbody>\n",
       "</table>\n",
       "</div>"
      ],
      "text/plain": [
       "  stop_duration\n",
       "0      0 15 Min\n",
       "1      0 15 Min\n",
       "2      0 15 Min\n",
       "3     16 30 Min\n",
       "4      0 15 Min"
      ]
     },
     "execution_count": 4,
     "metadata": {},
     "output_type": "execute_result"
    }
   ],
   "source": [
    "data['stop_duration']=data['stop_duration'].str.replace(\"-\",\"\")\n",
    "data[['stop_duration']].head()"
   ]
  },
  {
   "cell_type": "code",
   "execution_count": 18,
   "id": "6dd6caf3",
   "metadata": {},
   "outputs": [
    {
     "data": {
      "text/plain": [
       "0    0 15 Min\n",
       "1    0 15 Min\n",
       "2    0 15 Min\n",
       "Name: stop_duration, dtype: object"
      ]
     },
     "execution_count": 18,
     "metadata": {},
     "output_type": "execute_result"
    }
   ],
   "source": [
    "data.stop_duration[:3]"
   ]
  },
  {
   "cell_type": "code",
   "execution_count": 8,
   "id": "f9b4481a",
   "metadata": {},
   "outputs": [
    {
     "data": {
      "text/plain": [
       "0           [0, 1, 5]\n",
       "1           [0, 1, 5]\n",
       "2           [0, 1, 5]\n",
       "3        [1, 6, 3, 0]\n",
       "4           [0, 1, 5]\n",
       "             ...     \n",
       "65530       [0, 1, 5]\n",
       "65531       [0, 1, 5]\n",
       "65532       [0, 1, 5]\n",
       "65533             NaN\n",
       "65534       [0, 1, 5]\n",
       "Name: stop_duration, Length: 65535, dtype: object"
      ]
     },
     "execution_count": 8,
     "metadata": {},
     "output_type": "execute_result"
    }
   ],
   "source": [
    "# this is regular expression trick fetch the intger value from the string\n",
    "data['stop_duration'].str.findall('\\d')"
   ]
  },
  {
   "cell_type": "code",
   "execution_count": 9,
   "id": "c9838fc1",
   "metadata": {},
   "outputs": [
    {
     "data": {
      "text/plain": [
       "0         [0, 15]\n",
       "1         [0, 15]\n",
       "2         [0, 15]\n",
       "3        [16, 30]\n",
       "4         [0, 15]\n",
       "           ...   \n",
       "65530     [0, 15]\n",
       "65531     [0, 15]\n",
       "65532     [0, 15]\n",
       "65533         NaN\n",
       "65534     [0, 15]\n",
       "Name: stop_duration, Length: 65535, dtype: object"
      ]
     },
     "execution_count": 9,
     "metadata": {},
     "output_type": "execute_result"
    }
   ],
   "source": [
    "# second option you can add same place as a string\n",
    "data['stop_duration'].str.findall('\\d+')"
   ]
  },
  {
   "cell_type": "code",
   "execution_count": 21,
   "id": "a7be38ee",
   "metadata": {},
   "outputs": [
    {
     "data": {
      "text/plain": [
       "0     [0 15]\n",
       "1     [0 15]\n",
       "2     [0 15]\n",
       "3    [16 30]\n",
       "4     [0 15]\n",
       "Name: reduce_stop_durationtime, dtype: object"
      ]
     },
     "execution_count": 21,
     "metadata": {},
     "output_type": "execute_result"
    }
   ],
   "source": [
    "data['reduce_stop_durationtime']=data['stop_duration'].str.findall('\\d+.\\d+')\n",
    "data['reduce_stop_durationtime'].head()"
   ]
  },
  {
   "cell_type": "code",
   "execution_count": 16,
   "id": "f5b0c4c1",
   "metadata": {},
   "outputs": [
    {
     "name": "stdout",
     "output_type": "stream",
     "text": [
      "number of row :- 20\n",
      "\n",
      "stop_date             2005-07-28 00:00:00\n",
      "stop_time                           12:37\n",
      "country_name                          NaN\n",
      "driver_gender                           F\n",
      "driver_age_raw                     1979.0\n",
      "driver_age                           26.0\n",
      "driver_race                         Asian\n",
      "violation_raw                    Speeding\n",
      "violation                        Speeding\n",
      "search_conducted                    False\n",
      "search_type                           NaN\n",
      "stop_outcome                     Citation\n",
      "is_arrested                         False\n",
      "stop_duration                    0 15 Min\n",
      "drugs_related_stop                  False\n",
      "Name: 20, dtype: object\n",
      "\n",
      "\n",
      "printed the particular element with the help of row\n",
      "\n",
      "2005-07-28 00:00:00\n",
      "\n",
      "we are printing only 20 index row\n"
     ]
    }
   ],
   "source": [
    "for i ,row in data.iterrows():           # index and row\n",
    "    \n",
    "    if i==20:\n",
    "        print('number of row :-',i)\n",
    "        print()\n",
    "        print(row)\n",
    "        print('\\n')\n",
    "        print('printed the particular element with the help of row')\n",
    "        print()\n",
    "        print(row.stop_date)\n",
    "        break\n",
    "print()\n",
    "print('we are printing only 20 index row')"
   ]
  },
  {
   "cell_type": "code",
   "execution_count": 19,
   "id": "b32028ef",
   "metadata": {},
   "outputs": [
    {
     "ename": "TypeError",
     "evalue": "'Timestamp' object is not iterable",
     "output_type": "error",
     "traceback": [
      "\u001b[1;31m---------------------------------------------------------------------------\u001b[0m",
      "\u001b[1;31mTypeError\u001b[0m                                 Traceback (most recent call last)",
      "Input \u001b[1;32mIn [19]\u001b[0m, in \u001b[0;36m<cell line: 3>\u001b[1;34m()\u001b[0m\n\u001b[0;32m      2\u001b[0m newlist\u001b[38;5;241m=\u001b[39m[]\n\u001b[0;32m      3\u001b[0m \u001b[38;5;28;01mfor\u001b[39;00m x \u001b[38;5;129;01min\u001b[39;00m data[\u001b[38;5;124m'\u001b[39m\u001b[38;5;124mstop_date\u001b[39m\u001b[38;5;124m'\u001b[39m]:\n\u001b[0;32m      4\u001b[0m \u001b[38;5;66;03m#     print(x)\u001b[39;00m\n\u001b[1;32m----> 5\u001b[0m     \u001b[38;5;28;01mfor\u001b[39;00m i,y \u001b[38;5;129;01min\u001b[39;00m \u001b[38;5;28;43menumerate\u001b[39;49m\u001b[43m(\u001b[49m\u001b[43mx\u001b[49m\u001b[43m)\u001b[49m:\n\u001b[0;32m      6\u001b[0m         \u001b[38;5;28;01mtry\u001b[39;00m:\n\u001b[0;32m      7\u001b[0m             newlist[i]\u001b[38;5;241m=\u001b[39my\u001b[38;5;241m.\u001b[39mreplace(\u001b[38;5;124m'\u001b[39m\u001b[38;5;124m \u001b[39m\u001b[38;5;124m'\u001b[39m,\u001b[38;5;124m'\u001b[39m\u001b[38;5;124m'\u001b[39m)\n",
      "\u001b[1;31mTypeError\u001b[0m: 'Timestamp' object is not iterable"
     ]
    }
   ],
   "source": [
    "#exercise for understanding\n",
    "newlist=[]\n",
    "for x in data['stop_date']:\n",
    "#     print(x)\n",
    "    for i,y in enumerate(x):\n",
    "        try:\n",
    "            newlist[i]=y.replace(' ','')\n",
    "        except:\n",
    "            newlist.append(y.replace(' ',''))\n",
    "# # enumerate"
   ]
  },
  {
   "cell_type": "code",
   "execution_count": 23,
   "id": "d0b76e24",
   "metadata": {},
   "outputs": [
    {
     "data": {
      "text/plain": [
       "0         [0 15]\n",
       "1         [0 15]\n",
       "2         [0 15]\n",
       "3        [16 30]\n",
       "4         [0 15]\n",
       "          ...   \n",
       "65530     [0 15]\n",
       "65531     [0 15]\n",
       "65532     [0 15]\n",
       "65533        NaN\n",
       "65534     [0 15]\n",
       "Name: reduce_stop_durationtime, Length: 65535, dtype: object"
      ]
     },
     "execution_count": 23,
     "metadata": {},
     "output_type": "execute_result"
    }
   ],
   "source": [
    "data['reduce_stop_durationtime']"
   ]
  },
  {
   "cell_type": "code",
   "execution_count": 22,
   "id": "d84b3e26",
   "metadata": {},
   "outputs": [
    {
     "ename": "ValueError",
     "evalue": "invalid literal for int() with base 10: '0 15'",
     "output_type": "error",
     "traceback": [
      "\u001b[1;31m---------------------------------------------------------------------------\u001b[0m",
      "\u001b[1;31mValueError\u001b[0m                                Traceback (most recent call last)",
      "Input \u001b[1;32mIn [22]\u001b[0m, in \u001b[0;36m<cell line: 2>\u001b[1;34m()\u001b[0m\n\u001b[0;32m      1\u001b[0m \u001b[38;5;66;03m#interesting method tricks but i have no suitable dataset so i could,nt run the proper\u001b[39;00m\n\u001b[0;32m      2\u001b[0m \u001b[38;5;28;01mfor\u001b[39;00m i , row \u001b[38;5;129;01min\u001b[39;00m data\u001b[38;5;241m.\u001b[39miterrows():\n\u001b[1;32m----> 4\u001b[0m     data\u001b[38;5;241m.\u001b[39mloc[i,\u001b[38;5;124m'\u001b[39m\u001b[38;5;124mremove_spacecol\u001b[39m\u001b[38;5;124m'\u001b[39m]\u001b[38;5;241m=\u001b[39mrow\u001b[38;5;241m.\u001b[39mdriver_age\u001b[38;5;241m+\u001b[39m\u001b[38;5;28msum\u001b[39m([\u001b[38;5;28mint\u001b[39m(x) \u001b[38;5;28;01mfor\u001b[39;00m x \u001b[38;5;129;01min\u001b[39;00m row\u001b[38;5;241m.\u001b[39mreduce_stop_durationtime])\n",
      "Input \u001b[1;32mIn [22]\u001b[0m, in \u001b[0;36m<listcomp>\u001b[1;34m(.0)\u001b[0m\n\u001b[0;32m      1\u001b[0m \u001b[38;5;66;03m#interesting method tricks but i have no suitable dataset so i could,nt run the proper\u001b[39;00m\n\u001b[0;32m      2\u001b[0m \u001b[38;5;28;01mfor\u001b[39;00m i , row \u001b[38;5;129;01min\u001b[39;00m data\u001b[38;5;241m.\u001b[39miterrows():\n\u001b[1;32m----> 4\u001b[0m     data\u001b[38;5;241m.\u001b[39mloc[i,\u001b[38;5;124m'\u001b[39m\u001b[38;5;124mremove_spacecol\u001b[39m\u001b[38;5;124m'\u001b[39m]\u001b[38;5;241m=\u001b[39mrow\u001b[38;5;241m.\u001b[39mdriver_age\u001b[38;5;241m+\u001b[39m\u001b[38;5;28msum\u001b[39m([\u001b[38;5;28;43mint\u001b[39;49m\u001b[43m(\u001b[49m\u001b[43mx\u001b[49m\u001b[43m)\u001b[49m \u001b[38;5;28;01mfor\u001b[39;00m x \u001b[38;5;129;01min\u001b[39;00m row\u001b[38;5;241m.\u001b[39mreduce_stop_durationtime])\n",
      "\u001b[1;31mValueError\u001b[0m: invalid literal for int() with base 10: '0 15'"
     ]
    }
   ],
   "source": [
    "#interesting method tricks but i have no suitable dataset so i could,nt run the proper\n",
    "for i , row in data.iterrows():\n",
    "    \n",
    "    data.loc[i,'remove_spacecol']=row.driver_age+sum([int(x) for x in row.reduce_stop_durationtime])"
   ]
  },
  {
   "cell_type": "code",
   "execution_count": 51,
   "id": "400d4ef1",
   "metadata": {},
   "outputs": [],
   "source": [
    "# for i , row in data.iterrows():\n",
    "#     data.loc[i,'edited_col']=[x.replace('-',',') for x in row.stop_duration]"
   ]
  },
  {
   "cell_type": "code",
   "execution_count": 24,
   "id": "dd74a2e3",
   "metadata": {},
   "outputs": [
    {
     "data": {
      "text/plain": [
       "dtype('O')"
      ]
     },
     "execution_count": 24,
     "metadata": {},
     "output_type": "execute_result"
    }
   ],
   "source": [
    "data['driver_age_raw']=data['driver_age_raw'].astype(str)\n",
    "data.driver_age_raw.dtypes"
   ]
  },
  {
   "cell_type": "code",
   "execution_count": 25,
   "id": "b40e5a85",
   "metadata": {},
   "outputs": [
    {
     "data": {
      "text/plain": [
       "stop_date                   datetime64[ns]\n",
       "stop_time                           object\n",
       "country_name                       float64\n",
       "driver_gender                       object\n",
       "driver_age_raw                      object\n",
       "driver_age                         float64\n",
       "driver_race                         object\n",
       "violation_raw                       object\n",
       "violation                           object\n",
       "search_conducted                      bool\n",
       "search_type                         object\n",
       "stop_outcome                        object\n",
       "is_arrested                         object\n",
       "stop_duration                       object\n",
       "drugs_related_stop                    bool\n",
       "reduce_stop_durationtime            object\n",
       "dtype: object"
      ]
     },
     "execution_count": 25,
     "metadata": {},
     "output_type": "execute_result"
    }
   ],
   "source": [
    "data.dtypes"
   ]
  },
  {
   "cell_type": "markdown",
   "id": "eba05fb9",
   "metadata": {},
   "source": [
    "### regular expression of python using in pandas"
   ]
  },
  {
   "cell_type": "code",
   "execution_count": 10,
   "id": "ad81b311",
   "metadata": {},
   "outputs": [
    {
     "data": {
      "text/plain": [
       "0     0-15 Min\n",
       "1     0-15 Min\n",
       "2     0-15 Min\n",
       "3    16-30 Min\n",
       "4     0-15 Min\n",
       "5     0-15 Min\n",
       "6     0-15 Min\n",
       "7     0-15 Min\n",
       "8     0-15 Min\n",
       "9     0-15 Min\n",
       "Name: stop_duration, dtype: object"
      ]
     },
     "execution_count": 10,
     "metadata": {},
     "output_type": "execute_result"
    }
   ],
   "source": [
    "data.stop_duration[0:10]"
   ]
  },
  {
   "cell_type": "code",
   "execution_count": 26,
   "id": "d5fa966b",
   "metadata": {},
   "outputs": [
    {
     "data": {
      "text/plain": [
       "0           [0, 1, 5]\n",
       "1           [0, 1, 5]\n",
       "2           [0, 1, 5]\n",
       "3        [1, 6, 3, 0]\n",
       "4           [0, 1, 5]\n",
       "             ...     \n",
       "65530       [0, 1, 5]\n",
       "65531       [0, 1, 5]\n",
       "65532       [0, 1, 5]\n",
       "65533             NaN\n",
       "65534       [0, 1, 5]\n",
       "Name: stop_duration, Length: 65535, dtype: object"
      ]
     },
     "execution_count": 26,
     "metadata": {},
     "output_type": "execute_result"
    }
   ],
   "source": [
    "data.stop_duration.str.findall('\\d')\n",
    "\n"
   ]
  },
  {
   "cell_type": "markdown",
   "id": "d3ea8165",
   "metadata": {},
   "source": [
    "## this is very important trick"
   ]
  },
  {
   "cell_type": "code",
   "execution_count": 27,
   "id": "bde67fdd",
   "metadata": {},
   "outputs": [],
   "source": [
    "for i ,j in data.iterrows():\n",
    "    data.loc[i,'new_column']=j.driver_age\n",
    "#this function is return index value and row of the entire dataframe\n",
    "# this is for understanding but i don,t know why does not working\n",
    "# then method when will be work then inside the driver_age_raw data list in form"
   ]
  },
  {
   "cell_type": "code",
   "execution_count": 29,
   "id": "5113fd67",
   "metadata": {},
   "outputs": [
    {
     "data": {
      "text/html": [
       "<div>\n",
       "<style scoped>\n",
       "    .dataframe tbody tr th:only-of-type {\n",
       "        vertical-align: middle;\n",
       "    }\n",
       "\n",
       "    .dataframe tbody tr th {\n",
       "        vertical-align: top;\n",
       "    }\n",
       "\n",
       "    .dataframe thead th {\n",
       "        text-align: right;\n",
       "    }\n",
       "</style>\n",
       "<table border=\"1\" class=\"dataframe\">\n",
       "  <thead>\n",
       "    <tr style=\"text-align: right;\">\n",
       "      <th></th>\n",
       "      <th>new_column</th>\n",
       "      <th>driver_age</th>\n",
       "    </tr>\n",
       "  </thead>\n",
       "  <tbody>\n",
       "    <tr>\n",
       "      <th>0</th>\n",
       "      <td>20.0</td>\n",
       "      <td>20.0</td>\n",
       "    </tr>\n",
       "    <tr>\n",
       "      <th>1</th>\n",
       "      <td>40.0</td>\n",
       "      <td>40.0</td>\n",
       "    </tr>\n",
       "    <tr>\n",
       "      <th>2</th>\n",
       "      <td>33.0</td>\n",
       "      <td>33.0</td>\n",
       "    </tr>\n",
       "    <tr>\n",
       "      <th>3</th>\n",
       "      <td>19.0</td>\n",
       "      <td>19.0</td>\n",
       "    </tr>\n",
       "    <tr>\n",
       "      <th>4</th>\n",
       "      <td>21.0</td>\n",
       "      <td>21.0</td>\n",
       "    </tr>\n",
       "    <tr>\n",
       "      <th>...</th>\n",
       "      <td>...</td>\n",
       "      <td>...</td>\n",
       "    </tr>\n",
       "    <tr>\n",
       "      <th>65530</th>\n",
       "      <td>25.0</td>\n",
       "      <td>25.0</td>\n",
       "    </tr>\n",
       "    <tr>\n",
       "      <th>65531</th>\n",
       "      <td>58.0</td>\n",
       "      <td>58.0</td>\n",
       "    </tr>\n",
       "    <tr>\n",
       "      <th>65532</th>\n",
       "      <td>27.0</td>\n",
       "      <td>27.0</td>\n",
       "    </tr>\n",
       "    <tr>\n",
       "      <th>65533</th>\n",
       "      <td>NaN</td>\n",
       "      <td>NaN</td>\n",
       "    </tr>\n",
       "    <tr>\n",
       "      <th>65534</th>\n",
       "      <td>27.0</td>\n",
       "      <td>27.0</td>\n",
       "    </tr>\n",
       "  </tbody>\n",
       "</table>\n",
       "<p>65535 rows × 2 columns</p>\n",
       "</div>"
      ],
      "text/plain": [
       "       new_column  driver_age\n",
       "0            20.0        20.0\n",
       "1            40.0        40.0\n",
       "2            33.0        33.0\n",
       "3            19.0        19.0\n",
       "4            21.0        21.0\n",
       "...           ...         ...\n",
       "65530        25.0        25.0\n",
       "65531        58.0        58.0\n",
       "65532        27.0        27.0\n",
       "65533         NaN         NaN\n",
       "65534        27.0        27.0\n",
       "\n",
       "[65535 rows x 2 columns]"
      ]
     },
     "execution_count": 29,
     "metadata": {},
     "output_type": "execute_result"
    }
   ],
   "source": [
    "data[['new_column','driver_age']]"
   ]
  },
  {
   "cell_type": "code",
   "execution_count": 30,
   "id": "5f132cc0",
   "metadata": {},
   "outputs": [
    {
     "data": {
      "text/plain": [
       "dtype('float64')"
      ]
     },
     "execution_count": 30,
     "metadata": {},
     "output_type": "execute_result"
    }
   ],
   "source": [
    "data['driver_age'].dtypes"
   ]
  },
  {
   "cell_type": "code",
   "execution_count": 38,
   "id": "91464f49",
   "metadata": {},
   "outputs": [
    {
     "data": {
      "text/plain": [
       "False    65535\n",
       "Name: driver_age, dtype: int64"
      ]
     },
     "execution_count": 38,
     "metadata": {},
     "output_type": "execute_result"
    }
   ],
   "source": [
    "data['driver_age'].isin(['.']).value_counts()"
   ]
  },
  {
   "cell_type": "code",
   "execution_count": 31,
   "id": "94d8774b",
   "metadata": {},
   "outputs": [
    {
     "ename": "ValueError",
     "evalue": "invalid literal for int() with base 10: '.'",
     "output_type": "error",
     "traceback": [
      "\u001b[1;31m---------------------------------------------------------------------------\u001b[0m",
      "\u001b[1;31mValueError\u001b[0m                                Traceback (most recent call last)",
      "Input \u001b[1;32mIn [31]\u001b[0m, in \u001b[0;36m<cell line: 1>\u001b[1;34m()\u001b[0m\n\u001b[0;32m      1\u001b[0m \u001b[38;5;28;01mfor\u001b[39;00m i ,j \u001b[38;5;129;01min\u001b[39;00m data\u001b[38;5;241m.\u001b[39miterrows():\n\u001b[1;32m----> 2\u001b[0m    data\u001b[38;5;241m.\u001b[39mloc[i,\u001b[38;5;124m'\u001b[39m\u001b[38;5;124mnew_column2\u001b[39m\u001b[38;5;124m'\u001b[39m]\u001b[38;5;241m=\u001b[39m\u001b[38;5;28msum\u001b[39m([\u001b[38;5;28mint\u001b[39m(x) \u001b[38;5;28;01mfor\u001b[39;00m x \u001b[38;5;129;01min\u001b[39;00m j\u001b[38;5;241m.\u001b[39mdriver_age_raw])\n",
      "Input \u001b[1;32mIn [31]\u001b[0m, in \u001b[0;36m<listcomp>\u001b[1;34m(.0)\u001b[0m\n\u001b[0;32m      1\u001b[0m \u001b[38;5;28;01mfor\u001b[39;00m i ,j \u001b[38;5;129;01min\u001b[39;00m data\u001b[38;5;241m.\u001b[39miterrows():\n\u001b[1;32m----> 2\u001b[0m    data\u001b[38;5;241m.\u001b[39mloc[i,\u001b[38;5;124m'\u001b[39m\u001b[38;5;124mnew_column2\u001b[39m\u001b[38;5;124m'\u001b[39m]\u001b[38;5;241m=\u001b[39m\u001b[38;5;28msum\u001b[39m([\u001b[38;5;28;43mint\u001b[39;49m\u001b[43m(\u001b[49m\u001b[43mx\u001b[49m\u001b[43m)\u001b[49m \u001b[38;5;28;01mfor\u001b[39;00m x \u001b[38;5;129;01min\u001b[39;00m j\u001b[38;5;241m.\u001b[39mdriver_age_raw])\n",
      "\u001b[1;31mValueError\u001b[0m: invalid literal for int() with base 10: '.'"
     ]
    }
   ],
   "source": [
    " for i ,j in data.iterrows():\n",
    "    data.loc[i,'new_column2']=sum([int(x) for x in j.driver_age_raw])\n",
    "    "
   ]
  },
  {
   "cell_type": "code",
   "execution_count": 39,
   "id": "a48fec67",
   "metadata": {},
   "outputs": [
    {
     "data": {
      "text/html": [
       "<div>\n",
       "<style scoped>\n",
       "    .dataframe tbody tr th:only-of-type {\n",
       "        vertical-align: middle;\n",
       "    }\n",
       "\n",
       "    .dataframe tbody tr th {\n",
       "        vertical-align: top;\n",
       "    }\n",
       "\n",
       "    .dataframe thead th {\n",
       "        text-align: right;\n",
       "    }\n",
       "</style>\n",
       "<table border=\"1\" class=\"dataframe\">\n",
       "  <thead>\n",
       "    <tr style=\"text-align: right;\">\n",
       "      <th></th>\n",
       "      <th>stop_date</th>\n",
       "      <th>stop_time</th>\n",
       "      <th>country_name</th>\n",
       "      <th>driver_gender</th>\n",
       "      <th>driver_age_raw</th>\n",
       "      <th>driver_age</th>\n",
       "      <th>driver_race</th>\n",
       "      <th>violation_raw</th>\n",
       "      <th>violation</th>\n",
       "      <th>search_conducted</th>\n",
       "      <th>search_type</th>\n",
       "      <th>stop_outcome</th>\n",
       "      <th>is_arrested</th>\n",
       "      <th>stop_duration</th>\n",
       "      <th>drugs_related_stop</th>\n",
       "      <th>reduce_stop_durationtime</th>\n",
       "      <th>new_column</th>\n",
       "    </tr>\n",
       "  </thead>\n",
       "  <tbody>\n",
       "    <tr>\n",
       "      <th>0</th>\n",
       "      <td>2005-01-02</td>\n",
       "      <td>1:55</td>\n",
       "      <td>NaN</td>\n",
       "      <td>M</td>\n",
       "      <td>1985.0</td>\n",
       "      <td>20.0</td>\n",
       "      <td>White</td>\n",
       "      <td>Speeding</td>\n",
       "      <td>Speeding</td>\n",
       "      <td>False</td>\n",
       "      <td>NaN</td>\n",
       "      <td>Citation</td>\n",
       "      <td>False</td>\n",
       "      <td>0 15 Min</td>\n",
       "      <td>False</td>\n",
       "      <td>[0 15]</td>\n",
       "      <td>20.0</td>\n",
       "    </tr>\n",
       "    <tr>\n",
       "      <th>1</th>\n",
       "      <td>2005-01-18</td>\n",
       "      <td>8:15</td>\n",
       "      <td>NaN</td>\n",
       "      <td>M</td>\n",
       "      <td>1965.0</td>\n",
       "      <td>40.0</td>\n",
       "      <td>White</td>\n",
       "      <td>Speeding</td>\n",
       "      <td>Speeding</td>\n",
       "      <td>False</td>\n",
       "      <td>NaN</td>\n",
       "      <td>Citation</td>\n",
       "      <td>False</td>\n",
       "      <td>0 15 Min</td>\n",
       "      <td>False</td>\n",
       "      <td>[0 15]</td>\n",
       "      <td>40.0</td>\n",
       "    </tr>\n",
       "  </tbody>\n",
       "</table>\n",
       "</div>"
      ],
      "text/plain": [
       "   stop_date stop_time  country_name driver_gender driver_age_raw  driver_age  \\\n",
       "0 2005-01-02      1:55           NaN             M         1985.0        20.0   \n",
       "1 2005-01-18      8:15           NaN             M         1965.0        40.0   \n",
       "\n",
       "  driver_race violation_raw violation  search_conducted search_type  \\\n",
       "0       White      Speeding  Speeding             False         NaN   \n",
       "1       White      Speeding  Speeding             False         NaN   \n",
       "\n",
       "  stop_outcome is_arrested stop_duration  drugs_related_stop  \\\n",
       "0     Citation       False      0 15 Min               False   \n",
       "1     Citation       False      0 15 Min               False   \n",
       "\n",
       "  reduce_stop_durationtime  new_column  \n",
       "0                   [0 15]        20.0  \n",
       "1                   [0 15]        40.0  "
      ]
     },
     "execution_count": 39,
     "metadata": {},
     "output_type": "execute_result"
    }
   ],
   "source": [
    "data.head(2)"
   ]
  },
  {
   "cell_type": "code",
   "execution_count": 21,
   "id": "e98b4ec3",
   "metadata": {},
   "outputs": [
    {
     "data": {
      "text/plain": [
       "Speeding                            37204\n",
       "Other Traffic Violation             11926\n",
       "Equipment/Inspection Violation       6516\n",
       "Special Detail/Directed Patrol       2383\n",
       "Registration Violation               2243\n",
       "Call for Service                      793\n",
       "Violation of City/Town Ordinance      170\n",
       "Motorist Assist/Courtesy              138\n",
       "APB                                    51\n",
       "Suspicious Person                      38\n",
       "Warrant                                10\n",
       "Seatbelt Violation                      3\n",
       "Name: violation_raw, dtype: int64"
      ]
     },
     "execution_count": 21,
     "metadata": {},
     "output_type": "execute_result"
    }
   ],
   "source": [
    "pd.value_counts(data['violation_raw'])"
   ]
  },
  {
   "cell_type": "code",
   "execution_count": 47,
   "id": "7cd69743",
   "metadata": {},
   "outputs": [
    {
     "name": "stdout",
     "output_type": "stream",
     "text": [
      "\n"
     ]
    },
    {
     "data": {
      "text/plain": [
       "(Speeding                            0.605189\n",
       " Other Traffic Violation             0.193998\n",
       " Equipment/Inspection Violation      0.105994\n",
       " Special Detail/Directed Patrol      0.038764\n",
       " Registration Violation              0.036486\n",
       " Call for Service                    0.012900\n",
       " Violation of City/Town Ordinance    0.002765\n",
       " Motorist Assist/Courtesy            0.002245\n",
       " APB                                 0.000830\n",
       " Suspicious Person                   0.000618\n",
       " Warrant                             0.000163\n",
       " Seatbelt Violation                  0.000049\n",
       " Name: violation_raw, dtype: float64,\n",
       " None,\n",
       " White       45747\n",
       " Black        8267\n",
       " Hispanic     5611\n",
       " Asian        1639\n",
       " Other         211\n",
       " Name: driver_race, dtype: int64,\n",
       " 11:00    280\n",
       " 10:00    280\n",
       " 9:00     252\n",
       " 10:30    251\n",
       " 9:30     246\n",
       "         ... \n",
       " 5:42       1\n",
       " 4:56       1\n",
       " 5:25       1\n",
       " 4:57       1\n",
       " 4:54       1\n",
       " Name: stop_time, Length: 1432, dtype: int64)"
      ]
     },
     "execution_count": 47,
     "metadata": {},
     "output_type": "execute_result"
    }
   ],
   "source": [
    "data['violation_raw'].value_counts(normalize=True),print(),data['driver_race'].value_counts(),data['stop_time'].value_counts()"
   ]
  },
  {
   "cell_type": "code",
   "execution_count": 48,
   "id": "e3772899",
   "metadata": {},
   "outputs": [
    {
     "data": {
      "text/html": [
       "<div>\n",
       "<style scoped>\n",
       "    .dataframe tbody tr th:only-of-type {\n",
       "        vertical-align: middle;\n",
       "    }\n",
       "\n",
       "    .dataframe tbody tr th {\n",
       "        vertical-align: top;\n",
       "    }\n",
       "\n",
       "    .dataframe thead th {\n",
       "        text-align: right;\n",
       "    }\n",
       "</style>\n",
       "<table border=\"1\" class=\"dataframe\">\n",
       "  <thead>\n",
       "    <tr style=\"text-align: right;\">\n",
       "      <th>violation_raw</th>\n",
       "      <th>APB</th>\n",
       "      <th>Call for Service</th>\n",
       "      <th>Equipment/Inspection Violation</th>\n",
       "      <th>Motorist Assist/Courtesy</th>\n",
       "      <th>Other Traffic Violation</th>\n",
       "      <th>Registration Violation</th>\n",
       "      <th>Seatbelt Violation</th>\n",
       "      <th>Special Detail/Directed Patrol</th>\n",
       "      <th>Speeding</th>\n",
       "      <th>Suspicious Person</th>\n",
       "      <th>Violation of City/Town Ordinance</th>\n",
       "      <th>Warrant</th>\n",
       "    </tr>\n",
       "    <tr>\n",
       "      <th>driver_race</th>\n",
       "      <th></th>\n",
       "      <th></th>\n",
       "      <th></th>\n",
       "      <th></th>\n",
       "      <th></th>\n",
       "      <th></th>\n",
       "      <th></th>\n",
       "      <th></th>\n",
       "      <th></th>\n",
       "      <th></th>\n",
       "      <th></th>\n",
       "      <th></th>\n",
       "    </tr>\n",
       "  </thead>\n",
       "  <tbody>\n",
       "    <tr>\n",
       "      <th>Asian</th>\n",
       "      <td>NaN</td>\n",
       "      <td>17.0</td>\n",
       "      <td>130.0</td>\n",
       "      <td>2.0</td>\n",
       "      <td>242.0</td>\n",
       "      <td>29.0</td>\n",
       "      <td>NaN</td>\n",
       "      <td>45.0</td>\n",
       "      <td>1173.0</td>\n",
       "      <td>NaN</td>\n",
       "      <td>1.0</td>\n",
       "      <td>NaN</td>\n",
       "    </tr>\n",
       "    <tr>\n",
       "      <th>Black</th>\n",
       "      <td>6.0</td>\n",
       "      <td>97.0</td>\n",
       "      <td>1262.0</td>\n",
       "      <td>25.0</td>\n",
       "      <td>2076.0</td>\n",
       "      <td>503.0</td>\n",
       "      <td>1.0</td>\n",
       "      <td>603.0</td>\n",
       "      <td>3658.0</td>\n",
       "      <td>3.0</td>\n",
       "      <td>33.0</td>\n",
       "      <td>NaN</td>\n",
       "    </tr>\n",
       "    <tr>\n",
       "      <th>Hispanic</th>\n",
       "      <td>8.0</td>\n",
       "      <td>121.0</td>\n",
       "      <td>1069.0</td>\n",
       "      <td>12.0</td>\n",
       "      <td>1543.0</td>\n",
       "      <td>467.0</td>\n",
       "      <td>1.0</td>\n",
       "      <td>305.0</td>\n",
       "      <td>2062.0</td>\n",
       "      <td>5.0</td>\n",
       "      <td>16.0</td>\n",
       "      <td>2.0</td>\n",
       "    </tr>\n",
       "    <tr>\n",
       "      <th>Other</th>\n",
       "      <td>NaN</td>\n",
       "      <td>5.0</td>\n",
       "      <td>15.0</td>\n",
       "      <td>1.0</td>\n",
       "      <td>49.0</td>\n",
       "      <td>1.0</td>\n",
       "      <td>NaN</td>\n",
       "      <td>15.0</td>\n",
       "      <td>125.0</td>\n",
       "      <td>NaN</td>\n",
       "      <td>NaN</td>\n",
       "      <td>NaN</td>\n",
       "    </tr>\n",
       "    <tr>\n",
       "      <th>White</th>\n",
       "      <td>37.0</td>\n",
       "      <td>553.0</td>\n",
       "      <td>4040.0</td>\n",
       "      <td>98.0</td>\n",
       "      <td>8016.0</td>\n",
       "      <td>1243.0</td>\n",
       "      <td>1.0</td>\n",
       "      <td>1415.0</td>\n",
       "      <td>30186.0</td>\n",
       "      <td>30.0</td>\n",
       "      <td>120.0</td>\n",
       "      <td>8.0</td>\n",
       "    </tr>\n",
       "  </tbody>\n",
       "</table>\n",
       "</div>"
      ],
      "text/plain": [
       "violation_raw   APB  Call for Service  Equipment/Inspection Violation  \\\n",
       "driver_race                                                             \n",
       "Asian           NaN              17.0                           130.0   \n",
       "Black           6.0              97.0                          1262.0   \n",
       "Hispanic        8.0             121.0                          1069.0   \n",
       "Other           NaN               5.0                            15.0   \n",
       "White          37.0             553.0                          4040.0   \n",
       "\n",
       "violation_raw  Motorist Assist/Courtesy  Other Traffic Violation  \\\n",
       "driver_race                                                        \n",
       "Asian                               2.0                    242.0   \n",
       "Black                              25.0                   2076.0   \n",
       "Hispanic                           12.0                   1543.0   \n",
       "Other                               1.0                     49.0   \n",
       "White                              98.0                   8016.0   \n",
       "\n",
       "violation_raw  Registration Violation  Seatbelt Violation  \\\n",
       "driver_race                                                 \n",
       "Asian                            29.0                 NaN   \n",
       "Black                           503.0                 1.0   \n",
       "Hispanic                        467.0                 1.0   \n",
       "Other                             1.0                 NaN   \n",
       "White                          1243.0                 1.0   \n",
       "\n",
       "violation_raw  Special Detail/Directed Patrol  Speeding  Suspicious Person  \\\n",
       "driver_race                                                                  \n",
       "Asian                                    45.0    1173.0                NaN   \n",
       "Black                                   603.0    3658.0                3.0   \n",
       "Hispanic                                305.0    2062.0                5.0   \n",
       "Other                                    15.0     125.0                NaN   \n",
       "White                                  1415.0   30186.0               30.0   \n",
       "\n",
       "violation_raw  Violation of City/Town Ordinance  Warrant  \n",
       "driver_race                                               \n",
       "Asian                                       1.0      NaN  \n",
       "Black                                      33.0      NaN  \n",
       "Hispanic                                   16.0      2.0  \n",
       "Other                                       NaN      NaN  \n",
       "White                                     120.0      8.0  "
      ]
     },
     "execution_count": 48,
     "metadata": {},
     "output_type": "execute_result"
    }
   ],
   "source": [
    "data.pivot_table(columns='violation_raw',index='driver_race',values='stop_time',aggfunc=len)"
   ]
  },
  {
   "cell_type": "code",
   "execution_count": 53,
   "id": "da0ca84a",
   "metadata": {},
   "outputs": [
    {
     "data": {
      "text/plain": [
       "17.0"
      ]
     },
     "execution_count": 53,
     "metadata": {},
     "output_type": "execute_result"
    }
   ],
   "source": [
    "data.pivot_table(columns='violation_raw',index='driver_race',values='stop_time',aggfunc=len).reset_index()['Call for Service'][0]\n",
    "\n",
    "# i will prove how is this come 17"
   ]
  },
  {
   "cell_type": "code",
   "execution_count": 65,
   "id": "cfc54d70",
   "metadata": {},
   "outputs": [
    {
     "data": {
      "text/plain": [
       "17"
      ]
     },
     "execution_count": 65,
     "metadata": {},
     "output_type": "execute_result"
    }
   ],
   "source": [
    "data[(data['violation_raw']=='Call for Service')& (data['driver_race']=='Asian')]['stop_time'].shape[0]\n",
    "\n",
    "# prooved"
   ]
  },
  {
   "cell_type": "markdown",
   "id": "e16db917",
   "metadata": {},
   "source": [
    "# chiporders dataset"
   ]
  },
  {
   "cell_type": "code",
   "execution_count": 69,
   "id": "5851a055",
   "metadata": {},
   "outputs": [],
   "source": [
    "df=pd.read_csv('chip order.csv')"
   ]
  },
  {
   "cell_type": "code",
   "execution_count": 71,
   "id": "5f7276d6",
   "metadata": {},
   "outputs": [
    {
     "data": {
      "text/html": [
       "<div>\n",
       "<style scoped>\n",
       "    .dataframe tbody tr th:only-of-type {\n",
       "        vertical-align: middle;\n",
       "    }\n",
       "\n",
       "    .dataframe tbody tr th {\n",
       "        vertical-align: top;\n",
       "    }\n",
       "\n",
       "    .dataframe thead th {\n",
       "        text-align: right;\n",
       "    }\n",
       "</style>\n",
       "<table border=\"1\" class=\"dataframe\">\n",
       "  <thead>\n",
       "    <tr style=\"text-align: right;\">\n",
       "      <th></th>\n",
       "      <th>Unnamed: 0</th>\n",
       "      <th>order_id</th>\n",
       "      <th>quantity</th>\n",
       "      <th>item_name</th>\n",
       "      <th>choice_description</th>\n",
       "      <th>item_price</th>\n",
       "    </tr>\n",
       "  </thead>\n",
       "  <tbody>\n",
       "    <tr>\n",
       "      <th>0</th>\n",
       "      <td>0</td>\n",
       "      <td>1</td>\n",
       "      <td>1</td>\n",
       "      <td>Chips and Fresh Tomato Salsa</td>\n",
       "      <td>NaN</td>\n",
       "      <td>$2.39</td>\n",
       "    </tr>\n",
       "    <tr>\n",
       "      <th>1</th>\n",
       "      <td>1</td>\n",
       "      <td>1</td>\n",
       "      <td>1</td>\n",
       "      <td>Izze</td>\n",
       "      <td>[Clementine]</td>\n",
       "      <td>$3.39</td>\n",
       "    </tr>\n",
       "  </tbody>\n",
       "</table>\n",
       "</div>"
      ],
      "text/plain": [
       "   Unnamed: 0  order_id  quantity                     item_name  \\\n",
       "0           0         1         1  Chips and Fresh Tomato Salsa   \n",
       "1           1         1         1                          Izze   \n",
       "\n",
       "  choice_description item_price  \n",
       "0                NaN     $2.39   \n",
       "1       [Clementine]     $3.39   "
      ]
     },
     "execution_count": 71,
     "metadata": {},
     "output_type": "execute_result"
    }
   ],
   "source": [
    "df.head(2)"
   ]
  },
  {
   "cell_type": "code",
   "execution_count": 70,
   "id": "0f23d5ac",
   "metadata": {},
   "outputs": [
    {
     "data": {
      "text/plain": [
       "Chicken Bowl                             726\n",
       "Chicken Burrito                          553\n",
       "Chips and Guacamole                      479\n",
       "Steak Burrito                            368\n",
       "Canned Soft Drink                        301\n",
       "Steak Bowl                               211\n",
       "Chips                                    211\n",
       "Bottled Water                            162\n",
       "Chicken Soft Tacos                       115\n",
       "Chips and Fresh Tomato Salsa             110\n",
       "Chicken Salad Bowl                       110\n",
       "Canned Soda                              104\n",
       "Side of Chips                            101\n",
       "Veggie Burrito                            95\n",
       "Barbacoa Burrito                          91\n",
       "Veggie Bowl                               85\n",
       "Carnitas Bowl                             68\n",
       "Barbacoa Bowl                             66\n",
       "Carnitas Burrito                          59\n",
       "Steak Soft Tacos                          55\n",
       "6 Pack Soft Drink                         54\n",
       "Chips and Tomatillo Red Chili Salsa       48\n",
       "Chicken Crispy Tacos                      47\n",
       "Chips and Tomatillo Green Chili Salsa     43\n",
       "Carnitas Soft Tacos                       40\n",
       "Steak Crispy Tacos                        35\n",
       "Chips and Tomatillo-Green Chili Salsa     31\n",
       "Steak Salad Bowl                          29\n",
       "Nantucket Nectar                          27\n",
       "Barbacoa Soft Tacos                       25\n",
       "Chips and Roasted Chili Corn Salsa        22\n",
       "Izze                                      20\n",
       "Chips and Tomatillo-Red Chili Salsa       20\n",
       "Veggie Salad Bowl                         18\n",
       "Chips and Roasted Chili-Corn Salsa        18\n",
       "Barbacoa Crispy Tacos                     11\n",
       "Barbacoa Salad Bowl                       10\n",
       "Chicken Salad                              9\n",
       "Veggie Soft Tacos                          7\n",
       "Carnitas Crispy Tacos                      7\n",
       "Veggie Salad                               6\n",
       "Carnitas Salad Bowl                        6\n",
       "Burrito                                    6\n",
       "Steak Salad                                4\n",
       "Crispy Tacos                               2\n",
       "Salad                                      2\n",
       "Bowl                                       2\n",
       "Chips and Mild Fresh Tomato Salsa          1\n",
       "Veggie Crispy Tacos                        1\n",
       "Carnitas Salad                             1\n",
       "Name: item_name, dtype: int64"
      ]
     },
     "execution_count": 70,
     "metadata": {},
     "output_type": "execute_result"
    }
   ],
   "source": [
    "df.item_name.value_counts()"
   ]
  },
  {
   "cell_type": "code",
   "execution_count": 20,
   "id": "c726560f",
   "metadata": {},
   "outputs": [
    {
     "data": {
      "text/html": [
       "<div>\n",
       "<style scoped>\n",
       "    .dataframe tbody tr th:only-of-type {\n",
       "        vertical-align: middle;\n",
       "    }\n",
       "\n",
       "    .dataframe tbody tr th {\n",
       "        vertical-align: top;\n",
       "    }\n",
       "\n",
       "    .dataframe thead th {\n",
       "        text-align: right;\n",
       "    }\n",
       "</style>\n",
       "<table border=\"1\" class=\"dataframe\">\n",
       "  <thead>\n",
       "    <tr style=\"text-align: right;\">\n",
       "      <th></th>\n",
       "      <th>Unnamed: 0</th>\n",
       "      <th>order_id</th>\n",
       "      <th>quantity</th>\n",
       "      <th>item_name</th>\n",
       "      <th>choice_description</th>\n",
       "      <th>item_price</th>\n",
       "    </tr>\n",
       "  </thead>\n",
       "  <tbody>\n",
       "    <tr>\n",
       "      <th>4</th>\n",
       "      <td>4</td>\n",
       "      <td>2</td>\n",
       "      <td>2</td>\n",
       "      <td>Chicken Bowl</td>\n",
       "      <td>[Tomatillo-Red Chili Salsa (Hot), [Black Beans...</td>\n",
       "      <td>$16.98</td>\n",
       "    </tr>\n",
       "    <tr>\n",
       "      <th>5</th>\n",
       "      <td>5</td>\n",
       "      <td>3</td>\n",
       "      <td>1</td>\n",
       "      <td>Chicken Bowl</td>\n",
       "      <td>[Fresh Tomato Salsa (Mild), [Rice, Cheese, Sou...</td>\n",
       "      <td>$10.98</td>\n",
       "    </tr>\n",
       "    <tr>\n",
       "      <th>13</th>\n",
       "      <td>13</td>\n",
       "      <td>7</td>\n",
       "      <td>1</td>\n",
       "      <td>Chicken Bowl</td>\n",
       "      <td>[Fresh Tomato Salsa, [Fajita Vegetables, Rice,...</td>\n",
       "      <td>$11.25</td>\n",
       "    </tr>\n",
       "    <tr>\n",
       "      <th>19</th>\n",
       "      <td>19</td>\n",
       "      <td>10</td>\n",
       "      <td>1</td>\n",
       "      <td>Chicken Bowl</td>\n",
       "      <td>[Tomatillo Red Chili Salsa, [Fajita Vegetables...</td>\n",
       "      <td>$8.75</td>\n",
       "    </tr>\n",
       "    <tr>\n",
       "      <th>26</th>\n",
       "      <td>26</td>\n",
       "      <td>13</td>\n",
       "      <td>1</td>\n",
       "      <td>Chicken Bowl</td>\n",
       "      <td>[Roasted Chili Corn Salsa (Medium), [Pinto Bea...</td>\n",
       "      <td>$8.49</td>\n",
       "    </tr>\n",
       "  </tbody>\n",
       "</table>\n",
       "</div>"
      ],
      "text/plain": [
       "    Unnamed: 0  order_id  quantity     item_name  \\\n",
       "4            4         2         2  Chicken Bowl   \n",
       "5            5         3         1  Chicken Bowl   \n",
       "13          13         7         1  Chicken Bowl   \n",
       "19          19        10         1  Chicken Bowl   \n",
       "26          26        13         1  Chicken Bowl   \n",
       "\n",
       "                                   choice_description item_price  \n",
       "4   [Tomatillo-Red Chili Salsa (Hot), [Black Beans...    $16.98   \n",
       "5   [Fresh Tomato Salsa (Mild), [Rice, Cheese, Sou...    $10.98   \n",
       "13  [Fresh Tomato Salsa, [Fajita Vegetables, Rice,...    $11.25   \n",
       "19  [Tomatillo Red Chili Salsa, [Fajita Vegetables...     $8.75   \n",
       "26  [Roasted Chili Corn Salsa (Medium), [Pinto Bea...     $8.49   "
      ]
     },
     "execution_count": 20,
     "metadata": {},
     "output_type": "execute_result"
    }
   ],
   "source": [
    "chickenbowl=df[df['item_name']=='Chicken Bowl']\n",
    "chickenbowl.head()"
   ]
  },
  {
   "cell_type": "markdown",
   "id": "e05608e1",
   "metadata": {},
   "source": [
    "# changing the data type of item_price"
   ]
  },
  {
   "cell_type": "code",
   "execution_count": 23,
   "id": "e559ccdc",
   "metadata": {},
   "outputs": [
    {
     "name": "stderr",
     "output_type": "stream",
     "text": [
      "<ipython-input-23-36364cd7d9b9>:1: FutureWarning: The default value of regex will change from True to False in a future version. In addition, single character regular expressions will*not* be treated as literal strings when regex=True.\n",
      "  chickenbowl['item_price'] = chickenbowl.item_price.str.replace(\"$\",\"\")\n",
      "<ipython-input-23-36364cd7d9b9>:1: SettingWithCopyWarning: \n",
      "A value is trying to be set on a copy of a slice from a DataFrame.\n",
      "Try using .loc[row_indexer,col_indexer] = value instead\n",
      "\n",
      "See the caveats in the documentation: https://pandas.pydata.org/pandas-docs/stable/user_guide/indexing.html#returning-a-view-versus-a-copy\n",
      "  chickenbowl['item_price'] = chickenbowl.item_price.str.replace(\"$\",\"\")\n"
     ]
    }
   ],
   "source": [
    "chickenbowl['item_price'] = chickenbowl.item_price.str.replace(\"$\",\"\")"
   ]
  },
  {
   "cell_type": "code",
   "execution_count": 24,
   "id": "3b45e0a8",
   "metadata": {},
   "outputs": [
    {
     "data": {
      "text/html": [
       "<div>\n",
       "<style scoped>\n",
       "    .dataframe tbody tr th:only-of-type {\n",
       "        vertical-align: middle;\n",
       "    }\n",
       "\n",
       "    .dataframe tbody tr th {\n",
       "        vertical-align: top;\n",
       "    }\n",
       "\n",
       "    .dataframe thead th {\n",
       "        text-align: right;\n",
       "    }\n",
       "</style>\n",
       "<table border=\"1\" class=\"dataframe\">\n",
       "  <thead>\n",
       "    <tr style=\"text-align: right;\">\n",
       "      <th></th>\n",
       "      <th>Unnamed: 0</th>\n",
       "      <th>order_id</th>\n",
       "      <th>quantity</th>\n",
       "      <th>item_name</th>\n",
       "      <th>choice_description</th>\n",
       "      <th>item_price</th>\n",
       "    </tr>\n",
       "  </thead>\n",
       "  <tbody>\n",
       "    <tr>\n",
       "      <th>4</th>\n",
       "      <td>4</td>\n",
       "      <td>2</td>\n",
       "      <td>2</td>\n",
       "      <td>Chicken Bowl</td>\n",
       "      <td>[Tomatillo-Red Chili Salsa (Hot), [Black Beans...</td>\n",
       "      <td>16.98</td>\n",
       "    </tr>\n",
       "    <tr>\n",
       "      <th>5</th>\n",
       "      <td>5</td>\n",
       "      <td>3</td>\n",
       "      <td>1</td>\n",
       "      <td>Chicken Bowl</td>\n",
       "      <td>[Fresh Tomato Salsa (Mild), [Rice, Cheese, Sou...</td>\n",
       "      <td>10.98</td>\n",
       "    </tr>\n",
       "    <tr>\n",
       "      <th>13</th>\n",
       "      <td>13</td>\n",
       "      <td>7</td>\n",
       "      <td>1</td>\n",
       "      <td>Chicken Bowl</td>\n",
       "      <td>[Fresh Tomato Salsa, [Fajita Vegetables, Rice,...</td>\n",
       "      <td>11.25</td>\n",
       "    </tr>\n",
       "    <tr>\n",
       "      <th>19</th>\n",
       "      <td>19</td>\n",
       "      <td>10</td>\n",
       "      <td>1</td>\n",
       "      <td>Chicken Bowl</td>\n",
       "      <td>[Tomatillo Red Chili Salsa, [Fajita Vegetables...</td>\n",
       "      <td>8.75</td>\n",
       "    </tr>\n",
       "    <tr>\n",
       "      <th>26</th>\n",
       "      <td>26</td>\n",
       "      <td>13</td>\n",
       "      <td>1</td>\n",
       "      <td>Chicken Bowl</td>\n",
       "      <td>[Roasted Chili Corn Salsa (Medium), [Pinto Bea...</td>\n",
       "      <td>8.49</td>\n",
       "    </tr>\n",
       "  </tbody>\n",
       "</table>\n",
       "</div>"
      ],
      "text/plain": [
       "    Unnamed: 0  order_id  quantity     item_name  \\\n",
       "4            4         2         2  Chicken Bowl   \n",
       "5            5         3         1  Chicken Bowl   \n",
       "13          13         7         1  Chicken Bowl   \n",
       "19          19        10         1  Chicken Bowl   \n",
       "26          26        13         1  Chicken Bowl   \n",
       "\n",
       "                                   choice_description item_price  \n",
       "4   [Tomatillo-Red Chili Salsa (Hot), [Black Beans...     16.98   \n",
       "5   [Fresh Tomato Salsa (Mild), [Rice, Cheese, Sou...     10.98   \n",
       "13  [Fresh Tomato Salsa, [Fajita Vegetables, Rice,...     11.25   \n",
       "19  [Tomatillo Red Chili Salsa, [Fajita Vegetables...      8.75   \n",
       "26  [Roasted Chili Corn Salsa (Medium), [Pinto Bea...      8.49   "
      ]
     },
     "execution_count": 24,
     "metadata": {},
     "output_type": "execute_result"
    }
   ],
   "source": [
    "chickenbowl.head()"
   ]
  },
  {
   "cell_type": "code",
   "execution_count": 25,
   "id": "df6b0e6e",
   "metadata": {},
   "outputs": [
    {
     "data": {
      "text/plain": [
       "dtype('O')"
      ]
     },
     "execution_count": 25,
     "metadata": {},
     "output_type": "execute_result"
    }
   ],
   "source": [
    "chickenbowl.item_price.dtypes"
   ]
  },
  {
   "cell_type": "code",
   "execution_count": 26,
   "id": "2d2b2f71",
   "metadata": {},
   "outputs": [
    {
     "name": "stderr",
     "output_type": "stream",
     "text": [
      "<ipython-input-26-5ea31032808f>:1: SettingWithCopyWarning: \n",
      "A value is trying to be set on a copy of a slice from a DataFrame.\n",
      "Try using .loc[row_indexer,col_indexer] = value instead\n",
      "\n",
      "See the caveats in the documentation: https://pandas.pydata.org/pandas-docs/stable/user_guide/indexing.html#returning-a-view-versus-a-copy\n",
      "  chickenbowl['item_price'] = chickenbowl['item_price'].astype(float)\n"
     ]
    }
   ],
   "source": [
    "chickenbowl['item_price'] = chickenbowl['item_price'].astype(float)"
   ]
  },
  {
   "cell_type": "code",
   "execution_count": 27,
   "id": "902c835e",
   "metadata": {},
   "outputs": [
    {
     "data": {
      "text/plain": [
       "Unnamed: 0              int64\n",
       "order_id                int64\n",
       "quantity                int64\n",
       "item_name              object\n",
       "choice_description     object\n",
       "item_price            float64\n",
       "dtype: object"
      ]
     },
     "execution_count": 27,
     "metadata": {},
     "output_type": "execute_result"
    }
   ],
   "source": [
    "chickenbowl.dtype\n",
    "#dtype has b33n changed"
   ]
  },
  {
   "cell_type": "code",
   "execution_count": 29,
   "id": "ca1ebeed",
   "metadata": {},
   "outputs": [
    {
     "data": {
      "text/plain": [
       "Unnamed: 0            0\n",
       "order_id              0\n",
       "quantity              0\n",
       "item_name             0\n",
       "choice_description    0\n",
       "item_price            0\n",
       "dtype: int64"
      ]
     },
     "execution_count": 29,
     "metadata": {},
     "output_type": "execute_result"
    }
   ],
   "source": [
    "chickenbowl.isnull().sum()"
   ]
  },
  {
   "cell_type": "code",
   "execution_count": 30,
   "id": "ae624aae",
   "metadata": {},
   "outputs": [
    {
     "data": {
      "text/html": [
       "<div>\n",
       "<style scoped>\n",
       "    .dataframe tbody tr th:only-of-type {\n",
       "        vertical-align: middle;\n",
       "    }\n",
       "\n",
       "    .dataframe tbody tr th {\n",
       "        vertical-align: top;\n",
       "    }\n",
       "\n",
       "    .dataframe thead th {\n",
       "        text-align: right;\n",
       "    }\n",
       "</style>\n",
       "<table border=\"1\" class=\"dataframe\">\n",
       "  <thead>\n",
       "    <tr style=\"text-align: right;\">\n",
       "      <th></th>\n",
       "      <th>Unnamed: 0</th>\n",
       "      <th>order_id</th>\n",
       "      <th>quantity</th>\n",
       "      <th>item_name</th>\n",
       "      <th>choice_description</th>\n",
       "      <th>item_price</th>\n",
       "    </tr>\n",
       "  </thead>\n",
       "  <tbody>\n",
       "    <tr>\n",
       "      <th>4</th>\n",
       "      <td>4</td>\n",
       "      <td>2</td>\n",
       "      <td>2</td>\n",
       "      <td>Chicken Bowl</td>\n",
       "      <td>[Tomatillo-Red Chili Salsa (Hot), [Black Beans...</td>\n",
       "      <td>16.98</td>\n",
       "    </tr>\n",
       "    <tr>\n",
       "      <th>5</th>\n",
       "      <td>5</td>\n",
       "      <td>3</td>\n",
       "      <td>1</td>\n",
       "      <td>Chicken Bowl</td>\n",
       "      <td>[Fresh Tomato Salsa (Mild), [Rice, Cheese, Sou...</td>\n",
       "      <td>10.98</td>\n",
       "    </tr>\n",
       "    <tr>\n",
       "      <th>13</th>\n",
       "      <td>13</td>\n",
       "      <td>7</td>\n",
       "      <td>1</td>\n",
       "      <td>Chicken Bowl</td>\n",
       "      <td>[Fresh Tomato Salsa, [Fajita Vegetables, Rice,...</td>\n",
       "      <td>11.25</td>\n",
       "    </tr>\n",
       "    <tr>\n",
       "      <th>19</th>\n",
       "      <td>19</td>\n",
       "      <td>10</td>\n",
       "      <td>1</td>\n",
       "      <td>Chicken Bowl</td>\n",
       "      <td>[Tomatillo Red Chili Salsa, [Fajita Vegetables...</td>\n",
       "      <td>8.75</td>\n",
       "    </tr>\n",
       "    <tr>\n",
       "      <th>26</th>\n",
       "      <td>26</td>\n",
       "      <td>13</td>\n",
       "      <td>1</td>\n",
       "      <td>Chicken Bowl</td>\n",
       "      <td>[Roasted Chili Corn Salsa (Medium), [Pinto Bea...</td>\n",
       "      <td>8.49</td>\n",
       "    </tr>\n",
       "  </tbody>\n",
       "</table>\n",
       "</div>"
      ],
      "text/plain": [
       "    Unnamed: 0  order_id  quantity     item_name  \\\n",
       "4            4         2         2  Chicken Bowl   \n",
       "5            5         3         1  Chicken Bowl   \n",
       "13          13         7         1  Chicken Bowl   \n",
       "19          19        10         1  Chicken Bowl   \n",
       "26          26        13         1  Chicken Bowl   \n",
       "\n",
       "                                   choice_description  item_price  \n",
       "4   [Tomatillo-Red Chili Salsa (Hot), [Black Beans...       16.98  \n",
       "5   [Fresh Tomato Salsa (Mild), [Rice, Cheese, Sou...       10.98  \n",
       "13  [Fresh Tomato Salsa, [Fajita Vegetables, Rice,...       11.25  \n",
       "19  [Tomatillo Red Chili Salsa, [Fajita Vegetables...        8.75  \n",
       "26  [Roasted Chili Corn Salsa (Medium), [Pinto Bea...        8.49  "
      ]
     },
     "execution_count": 30,
     "metadata": {},
     "output_type": "execute_result"
    }
   ],
   "source": [
    "chickenbowl.head()"
   ]
  },
  {
   "cell_type": "code",
   "execution_count": null,
   "id": "3559a705",
   "metadata": {},
   "outputs": [],
   "source": [
    "#drop the unnamed column from the dataframe"
   ]
  },
  {
   "cell_type": "code",
   "execution_count": null,
   "id": "552bc125",
   "metadata": {},
   "outputs": [],
   "source": [
    "# create the pivot table for better understanding"
   ]
  },
  {
   "cell_type": "code",
   "execution_count": 49,
   "id": "93ce8432",
   "metadata": {},
   "outputs": [
    {
     "data": {
      "text/plain": [
       "quantity\n",
       "1    78.75\n",
       "2      NaN\n",
       "3      NaN\n",
       "Name: 926, dtype: float64"
      ]
     },
     "execution_count": 49,
     "metadata": {},
     "output_type": "execute_result"
    }
   ],
   "source": [
    "chickenbowl.pivot_table(index='quantity',columns='order_id',values='item_price',aggfunc=sum )[926]\n"
   ]
  },
  {
   "cell_type": "code",
   "execution_count": 51,
   "id": "45d0f818",
   "metadata": {},
   "outputs": [
    {
     "data": {
      "text/plain": [
       "926     9\n",
       "1786    5\n",
       "491     4\n",
       "205     4\n",
       "759     3\n",
       "       ..\n",
       "364     1\n",
       "362     1\n",
       "360     1\n",
       "359     1\n",
       "1023    1\n",
       "Name: order_id, Length: 615, dtype: int64"
      ]
     },
     "execution_count": 51,
     "metadata": {},
     "output_type": "execute_result"
    }
   ],
   "source": [
    "chickenbowl.order_id.value_counts()\n",
    "#id number 926 is present many"
   ]
  },
  {
   "cell_type": "markdown",
   "id": "7016aa01",
   "metadata": {},
   "source": [
    "## pivot table for the ordr_id 1786 ,what quantity is purchased and what total price \n",
    "### and you can put the multiple values of columns in pivot table but it should declaire as a list"
   ]
  },
  {
   "cell_type": "code",
   "execution_count": 54,
   "id": "72c6f99a",
   "metadata": {},
   "outputs": [
    {
     "data": {
      "text/plain": [
       "quantity\n",
       "1    10.25\n",
       "2      NaN\n",
       "3      NaN\n",
       "Name: 1786, dtype: float64"
      ]
     },
     "execution_count": 54,
     "metadata": {},
     "output_type": "execute_result"
    }
   ],
   "source": [
    "chickenbowl.pivot_table(index='quantity',columns='order_id',values='item_price')[1786]"
   ]
  },
  {
   "cell_type": "code",
   "execution_count": 55,
   "id": "a663fafa",
   "metadata": {},
   "outputs": [
    {
     "data": {
      "text/plain": [
       "quantity\n",
       "1    51.25\n",
       "2      NaN\n",
       "3      NaN\n",
       "Name: 1786, dtype: float64"
      ]
     },
     "execution_count": 55,
     "metadata": {},
     "output_type": "execute_result"
    }
   ],
   "source": [
    "chickenbowl.pivot_table(index='quantity',columns='order_id',values='item_price',aggfunc=sum)[1786]\n",
    "# add total price of order_id 1786 by the aggfunc =sum\n",
    "# according to this output quantity is 1 purchased many time because without aggfunc sum on price\n",
    "# values is 10.25 but now value is increased it means quantity 1 is purchased many times bye the oderid 1786\n"
   ]
  },
  {
   "cell_type": "code",
   "execution_count": 52,
   "id": "11ad26f8",
   "metadata": {},
   "outputs": [
    {
     "data": {
      "text/html": [
       "<div>\n",
       "<style scoped>\n",
       "    .dataframe tbody tr th:only-of-type {\n",
       "        vertical-align: middle;\n",
       "    }\n",
       "\n",
       "    .dataframe tbody tr th {\n",
       "        vertical-align: top;\n",
       "    }\n",
       "\n",
       "    .dataframe thead th {\n",
       "        text-align: right;\n",
       "    }\n",
       "</style>\n",
       "<table border=\"1\" class=\"dataframe\">\n",
       "  <thead>\n",
       "    <tr style=\"text-align: right;\">\n",
       "      <th></th>\n",
       "      <th>order_id</th>\n",
       "      <th>quantity</th>\n",
       "      <th>item_name</th>\n",
       "      <th>choice_description</th>\n",
       "      <th>item_price</th>\n",
       "    </tr>\n",
       "  </thead>\n",
       "  <tbody>\n",
       "    <tr>\n",
       "      <th>2305</th>\n",
       "      <td>926</td>\n",
       "      <td>1</td>\n",
       "      <td>Chicken Bowl</td>\n",
       "      <td>[Roasted Chili Corn Salsa, [Fajita Vegetables,...</td>\n",
       "      <td>8.75</td>\n",
       "    </tr>\n",
       "    <tr>\n",
       "      <th>2306</th>\n",
       "      <td>926</td>\n",
       "      <td>1</td>\n",
       "      <td>Chicken Bowl</td>\n",
       "      <td>[Roasted Chili Corn Salsa, [Fajita Vegetables,...</td>\n",
       "      <td>8.75</td>\n",
       "    </tr>\n",
       "    <tr>\n",
       "      <th>2307</th>\n",
       "      <td>926</td>\n",
       "      <td>1</td>\n",
       "      <td>Chicken Bowl</td>\n",
       "      <td>[Roasted Chili Corn Salsa, [Fajita Vegetables,...</td>\n",
       "      <td>8.75</td>\n",
       "    </tr>\n",
       "    <tr>\n",
       "      <th>2309</th>\n",
       "      <td>926</td>\n",
       "      <td>1</td>\n",
       "      <td>Chicken Bowl</td>\n",
       "      <td>[Fresh Tomato Salsa, [Rice, Black Beans, Chees...</td>\n",
       "      <td>8.75</td>\n",
       "    </tr>\n",
       "    <tr>\n",
       "      <th>2312</th>\n",
       "      <td>926</td>\n",
       "      <td>1</td>\n",
       "      <td>Chicken Bowl</td>\n",
       "      <td>[Fresh Tomato Salsa, [Rice, Lettuce]]</td>\n",
       "      <td>8.75</td>\n",
       "    </tr>\n",
       "    <tr>\n",
       "      <th>2313</th>\n",
       "      <td>926</td>\n",
       "      <td>1</td>\n",
       "      <td>Chicken Bowl</td>\n",
       "      <td>[Fresh Tomato Salsa, [Rice, Cheese, Sour Cream...</td>\n",
       "      <td>8.75</td>\n",
       "    </tr>\n",
       "    <tr>\n",
       "      <th>2318</th>\n",
       "      <td>926</td>\n",
       "      <td>1</td>\n",
       "      <td>Chicken Bowl</td>\n",
       "      <td>[Roasted Chili Corn Salsa, [Fajita Vegetables,...</td>\n",
       "      <td>8.75</td>\n",
       "    </tr>\n",
       "    <tr>\n",
       "      <th>2321</th>\n",
       "      <td>926</td>\n",
       "      <td>1</td>\n",
       "      <td>Chicken Bowl</td>\n",
       "      <td>[Roasted Chili Corn Salsa, [Rice, Pinto Beans,...</td>\n",
       "      <td>8.75</td>\n",
       "    </tr>\n",
       "    <tr>\n",
       "      <th>2322</th>\n",
       "      <td>926</td>\n",
       "      <td>1</td>\n",
       "      <td>Chicken Bowl</td>\n",
       "      <td>[Roasted Chili Corn Salsa, [Rice, Cheese]]</td>\n",
       "      <td>8.75</td>\n",
       "    </tr>\n",
       "  </tbody>\n",
       "</table>\n",
       "</div>"
      ],
      "text/plain": [
       "      order_id  quantity     item_name  \\\n",
       "2305       926         1  Chicken Bowl   \n",
       "2306       926         1  Chicken Bowl   \n",
       "2307       926         1  Chicken Bowl   \n",
       "2309       926         1  Chicken Bowl   \n",
       "2312       926         1  Chicken Bowl   \n",
       "2313       926         1  Chicken Bowl   \n",
       "2318       926         1  Chicken Bowl   \n",
       "2321       926         1  Chicken Bowl   \n",
       "2322       926         1  Chicken Bowl   \n",
       "\n",
       "                                     choice_description  item_price  \n",
       "2305  [Roasted Chili Corn Salsa, [Fajita Vegetables,...        8.75  \n",
       "2306  [Roasted Chili Corn Salsa, [Fajita Vegetables,...        8.75  \n",
       "2307  [Roasted Chili Corn Salsa, [Fajita Vegetables,...        8.75  \n",
       "2309  [Fresh Tomato Salsa, [Rice, Black Beans, Chees...        8.75  \n",
       "2312              [Fresh Tomato Salsa, [Rice, Lettuce]]        8.75  \n",
       "2313  [Fresh Tomato Salsa, [Rice, Cheese, Sour Cream...        8.75  \n",
       "2318  [Roasted Chili Corn Salsa, [Fajita Vegetables,...        8.75  \n",
       "2321  [Roasted Chili Corn Salsa, [Rice, Pinto Beans,...        8.75  \n",
       "2322         [Roasted Chili Corn Salsa, [Rice, Cheese]]        8.75  "
      ]
     },
     "execution_count": 52,
     "metadata": {},
     "output_type": "execute_result"
    }
   ],
   "source": [
    "chickenbowl[chickenbowl.order_id==926]"
   ]
  },
  {
   "cell_type": "code",
   "execution_count": 48,
   "id": "34a19c2d",
   "metadata": {},
   "outputs": [
    {
     "data": {
      "text/plain": [
       "quantity\n",
       "1    8.75\n",
       "2     NaN\n",
       "3     NaN\n",
       "Name: 926, dtype: float64"
      ]
     },
     "execution_count": 48,
     "metadata": {},
     "output_type": "execute_result"
    }
   ],
   "source": [
    "chickenbowl.pivot_table(index='quantity',columns='order_id',values='item_price' )[926]"
   ]
  },
  {
   "cell_type": "code",
   "execution_count": 73,
   "id": "783dd6e3",
   "metadata": {},
   "outputs": [
    {
     "data": {
      "text/html": [
       "<div>\n",
       "<style scoped>\n",
       "    .dataframe tbody tr th:only-of-type {\n",
       "        vertical-align: middle;\n",
       "    }\n",
       "\n",
       "    .dataframe tbody tr th {\n",
       "        vertical-align: top;\n",
       "    }\n",
       "\n",
       "    .dataframe thead th {\n",
       "        text-align: right;\n",
       "    }\n",
       "</style>\n",
       "<table border=\"1\" class=\"dataframe\">\n",
       "  <thead>\n",
       "    <tr style=\"text-align: right;\">\n",
       "      <th></th>\n",
       "      <th>Unnamed: 0</th>\n",
       "      <th>order_id</th>\n",
       "      <th>quantity</th>\n",
       "      <th>item_name</th>\n",
       "      <th>choice_description</th>\n",
       "      <th>item_price</th>\n",
       "    </tr>\n",
       "  </thead>\n",
       "  <tbody>\n",
       "    <tr>\n",
       "      <th>0</th>\n",
       "      <td>0</td>\n",
       "      <td>1</td>\n",
       "      <td>1</td>\n",
       "      <td>Chips and Fresh Tomato Salsa</td>\n",
       "      <td>NaN</td>\n",
       "      <td>$2.39</td>\n",
       "    </tr>\n",
       "    <tr>\n",
       "      <th>1</th>\n",
       "      <td>1</td>\n",
       "      <td>1</td>\n",
       "      <td>1</td>\n",
       "      <td>Izze</td>\n",
       "      <td>[Clementine]</td>\n",
       "      <td>$3.39</td>\n",
       "    </tr>\n",
       "  </tbody>\n",
       "</table>\n",
       "</div>"
      ],
      "text/plain": [
       "   Unnamed: 0  order_id  quantity                     item_name  \\\n",
       "0           0         1         1  Chips and Fresh Tomato Salsa   \n",
       "1           1         1         1                          Izze   \n",
       "\n",
       "  choice_description item_price  \n",
       "0                NaN     $2.39   \n",
       "1       [Clementine]     $3.39   "
      ]
     },
     "execution_count": 73,
     "metadata": {},
     "output_type": "execute_result"
    }
   ],
   "source": [
    "df.head(2)"
   ]
  },
  {
   "cell_type": "code",
   "execution_count": 74,
   "id": "318a33bb",
   "metadata": {},
   "outputs": [
    {
     "data": {
      "text/html": [
       "<style type=\"text/css\">\n",
       "#T_2ef3e_row0_col0, #T_2ef3e_row0_col1, #T_2ef3e_row0_col2, #T_2ef3e_row0_col3, #T_2ef3e_row0_col4 {\n",
       "  background-color: #3b4cc0;\n",
       "  color: #f1f1f1;\n",
       "}\n",
       "#T_2ef3e_row1_col0, #T_2ef3e_row1_col1, #T_2ef3e_row1_col2, #T_2ef3e_row1_col3, #T_2ef3e_row1_col4 {\n",
       "  background-color: #5d7ce6;\n",
       "  color: #f1f1f1;\n",
       "}\n",
       "#T_2ef3e_row2_col0, #T_2ef3e_row2_col1, #T_2ef3e_row2_col2, #T_2ef3e_row2_col3, #T_2ef3e_row2_col4 {\n",
       "  background-color: #82a6fb;\n",
       "  color: #f1f1f1;\n",
       "}\n",
       "#T_2ef3e_row3_col0, #T_2ef3e_row3_col1, #T_2ef3e_row3_col2, #T_2ef3e_row3_col3, #T_2ef3e_row3_col4 {\n",
       "  background-color: #aac7fd;\n",
       "  color: #000000;\n",
       "}\n",
       "#T_2ef3e_row4_col0, #T_2ef3e_row4_col1, #T_2ef3e_row4_col2, #T_2ef3e_row4_col3, #T_2ef3e_row4_col4 {\n",
       "  background-color: #cdd9ec;\n",
       "  color: #000000;\n",
       "}\n",
       "#T_2ef3e_row5_col0, #T_2ef3e_row5_col1, #T_2ef3e_row5_col2, #T_2ef3e_row5_col3, #T_2ef3e_row5_col4 {\n",
       "  background-color: #ead4c8;\n",
       "  color: #000000;\n",
       "}\n",
       "#T_2ef3e_row6_col0, #T_2ef3e_row6_col1, #T_2ef3e_row6_col2, #T_2ef3e_row6_col3, #T_2ef3e_row6_col4 {\n",
       "  background-color: #f7b89c;\n",
       "  color: #000000;\n",
       "}\n",
       "#T_2ef3e_row7_col0, #T_2ef3e_row7_col1, #T_2ef3e_row7_col2, #T_2ef3e_row7_col3, #T_2ef3e_row7_col4 {\n",
       "  background-color: #f18d6f;\n",
       "  color: #f1f1f1;\n",
       "}\n",
       "#T_2ef3e_row8_col0, #T_2ef3e_row8_col1, #T_2ef3e_row8_col2, #T_2ef3e_row8_col3, #T_2ef3e_row8_col4 {\n",
       "  background-color: #d95847;\n",
       "  color: #f1f1f1;\n",
       "}\n",
       "#T_2ef3e_row9_col0, #T_2ef3e_row9_col1, #T_2ef3e_row9_col2, #T_2ef3e_row9_col3, #T_2ef3e_row9_col4 {\n",
       "  background-color: #b40426;\n",
       "  color: #f1f1f1;\n",
       "}\n",
       "</style>\n",
       "<table id=\"T_2ef3e\">\n",
       "  <thead>\n",
       "    <tr>\n",
       "      <th class=\"blank level0\" >&nbsp;</th>\n",
       "      <th id=\"T_2ef3e_level0_col0\" class=\"col_heading level0 col0\" >A</th>\n",
       "      <th id=\"T_2ef3e_level0_col1\" class=\"col_heading level0 col1\" >B</th>\n",
       "      <th id=\"T_2ef3e_level0_col2\" class=\"col_heading level0 col2\" >C</th>\n",
       "      <th id=\"T_2ef3e_level0_col3\" class=\"col_heading level0 col3\" >D</th>\n",
       "      <th id=\"T_2ef3e_level0_col4\" class=\"col_heading level0 col4\" >E</th>\n",
       "    </tr>\n",
       "  </thead>\n",
       "  <tbody>\n",
       "    <tr>\n",
       "      <th id=\"T_2ef3e_level0_row0\" class=\"row_heading level0 row0\" >0</th>\n",
       "      <td id=\"T_2ef3e_row0_col0\" class=\"data row0 col0\" >1</td>\n",
       "      <td id=\"T_2ef3e_row0_col1\" class=\"data row0 col1\" >2</td>\n",
       "      <td id=\"T_2ef3e_row0_col2\" class=\"data row0 col2\" >3</td>\n",
       "      <td id=\"T_2ef3e_row0_col3\" class=\"data row0 col3\" >4</td>\n",
       "      <td id=\"T_2ef3e_row0_col4\" class=\"data row0 col4\" >5</td>\n",
       "    </tr>\n",
       "    <tr>\n",
       "      <th id=\"T_2ef3e_level0_row1\" class=\"row_heading level0 row1\" >1</th>\n",
       "      <td id=\"T_2ef3e_row1_col0\" class=\"data row1 col0\" >6</td>\n",
       "      <td id=\"T_2ef3e_row1_col1\" class=\"data row1 col1\" >7</td>\n",
       "      <td id=\"T_2ef3e_row1_col2\" class=\"data row1 col2\" >8</td>\n",
       "      <td id=\"T_2ef3e_row1_col3\" class=\"data row1 col3\" >9</td>\n",
       "      <td id=\"T_2ef3e_row1_col4\" class=\"data row1 col4\" >10</td>\n",
       "    </tr>\n",
       "    <tr>\n",
       "      <th id=\"T_2ef3e_level0_row2\" class=\"row_heading level0 row2\" >2</th>\n",
       "      <td id=\"T_2ef3e_row2_col0\" class=\"data row2 col0\" >11</td>\n",
       "      <td id=\"T_2ef3e_row2_col1\" class=\"data row2 col1\" >12</td>\n",
       "      <td id=\"T_2ef3e_row2_col2\" class=\"data row2 col2\" >13</td>\n",
       "      <td id=\"T_2ef3e_row2_col3\" class=\"data row2 col3\" >14</td>\n",
       "      <td id=\"T_2ef3e_row2_col4\" class=\"data row2 col4\" >15</td>\n",
       "    </tr>\n",
       "    <tr>\n",
       "      <th id=\"T_2ef3e_level0_row3\" class=\"row_heading level0 row3\" >3</th>\n",
       "      <td id=\"T_2ef3e_row3_col0\" class=\"data row3 col0\" >16</td>\n",
       "      <td id=\"T_2ef3e_row3_col1\" class=\"data row3 col1\" >17</td>\n",
       "      <td id=\"T_2ef3e_row3_col2\" class=\"data row3 col2\" >18</td>\n",
       "      <td id=\"T_2ef3e_row3_col3\" class=\"data row3 col3\" >19</td>\n",
       "      <td id=\"T_2ef3e_row3_col4\" class=\"data row3 col4\" >20</td>\n",
       "    </tr>\n",
       "    <tr>\n",
       "      <th id=\"T_2ef3e_level0_row4\" class=\"row_heading level0 row4\" >4</th>\n",
       "      <td id=\"T_2ef3e_row4_col0\" class=\"data row4 col0\" >21</td>\n",
       "      <td id=\"T_2ef3e_row4_col1\" class=\"data row4 col1\" >22</td>\n",
       "      <td id=\"T_2ef3e_row4_col2\" class=\"data row4 col2\" >23</td>\n",
       "      <td id=\"T_2ef3e_row4_col3\" class=\"data row4 col3\" >24</td>\n",
       "      <td id=\"T_2ef3e_row4_col4\" class=\"data row4 col4\" >25</td>\n",
       "    </tr>\n",
       "    <tr>\n",
       "      <th id=\"T_2ef3e_level0_row5\" class=\"row_heading level0 row5\" >5</th>\n",
       "      <td id=\"T_2ef3e_row5_col0\" class=\"data row5 col0\" >26</td>\n",
       "      <td id=\"T_2ef3e_row5_col1\" class=\"data row5 col1\" >27</td>\n",
       "      <td id=\"T_2ef3e_row5_col2\" class=\"data row5 col2\" >28</td>\n",
       "      <td id=\"T_2ef3e_row5_col3\" class=\"data row5 col3\" >29</td>\n",
       "      <td id=\"T_2ef3e_row5_col4\" class=\"data row5 col4\" >30</td>\n",
       "    </tr>\n",
       "    <tr>\n",
       "      <th id=\"T_2ef3e_level0_row6\" class=\"row_heading level0 row6\" >6</th>\n",
       "      <td id=\"T_2ef3e_row6_col0\" class=\"data row6 col0\" >31</td>\n",
       "      <td id=\"T_2ef3e_row6_col1\" class=\"data row6 col1\" >32</td>\n",
       "      <td id=\"T_2ef3e_row6_col2\" class=\"data row6 col2\" >33</td>\n",
       "      <td id=\"T_2ef3e_row6_col3\" class=\"data row6 col3\" >34</td>\n",
       "      <td id=\"T_2ef3e_row6_col4\" class=\"data row6 col4\" >35</td>\n",
       "    </tr>\n",
       "    <tr>\n",
       "      <th id=\"T_2ef3e_level0_row7\" class=\"row_heading level0 row7\" >7</th>\n",
       "      <td id=\"T_2ef3e_row7_col0\" class=\"data row7 col0\" >36</td>\n",
       "      <td id=\"T_2ef3e_row7_col1\" class=\"data row7 col1\" >37</td>\n",
       "      <td id=\"T_2ef3e_row7_col2\" class=\"data row7 col2\" >38</td>\n",
       "      <td id=\"T_2ef3e_row7_col3\" class=\"data row7 col3\" >39</td>\n",
       "      <td id=\"T_2ef3e_row7_col4\" class=\"data row7 col4\" >40</td>\n",
       "    </tr>\n",
       "    <tr>\n",
       "      <th id=\"T_2ef3e_level0_row8\" class=\"row_heading level0 row8\" >8</th>\n",
       "      <td id=\"T_2ef3e_row8_col0\" class=\"data row8 col0\" >41</td>\n",
       "      <td id=\"T_2ef3e_row8_col1\" class=\"data row8 col1\" >42</td>\n",
       "      <td id=\"T_2ef3e_row8_col2\" class=\"data row8 col2\" >43</td>\n",
       "      <td id=\"T_2ef3e_row8_col3\" class=\"data row8 col3\" >44</td>\n",
       "      <td id=\"T_2ef3e_row8_col4\" class=\"data row8 col4\" >45</td>\n",
       "    </tr>\n",
       "    <tr>\n",
       "      <th id=\"T_2ef3e_level0_row9\" class=\"row_heading level0 row9\" >9</th>\n",
       "      <td id=\"T_2ef3e_row9_col0\" class=\"data row9 col0\" >46</td>\n",
       "      <td id=\"T_2ef3e_row9_col1\" class=\"data row9 col1\" >47</td>\n",
       "      <td id=\"T_2ef3e_row9_col2\" class=\"data row9 col2\" >48</td>\n",
       "      <td id=\"T_2ef3e_row9_col3\" class=\"data row9 col3\" >49</td>\n",
       "      <td id=\"T_2ef3e_row9_col4\" class=\"data row9 col4\" >50</td>\n",
       "    </tr>\n",
       "  </tbody>\n",
       "</table>\n"
      ],
      "text/plain": [
       "<pandas.io.formats.style.Styler at 0x193ca6edc60>"
      ]
     },
     "execution_count": 74,
     "metadata": {},
     "output_type": "execute_result"
    }
   ],
   "source": [
    "import pandas as pd\n",
    "import numpy as np\n",
    "d=pd.DataFrame(np.arange(1,51).reshape(10,5),columns=list('ABCDE'))\n",
    "d.style.background_gradient(cmap=\"coolwarm\")"
   ]
  },
  {
   "cell_type": "code",
   "execution_count": 75,
   "id": "062dd2f0",
   "metadata": {},
   "outputs": [
    {
     "data": {
      "text/html": [
       "<div>\n",
       "<style scoped>\n",
       "    .dataframe tbody tr th:only-of-type {\n",
       "        vertical-align: middle;\n",
       "    }\n",
       "\n",
       "    .dataframe tbody tr th {\n",
       "        vertical-align: top;\n",
       "    }\n",
       "\n",
       "    .dataframe thead th {\n",
       "        text-align: right;\n",
       "    }\n",
       "</style>\n",
       "<table border=\"1\" class=\"dataframe\">\n",
       "  <thead>\n",
       "    <tr style=\"text-align: right;\">\n",
       "      <th></th>\n",
       "      <th>A</th>\n",
       "      <th>B</th>\n",
       "      <th>C</th>\n",
       "      <th>D</th>\n",
       "      <th>E</th>\n",
       "    </tr>\n",
       "  </thead>\n",
       "  <tbody>\n",
       "    <tr>\n",
       "      <th>0</th>\n",
       "      <td>1</td>\n",
       "      <td>2</td>\n",
       "      <td>3</td>\n",
       "      <td>4</td>\n",
       "      <td>5</td>\n",
       "    </tr>\n",
       "    <tr>\n",
       "      <th>1</th>\n",
       "      <td>6</td>\n",
       "      <td>7</td>\n",
       "      <td>8</td>\n",
       "      <td>9</td>\n",
       "      <td>10</td>\n",
       "    </tr>\n",
       "    <tr>\n",
       "      <th>2</th>\n",
       "      <td>11</td>\n",
       "      <td>12</td>\n",
       "      <td>13</td>\n",
       "      <td>14</td>\n",
       "      <td>15</td>\n",
       "    </tr>\n",
       "    <tr>\n",
       "      <th>3</th>\n",
       "      <td>16</td>\n",
       "      <td>17</td>\n",
       "      <td>18</td>\n",
       "      <td>19</td>\n",
       "      <td>20</td>\n",
       "    </tr>\n",
       "    <tr>\n",
       "      <th>4</th>\n",
       "      <td>21</td>\n",
       "      <td>22</td>\n",
       "      <td>23</td>\n",
       "      <td>24</td>\n",
       "      <td>25</td>\n",
       "    </tr>\n",
       "  </tbody>\n",
       "</table>\n",
       "</div>"
      ],
      "text/plain": [
       "    A   B   C   D   E\n",
       "0   1   2   3   4   5\n",
       "1   6   7   8   9  10\n",
       "2  11  12  13  14  15\n",
       "3  16  17  18  19  20\n",
       "4  21  22  23  24  25"
      ]
     },
     "execution_count": 75,
     "metadata": {},
     "output_type": "execute_result"
    }
   ],
   "source": [
    "d.head() # it does not work always i wil learn it"
   ]
  },
  {
   "cell_type": "markdown",
   "id": "83b7991d",
   "metadata": {},
   "source": [
    "## backgroud changing trick in pivot table"
   ]
  },
  {
   "cell_type": "code",
   "execution_count": 80,
   "id": "00957cf2",
   "metadata": {},
   "outputs": [],
   "source": [
    "df.pivot_table(index='quantity',columns='order_id',values='item_price',aggfunc=sum).style.background_gradient(cmap=\"coolwarm\")\n"
   ]
  },
  {
   "cell_type": "code",
   "execution_count": 60,
   "id": "711bdde9",
   "metadata": {},
   "outputs": [
    {
     "data": {
      "text/html": [
       "<div>\n",
       "<style scoped>\n",
       "    .dataframe tbody tr th:only-of-type {\n",
       "        vertical-align: middle;\n",
       "    }\n",
       "\n",
       "    .dataframe tbody tr th {\n",
       "        vertical-align: top;\n",
       "    }\n",
       "\n",
       "    .dataframe thead th {\n",
       "        text-align: right;\n",
       "    }\n",
       "</style>\n",
       "<table border=\"1\" class=\"dataframe\">\n",
       "  <thead>\n",
       "    <tr style=\"text-align: right;\">\n",
       "      <th></th>\n",
       "      <th>order_id</th>\n",
       "      <th>quantity</th>\n",
       "      <th>item_name</th>\n",
       "      <th>choice_description</th>\n",
       "      <th>item_price</th>\n",
       "    </tr>\n",
       "  </thead>\n",
       "  <tbody>\n",
       "    <tr>\n",
       "      <th>2452</th>\n",
       "      <td>973</td>\n",
       "      <td>1</td>\n",
       "      <td>Chicken Bowl</td>\n",
       "      <td>[Tomatillo Green Chili Salsa, [Rice, Black Bea...</td>\n",
       "      <td>8.75</td>\n",
       "    </tr>\n",
       "    <tr>\n",
       "      <th>3107</th>\n",
       "      <td>1240</td>\n",
       "      <td>1</td>\n",
       "      <td>Chicken Bowl</td>\n",
       "      <td>[[Fresh Tomato Salsa (Mild), Roasted Chili Cor...</td>\n",
       "      <td>8.49</td>\n",
       "    </tr>\n",
       "    <tr>\n",
       "      <th>3124</th>\n",
       "      <td>1246</td>\n",
       "      <td>1</td>\n",
       "      <td>Chicken Bowl</td>\n",
       "      <td>[Tomatillo Green Chili Salsa, [Rice, Pinto Bea...</td>\n",
       "      <td>8.75</td>\n",
       "    </tr>\n",
       "    <tr>\n",
       "      <th>3172</th>\n",
       "      <td>1268</td>\n",
       "      <td>1</td>\n",
       "      <td>Chicken Bowl</td>\n",
       "      <td>[Fresh Tomato Salsa, [Fajita Vegetables, Rice,...</td>\n",
       "      <td>8.75</td>\n",
       "    </tr>\n",
       "    <tr>\n",
       "      <th>3174</th>\n",
       "      <td>1269</td>\n",
       "      <td>1</td>\n",
       "      <td>Chicken Bowl</td>\n",
       "      <td>[Roasted Chili Corn Salsa, [Rice, Fajita Veget...</td>\n",
       "      <td>11.25</td>\n",
       "    </tr>\n",
       "    <tr>\n",
       "      <th>...</th>\n",
       "      <td>...</td>\n",
       "      <td>...</td>\n",
       "      <td>...</td>\n",
       "      <td>...</td>\n",
       "      <td>...</td>\n",
       "    </tr>\n",
       "    <tr>\n",
       "      <th>415</th>\n",
       "      <td>181</td>\n",
       "      <td>2</td>\n",
       "      <td>Chicken Bowl</td>\n",
       "      <td>[Tomatillo Red Chili Salsa]</td>\n",
       "      <td>17.50</td>\n",
       "    </tr>\n",
       "    <tr>\n",
       "      <th>4435</th>\n",
       "      <td>1767</td>\n",
       "      <td>2</td>\n",
       "      <td>Chicken Bowl</td>\n",
       "      <td>[Fresh Tomato Salsa, [Rice, Pinto Beans, Chees...</td>\n",
       "      <td>17.50</td>\n",
       "    </tr>\n",
       "    <tr>\n",
       "      <th>4</th>\n",
       "      <td>2</td>\n",
       "      <td>2</td>\n",
       "      <td>Chicken Bowl</td>\n",
       "      <td>[Tomatillo-Red Chili Salsa (Hot), [Black Beans...</td>\n",
       "      <td>16.98</td>\n",
       "    </tr>\n",
       "    <tr>\n",
       "      <th>1514</th>\n",
       "      <td>616</td>\n",
       "      <td>3</td>\n",
       "      <td>Chicken Bowl</td>\n",
       "      <td>[Fresh Tomato Salsa, [Rice, Black Beans, Chees...</td>\n",
       "      <td>26.25</td>\n",
       "    </tr>\n",
       "    <tr>\n",
       "      <th>409</th>\n",
       "      <td>178</td>\n",
       "      <td>3</td>\n",
       "      <td>Chicken Bowl</td>\n",
       "      <td>[[Fresh Tomato Salsa (Mild), Tomatillo-Green C...</td>\n",
       "      <td>32.94</td>\n",
       "    </tr>\n",
       "  </tbody>\n",
       "</table>\n",
       "<p>726 rows × 5 columns</p>\n",
       "</div>"
      ],
      "text/plain": [
       "      order_id  quantity     item_name  \\\n",
       "2452       973         1  Chicken Bowl   \n",
       "3107      1240         1  Chicken Bowl   \n",
       "3124      1246         1  Chicken Bowl   \n",
       "3172      1268         1  Chicken Bowl   \n",
       "3174      1269         1  Chicken Bowl   \n",
       "...        ...       ...           ...   \n",
       "415        181         2  Chicken Bowl   \n",
       "4435      1767         2  Chicken Bowl   \n",
       "4            2         2  Chicken Bowl   \n",
       "1514       616         3  Chicken Bowl   \n",
       "409        178         3  Chicken Bowl   \n",
       "\n",
       "                                     choice_description  item_price  \n",
       "2452  [Tomatillo Green Chili Salsa, [Rice, Black Bea...        8.75  \n",
       "3107  [[Fresh Tomato Salsa (Mild), Roasted Chili Cor...        8.49  \n",
       "3124  [Tomatillo Green Chili Salsa, [Rice, Pinto Bea...        8.75  \n",
       "3172  [Fresh Tomato Salsa, [Fajita Vegetables, Rice,...        8.75  \n",
       "3174  [Roasted Chili Corn Salsa, [Rice, Fajita Veget...       11.25  \n",
       "...                                                 ...         ...  \n",
       "415                         [Tomatillo Red Chili Salsa]       17.50  \n",
       "4435  [Fresh Tomato Salsa, [Rice, Pinto Beans, Chees...       17.50  \n",
       "4     [Tomatillo-Red Chili Salsa (Hot), [Black Beans...       16.98  \n",
       "1514  [Fresh Tomato Salsa, [Rice, Black Beans, Chees...       26.25  \n",
       "409   [[Fresh Tomato Salsa (Mild), Tomatillo-Green C...       32.94  \n",
       "\n",
       "[726 rows x 5 columns]"
      ]
     },
     "execution_count": 60,
     "metadata": {},
     "output_type": "execute_result"
    }
   ],
   "source": [
    "chickenbowl.sort_values(by='quantity')"
   ]
  },
  {
   "cell_type": "markdown",
   "id": "6f2afe71",
   "metadata": {},
   "source": [
    "## filtering tricks"
   ]
  },
  {
   "cell_type": "code",
   "execution_count": 3,
   "id": "4c27c5ea",
   "metadata": {},
   "outputs": [
    {
     "data": {
      "text/html": [
       "<div>\n",
       "<style scoped>\n",
       "    .dataframe tbody tr th:only-of-type {\n",
       "        vertical-align: middle;\n",
       "    }\n",
       "\n",
       "    .dataframe tbody tr th {\n",
       "        vertical-align: top;\n",
       "    }\n",
       "\n",
       "    .dataframe thead th {\n",
       "        text-align: right;\n",
       "    }\n",
       "</style>\n",
       "<table border=\"1\" class=\"dataframe\">\n",
       "  <thead>\n",
       "    <tr style=\"text-align: right;\">\n",
       "      <th></th>\n",
       "      <th>stop_date</th>\n",
       "      <th>stop_time</th>\n",
       "      <th>country_name</th>\n",
       "      <th>driver_gender</th>\n",
       "      <th>driver_age_raw</th>\n",
       "      <th>driver_age</th>\n",
       "      <th>driver_race</th>\n",
       "      <th>violation_raw</th>\n",
       "      <th>violation</th>\n",
       "      <th>search_conducted</th>\n",
       "      <th>search_type</th>\n",
       "      <th>stop_outcome</th>\n",
       "      <th>is_arrested</th>\n",
       "      <th>stop_duration</th>\n",
       "      <th>drugs_related_stop</th>\n",
       "    </tr>\n",
       "  </thead>\n",
       "  <tbody>\n",
       "    <tr>\n",
       "      <th>0</th>\n",
       "      <td>2005-01-02</td>\n",
       "      <td>1:55</td>\n",
       "      <td>NaN</td>\n",
       "      <td>M</td>\n",
       "      <td>1985.0</td>\n",
       "      <td>20.0</td>\n",
       "      <td>White</td>\n",
       "      <td>Speeding</td>\n",
       "      <td>Speeding</td>\n",
       "      <td>False</td>\n",
       "      <td>NaN</td>\n",
       "      <td>Citation</td>\n",
       "      <td>False</td>\n",
       "      <td>0-15 Min</td>\n",
       "      <td>False</td>\n",
       "    </tr>\n",
       "    <tr>\n",
       "      <th>1</th>\n",
       "      <td>2005-01-18</td>\n",
       "      <td>8:15</td>\n",
       "      <td>NaN</td>\n",
       "      <td>M</td>\n",
       "      <td>1965.0</td>\n",
       "      <td>40.0</td>\n",
       "      <td>White</td>\n",
       "      <td>Speeding</td>\n",
       "      <td>Speeding</td>\n",
       "      <td>False</td>\n",
       "      <td>NaN</td>\n",
       "      <td>Citation</td>\n",
       "      <td>False</td>\n",
       "      <td>0-15 Min</td>\n",
       "      <td>False</td>\n",
       "    </tr>\n",
       "  </tbody>\n",
       "</table>\n",
       "</div>"
      ],
      "text/plain": [
       "   stop_date stop_time  country_name driver_gender  driver_age_raw  \\\n",
       "0 2005-01-02      1:55           NaN             M          1985.0   \n",
       "1 2005-01-18      8:15           NaN             M          1965.0   \n",
       "\n",
       "   driver_age driver_race violation_raw violation  search_conducted  \\\n",
       "0        20.0       White      Speeding  Speeding             False   \n",
       "1        40.0       White      Speeding  Speeding             False   \n",
       "\n",
       "  search_type stop_outcome is_arrested stop_duration  drugs_related_stop  \n",
       "0         NaN     Citation       False      0-15 Min               False  \n",
       "1         NaN     Citation       False      0-15 Min               False  "
      ]
     },
     "execution_count": 3,
     "metadata": {},
     "output_type": "execute_result"
    }
   ],
   "source": [
    "data.head(2)"
   ]
  },
  {
   "cell_type": "code",
   "execution_count": 83,
   "id": "7d43e363",
   "metadata": {},
   "outputs": [],
   "source": [
    "filt=data['driver_race']==\"White\"\n",
    "#pass the condition in a variable"
   ]
  },
  {
   "cell_type": "code",
   "execution_count": 85,
   "id": "0345bcd0",
   "metadata": {},
   "outputs": [
    {
     "data": {
      "text/plain": [
       "True     45747\n",
       "False    19788\n",
       "Name: driver_race, dtype: int64"
      ]
     },
     "execution_count": 85,
     "metadata": {},
     "output_type": "execute_result"
    }
   ],
   "source": [
    "filt.value_counts()"
   ]
  },
  {
   "cell_type": "code",
   "execution_count": 82,
   "id": "b5b67ce4",
   "metadata": {},
   "outputs": [
    {
     "data": {
      "text/html": [
       "<div>\n",
       "<style scoped>\n",
       "    .dataframe tbody tr th:only-of-type {\n",
       "        vertical-align: middle;\n",
       "    }\n",
       "\n",
       "    .dataframe tbody tr th {\n",
       "        vertical-align: top;\n",
       "    }\n",
       "\n",
       "    .dataframe thead th {\n",
       "        text-align: right;\n",
       "    }\n",
       "</style>\n",
       "<table border=\"1\" class=\"dataframe\">\n",
       "  <thead>\n",
       "    <tr style=\"text-align: right;\">\n",
       "      <th></th>\n",
       "      <th>stop_date</th>\n",
       "      <th>stop_time</th>\n",
       "      <th>country_name</th>\n",
       "      <th>driver_gender</th>\n",
       "      <th>driver_age_raw</th>\n",
       "      <th>driver_age</th>\n",
       "      <th>driver_race</th>\n",
       "      <th>violation_raw</th>\n",
       "      <th>violation</th>\n",
       "      <th>search_conducted</th>\n",
       "      <th>search_type</th>\n",
       "      <th>stop_outcome</th>\n",
       "      <th>is_arrested</th>\n",
       "      <th>stop_duration</th>\n",
       "      <th>drugs_related_stop</th>\n",
       "      <th>reduce_stop_durationtime</th>\n",
       "      <th>new_column</th>\n",
       "    </tr>\n",
       "  </thead>\n",
       "  <tbody>\n",
       "    <tr>\n",
       "      <th>0</th>\n",
       "      <td>2005-01-02</td>\n",
       "      <td>1:55</td>\n",
       "      <td>NaN</td>\n",
       "      <td>M</td>\n",
       "      <td>1985.0</td>\n",
       "      <td>20.0</td>\n",
       "      <td>White</td>\n",
       "      <td>Speeding</td>\n",
       "      <td>Speeding</td>\n",
       "      <td>False</td>\n",
       "      <td>NaN</td>\n",
       "      <td>Citation</td>\n",
       "      <td>False</td>\n",
       "      <td>0 15 Min</td>\n",
       "      <td>False</td>\n",
       "      <td>[0 15]</td>\n",
       "      <td>20.0</td>\n",
       "    </tr>\n",
       "    <tr>\n",
       "      <th>1</th>\n",
       "      <td>2005-01-18</td>\n",
       "      <td>8:15</td>\n",
       "      <td>NaN</td>\n",
       "      <td>M</td>\n",
       "      <td>1965.0</td>\n",
       "      <td>40.0</td>\n",
       "      <td>White</td>\n",
       "      <td>Speeding</td>\n",
       "      <td>Speeding</td>\n",
       "      <td>False</td>\n",
       "      <td>NaN</td>\n",
       "      <td>Citation</td>\n",
       "      <td>False</td>\n",
       "      <td>0 15 Min</td>\n",
       "      <td>False</td>\n",
       "      <td>[0 15]</td>\n",
       "      <td>40.0</td>\n",
       "    </tr>\n",
       "    <tr>\n",
       "      <th>2</th>\n",
       "      <td>2005-01-23</td>\n",
       "      <td>23:15</td>\n",
       "      <td>NaN</td>\n",
       "      <td>M</td>\n",
       "      <td>1972.0</td>\n",
       "      <td>33.0</td>\n",
       "      <td>White</td>\n",
       "      <td>Speeding</td>\n",
       "      <td>Speeding</td>\n",
       "      <td>False</td>\n",
       "      <td>NaN</td>\n",
       "      <td>Citation</td>\n",
       "      <td>False</td>\n",
       "      <td>0 15 Min</td>\n",
       "      <td>False</td>\n",
       "      <td>[0 15]</td>\n",
       "      <td>33.0</td>\n",
       "    </tr>\n",
       "  </tbody>\n",
       "</table>\n",
       "</div>"
      ],
      "text/plain": [
       "   stop_date stop_time  country_name driver_gender driver_age_raw  driver_age  \\\n",
       "0 2005-01-02      1:55           NaN             M         1985.0        20.0   \n",
       "1 2005-01-18      8:15           NaN             M         1965.0        40.0   \n",
       "2 2005-01-23     23:15           NaN             M         1972.0        33.0   \n",
       "\n",
       "  driver_race violation_raw violation  search_conducted search_type  \\\n",
       "0       White      Speeding  Speeding             False         NaN   \n",
       "1       White      Speeding  Speeding             False         NaN   \n",
       "2       White      Speeding  Speeding             False         NaN   \n",
       "\n",
       "  stop_outcome is_arrested stop_duration  drugs_related_stop  \\\n",
       "0     Citation       False      0 15 Min               False   \n",
       "1     Citation       False      0 15 Min               False   \n",
       "2     Citation       False      0 15 Min               False   \n",
       "\n",
       "  reduce_stop_durationtime  new_column  \n",
       "0                   [0 15]        20.0  \n",
       "1                   [0 15]        40.0  \n",
       "2                   [0 15]        33.0  "
      ]
     },
     "execution_count": 82,
     "metadata": {},
     "output_type": "execute_result"
    }
   ],
   "source": [
    "data[filt].head(3)\n",
    "# and pass the variable in the dataframe"
   ]
  },
  {
   "cell_type": "code",
   "execution_count": 12,
   "id": "8e693cfd",
   "metadata": {},
   "outputs": [
    {
     "data": {
      "text/plain": [
       "0        M\n",
       "1        M\n",
       "2        M\n",
       "3        M\n",
       "4        F\n",
       "        ..\n",
       "65528    M\n",
       "65529    M\n",
       "65530    F\n",
       "65531    M\n",
       "65534    F\n",
       "Name: driver_gender, Length: 45747, dtype: object"
      ]
     },
     "execution_count": 12,
     "metadata": {},
     "output_type": "execute_result"
    }
   ],
   "source": [
    "data.loc[filt,'driver_gender']\n",
    "# and pass the variable in the loc function"
   ]
  },
  {
   "cell_type": "code",
   "execution_count": 94,
   "id": "6f3787e1",
   "metadata": {},
   "outputs": [
    {
     "data": {
      "text/plain": [
       "M    32473\n",
       "F    13273\n",
       "Name: driver_gender, dtype: int64"
      ]
     },
     "execution_count": 94,
     "metadata": {},
     "output_type": "execute_result"
    }
   ],
   "source": [
    "data[data['driver_race']=='White']['driver_gender'].value_counts()"
   ]
  },
  {
   "cell_type": "code",
   "execution_count": 92,
   "id": "cfaeee55",
   "metadata": {},
   "outputs": [
    {
     "data": {
      "text/plain": [
       "True     45747\n",
       "False    19788\n",
       "Name: driver_race, dtype: int64"
      ]
     },
     "execution_count": 92,
     "metadata": {},
     "output_type": "execute_result"
    }
   ],
   "source": [
    "filt.value_counts()"
   ]
  },
  {
   "cell_type": "code",
   "execution_count": 13,
   "id": "f3f85e9a",
   "metadata": {},
   "outputs": [
    {
     "data": {
      "text/plain": [
       "0                              Speeding\n",
       "1                              Speeding\n",
       "2                              Speeding\n",
       "3                      Call for Service\n",
       "4                              Speeding\n",
       "                      ...              \n",
       "65528    Equipment/Inspection Violation\n",
       "65529                          Speeding\n",
       "65530                          Speeding\n",
       "65531                          Speeding\n",
       "65534                          Speeding\n",
       "Name: violation_raw, Length: 45747, dtype: object"
      ]
     },
     "execution_count": 13,
     "metadata": {},
     "output_type": "execute_result"
    }
   ],
   "source": [
    "data.loc[filt,'violation_raw']"
   ]
  },
  {
   "cell_type": "markdown",
   "id": "320b6018",
   "metadata": {},
   "source": [
    "## 2nd trick with and or"
   ]
  },
  {
   "cell_type": "code",
   "execution_count": 15,
   "id": "6155b61c",
   "metadata": {},
   "outputs": [],
   "source": [
    "filterr=(data['violation_raw']=='Speeding')|(data['driver_race']=='White')"
   ]
  },
  {
   "cell_type": "code",
   "execution_count": 17,
   "id": "2cdd1888",
   "metadata": {},
   "outputs": [
    {
     "data": {
      "text/html": [
       "<div>\n",
       "<style scoped>\n",
       "    .dataframe tbody tr th:only-of-type {\n",
       "        vertical-align: middle;\n",
       "    }\n",
       "\n",
       "    .dataframe tbody tr th {\n",
       "        vertical-align: top;\n",
       "    }\n",
       "\n",
       "    .dataframe thead th {\n",
       "        text-align: right;\n",
       "    }\n",
       "</style>\n",
       "<table border=\"1\" class=\"dataframe\">\n",
       "  <thead>\n",
       "    <tr style=\"text-align: right;\">\n",
       "      <th></th>\n",
       "      <th>stop_date</th>\n",
       "      <th>stop_time</th>\n",
       "      <th>country_name</th>\n",
       "      <th>driver_gender</th>\n",
       "      <th>driver_age_raw</th>\n",
       "      <th>driver_age</th>\n",
       "      <th>driver_race</th>\n",
       "      <th>violation_raw</th>\n",
       "      <th>violation</th>\n",
       "      <th>search_conducted</th>\n",
       "      <th>search_type</th>\n",
       "      <th>stop_outcome</th>\n",
       "      <th>is_arrested</th>\n",
       "      <th>stop_duration</th>\n",
       "      <th>drugs_related_stop</th>\n",
       "    </tr>\n",
       "  </thead>\n",
       "  <tbody>\n",
       "    <tr>\n",
       "      <th>0</th>\n",
       "      <td>2005-01-02</td>\n",
       "      <td>1:55</td>\n",
       "      <td>NaN</td>\n",
       "      <td>M</td>\n",
       "      <td>1985.0</td>\n",
       "      <td>20.0</td>\n",
       "      <td>White</td>\n",
       "      <td>Speeding</td>\n",
       "      <td>Speeding</td>\n",
       "      <td>False</td>\n",
       "      <td>NaN</td>\n",
       "      <td>Citation</td>\n",
       "      <td>False</td>\n",
       "      <td>0-15 Min</td>\n",
       "      <td>False</td>\n",
       "    </tr>\n",
       "    <tr>\n",
       "      <th>1</th>\n",
       "      <td>2005-01-18</td>\n",
       "      <td>8:15</td>\n",
       "      <td>NaN</td>\n",
       "      <td>M</td>\n",
       "      <td>1965.0</td>\n",
       "      <td>40.0</td>\n",
       "      <td>White</td>\n",
       "      <td>Speeding</td>\n",
       "      <td>Speeding</td>\n",
       "      <td>False</td>\n",
       "      <td>NaN</td>\n",
       "      <td>Citation</td>\n",
       "      <td>False</td>\n",
       "      <td>0-15 Min</td>\n",
       "      <td>False</td>\n",
       "    </tr>\n",
       "  </tbody>\n",
       "</table>\n",
       "</div>"
      ],
      "text/plain": [
       "   stop_date stop_time  country_name driver_gender  driver_age_raw  \\\n",
       "0 2005-01-02      1:55           NaN             M          1985.0   \n",
       "1 2005-01-18      8:15           NaN             M          1965.0   \n",
       "\n",
       "   driver_age driver_race violation_raw violation  search_conducted  \\\n",
       "0        20.0       White      Speeding  Speeding             False   \n",
       "1        40.0       White      Speeding  Speeding             False   \n",
       "\n",
       "  search_type stop_outcome is_arrested stop_duration  drugs_related_stop  \n",
       "0         NaN     Citation       False      0-15 Min               False  \n",
       "1         NaN     Citation       False      0-15 Min               False  "
      ]
     },
     "execution_count": 17,
     "metadata": {},
     "output_type": "execute_result"
    }
   ],
   "source": [
    "data[filterr].head(2)"
   ]
  },
  {
   "cell_type": "code",
   "execution_count": 18,
   "id": "d2a1eb2c",
   "metadata": {},
   "outputs": [
    {
     "data": {
      "text/plain": [
       "0       2005-01-02\n",
       "1       2005-01-18\n",
       "2       2005-01-23\n",
       "3       2005-02-20\n",
       "4       2005-03-14\n",
       "           ...    \n",
       "65528   2012-12-06\n",
       "65529   2012-12-06\n",
       "65530   2012-12-06\n",
       "65531   2012-12-06\n",
       "65534   2012-12-07\n",
       "Name: stop_date, Length: 52765, dtype: datetime64[ns]"
      ]
     },
     "execution_count": 18,
     "metadata": {},
     "output_type": "execute_result"
    }
   ],
   "source": [
    "data.loc[filterr,'stop_date']"
   ]
  },
  {
   "cell_type": "code",
   "execution_count": 20,
   "id": "c0239c7d",
   "metadata": {},
   "outputs": [],
   "source": [
    "filtered=(data['violation_raw']=='Speeding')|(data['driver_race']=='White')"
   ]
  },
  {
   "cell_type": "code",
   "execution_count": 26,
   "id": "dff2f2e4",
   "metadata": {},
   "outputs": [
    {
     "data": {
      "text/plain": [
       "0       2005-01-02\n",
       "1       2005-01-18\n",
       "2       2005-01-23\n",
       "3       2005-02-20\n",
       "4       2005-03-14\n",
       "           ...    \n",
       "65528   2012-12-06\n",
       "65529   2012-12-06\n",
       "65530   2012-12-06\n",
       "65531   2012-12-06\n",
       "65534   2012-12-07\n",
       "Name: stop_date, Length: 52765, dtype: datetime64[ns]"
      ]
     },
     "execution_count": 26,
     "metadata": {},
     "output_type": "execute_result"
    }
   ],
   "source": [
    "data.loc[filtered,'stop_date']"
   ]
  },
  {
   "cell_type": "code",
   "execution_count": 25,
   "id": "d5d6f03b",
   "metadata": {},
   "outputs": [
    {
     "data": {
      "text/plain": [
       "(52765,)"
      ]
     },
     "execution_count": 25,
     "metadata": {},
     "output_type": "execute_result"
    }
   ],
   "source": [
    "data.loc[filtered,'stop_date'].shape"
   ]
  },
  {
   "cell_type": "code",
   "execution_count": 27,
   "id": "9d0bc351",
   "metadata": {},
   "outputs": [
    {
     "data": {
      "text/plain": [
       "5       2005-03-23\n",
       "22      2005-08-08\n",
       "25      2005-09-03\n",
       "29      2005-09-26\n",
       "30      2005-09-26\n",
       "           ...    \n",
       "65503   2012-12-06\n",
       "65504   2012-12-06\n",
       "65514   2012-12-06\n",
       "65532   2012-12-06\n",
       "65533   2012-12-07\n",
       "Name: stop_date, Length: 12770, dtype: datetime64[ns]"
      ]
     },
     "execution_count": 27,
     "metadata": {},
     "output_type": "execute_result"
    }
   ],
   "source": [
    "data.loc[~filtered,'stop_date']"
   ]
  },
  {
   "cell_type": "code",
   "execution_count": 24,
   "id": "31e7c73b",
   "metadata": {},
   "outputs": [
    {
     "data": {
      "text/plain": [
       "(12770,)"
      ]
     },
     "execution_count": 24,
     "metadata": {},
     "output_type": "execute_result"
    }
   ],
   "source": [
    "data.loc[~filtered,'stop_date'].shape\n",
    "# by using this trick u can fatch all other records that are not present in the first fatched data"
   ]
  },
  {
   "cell_type": "code",
   "execution_count": 28,
   "id": "ca49fdf7",
   "metadata": {},
   "outputs": [
    {
     "data": {
      "text/plain": [
       "2007-01-10    56\n",
       "2006-05-21    55\n",
       "2012-02-28    54\n",
       "2007-05-16    53\n",
       "2006-02-09    52\n",
       "              ..\n",
       "2005-03-14     1\n",
       "2005-09-17     1\n",
       "2007-12-25     1\n",
       "2005-01-23     1\n",
       "2005-07-20     1\n",
       "Name: stop_date, Length: 2646, dtype: int64"
      ]
     },
     "execution_count": 28,
     "metadata": {},
     "output_type": "execute_result"
    }
   ],
   "source": [
    "data.loc[filtered,'stop_date'].value_counts()"
   ]
  },
  {
   "cell_type": "markdown",
   "id": "ce99682c",
   "metadata": {},
   "source": [
    "## in this trick those records are present here which are not present in the filtered data"
   ]
  },
  {
   "cell_type": "code",
   "execution_count": 29,
   "id": "64a9e8d0",
   "metadata": {},
   "outputs": [
    {
     "data": {
      "text/plain": [
       "2012-01-11    20\n",
       "2012-05-25    18\n",
       "2009-11-17    17\n",
       "2012-02-04    17\n",
       "2012-02-19    17\n",
       "              ..\n",
       "2007-05-17     1\n",
       "2007-06-28     1\n",
       "2006-11-01     1\n",
       "2009-05-28     1\n",
       "2006-12-18     1\n",
       "Name: stop_date, Length: 2548, dtype: int64"
      ]
     },
     "execution_count": 29,
     "metadata": {},
     "output_type": "execute_result"
    }
   ],
   "source": [
    "data.loc[~filtered,'stop_date'].value_counts()"
   ]
  },
  {
   "cell_type": "code",
   "execution_count": 31,
   "id": "998c92fc",
   "metadata": {},
   "outputs": [
    {
     "data": {
      "text/plain": [
       "(65535, 15)"
      ]
     },
     "execution_count": 31,
     "metadata": {},
     "output_type": "execute_result"
    }
   ],
   "source": [
    "data.shape"
   ]
  },
  {
   "cell_type": "code",
   "execution_count": 32,
   "id": "feb70e97",
   "metadata": {},
   "outputs": [
    {
     "data": {
      "text/plain": [
       "65535"
      ]
     },
     "execution_count": 32,
     "metadata": {},
     "output_type": "execute_result"
    }
   ],
   "source": [
    "12770+52765"
   ]
  },
  {
   "cell_type": "code",
   "execution_count": 95,
   "id": "fbb5e5c3",
   "metadata": {},
   "outputs": [
    {
     "data": {
      "text/html": [
       "<div>\n",
       "<style scoped>\n",
       "    .dataframe tbody tr th:only-of-type {\n",
       "        vertical-align: middle;\n",
       "    }\n",
       "\n",
       "    .dataframe tbody tr th {\n",
       "        vertical-align: top;\n",
       "    }\n",
       "\n",
       "    .dataframe thead th {\n",
       "        text-align: right;\n",
       "    }\n",
       "</style>\n",
       "<table border=\"1\" class=\"dataframe\">\n",
       "  <thead>\n",
       "    <tr style=\"text-align: right;\">\n",
       "      <th></th>\n",
       "      <th>stop_date</th>\n",
       "      <th>stop_time</th>\n",
       "      <th>country_name</th>\n",
       "      <th>driver_gender</th>\n",
       "      <th>driver_age_raw</th>\n",
       "      <th>driver_age</th>\n",
       "      <th>driver_race</th>\n",
       "      <th>violation_raw</th>\n",
       "      <th>violation</th>\n",
       "      <th>search_conducted</th>\n",
       "      <th>search_type</th>\n",
       "      <th>stop_outcome</th>\n",
       "      <th>is_arrested</th>\n",
       "      <th>stop_duration</th>\n",
       "      <th>drugs_related_stop</th>\n",
       "    </tr>\n",
       "  </thead>\n",
       "  <tbody>\n",
       "    <tr>\n",
       "      <th>0</th>\n",
       "      <td>1/2/2005</td>\n",
       "      <td>1:55</td>\n",
       "      <td>NaN</td>\n",
       "      <td>M</td>\n",
       "      <td>1985.0</td>\n",
       "      <td>20.0</td>\n",
       "      <td>White</td>\n",
       "      <td>Speeding</td>\n",
       "      <td>Speeding</td>\n",
       "      <td>False</td>\n",
       "      <td>NaN</td>\n",
       "      <td>Citation</td>\n",
       "      <td>False</td>\n",
       "      <td>0-15 Min</td>\n",
       "      <td>False</td>\n",
       "    </tr>\n",
       "    <tr>\n",
       "      <th>1</th>\n",
       "      <td>1/18/2005</td>\n",
       "      <td>8:15</td>\n",
       "      <td>NaN</td>\n",
       "      <td>M</td>\n",
       "      <td>1965.0</td>\n",
       "      <td>40.0</td>\n",
       "      <td>White</td>\n",
       "      <td>Speeding</td>\n",
       "      <td>Speeding</td>\n",
       "      <td>False</td>\n",
       "      <td>NaN</td>\n",
       "      <td>Citation</td>\n",
       "      <td>False</td>\n",
       "      <td>0-15 Min</td>\n",
       "      <td>False</td>\n",
       "    </tr>\n",
       "    <tr>\n",
       "      <th>2</th>\n",
       "      <td>1/23/2005</td>\n",
       "      <td>23:15</td>\n",
       "      <td>NaN</td>\n",
       "      <td>M</td>\n",
       "      <td>1972.0</td>\n",
       "      <td>33.0</td>\n",
       "      <td>White</td>\n",
       "      <td>Speeding</td>\n",
       "      <td>Speeding</td>\n",
       "      <td>False</td>\n",
       "      <td>NaN</td>\n",
       "      <td>Citation</td>\n",
       "      <td>False</td>\n",
       "      <td>0-15 Min</td>\n",
       "      <td>False</td>\n",
       "    </tr>\n",
       "    <tr>\n",
       "      <th>3</th>\n",
       "      <td>2/20/2005</td>\n",
       "      <td>17:15</td>\n",
       "      <td>NaN</td>\n",
       "      <td>M</td>\n",
       "      <td>1986.0</td>\n",
       "      <td>19.0</td>\n",
       "      <td>White</td>\n",
       "      <td>Call for Service</td>\n",
       "      <td>Other</td>\n",
       "      <td>False</td>\n",
       "      <td>NaN</td>\n",
       "      <td>Arrest Driver</td>\n",
       "      <td>True</td>\n",
       "      <td>16-30 Min</td>\n",
       "      <td>False</td>\n",
       "    </tr>\n",
       "    <tr>\n",
       "      <th>4</th>\n",
       "      <td>3/14/2005</td>\n",
       "      <td>10:00</td>\n",
       "      <td>NaN</td>\n",
       "      <td>F</td>\n",
       "      <td>1984.0</td>\n",
       "      <td>21.0</td>\n",
       "      <td>White</td>\n",
       "      <td>Speeding</td>\n",
       "      <td>Speeding</td>\n",
       "      <td>False</td>\n",
       "      <td>NaN</td>\n",
       "      <td>Citation</td>\n",
       "      <td>False</td>\n",
       "      <td>0-15 Min</td>\n",
       "      <td>False</td>\n",
       "    </tr>\n",
       "  </tbody>\n",
       "</table>\n",
       "</div>"
      ],
      "text/plain": [
       "   stop_date stop_time  country_name driver_gender  driver_age_raw  \\\n",
       "0   1/2/2005      1:55           NaN             M          1985.0   \n",
       "1  1/18/2005      8:15           NaN             M          1965.0   \n",
       "2  1/23/2005     23:15           NaN             M          1972.0   \n",
       "3  2/20/2005     17:15           NaN             M          1986.0   \n",
       "4  3/14/2005     10:00           NaN             F          1984.0   \n",
       "\n",
       "   driver_age driver_race     violation_raw violation  search_conducted  \\\n",
       "0        20.0       White          Speeding  Speeding             False   \n",
       "1        40.0       White          Speeding  Speeding             False   \n",
       "2        33.0       White          Speeding  Speeding             False   \n",
       "3        19.0       White  Call for Service     Other             False   \n",
       "4        21.0       White          Speeding  Speeding             False   \n",
       "\n",
       "  search_type   stop_outcome is_arrested stop_duration  drugs_related_stop  \n",
       "0         NaN       Citation       False      0-15 Min               False  \n",
       "1         NaN       Citation       False      0-15 Min               False  \n",
       "2         NaN       Citation       False      0-15 Min               False  \n",
       "3         NaN  Arrest Driver        True     16-30 Min               False  \n",
       "4         NaN       Citation       False      0-15 Min               False  "
      ]
     },
     "execution_count": 95,
     "metadata": {},
     "output_type": "execute_result"
    }
   ],
   "source": [
    "data3=pd.read_csv(\"pollice data.csv\")\n",
    "data3.head()"
   ]
  },
  {
   "cell_type": "markdown",
   "id": "4db759a7",
   "metadata": {},
   "source": [
    "## isin() method trick"
   ]
  },
  {
   "cell_type": "code",
   "execution_count": 96,
   "id": "06bc776b",
   "metadata": {},
   "outputs": [
    {
     "data": {
      "text/html": [
       "<div>\n",
       "<style scoped>\n",
       "    .dataframe tbody tr th:only-of-type {\n",
       "        vertical-align: middle;\n",
       "    }\n",
       "\n",
       "    .dataframe tbody tr th {\n",
       "        vertical-align: top;\n",
       "    }\n",
       "\n",
       "    .dataframe thead th {\n",
       "        text-align: right;\n",
       "    }\n",
       "</style>\n",
       "<table border=\"1\" class=\"dataframe\">\n",
       "  <thead>\n",
       "    <tr style=\"text-align: right;\">\n",
       "      <th></th>\n",
       "      <th>stop_date</th>\n",
       "      <th>stop_time</th>\n",
       "      <th>country_name</th>\n",
       "      <th>driver_gender</th>\n",
       "      <th>driver_age_raw</th>\n",
       "      <th>driver_age</th>\n",
       "      <th>driver_race</th>\n",
       "      <th>violation_raw</th>\n",
       "      <th>violation</th>\n",
       "      <th>search_conducted</th>\n",
       "      <th>search_type</th>\n",
       "      <th>stop_outcome</th>\n",
       "      <th>is_arrested</th>\n",
       "      <th>stop_duration</th>\n",
       "      <th>drugs_related_stop</th>\n",
       "      <th>reduce_stop_durationtime</th>\n",
       "      <th>new_column</th>\n",
       "    </tr>\n",
       "  </thead>\n",
       "  <tbody>\n",
       "    <tr>\n",
       "      <th>10</th>\n",
       "      <td>2005-07-13</td>\n",
       "      <td>16:20</td>\n",
       "      <td>NaN</td>\n",
       "      <td>M</td>\n",
       "      <td>1979.0</td>\n",
       "      <td>26.0</td>\n",
       "      <td>Asian</td>\n",
       "      <td>Speeding</td>\n",
       "      <td>Speeding</td>\n",
       "      <td>False</td>\n",
       "      <td>NaN</td>\n",
       "      <td>Citation</td>\n",
       "      <td>False</td>\n",
       "      <td>0 15 Min</td>\n",
       "      <td>False</td>\n",
       "      <td>[0 15]</td>\n",
       "      <td>26.0</td>\n",
       "    </tr>\n",
       "    <tr>\n",
       "      <th>20</th>\n",
       "      <td>2005-07-28</td>\n",
       "      <td>12:37</td>\n",
       "      <td>NaN</td>\n",
       "      <td>F</td>\n",
       "      <td>1979.0</td>\n",
       "      <td>26.0</td>\n",
       "      <td>Asian</td>\n",
       "      <td>Speeding</td>\n",
       "      <td>Speeding</td>\n",
       "      <td>False</td>\n",
       "      <td>NaN</td>\n",
       "      <td>Citation</td>\n",
       "      <td>False</td>\n",
       "      <td>0 15 Min</td>\n",
       "      <td>False</td>\n",
       "      <td>[0 15]</td>\n",
       "      <td>26.0</td>\n",
       "    </tr>\n",
       "  </tbody>\n",
       "</table>\n",
       "</div>"
      ],
      "text/plain": [
       "    stop_date stop_time  country_name driver_gender driver_age_raw  \\\n",
       "10 2005-07-13     16:20           NaN             M         1979.0   \n",
       "20 2005-07-28     12:37           NaN             F         1979.0   \n",
       "\n",
       "    driver_age driver_race violation_raw violation  search_conducted  \\\n",
       "10        26.0       Asian      Speeding  Speeding             False   \n",
       "20        26.0       Asian      Speeding  Speeding             False   \n",
       "\n",
       "   search_type stop_outcome is_arrested stop_duration  drugs_related_stop  \\\n",
       "10         NaN     Citation       False      0 15 Min               False   \n",
       "20         NaN     Citation       False      0 15 Min               False   \n",
       "\n",
       "   reduce_stop_durationtime  new_column  \n",
       "10                   [0 15]        26.0  \n",
       "20                   [0 15]        26.0  "
      ]
     },
     "execution_count": 96,
     "metadata": {},
     "output_type": "execute_result"
    }
   ],
   "source": [
    "race=['Other','Asian']\n",
    "filt=data.driver_race.isin(race)\n",
    "data[filt].head(2)"
   ]
  },
  {
   "cell_type": "code",
   "execution_count": 101,
   "id": "d9730d46",
   "metadata": {},
   "outputs": [
    {
     "data": {
      "text/html": [
       "<div>\n",
       "<style scoped>\n",
       "    .dataframe tbody tr th:only-of-type {\n",
       "        vertical-align: middle;\n",
       "    }\n",
       "\n",
       "    .dataframe tbody tr th {\n",
       "        vertical-align: top;\n",
       "    }\n",
       "\n",
       "    .dataframe thead th {\n",
       "        text-align: right;\n",
       "    }\n",
       "</style>\n",
       "<table border=\"1\" class=\"dataframe\">\n",
       "  <thead>\n",
       "    <tr style=\"text-align: right;\">\n",
       "      <th></th>\n",
       "      <th>stop_date</th>\n",
       "      <th>stop_time</th>\n",
       "      <th>country_name</th>\n",
       "      <th>driver_gender</th>\n",
       "      <th>driver_age_raw</th>\n",
       "      <th>driver_age</th>\n",
       "      <th>driver_race</th>\n",
       "      <th>violation_raw</th>\n",
       "      <th>violation</th>\n",
       "      <th>search_conducted</th>\n",
       "      <th>search_type</th>\n",
       "      <th>stop_outcome</th>\n",
       "      <th>is_arrested</th>\n",
       "      <th>stop_duration</th>\n",
       "      <th>drugs_related_stop</th>\n",
       "      <th>reduce_stop_durationtime</th>\n",
       "      <th>new_column</th>\n",
       "    </tr>\n",
       "  </thead>\n",
       "  <tbody>\n",
       "    <tr>\n",
       "      <th>10</th>\n",
       "      <td>2005-07-13</td>\n",
       "      <td>16:20</td>\n",
       "      <td>NaN</td>\n",
       "      <td>M</td>\n",
       "      <td>1979.0</td>\n",
       "      <td>26.0</td>\n",
       "      <td>Asian</td>\n",
       "      <td>Speeding</td>\n",
       "      <td>Speeding</td>\n",
       "      <td>False</td>\n",
       "      <td>NaN</td>\n",
       "      <td>Citation</td>\n",
       "      <td>False</td>\n",
       "      <td>0 15 Min</td>\n",
       "      <td>False</td>\n",
       "      <td>[0 15]</td>\n",
       "      <td>26.0</td>\n",
       "    </tr>\n",
       "    <tr>\n",
       "      <th>20</th>\n",
       "      <td>2005-07-28</td>\n",
       "      <td>12:37</td>\n",
       "      <td>NaN</td>\n",
       "      <td>F</td>\n",
       "      <td>1979.0</td>\n",
       "      <td>26.0</td>\n",
       "      <td>Asian</td>\n",
       "      <td>Speeding</td>\n",
       "      <td>Speeding</td>\n",
       "      <td>False</td>\n",
       "      <td>NaN</td>\n",
       "      <td>Citation</td>\n",
       "      <td>False</td>\n",
       "      <td>0 15 Min</td>\n",
       "      <td>False</td>\n",
       "      <td>[0 15]</td>\n",
       "      <td>26.0</td>\n",
       "    </tr>\n",
       "  </tbody>\n",
       "</table>\n",
       "</div>"
      ],
      "text/plain": [
       "    stop_date stop_time  country_name driver_gender driver_age_raw  \\\n",
       "10 2005-07-13     16:20           NaN             M         1979.0   \n",
       "20 2005-07-28     12:37           NaN             F         1979.0   \n",
       "\n",
       "    driver_age driver_race violation_raw violation  search_conducted  \\\n",
       "10        26.0       Asian      Speeding  Speeding             False   \n",
       "20        26.0       Asian      Speeding  Speeding             False   \n",
       "\n",
       "   search_type stop_outcome is_arrested stop_duration  drugs_related_stop  \\\n",
       "10         NaN     Citation       False      0 15 Min               False   \n",
       "20         NaN     Citation       False      0 15 Min               False   \n",
       "\n",
       "   reduce_stop_durationtime  new_column  \n",
       "10                   [0 15]        26.0  \n",
       "20                   [0 15]        26.0  "
      ]
     },
     "execution_count": 101,
     "metadata": {},
     "output_type": "execute_result"
    }
   ],
   "source": [
    "dt2=data[data['driver_race'].isin(['Other','Asian'])]\n",
    "dt2.head(2)\n"
   ]
  },
  {
   "cell_type": "code",
   "execution_count": 9,
   "id": "4df75558",
   "metadata": {},
   "outputs": [
    {
     "data": {
      "text/html": [
       "<div>\n",
       "<style scoped>\n",
       "    .dataframe tbody tr th:only-of-type {\n",
       "        vertical-align: middle;\n",
       "    }\n",
       "\n",
       "    .dataframe tbody tr th {\n",
       "        vertical-align: top;\n",
       "    }\n",
       "\n",
       "    .dataframe thead th {\n",
       "        text-align: right;\n",
       "    }\n",
       "</style>\n",
       "<table border=\"1\" class=\"dataframe\">\n",
       "  <thead>\n",
       "    <tr style=\"text-align: right;\">\n",
       "      <th></th>\n",
       "      <th>driver_race</th>\n",
       "      <th>driver_age</th>\n",
       "      <th>driver_age_raw</th>\n",
       "    </tr>\n",
       "  </thead>\n",
       "  <tbody>\n",
       "    <tr>\n",
       "      <th>10</th>\n",
       "      <td>Asian</td>\n",
       "      <td>26.0</td>\n",
       "      <td>1979.0</td>\n",
       "    </tr>\n",
       "    <tr>\n",
       "      <th>20</th>\n",
       "      <td>Asian</td>\n",
       "      <td>26.0</td>\n",
       "      <td>1979.0</td>\n",
       "    </tr>\n",
       "    <tr>\n",
       "      <th>37</th>\n",
       "      <td>Asian</td>\n",
       "      <td>43.0</td>\n",
       "      <td>1962.0</td>\n",
       "    </tr>\n",
       "    <tr>\n",
       "      <th>67</th>\n",
       "      <td>Asian</td>\n",
       "      <td>31.0</td>\n",
       "      <td>1974.0</td>\n",
       "    </tr>\n",
       "    <tr>\n",
       "      <th>96</th>\n",
       "      <td>Asian</td>\n",
       "      <td>55.0</td>\n",
       "      <td>1950.0</td>\n",
       "    </tr>\n",
       "    <tr>\n",
       "      <th>...</th>\n",
       "      <td>...</td>\n",
       "      <td>...</td>\n",
       "      <td>...</td>\n",
       "    </tr>\n",
       "    <tr>\n",
       "      <th>65432</th>\n",
       "      <td>Asian</td>\n",
       "      <td>32.0</td>\n",
       "      <td>1980.0</td>\n",
       "    </tr>\n",
       "    <tr>\n",
       "      <th>65443</th>\n",
       "      <td>Asian</td>\n",
       "      <td>36.0</td>\n",
       "      <td>1976.0</td>\n",
       "    </tr>\n",
       "    <tr>\n",
       "      <th>65445</th>\n",
       "      <td>Asian</td>\n",
       "      <td>27.0</td>\n",
       "      <td>1985.0</td>\n",
       "    </tr>\n",
       "    <tr>\n",
       "      <th>65474</th>\n",
       "      <td>Asian</td>\n",
       "      <td>18.0</td>\n",
       "      <td>1994.0</td>\n",
       "    </tr>\n",
       "    <tr>\n",
       "      <th>65483</th>\n",
       "      <td>Asian</td>\n",
       "      <td>22.0</td>\n",
       "      <td>1990.0</td>\n",
       "    </tr>\n",
       "  </tbody>\n",
       "</table>\n",
       "<p>1850 rows × 3 columns</p>\n",
       "</div>"
      ],
      "text/plain": [
       "      driver_race  driver_age  driver_age_raw\n",
       "10          Asian        26.0          1979.0\n",
       "20          Asian        26.0          1979.0\n",
       "37          Asian        43.0          1962.0\n",
       "67          Asian        31.0          1974.0\n",
       "96          Asian        55.0          1950.0\n",
       "...           ...         ...             ...\n",
       "65432       Asian        32.0          1980.0\n",
       "65443       Asian        36.0          1976.0\n",
       "65445       Asian        27.0          1985.0\n",
       "65474       Asian        18.0          1994.0\n",
       "65483       Asian        22.0          1990.0\n",
       "\n",
       "[1850 rows x 3 columns]"
      ]
     },
     "execution_count": 9,
     "metadata": {},
     "output_type": "execute_result"
    }
   ],
   "source": [
    "race=['Other','Asian']\n",
    "filt=data.driver_race.isin(race)\n",
    "data.loc[filt,['driver_race','driver_age','driver_age_raw']]\n"
   ]
  },
  {
   "cell_type": "code",
   "execution_count": 13,
   "id": "4815928b",
   "metadata": {},
   "outputs": [
    {
     "data": {
      "text/plain": [
       "1"
      ]
     },
     "execution_count": 13,
     "metadata": {},
     "output_type": "execute_result"
    }
   ],
   "source": [
    "se=['driver_race']\n",
    "data.columns.isin(se).sum()\n",
    "#for understanding the isin function"
   ]
  },
  {
   "cell_type": "markdown",
   "id": "e09d3750",
   "metadata": {},
   "source": [
    "## contains method tricks"
   ]
  },
  {
   "cell_type": "code",
   "execution_count": 112,
   "id": "4856f5b0",
   "metadata": {},
   "outputs": [
    {
     "data": {
      "text/html": [
       "<div>\n",
       "<style scoped>\n",
       "    .dataframe tbody tr th:only-of-type {\n",
       "        vertical-align: middle;\n",
       "    }\n",
       "\n",
       "    .dataframe tbody tr th {\n",
       "        vertical-align: top;\n",
       "    }\n",
       "\n",
       "    .dataframe thead th {\n",
       "        text-align: right;\n",
       "    }\n",
       "</style>\n",
       "<table border=\"1\" class=\"dataframe\">\n",
       "  <thead>\n",
       "    <tr style=\"text-align: right;\">\n",
       "      <th></th>\n",
       "      <th>stop_date</th>\n",
       "      <th>stop_time</th>\n",
       "      <th>country_name</th>\n",
       "      <th>driver_gender</th>\n",
       "      <th>driver_age_raw</th>\n",
       "      <th>driver_age</th>\n",
       "      <th>driver_race</th>\n",
       "      <th>violation_raw</th>\n",
       "      <th>violation</th>\n",
       "      <th>search_conducted</th>\n",
       "      <th>search_type</th>\n",
       "      <th>stop_outcome</th>\n",
       "      <th>is_arrested</th>\n",
       "      <th>stop_duration</th>\n",
       "      <th>drugs_related_stop</th>\n",
       "      <th>reduce_stop_durationtime</th>\n",
       "      <th>new_column</th>\n",
       "    </tr>\n",
       "  </thead>\n",
       "  <tbody>\n",
       "  </tbody>\n",
       "</table>\n",
       "</div>"
      ],
      "text/plain": [
       "Empty DataFrame\n",
       "Columns: [stop_date, stop_time, country_name, driver_gender, driver_age_raw, driver_age, driver_race, violation_raw, violation, search_conducted, search_type, stop_outcome, is_arrested, stop_duration, drugs_related_stop, reduce_stop_durationtime, new_column]\n",
       "Index: []"
      ]
     },
     "execution_count": 112,
     "metadata": {},
     "output_type": "execute_result"
    }
   ],
   "source": [
    "data[data['stop_outcome']=='No']"
   ]
  },
  {
   "cell_type": "code",
   "execution_count": 34,
   "id": "b0db13e8",
   "metadata": {},
   "outputs": [
    {
     "data": {
      "text/plain": [
       "False    61136\n",
       "True       339\n",
       "Name: stop_outcome, dtype: int64"
      ]
     },
     "execution_count": 34,
     "metadata": {},
     "output_type": "execute_result"
    }
   ],
   "source": [
    "data.stop_outcome.str.contains('No').value_counts()\n",
    "# here i fatched those records in which contains \"-----No-----\""
   ]
  },
  {
   "cell_type": "code",
   "execution_count": 38,
   "id": "1510402c",
   "metadata": {},
   "outputs": [
    {
     "data": {
      "text/plain": [
       "339"
      ]
     },
     "execution_count": 38,
     "metadata": {},
     "output_type": "execute_result"
    }
   ],
   "source": [
    "data.stop_outcome.value_counts()[-2]"
   ]
  },
  {
   "cell_type": "markdown",
   "id": "5fdea89b",
   "metadata": {},
   "source": [
    "## 2nd method"
   ]
  },
  {
   "cell_type": "code",
   "execution_count": 42,
   "id": "03423fe6",
   "metadata": {},
   "outputs": [
    {
     "data": {
      "text/html": [
       "<div>\n",
       "<style scoped>\n",
       "    .dataframe tbody tr th:only-of-type {\n",
       "        vertical-align: middle;\n",
       "    }\n",
       "\n",
       "    .dataframe tbody tr th {\n",
       "        vertical-align: top;\n",
       "    }\n",
       "\n",
       "    .dataframe thead th {\n",
       "        text-align: right;\n",
       "    }\n",
       "</style>\n",
       "<table border=\"1\" class=\"dataframe\">\n",
       "  <thead>\n",
       "    <tr style=\"text-align: right;\">\n",
       "      <th></th>\n",
       "      <th>stop_outcome</th>\n",
       "    </tr>\n",
       "  </thead>\n",
       "  <tbody>\n",
       "    <tr>\n",
       "      <th>331</th>\n",
       "      <td>No Action</td>\n",
       "    </tr>\n",
       "    <tr>\n",
       "      <th>691</th>\n",
       "      <td>No Action</td>\n",
       "    </tr>\n",
       "    <tr>\n",
       "      <th>705</th>\n",
       "      <td>No Action</td>\n",
       "    </tr>\n",
       "    <tr>\n",
       "      <th>706</th>\n",
       "      <td>No Action</td>\n",
       "    </tr>\n",
       "    <tr>\n",
       "      <th>1760</th>\n",
       "      <td>No Action</td>\n",
       "    </tr>\n",
       "    <tr>\n",
       "      <th>...</th>\n",
       "      <td>...</td>\n",
       "    </tr>\n",
       "    <tr>\n",
       "      <th>64974</th>\n",
       "      <td>No Action</td>\n",
       "    </tr>\n",
       "    <tr>\n",
       "      <th>65361</th>\n",
       "      <td>No Action</td>\n",
       "    </tr>\n",
       "    <tr>\n",
       "      <th>65373</th>\n",
       "      <td>No Action</td>\n",
       "    </tr>\n",
       "    <tr>\n",
       "      <th>65423</th>\n",
       "      <td>No Action</td>\n",
       "    </tr>\n",
       "    <tr>\n",
       "      <th>65487</th>\n",
       "      <td>No Action</td>\n",
       "    </tr>\n",
       "  </tbody>\n",
       "</table>\n",
       "<p>339 rows × 1 columns</p>\n",
       "</div>"
      ],
      "text/plain": [
       "      stop_outcome\n",
       "331      No Action\n",
       "691      No Action\n",
       "705      No Action\n",
       "706      No Action\n",
       "1760     No Action\n",
       "...            ...\n",
       "64974    No Action\n",
       "65361    No Action\n",
       "65373    No Action\n",
       "65423    No Action\n",
       "65487    No Action\n",
       "\n",
       "[339 rows x 1 columns]"
      ]
     },
     "execution_count": 42,
     "metadata": {},
     "output_type": "execute_result"
    }
   ],
   "source": [
    "# here na=False have to define it necessary because boolean broadcastin\n",
    "filt=data['stop_outcome'].str.contains(\"No\",na=False)\n",
    "data.loc[filt,['stop_outcome']]    # u can use here multiple columns in a list"
   ]
  },
  {
   "cell_type": "code",
   "execution_count": 47,
   "id": "cafbe28a",
   "metadata": {},
   "outputs": [
    {
     "data": {
      "text/html": [
       "<div>\n",
       "<style scoped>\n",
       "    .dataframe tbody tr th:only-of-type {\n",
       "        vertical-align: middle;\n",
       "    }\n",
       "\n",
       "    .dataframe tbody tr th {\n",
       "        vertical-align: top;\n",
       "    }\n",
       "\n",
       "    .dataframe thead th {\n",
       "        text-align: right;\n",
       "    }\n",
       "</style>\n",
       "<table border=\"1\" class=\"dataframe\">\n",
       "  <thead>\n",
       "    <tr style=\"text-align: right;\">\n",
       "      <th></th>\n",
       "      <th>stop_date</th>\n",
       "      <th>stop_time</th>\n",
       "      <th>country_name</th>\n",
       "      <th>driver_gender</th>\n",
       "      <th>driver_age_raw</th>\n",
       "      <th>driver_age</th>\n",
       "      <th>driver_race</th>\n",
       "      <th>violation_raw</th>\n",
       "      <th>violation</th>\n",
       "      <th>search_conducted</th>\n",
       "      <th>search_type</th>\n",
       "      <th>stop_outcome</th>\n",
       "      <th>is_arrested</th>\n",
       "      <th>stop_duration</th>\n",
       "      <th>drugs_related_stop</th>\n",
       "    </tr>\n",
       "  </thead>\n",
       "  <tbody>\n",
       "    <tr>\n",
       "      <th>65423</th>\n",
       "      <td>2012-12-01</td>\n",
       "      <td>23:38</td>\n",
       "      <td>NaN</td>\n",
       "      <td>M</td>\n",
       "      <td>1973.0</td>\n",
       "      <td>39.0</td>\n",
       "      <td>Black</td>\n",
       "      <td>Motorist Assist/Courtesy</td>\n",
       "      <td>Other</td>\n",
       "      <td>False</td>\n",
       "      <td>NaN</td>\n",
       "      <td>No Action</td>\n",
       "      <td>False</td>\n",
       "      <td>0-15 Min</td>\n",
       "      <td>False</td>\n",
       "    </tr>\n",
       "    <tr>\n",
       "      <th>65487</th>\n",
       "      <td>2012-12-05</td>\n",
       "      <td>6:23</td>\n",
       "      <td>NaN</td>\n",
       "      <td>M</td>\n",
       "      <td>1969.0</td>\n",
       "      <td>43.0</td>\n",
       "      <td>White</td>\n",
       "      <td>Other Traffic Violation</td>\n",
       "      <td>Moving violation</td>\n",
       "      <td>False</td>\n",
       "      <td>NaN</td>\n",
       "      <td>No Action</td>\n",
       "      <td>False</td>\n",
       "      <td>0-15 Min</td>\n",
       "      <td>False</td>\n",
       "    </tr>\n",
       "  </tbody>\n",
       "</table>\n",
       "</div>"
      ],
      "text/plain": [
       "       stop_date stop_time  country_name driver_gender  driver_age_raw  \\\n",
       "65423 2012-12-01     23:38           NaN             M          1973.0   \n",
       "65487 2012-12-05      6:23           NaN             M          1969.0   \n",
       "\n",
       "       driver_age driver_race             violation_raw         violation  \\\n",
       "65423        39.0       Black  Motorist Assist/Courtesy             Other   \n",
       "65487        43.0       White   Other Traffic Violation  Moving violation   \n",
       "\n",
       "       search_conducted search_type stop_outcome is_arrested stop_duration  \\\n",
       "65423             False         NaN    No Action       False      0-15 Min   \n",
       "65487             False         NaN    No Action       False      0-15 Min   \n",
       "\n",
       "       drugs_related_stop  \n",
       "65423               False  \n",
       "65487               False  "
      ]
     },
     "execution_count": 47,
     "metadata": {},
     "output_type": "execute_result"
    }
   ],
   "source": [
    "data[filt].tail(2)"
   ]
  },
  {
   "cell_type": "code",
   "execution_count": 116,
   "id": "ba4a80e9",
   "metadata": {},
   "outputs": [
    {
     "data": {
      "text/plain": [
       "5.5"
      ]
     },
     "execution_count": 116,
     "metadata": {},
     "output_type": "execute_result"
    }
   ],
   "source": [
    "pd.Series(list(range(1,11))).mean()"
   ]
  },
  {
   "cell_type": "code",
   "execution_count": 118,
   "id": "c0c3bc92",
   "metadata": {},
   "outputs": [
    {
     "data": {
      "text/plain": [
       "3.0"
      ]
     },
     "execution_count": 118,
     "metadata": {},
     "output_type": "execute_result"
    }
   ],
   "source": [
    "pd.Series(list(range(1,6))).median()"
   ]
  },
  {
   "cell_type": "code",
   "execution_count": 119,
   "id": "12e07b2e",
   "metadata": {},
   "outputs": [
    {
     "data": {
      "text/plain": [
       "0     1\n",
       "1     2\n",
       "2     3\n",
       "3     4\n",
       "4     5\n",
       "5     6\n",
       "6     7\n",
       "7     8\n",
       "8     9\n",
       "9    10\n",
       "dtype: int64"
      ]
     },
     "execution_count": 119,
     "metadata": {},
     "output_type": "execute_result"
    }
   ],
   "source": [
    "pd.Series(list(range(1,11))).mode()"
   ]
  },
  {
   "cell_type": "code",
   "execution_count": 48,
   "id": "e83e459d",
   "metadata": {},
   "outputs": [
    {
     "data": {
      "text/plain": [
       "31.0"
      ]
     },
     "execution_count": 48,
     "metadata": {},
     "output_type": "execute_result"
    }
   ],
   "source": [
    "data.driver_age.median()"
   ]
  },
  {
   "cell_type": "code",
   "execution_count": 51,
   "id": "8c6ea5ac",
   "metadata": {},
   "outputs": [
    {
     "data": {
      "text/plain": [
       "34.14898412491017"
      ]
     },
     "execution_count": 51,
     "metadata": {},
     "output_type": "execute_result"
    }
   ],
   "source": [
    "data.driver_age.mean()"
   ]
  },
  {
   "cell_type": "code",
   "execution_count": 56,
   "id": "b112d58a",
   "metadata": {},
   "outputs": [
    {
     "name": "stderr",
     "output_type": "stream",
     "text": [
      "<ipython-input-56-135339ac59ce>:1: FutureWarning: DataFrame.mean and DataFrame.median with numeric_only=None will include datetime64 and datetime64tz columns in a future version.\n",
      "  data.median()\n"
     ]
    },
    {
     "data": {
      "text/plain": [
       "country_name             NaN\n",
       "driver_age_raw        1978.0\n",
       "driver_age              31.0\n",
       "search_conducted         0.0\n",
       "is_arrested              0.0\n",
       "drugs_related_stop       0.0\n",
       "dtype: float64"
      ]
     },
     "execution_count": 56,
     "metadata": {},
     "output_type": "execute_result"
    }
   ],
   "source": [
    "data.median()\n",
    "# median apply on the DataFrame"
   ]
  },
  {
   "cell_type": "code",
   "execution_count": 57,
   "id": "a764ba85",
   "metadata": {},
   "outputs": [
    {
     "name": "stderr",
     "output_type": "stream",
     "text": [
      "<ipython-input-57-abc01cf6c622>:1: FutureWarning: DataFrame.mean and DataFrame.median with numeric_only=None will include datetime64 and datetime64tz columns in a future version.\n",
      "  data.mean()\n"
     ]
    },
    {
     "data": {
      "text/plain": [
       "country_name                  NaN\n",
       "driver_age_raw        1967.791106\n",
       "driver_age              34.148984\n",
       "search_conducted         0.037827\n",
       "is_arrested              0.036763\n",
       "drugs_related_stop       0.007904\n",
       "dtype: float64"
      ]
     },
     "execution_count": 57,
     "metadata": {},
     "output_type": "execute_result"
    }
   ],
   "source": [
    "data.mean()\n",
    "# mean apply on the DataFrame"
   ]
  },
  {
   "cell_type": "code",
   "execution_count": 124,
   "id": "ce229544",
   "metadata": {},
   "outputs": [
    {
     "data": {
      "text/plain": [
       "stop_date                   65535\n",
       "stop_time                   65535\n",
       "country_name                    0\n",
       "driver_gender               61474\n",
       "driver_age_raw              65535\n",
       "driver_age                  61228\n",
       "driver_race                 61475\n",
       "violation_raw               61475\n",
       "violation                   61475\n",
       "search_conducted            65535\n",
       "search_type                  2479\n",
       "stop_outcome                61475\n",
       "is_arrested                 61475\n",
       "stop_duration               61475\n",
       "drugs_related_stop          65535\n",
       "reduce_stop_durationtime    61475\n",
       "new_column                  61228\n",
       "dtype: int64"
      ]
     },
     "execution_count": 124,
     "metadata": {},
     "output_type": "execute_result"
    }
   ],
   "source": [
    "data.count()"
   ]
  },
  {
   "cell_type": "markdown",
   "id": "1de94854",
   "metadata": {},
   "source": [
    "## we can see here why driver gender are displaying least value"
   ]
  },
  {
   "cell_type": "code",
   "execution_count": 63,
   "id": "645a0765",
   "metadata": {},
   "outputs": [
    {
     "data": {
      "text/plain": [
       "stop_date                 0\n",
       "stop_time                 0\n",
       "country_name          65535\n",
       "driver_gender          4061\n",
       "driver_age_raw         4054\n",
       "                      ...  \n",
       "search_type           63056\n",
       "stop_outcome           4060\n",
       "is_arrested            4060\n",
       "stop_duration          4060\n",
       "drugs_related_stop        0\n",
       "Length: 15, dtype: int64"
      ]
     },
     "execution_count": 63,
     "metadata": {},
     "output_type": "execute_result"
    }
   ],
   "source": [
    "data.isnull().sum()"
   ]
  },
  {
   "cell_type": "code",
   "execution_count": 64,
   "id": "753bf331",
   "metadata": {},
   "outputs": [
    {
     "data": {
      "text/plain": [
       "stop_date             793 days 04:52:40.864863560\n",
       "country_name                                  NaN\n",
       "driver_age_raw                         121.050106\n",
       "driver_age                               12.76071\n",
       "search_conducted                         0.190779\n",
       "is_arrested                              0.188181\n",
       "drugs_related_stop                       0.088554\n",
       "dtype: object"
      ]
     },
     "execution_count": 64,
     "metadata": {},
     "output_type": "execute_result"
    }
   ],
   "source": [
    "data.std()"
   ]
  },
  {
   "cell_type": "code",
   "execution_count": 65,
   "id": "6f240012",
   "metadata": {},
   "outputs": [
    {
     "data": {
      "text/plain": [
       "12.760710228138768"
      ]
     },
     "execution_count": 65,
     "metadata": {},
     "output_type": "execute_result"
    }
   ],
   "source": [
    "data['driver_age'].std()"
   ]
  },
  {
   "cell_type": "code",
   "execution_count": 140,
   "id": "d179e369",
   "metadata": {},
   "outputs": [
    {
     "name": "stdout",
     "output_type": "stream",
     "text": [
      "sum 37\n",
      "count-  8\n",
      "mean 4.625\n",
      "median 5.0\n",
      "std 1.9226098333849673\n",
      "for std- 2.3125\n",
      "var_  3.6964285714285716\n",
      "unique [2 5 8 6 3]\n",
      "no_unique 5\n",
      "dimension 1 \n",
      "\n",
      "size 8\n"
     ]
    }
   ],
   "source": [
    "t=[2,5,8,5,6,3,3,5]\n",
    "p=pd.Series(t)\n",
    "print('sum',p.sum())\n",
    "print('count- ',p.count())\n",
    "print('mean',p.mean())\n",
    "print('median',p.median())\n",
    "print('std',p.std())\n",
    "print('for std-',p.mean()/2)\n",
    "print('var_ ', p.var())\n",
    "print('unique',p.unique())\n",
    "print('no_unique',p.nunique())\n",
    "print('dimension',p.ndim,'\\n')\n",
    "print('size',p.size)\n"
   ]
  },
  {
   "cell_type": "code",
   "execution_count": 66,
   "id": "2fb72295",
   "metadata": {},
   "outputs": [
    {
     "data": {
      "text/plain": [
       "162.83572552652538"
      ]
     },
     "execution_count": 66,
     "metadata": {},
     "output_type": "execute_result"
    }
   ],
   "source": [
    "data['driver_age'].var()"
   ]
  },
  {
   "cell_type": "code",
   "execution_count": 125,
   "id": "cdf9aa05",
   "metadata": {},
   "outputs": [
    {
     "data": {
      "text/html": [
       "<div>\n",
       "<style scoped>\n",
       "    .dataframe tbody tr th:only-of-type {\n",
       "        vertical-align: middle;\n",
       "    }\n",
       "\n",
       "    .dataframe tbody tr th {\n",
       "        vertical-align: top;\n",
       "    }\n",
       "\n",
       "    .dataframe thead th {\n",
       "        text-align: right;\n",
       "    }\n",
       "</style>\n",
       "<table border=\"1\" class=\"dataframe\">\n",
       "  <thead>\n",
       "    <tr style=\"text-align: right;\">\n",
       "      <th></th>\n",
       "      <th>country_name</th>\n",
       "      <th>driver_age</th>\n",
       "      <th>new_column</th>\n",
       "    </tr>\n",
       "  </thead>\n",
       "  <tbody>\n",
       "    <tr>\n",
       "      <th>count</th>\n",
       "      <td>0.0</td>\n",
       "      <td>61228.000000</td>\n",
       "      <td>61228.000000</td>\n",
       "    </tr>\n",
       "    <tr>\n",
       "      <th>mean</th>\n",
       "      <td>NaN</td>\n",
       "      <td>34.148984</td>\n",
       "      <td>34.148984</td>\n",
       "    </tr>\n",
       "    <tr>\n",
       "      <th>std</th>\n",
       "      <td>NaN</td>\n",
       "      <td>12.760710</td>\n",
       "      <td>12.760710</td>\n",
       "    </tr>\n",
       "    <tr>\n",
       "      <th>min</th>\n",
       "      <td>NaN</td>\n",
       "      <td>15.000000</td>\n",
       "      <td>15.000000</td>\n",
       "    </tr>\n",
       "    <tr>\n",
       "      <th>25%</th>\n",
       "      <td>NaN</td>\n",
       "      <td>23.000000</td>\n",
       "      <td>23.000000</td>\n",
       "    </tr>\n",
       "    <tr>\n",
       "      <th>50%</th>\n",
       "      <td>NaN</td>\n",
       "      <td>31.000000</td>\n",
       "      <td>31.000000</td>\n",
       "    </tr>\n",
       "    <tr>\n",
       "      <th>75%</th>\n",
       "      <td>NaN</td>\n",
       "      <td>43.000000</td>\n",
       "      <td>43.000000</td>\n",
       "    </tr>\n",
       "    <tr>\n",
       "      <th>max</th>\n",
       "      <td>NaN</td>\n",
       "      <td>88.000000</td>\n",
       "      <td>88.000000</td>\n",
       "    </tr>\n",
       "  </tbody>\n",
       "</table>\n",
       "</div>"
      ],
      "text/plain": [
       "       country_name    driver_age    new_column\n",
       "count           0.0  61228.000000  61228.000000\n",
       "mean            NaN     34.148984     34.148984\n",
       "std             NaN     12.760710     12.760710\n",
       "min             NaN     15.000000     15.000000\n",
       "25%             NaN     23.000000     23.000000\n",
       "50%             NaN     31.000000     31.000000\n",
       "75%             NaN     43.000000     43.000000\n",
       "max             NaN     88.000000     88.000000"
      ]
     },
     "execution_count": 125,
     "metadata": {},
     "output_type": "execute_result"
    }
   ],
   "source": [
    "data.describe()"
   ]
  },
  {
   "cell_type": "code",
   "execution_count": 129,
   "id": "3f5f4d74",
   "metadata": {},
   "outputs": [
    {
     "data": {
      "text/html": [
       "<div>\n",
       "<style scoped>\n",
       "    .dataframe tbody tr th:only-of-type {\n",
       "        vertical-align: middle;\n",
       "    }\n",
       "\n",
       "    .dataframe tbody tr th {\n",
       "        vertical-align: top;\n",
       "    }\n",
       "\n",
       "    .dataframe thead th {\n",
       "        text-align: right;\n",
       "    }\n",
       "</style>\n",
       "<table border=\"1\" class=\"dataframe\">\n",
       "  <thead>\n",
       "    <tr style=\"text-align: right;\">\n",
       "      <th></th>\n",
       "      <th>stop_time</th>\n",
       "      <th>driver_gender</th>\n",
       "      <th>driver_age_raw</th>\n",
       "      <th>driver_race</th>\n",
       "      <th>violation_raw</th>\n",
       "      <th>violation</th>\n",
       "      <th>search_type</th>\n",
       "      <th>stop_outcome</th>\n",
       "      <th>is_arrested</th>\n",
       "      <th>stop_duration</th>\n",
       "      <th>reduce_stop_durationtime</th>\n",
       "    </tr>\n",
       "  </thead>\n",
       "  <tbody>\n",
       "    <tr>\n",
       "      <th>count</th>\n",
       "      <td>65535</td>\n",
       "      <td>61474</td>\n",
       "      <td>65535</td>\n",
       "      <td>61475</td>\n",
       "      <td>61475</td>\n",
       "      <td>61475</td>\n",
       "      <td>2479</td>\n",
       "      <td>61475</td>\n",
       "      <td>61475</td>\n",
       "      <td>61475</td>\n",
       "      <td>61475</td>\n",
       "    </tr>\n",
       "    <tr>\n",
       "      <th>unique</th>\n",
       "      <td>1432</td>\n",
       "      <td>2</td>\n",
       "      <td>94</td>\n",
       "      <td>5</td>\n",
       "      <td>12</td>\n",
       "      <td>6</td>\n",
       "      <td>23</td>\n",
       "      <td>6</td>\n",
       "      <td>2</td>\n",
       "      <td>4</td>\n",
       "      <td>3</td>\n",
       "    </tr>\n",
       "    <tr>\n",
       "      <th>top</th>\n",
       "      <td>11:00</td>\n",
       "      <td>M</td>\n",
       "      <td>nan</td>\n",
       "      <td>White</td>\n",
       "      <td>Speeding</td>\n",
       "      <td>Speeding</td>\n",
       "      <td>Incident to Arrest</td>\n",
       "      <td>Citation</td>\n",
       "      <td>False</td>\n",
       "      <td>0 15 Min</td>\n",
       "      <td>[0 15]</td>\n",
       "    </tr>\n",
       "    <tr>\n",
       "      <th>freq</th>\n",
       "      <td>280</td>\n",
       "      <td>45164</td>\n",
       "      <td>4054</td>\n",
       "      <td>45747</td>\n",
       "      <td>37204</td>\n",
       "      <td>37204</td>\n",
       "      <td>1074</td>\n",
       "      <td>56564</td>\n",
       "      <td>59215</td>\n",
       "      <td>47379</td>\n",
       "      <td>47379</td>\n",
       "    </tr>\n",
       "  </tbody>\n",
       "</table>\n",
       "</div>"
      ],
      "text/plain": [
       "       stop_time driver_gender driver_age_raw driver_race violation_raw  \\\n",
       "count      65535         61474          65535       61475         61475   \n",
       "unique      1432             2             94           5            12   \n",
       "top        11:00             M            nan       White      Speeding   \n",
       "freq         280         45164           4054       45747         37204   \n",
       "\n",
       "       violation         search_type stop_outcome is_arrested stop_duration  \\\n",
       "count      61475                2479        61475       61475         61475   \n",
       "unique         6                  23            6           2             4   \n",
       "top     Speeding  Incident to Arrest     Citation       False      0 15 Min   \n",
       "freq       37204                1074        56564       59215         47379   \n",
       "\n",
       "       reduce_stop_durationtime  \n",
       "count                     61475  \n",
       "unique                        3  \n",
       "top                      [0 15]  \n",
       "freq                      47379  "
      ]
     },
     "execution_count": 129,
     "metadata": {},
     "output_type": "execute_result"
    }
   ],
   "source": [
    "data.select_dtypes(include='O').describe()\n",
    "\n",
    "# there is count and unique are important thats it"
   ]
  },
  {
   "cell_type": "markdown",
   "id": "d11026e5",
   "metadata": {},
   "source": [
    "## set_option is used for that how many row and columns will be display default "
   ]
  },
  {
   "cell_type": "code",
   "execution_count": 141,
   "id": "430d1ce2",
   "metadata": {},
   "outputs": [],
   "source": [
    "pd.set_option('display.max_columns',15)\n",
    "pd.set_option('display.max_rows',10)"
   ]
  },
  {
   "cell_type": "code",
   "execution_count": 35,
   "id": "79fcdbf4",
   "metadata": {},
   "outputs": [
    {
     "data": {
      "text/plain": [
       "drugs_related_stop    1\n",
       "violation             1\n",
       "stop_duration         1\n",
       "stop_time             1\n",
       "driver_race           1\n",
       "stop_outcome          1\n",
       "driver_age            1\n",
       "is_arrested           1\n",
       "country_name          1\n",
       "stop_date             1\n",
       "driver_age_raw        1\n",
       "search_type           1\n",
       "driver_gender         1\n",
       "search_conducted      1\n",
       "violation_raw         1\n",
       "dtype: int64"
      ]
     },
     "execution_count": 35,
     "metadata": {},
     "output_type": "execute_result"
    }
   ],
   "source": [
    "data.columns.value_counts()"
   ]
  },
  {
   "cell_type": "code",
   "execution_count": 143,
   "id": "ff662f42",
   "metadata": {},
   "outputs": [],
   "source": [
    "filt=(data['drugs_related_stop']==True)&(data['is_arrested']==True)"
   ]
  },
  {
   "cell_type": "code",
   "execution_count": 146,
   "id": "8d84e258",
   "metadata": {},
   "outputs": [
    {
     "data": {
      "text/html": [
       "<div>\n",
       "<style scoped>\n",
       "    .dataframe tbody tr th:only-of-type {\n",
       "        vertical-align: middle;\n",
       "    }\n",
       "\n",
       "    .dataframe tbody tr th {\n",
       "        vertical-align: top;\n",
       "    }\n",
       "\n",
       "    .dataframe thead th {\n",
       "        text-align: right;\n",
       "    }\n",
       "</style>\n",
       "<table border=\"1\" class=\"dataframe\">\n",
       "  <thead>\n",
       "    <tr style=\"text-align: right;\">\n",
       "      <th></th>\n",
       "      <th>stop_date</th>\n",
       "      <th>stop_time</th>\n",
       "      <th>country_name</th>\n",
       "      <th>driver_gender</th>\n",
       "      <th>driver_age_raw</th>\n",
       "      <th>driver_age</th>\n",
       "      <th>driver_race</th>\n",
       "      <th>...</th>\n",
       "      <th>search_type</th>\n",
       "      <th>stop_outcome</th>\n",
       "      <th>is_arrested</th>\n",
       "      <th>stop_duration</th>\n",
       "      <th>drugs_related_stop</th>\n",
       "      <th>reduce_stop_durationtime</th>\n",
       "      <th>new_column</th>\n",
       "    </tr>\n",
       "  </thead>\n",
       "  <tbody>\n",
       "    <tr>\n",
       "      <th>40</th>\n",
       "      <td>2005-10-01</td>\n",
       "      <td>0:00</td>\n",
       "      <td>NaN</td>\n",
       "      <td>M</td>\n",
       "      <td>1988.0</td>\n",
       "      <td>17.0</td>\n",
       "      <td>White</td>\n",
       "      <td>...</td>\n",
       "      <td>Probable Cause</td>\n",
       "      <td>Arrest Driver</td>\n",
       "      <td>True</td>\n",
       "      <td>16 30 Min</td>\n",
       "      <td>True</td>\n",
       "      <td>[16 30]</td>\n",
       "      <td>17.0</td>\n",
       "    </tr>\n",
       "    <tr>\n",
       "      <th>118</th>\n",
       "      <td>2005-10-04</td>\n",
       "      <td>1:20</td>\n",
       "      <td>NaN</td>\n",
       "      <td>M</td>\n",
       "      <td>1956.0</td>\n",
       "      <td>49.0</td>\n",
       "      <td>White</td>\n",
       "      <td>...</td>\n",
       "      <td>Incident to Arrest</td>\n",
       "      <td>Arrest Driver</td>\n",
       "      <td>True</td>\n",
       "      <td>30+ Min</td>\n",
       "      <td>True</td>\n",
       "      <td>[]</td>\n",
       "      <td>49.0</td>\n",
       "    </tr>\n",
       "  </tbody>\n",
       "</table>\n",
       "<p>2 rows × 17 columns</p>\n",
       "</div>"
      ],
      "text/plain": [
       "     stop_date stop_time  country_name driver_gender driver_age_raw  \\\n",
       "40  2005-10-01      0:00           NaN             M         1988.0   \n",
       "118 2005-10-04      1:20           NaN             M         1956.0   \n",
       "\n",
       "     driver_age driver_race  ...         search_type   stop_outcome  \\\n",
       "40         17.0       White  ...      Probable Cause  Arrest Driver   \n",
       "118        49.0       White  ...  Incident to Arrest  Arrest Driver   \n",
       "\n",
       "     is_arrested stop_duration drugs_related_stop reduce_stop_durationtime  \\\n",
       "40          True     16 30 Min               True                  [16 30]   \n",
       "118         True       30+ Min               True                       []   \n",
       "\n",
       "    new_column  \n",
       "40        17.0  \n",
       "118       49.0  \n",
       "\n",
       "[2 rows x 17 columns]"
      ]
     },
     "execution_count": 146,
     "metadata": {},
     "output_type": "execute_result"
    }
   ],
   "source": [
    "data[filt].head(2)"
   ]
  },
  {
   "cell_type": "code",
   "execution_count": 147,
   "id": "96386e35",
   "metadata": {},
   "outputs": [
    {
     "data": {
      "text/html": [
       "<div>\n",
       "<style scoped>\n",
       "    .dataframe tbody tr th:only-of-type {\n",
       "        vertical-align: middle;\n",
       "    }\n",
       "\n",
       "    .dataframe tbody tr th {\n",
       "        vertical-align: top;\n",
       "    }\n",
       "\n",
       "    .dataframe thead th {\n",
       "        text-align: right;\n",
       "    }\n",
       "</style>\n",
       "<table border=\"1\" class=\"dataframe\">\n",
       "  <thead>\n",
       "    <tr style=\"text-align: right;\">\n",
       "      <th></th>\n",
       "      <th>stop_date</th>\n",
       "      <th>stop_time</th>\n",
       "      <th>country_name</th>\n",
       "      <th>driver_gender</th>\n",
       "      <th>driver_age_raw</th>\n",
       "      <th>driver_age</th>\n",
       "      <th>driver_race</th>\n",
       "      <th>...</th>\n",
       "      <th>search_type</th>\n",
       "      <th>stop_outcome</th>\n",
       "      <th>is_arrested</th>\n",
       "      <th>stop_duration</th>\n",
       "      <th>drugs_related_stop</th>\n",
       "      <th>reduce_stop_durationtime</th>\n",
       "      <th>new_column</th>\n",
       "    </tr>\n",
       "  </thead>\n",
       "  <tbody>\n",
       "    <tr>\n",
       "      <th>40</th>\n",
       "      <td>2005-10-01</td>\n",
       "      <td>0:00</td>\n",
       "      <td>NaN</td>\n",
       "      <td>M</td>\n",
       "      <td>1988.0</td>\n",
       "      <td>17.0</td>\n",
       "      <td>White</td>\n",
       "      <td>...</td>\n",
       "      <td>Probable Cause</td>\n",
       "      <td>Arrest Driver</td>\n",
       "      <td>True</td>\n",
       "      <td>16 30 Min</td>\n",
       "      <td>True</td>\n",
       "      <td>[16 30]</td>\n",
       "      <td>17.0</td>\n",
       "    </tr>\n",
       "    <tr>\n",
       "      <th>118</th>\n",
       "      <td>2005-10-04</td>\n",
       "      <td>1:20</td>\n",
       "      <td>NaN</td>\n",
       "      <td>M</td>\n",
       "      <td>1956.0</td>\n",
       "      <td>49.0</td>\n",
       "      <td>White</td>\n",
       "      <td>...</td>\n",
       "      <td>Incident to Arrest</td>\n",
       "      <td>Arrest Driver</td>\n",
       "      <td>True</td>\n",
       "      <td>30+ Min</td>\n",
       "      <td>True</td>\n",
       "      <td>[]</td>\n",
       "      <td>49.0</td>\n",
       "    </tr>\n",
       "    <tr>\n",
       "      <th>139</th>\n",
       "      <td>2005-10-05</td>\n",
       "      <td>0:20</td>\n",
       "      <td>NaN</td>\n",
       "      <td>M</td>\n",
       "      <td>1980.0</td>\n",
       "      <td>25.0</td>\n",
       "      <td>Black</td>\n",
       "      <td>...</td>\n",
       "      <td>Probable Cause,Reasonable Suspicion</td>\n",
       "      <td>Arrest Driver</td>\n",
       "      <td>True</td>\n",
       "      <td>16 30 Min</td>\n",
       "      <td>True</td>\n",
       "      <td>[16 30]</td>\n",
       "      <td>25.0</td>\n",
       "    </tr>\n",
       "    <tr>\n",
       "      <th>219</th>\n",
       "      <td>2005-10-07</td>\n",
       "      <td>23:30</td>\n",
       "      <td>NaN</td>\n",
       "      <td>M</td>\n",
       "      <td>1986.0</td>\n",
       "      <td>19.0</td>\n",
       "      <td>White</td>\n",
       "      <td>...</td>\n",
       "      <td>Probable Cause</td>\n",
       "      <td>Arrest Passenger</td>\n",
       "      <td>True</td>\n",
       "      <td>16 30 Min</td>\n",
       "      <td>True</td>\n",
       "      <td>[16 30]</td>\n",
       "      <td>19.0</td>\n",
       "    </tr>\n",
       "    <tr>\n",
       "      <th>246</th>\n",
       "      <td>2005-10-08</td>\n",
       "      <td>20:40</td>\n",
       "      <td>NaN</td>\n",
       "      <td>M</td>\n",
       "      <td>1987.0</td>\n",
       "      <td>18.0</td>\n",
       "      <td>White</td>\n",
       "      <td>...</td>\n",
       "      <td>Probable Cause</td>\n",
       "      <td>Arrest Passenger</td>\n",
       "      <td>True</td>\n",
       "      <td>16 30 Min</td>\n",
       "      <td>True</td>\n",
       "      <td>[16 30]</td>\n",
       "      <td>18.0</td>\n",
       "    </tr>\n",
       "  </tbody>\n",
       "</table>\n",
       "<p>5 rows × 17 columns</p>\n",
       "</div>"
      ],
      "text/plain": [
       "     stop_date stop_time  country_name driver_gender driver_age_raw  \\\n",
       "40  2005-10-01      0:00           NaN             M         1988.0   \n",
       "118 2005-10-04      1:20           NaN             M         1956.0   \n",
       "139 2005-10-05      0:20           NaN             M         1980.0   \n",
       "219 2005-10-07     23:30           NaN             M         1986.0   \n",
       "246 2005-10-08     20:40           NaN             M         1987.0   \n",
       "\n",
       "     driver_age driver_race  ...                          search_type  \\\n",
       "40         17.0       White  ...                       Probable Cause   \n",
       "118        49.0       White  ...                   Incident to Arrest   \n",
       "139        25.0       Black  ...  Probable Cause,Reasonable Suspicion   \n",
       "219        19.0       White  ...                       Probable Cause   \n",
       "246        18.0       White  ...                       Probable Cause   \n",
       "\n",
       "         stop_outcome  is_arrested stop_duration drugs_related_stop  \\\n",
       "40      Arrest Driver         True     16 30 Min               True   \n",
       "118     Arrest Driver         True       30+ Min               True   \n",
       "139     Arrest Driver         True     16 30 Min               True   \n",
       "219  Arrest Passenger         True     16 30 Min               True   \n",
       "246  Arrest Passenger         True     16 30 Min               True   \n",
       "\n",
       "    reduce_stop_durationtime new_column  \n",
       "40                   [16 30]       17.0  \n",
       "118                       []       49.0  \n",
       "139                  [16 30]       25.0  \n",
       "219                  [16 30]       19.0  \n",
       "246                  [16 30]       18.0  \n",
       "\n",
       "[5 rows x 17 columns]"
      ]
     },
     "execution_count": 147,
     "metadata": {},
     "output_type": "execute_result"
    }
   ],
   "source": [
    "data.loc[filt].head()"
   ]
  },
  {
   "cell_type": "code",
   "execution_count": 41,
   "id": "fbf7b32e",
   "metadata": {},
   "outputs": [
    {
     "data": {
      "text/plain": [
       "0        False\n",
       "1        False\n",
       "2        False\n",
       "3         True\n",
       "4        False\n",
       "         ...  \n",
       "65530    False\n",
       "65531    False\n",
       "65532    False\n",
       "65533      NaN\n",
       "65534    False\n",
       "Name: is_arrested, Length: 65535, dtype: object"
      ]
     },
     "execution_count": 41,
     "metadata": {},
     "output_type": "execute_result"
    }
   ],
   "source": [
    "data.is_arrested"
   ]
  },
  {
   "cell_type": "markdown",
   "id": "0e0dac34",
   "metadata": {},
   "source": [
    "## value counts in normalize it tells the percentage existence in records"
   ]
  },
  {
   "cell_type": "code",
   "execution_count": 6,
   "id": "5aea5169",
   "metadata": {},
   "outputs": [
    {
     "data": {
      "text/plain": [
       "False    65017\n",
       "True       518\n",
       "Name: drugs_related_stop, dtype: int64"
      ]
     },
     "execution_count": 6,
     "metadata": {},
     "output_type": "execute_result"
    }
   ],
   "source": [
    "data['drugs_related_stop'].value_counts()"
   ]
  },
  {
   "cell_type": "code",
   "execution_count": 10,
   "id": "8ccffbf8",
   "metadata": {},
   "outputs": [
    {
     "data": {
      "text/plain": [
       "True     0.007904\n",
       "False    0.992096\n",
       "Name: drugs_related_stop, dtype: float64"
      ]
     },
     "execution_count": 10,
     "metadata": {},
     "output_type": "execute_result"
    }
   ],
   "source": [
    "data['drugs_related_stop'].value_counts(normalize=True,ascending=True)\n",
    "#it tells the percentage records it means 99% false present"
   ]
  },
  {
   "cell_type": "code",
   "execution_count": 148,
   "id": "6ee229af",
   "metadata": {},
   "outputs": [
    {
     "data": {
      "text/plain": [
       "Speeding                            37204\n",
       "Other Traffic Violation             11926\n",
       "Equipment/Inspection Violation       6516\n",
       "Special Detail/Directed Patrol       2383\n",
       "Registration Violation               2243\n",
       "Call for Service                      793\n",
       "Violation of City/Town Ordinance      170\n",
       "Motorist Assist/Courtesy              138\n",
       "APB                                    51\n",
       "Suspicious Person                      38\n",
       "Warrant                                10\n",
       "Seatbelt Violation                      3\n",
       "Name: violation_raw, dtype: int64"
      ]
     },
     "execution_count": 148,
     "metadata": {},
     "output_type": "execute_result"
    }
   ],
   "source": [
    "data['violation_raw'].value_counts()"
   ]
  },
  {
   "cell_type": "code",
   "execution_count": 149,
   "id": "f251ff88",
   "metadata": {},
   "outputs": [
    {
     "data": {
      "text/plain": [
       "(37204, 17)"
      ]
     },
     "execution_count": 149,
     "metadata": {},
     "output_type": "execute_result"
    }
   ],
   "source": [
    "filt=data['violation_raw'].str.contains('ing',na=False)\n",
    "data[filt].shape\n",
    "\n",
    "\n",
    "# isin(['full'])\n",
    "#.str.contains('some_portion')"
   ]
  },
  {
   "cell_type": "code",
   "execution_count": 155,
   "id": "6fab5a54",
   "metadata": {},
   "outputs": [
    {
     "data": {
      "text/plain": [
       "0        Speeding\n",
       "1        Speeding\n",
       "2        Speeding\n",
       "4        Speeding\n",
       "6        Speeding\n",
       "           ...   \n",
       "65527    Speeding\n",
       "65529    Speeding\n",
       "65530    Speeding\n",
       "65531    Speeding\n",
       "65534    Speeding\n",
       "Name: violation_raw, Length: 37204, dtype: object"
      ]
     },
     "execution_count": 155,
     "metadata": {},
     "output_type": "execute_result"
    }
   ],
   "source": [
    "data[data['violation_raw'].str.contains('ing',na=False)]['violation_raw']"
   ]
  },
  {
   "cell_type": "code",
   "execution_count": 157,
   "id": "a605439e",
   "metadata": {},
   "outputs": [
    {
     "data": {
      "text/plain": [
       "(37204,)"
      ]
     },
     "execution_count": 157,
     "metadata": {},
     "output_type": "execute_result"
    }
   ],
   "source": [
    "data[data['violation_raw'].str.contains('ing',na=False)]['violation_raw'].shape"
   ]
  },
  {
   "cell_type": "code",
   "execution_count": 159,
   "id": "304fb780",
   "metadata": {},
   "outputs": [
    {
     "data": {
      "text/plain": [
       "Speeding                            37204\n",
       "Other Traffic Violation             11926\n",
       "Equipment/Inspection Violation       6516\n",
       "Special Detail/Directed Patrol       2383\n",
       "Registration Violation               2243\n",
       "Call for Service                      793\n",
       "Violation of City/Town Ordinance      170\n",
       "Motorist Assist/Courtesy              138\n",
       "APB                                    51\n",
       "Suspicious Person                      38\n",
       "Warrant                                10\n",
       "Seatbelt Violation                      3\n",
       "Name: violation_raw, dtype: int64"
      ]
     },
     "execution_count": 159,
     "metadata": {},
     "output_type": "execute_result"
    }
   ],
   "source": [
    "data['violation_raw'].value_counts()"
   ]
  },
  {
   "cell_type": "code",
   "execution_count": 162,
   "id": "17a83f17",
   "metadata": {},
   "outputs": [
    {
     "data": {
      "text/plain": [
       "0"
      ]
     },
     "execution_count": 162,
     "metadata": {},
     "output_type": "execute_result"
    }
   ],
   "source": [
    "fillte=['Warning']\n",
    "f=data['violation_raw'].isin(fillte)\n",
    "data[f].size"
   ]
  },
  {
   "cell_type": "code",
   "execution_count": 31,
   "id": "623f0f01",
   "metadata": {},
   "outputs": [
    {
     "data": {
      "text/plain": [
       "Citation            56564\n",
       "Arrest Driver        2009\n",
       "Warning              1889\n",
       "N/D                   423\n",
       "No Action             339\n",
       "Arrest Passenger      251\n",
       "Name: stop_outcome, dtype: int64"
      ]
     },
     "execution_count": 31,
     "metadata": {},
     "output_type": "execute_result"
    }
   ],
   "source": [
    "data['stop_outcome'].value_counts()"
   ]
  },
  {
   "cell_type": "markdown",
   "id": "a0e011d1",
   "metadata": {},
   "source": [
    "## groupby method tricks\n",
    "we can take a direct agg function on group<br>\n",
    "we can retrieve based on the group column<br>\n",
    "we can analyse the in grouped format but using by another columns<br>\n",
    "we can analse the data by other column and take a look of more than one or single category of grouped "
   ]
  },
  {
   "cell_type": "code",
   "execution_count": 2,
   "id": "8244ab49",
   "metadata": {},
   "outputs": [
    {
     "data": {
      "text/html": [
       "<div>\n",
       "<style scoped>\n",
       "    .dataframe tbody tr th:only-of-type {\n",
       "        vertical-align: middle;\n",
       "    }\n",
       "\n",
       "    .dataframe tbody tr th {\n",
       "        vertical-align: top;\n",
       "    }\n",
       "\n",
       "    .dataframe thead th {\n",
       "        text-align: right;\n",
       "    }\n",
       "</style>\n",
       "<table border=\"1\" class=\"dataframe\">\n",
       "  <thead>\n",
       "    <tr style=\"text-align: right;\">\n",
       "      <th></th>\n",
       "      <th>country</th>\n",
       "      <th>country_code</th>\n",
       "      <th>year_week</th>\n",
       "      <th>level</th>\n",
       "      <th>region</th>\n",
       "      <th>region_name</th>\n",
       "      <th>new_cases</th>\n",
       "      <th>tests_done</th>\n",
       "      <th>population</th>\n",
       "      <th>testing_rate</th>\n",
       "      <th>positivity_rate</th>\n",
       "      <th>testing_data_source</th>\n",
       "    </tr>\n",
       "  </thead>\n",
       "  <tbody>\n",
       "    <tr>\n",
       "      <th>0</th>\n",
       "      <td>Austria</td>\n",
       "      <td>AT</td>\n",
       "      <td>2020-W15</td>\n",
       "      <td>national</td>\n",
       "      <td>AT</td>\n",
       "      <td>Austria</td>\n",
       "      <td>1954.0</td>\n",
       "      <td>12339</td>\n",
       "      <td>8901064.0</td>\n",
       "      <td>138.623877</td>\n",
       "      <td>15.835967</td>\n",
       "      <td>Manual webscraping</td>\n",
       "    </tr>\n",
       "    <tr>\n",
       "      <th>1</th>\n",
       "      <td>Austria</td>\n",
       "      <td>AT</td>\n",
       "      <td>2020-W16</td>\n",
       "      <td>national</td>\n",
       "      <td>AT</td>\n",
       "      <td>Austria</td>\n",
       "      <td>773.0</td>\n",
       "      <td>58488</td>\n",
       "      <td>8901064.0</td>\n",
       "      <td>657.089984</td>\n",
       "      <td>1.321639</td>\n",
       "      <td>Manual webscraping</td>\n",
       "    </tr>\n",
       "    <tr>\n",
       "      <th>2</th>\n",
       "      <td>Austria</td>\n",
       "      <td>AT</td>\n",
       "      <td>2020-W17</td>\n",
       "      <td>national</td>\n",
       "      <td>AT</td>\n",
       "      <td>Austria</td>\n",
       "      <td>479.0</td>\n",
       "      <td>33443</td>\n",
       "      <td>8901064.0</td>\n",
       "      <td>375.719128</td>\n",
       "      <td>1.432288</td>\n",
       "      <td>Manual webscraping</td>\n",
       "    </tr>\n",
       "    <tr>\n",
       "      <th>3</th>\n",
       "      <td>Austria</td>\n",
       "      <td>AT</td>\n",
       "      <td>2020-W18</td>\n",
       "      <td>national</td>\n",
       "      <td>AT</td>\n",
       "      <td>Austria</td>\n",
       "      <td>349.0</td>\n",
       "      <td>26598</td>\n",
       "      <td>8901064.0</td>\n",
       "      <td>298.818209</td>\n",
       "      <td>1.312129</td>\n",
       "      <td>Country website</td>\n",
       "    </tr>\n",
       "    <tr>\n",
       "      <th>4</th>\n",
       "      <td>Austria</td>\n",
       "      <td>AT</td>\n",
       "      <td>2020-W19</td>\n",
       "      <td>national</td>\n",
       "      <td>AT</td>\n",
       "      <td>Austria</td>\n",
       "      <td>249.0</td>\n",
       "      <td>42153</td>\n",
       "      <td>8901064.0</td>\n",
       "      <td>473.572598</td>\n",
       "      <td>0.590705</td>\n",
       "      <td>Country website</td>\n",
       "    </tr>\n",
       "  </tbody>\n",
       "</table>\n",
       "</div>"
      ],
      "text/plain": [
       "   country country_code year_week     level region region_name  new_cases  \\\n",
       "0  Austria           AT  2020-W15  national     AT     Austria     1954.0   \n",
       "1  Austria           AT  2020-W16  national     AT     Austria      773.0   \n",
       "2  Austria           AT  2020-W17  national     AT     Austria      479.0   \n",
       "3  Austria           AT  2020-W18  national     AT     Austria      349.0   \n",
       "4  Austria           AT  2020-W19  national     AT     Austria      249.0   \n",
       "\n",
       "   tests_done  population  testing_rate  positivity_rate testing_data_source  \n",
       "0       12339   8901064.0    138.623877        15.835967  Manual webscraping  \n",
       "1       58488   8901064.0    657.089984         1.321639  Manual webscraping  \n",
       "2       33443   8901064.0    375.719128         1.432288  Manual webscraping  \n",
       "3       26598   8901064.0    298.818209         1.312129     Country website  \n",
       "4       42153   8901064.0    473.572598         0.590705     Country website  "
      ]
     },
     "execution_count": 2,
     "metadata": {},
     "output_type": "execute_result"
    }
   ],
   "source": [
    "data=pd.read_csv('data.csv')        #data. is name .csv is extension\n",
    "data.head()\n",
    "# i will  the group by function here but first we are analyse this data for his understanding"
   ]
  },
  {
   "cell_type": "code",
   "execution_count": 16,
   "id": "a1b1285e",
   "metadata": {},
   "outputs": [
    {
     "data": {
      "text/plain": [
       "Poland           1191\n",
       "Italy            1041\n",
       "Spain             883\n",
       "Norway            834\n",
       "France            669\n",
       "Austria           365\n",
       "Greece            296\n",
       "Denmark           279\n",
       "Croatia           213\n",
       "Portugal          207\n",
       "Belgium           164\n",
       "Lithuania         156\n",
       "Finland            83\n",
       "Czechia            79\n",
       "Ireland            78\n",
       "Slovakia           78\n",
       "Estonia            77\n",
       "Malta              77\n",
       "Latvia             77\n",
       "Slovenia           75\n",
       "Iceland            75\n",
       "Luxembourg         75\n",
       "Hungary            74\n",
       "Germany            74\n",
       "Romania            73\n",
       "Cyprus             73\n",
       "Netherlands        73\n",
       "Sweden             70\n",
       "Bulgaria           61\n",
       "Liechtenstein       2\n",
       "Name: country, dtype: int64"
      ]
     },
     "execution_count": 16,
     "metadata": {},
     "output_type": "execute_result"
    }
   ],
   "source": [
    "data['country'].value_counts()"
   ]
  },
  {
   "cell_type": "markdown",
   "id": "e7f3343d",
   "metadata": {},
   "source": [
    "## i will apply the groupby method on the country code by the coding skill"
   ]
  },
  {
   "cell_type": "code",
   "execution_count": 13,
   "id": "b78aa312",
   "metadata": {},
   "outputs": [
    {
     "data": {
      "text/plain": [
       "Poland                   74\n",
       "Ma?opolskie              70\n",
       "Podkarpackie             70\n",
       "?wi?tokrzyskie           70\n",
       "?�dzkie                  70\n",
       "Pomorskie                70\n",
       "Warmi?sko-mazurskie      70\n",
       "Kujawsko-pomorskie       70\n",
       "Opolskie                 70\n",
       "Dolno?l?skie             70\n",
       "Zachodniopomorskie       70\n",
       "Wielkopolskie            70\n",
       "?l?skie                  70\n",
       "Mazowiecki regionalny    70\n",
       "Lubuskie                 69\n",
       "Lubelskie                69\n",
       "Podlaskie                69\n",
       "Name: region_name, dtype: int64"
      ]
     },
     "execution_count": 13,
     "metadata": {},
     "output_type": "execute_result"
    }
   ],
   "source": [
    "filt=data[\"country\"]=='Poland'\n",
    "# data[filt]\n",
    "data.loc[filt,'region_name'].value_counts()\n",
    "#first we fatched the poland data and secon we fatch the region_name inside the poland country and then grouped"
   ]
  },
  {
   "cell_type": "code",
   "execution_count": 7,
   "id": "5feb6095",
   "metadata": {},
   "outputs": [
    {
     "data": {
      "text/html": [
       "<div>\n",
       "<style scoped>\n",
       "    .dataframe tbody tr th:only-of-type {\n",
       "        vertical-align: middle;\n",
       "    }\n",
       "\n",
       "    .dataframe tbody tr th {\n",
       "        vertical-align: top;\n",
       "    }\n",
       "\n",
       "    .dataframe thead th {\n",
       "        text-align: right;\n",
       "    }\n",
       "</style>\n",
       "<table border=\"1\" class=\"dataframe\">\n",
       "  <thead>\n",
       "    <tr style=\"text-align: right;\">\n",
       "      <th></th>\n",
       "      <th>country</th>\n",
       "      <th>country_code</th>\n",
       "      <th>year_week</th>\n",
       "      <th>level</th>\n",
       "      <th>region</th>\n",
       "      <th>region_name</th>\n",
       "      <th>new_cases</th>\n",
       "      <th>tests_done</th>\n",
       "      <th>population</th>\n",
       "      <th>testing_rate</th>\n",
       "      <th>positivity_rate</th>\n",
       "      <th>testing_data_source</th>\n",
       "    </tr>\n",
       "  </thead>\n",
       "  <tbody>\n",
       "    <tr>\n",
       "      <th>4995</th>\n",
       "      <td>Poland</td>\n",
       "      <td>PL</td>\n",
       "      <td>2020-W10</td>\n",
       "      <td>national</td>\n",
       "      <td>PL</td>\n",
       "      <td>Poland</td>\n",
       "      <td>11.0</td>\n",
       "      <td>603</td>\n",
       "      <td>37958138.0</td>\n",
       "      <td>1.588592</td>\n",
       "      <td>1.824212</td>\n",
       "      <td>TESSy</td>\n",
       "    </tr>\n",
       "    <tr>\n",
       "      <th>4996</th>\n",
       "      <td>Poland</td>\n",
       "      <td>PL</td>\n",
       "      <td>2020-W11</td>\n",
       "      <td>national</td>\n",
       "      <td>PL</td>\n",
       "      <td>Poland</td>\n",
       "      <td>114.0</td>\n",
       "      <td>5835</td>\n",
       "      <td>37958138.0</td>\n",
       "      <td>15.372198</td>\n",
       "      <td>1.953728</td>\n",
       "      <td>TESSy</td>\n",
       "    </tr>\n",
       "  </tbody>\n",
       "</table>\n",
       "</div>"
      ],
      "text/plain": [
       "     country country_code year_week     level region region_name  new_cases  \\\n",
       "4995  Poland           PL  2020-W10  national     PL      Poland       11.0   \n",
       "4996  Poland           PL  2020-W11  national     PL      Poland      114.0   \n",
       "\n",
       "      tests_done  population  testing_rate  positivity_rate  \\\n",
       "4995         603  37958138.0      1.588592         1.824212   \n",
       "4996        5835  37958138.0     15.372198         1.953728   \n",
       "\n",
       "     testing_data_source  \n",
       "4995               TESSy  \n",
       "4996               TESSy  "
      ]
     },
     "execution_count": 7,
     "metadata": {},
     "output_type": "execute_result"
    }
   ],
   "source": [
    "filt=data[\"country\"]=='Poland'\n",
    "data[filt].head(2)"
   ]
  },
  {
   "cell_type": "code",
   "execution_count": 15,
   "id": "58eab027",
   "metadata": {},
   "outputs": [
    {
     "data": {
      "text/plain": [
       "Poland                   74\n",
       "Ma?opolskie              70\n",
       "Podkarpackie             70\n",
       "?wi?tokrzyskie           70\n",
       "?�dzkie                  70\n",
       "Pomorskie                70\n",
       "Warmi?sko-mazurskie      70\n",
       "Kujawsko-pomorskie       70\n",
       "Opolskie                 70\n",
       "Dolno?l?skie             70\n",
       "Zachodniopomorskie       70\n",
       "Wielkopolskie            70\n",
       "?l?skie                  70\n",
       "Mazowiecki regionalny    70\n",
       "Lubuskie                 69\n",
       "Lubelskie                69\n",
       "Podlaskie                69\n",
       "Name: region_name, dtype: int64"
      ]
     },
     "execution_count": 15,
     "metadata": {},
     "output_type": "execute_result"
    }
   ],
   "source": [
    "data.loc[filt,'region_name'].value_counts()"
   ]
  },
  {
   "cell_type": "code",
   "execution_count": 17,
   "id": "edb504d5",
   "metadata": {},
   "outputs": [
    {
     "data": {
      "text/plain": [
       "Poland                   74\n",
       "Ma?opolskie              70\n",
       "Podkarpackie             70\n",
       "?wi?tokrzyskie           70\n",
       "?�dzkie                  70\n",
       "Pomorskie                70\n",
       "Warmi?sko-mazurskie      70\n",
       "Kujawsko-pomorskie       70\n",
       "Opolskie                 70\n",
       "Dolno?l?skie             70\n",
       "Zachodniopomorskie       70\n",
       "Wielkopolskie            70\n",
       "?l?skie                  70\n",
       "Mazowiecki regionalny    70\n",
       "Lubuskie                 69\n",
       "Lubelskie                69\n",
       "Podlaskie                69\n",
       "Name: region_name, dtype: int64"
      ]
     },
     "execution_count": 17,
     "metadata": {},
     "output_type": "execute_result"
    }
   ],
   "source": [
    "data[data['country']=='Poland']['region_name'].value_counts()"
   ]
  },
  {
   "cell_type": "code",
   "execution_count": 25,
   "id": "2e7cf2ff",
   "metadata": {},
   "outputs": [
    {
     "data": {
      "text/plain": [
       "1191"
      ]
     },
     "execution_count": 25,
     "metadata": {},
     "output_type": "execute_result"
    }
   ],
   "source": [
    "data[data['country']=='Poland']['region'].value_counts().values.sum()"
   ]
  },
  {
   "cell_type": "code",
   "execution_count": 12,
   "id": "070d1cfc",
   "metadata": {},
   "outputs": [
    {
     "data": {
      "text/plain": [
       "(7572, 12)"
      ]
     },
     "execution_count": 12,
     "metadata": {},
     "output_type": "execute_result"
    }
   ],
   "source": [
    "data.shape"
   ]
  },
  {
   "cell_type": "code",
   "execution_count": 39,
   "id": "a5ed2d9b",
   "metadata": {},
   "outputs": [
    {
     "data": {
      "text/plain": [
       "country\n",
       "Poland     1191\n",
       "Italy      1041\n",
       "Spain       883\n",
       "Norway      834\n",
       "France      669\n",
       "dtype: int64"
      ]
     },
     "execution_count": 39,
     "metadata": {},
     "output_type": "execute_result"
    }
   ],
   "source": [
    "data[['country']].value_counts().head()\n"
   ]
  },
  {
   "cell_type": "code",
   "execution_count": 18,
   "id": "299c1935",
   "metadata": {},
   "outputs": [
    {
     "data": {
      "text/html": [
       "<div>\n",
       "<style scoped>\n",
       "    .dataframe tbody tr th:only-of-type {\n",
       "        vertical-align: middle;\n",
       "    }\n",
       "\n",
       "    .dataframe tbody tr th {\n",
       "        vertical-align: top;\n",
       "    }\n",
       "\n",
       "    .dataframe thead th {\n",
       "        text-align: right;\n",
       "    }\n",
       "</style>\n",
       "<table border=\"1\" class=\"dataframe\">\n",
       "  <thead>\n",
       "    <tr style=\"text-align: right;\">\n",
       "      <th></th>\n",
       "      <th>country</th>\n",
       "      <th>country_code</th>\n",
       "      <th>year_week</th>\n",
       "      <th>level</th>\n",
       "      <th>region</th>\n",
       "      <th>region_name</th>\n",
       "      <th>new_cases</th>\n",
       "      <th>tests_done</th>\n",
       "      <th>population</th>\n",
       "      <th>testing_rate</th>\n",
       "      <th>positivity_rate</th>\n",
       "      <th>testing_data_source</th>\n",
       "    </tr>\n",
       "  </thead>\n",
       "  <tbody>\n",
       "    <tr>\n",
       "      <th>4995</th>\n",
       "      <td>Poland</td>\n",
       "      <td>PL</td>\n",
       "      <td>2020-W10</td>\n",
       "      <td>national</td>\n",
       "      <td>PL</td>\n",
       "      <td>Poland</td>\n",
       "      <td>11.0</td>\n",
       "      <td>603</td>\n",
       "      <td>37958138.0</td>\n",
       "      <td>1.588592</td>\n",
       "      <td>1.824212</td>\n",
       "      <td>TESSy</td>\n",
       "    </tr>\n",
       "    <tr>\n",
       "      <th>4996</th>\n",
       "      <td>Poland</td>\n",
       "      <td>PL</td>\n",
       "      <td>2020-W11</td>\n",
       "      <td>national</td>\n",
       "      <td>PL</td>\n",
       "      <td>Poland</td>\n",
       "      <td>114.0</td>\n",
       "      <td>5835</td>\n",
       "      <td>37958138.0</td>\n",
       "      <td>15.372198</td>\n",
       "      <td>1.953728</td>\n",
       "      <td>TESSy</td>\n",
       "    </tr>\n",
       "    <tr>\n",
       "      <th>4997</th>\n",
       "      <td>Poland</td>\n",
       "      <td>PL</td>\n",
       "      <td>2020-W12</td>\n",
       "      <td>national</td>\n",
       "      <td>PL</td>\n",
       "      <td>Poland</td>\n",
       "      <td>509.0</td>\n",
       "      <td>13328</td>\n",
       "      <td>37958138.0</td>\n",
       "      <td>35.112365</td>\n",
       "      <td>3.819028</td>\n",
       "      <td>TESSy</td>\n",
       "    </tr>\n",
       "    <tr>\n",
       "      <th>4998</th>\n",
       "      <td>Poland</td>\n",
       "      <td>PL</td>\n",
       "      <td>2020-W13</td>\n",
       "      <td>national</td>\n",
       "      <td>PL</td>\n",
       "      <td>Poland</td>\n",
       "      <td>1228.0</td>\n",
       "      <td>26137</td>\n",
       "      <td>37958138.0</td>\n",
       "      <td>68.857434</td>\n",
       "      <td>4.698320</td>\n",
       "      <td>TESSy</td>\n",
       "    </tr>\n",
       "    <tr>\n",
       "      <th>4999</th>\n",
       "      <td>Poland</td>\n",
       "      <td>PL</td>\n",
       "      <td>2020-W14</td>\n",
       "      <td>national</td>\n",
       "      <td>PL</td>\n",
       "      <td>Poland</td>\n",
       "      <td>2240.0</td>\n",
       "      <td>39315</td>\n",
       "      <td>37958138.0</td>\n",
       "      <td>103.574627</td>\n",
       "      <td>5.697571</td>\n",
       "      <td>TESSy</td>\n",
       "    </tr>\n",
       "  </tbody>\n",
       "</table>\n",
       "</div>"
      ],
      "text/plain": [
       "     country country_code year_week     level region region_name  new_cases  \\\n",
       "4995  Poland           PL  2020-W10  national     PL      Poland       11.0   \n",
       "4996  Poland           PL  2020-W11  national     PL      Poland      114.0   \n",
       "4997  Poland           PL  2020-W12  national     PL      Poland      509.0   \n",
       "4998  Poland           PL  2020-W13  national     PL      Poland     1228.0   \n",
       "4999  Poland           PL  2020-W14  national     PL      Poland     2240.0   \n",
       "\n",
       "      tests_done  population  testing_rate  positivity_rate  \\\n",
       "4995         603  37958138.0      1.588592         1.824212   \n",
       "4996        5835  37958138.0     15.372198         1.953728   \n",
       "4997       13328  37958138.0     35.112365         3.819028   \n",
       "4998       26137  37958138.0     68.857434         4.698320   \n",
       "4999       39315  37958138.0    103.574627         5.697571   \n",
       "\n",
       "     testing_data_source  \n",
       "4995               TESSy  \n",
       "4996               TESSy  \n",
       "4997               TESSy  \n",
       "4998               TESSy  \n",
       "4999               TESSy  "
      ]
     },
     "execution_count": 18,
     "metadata": {},
     "output_type": "execute_result"
    }
   ],
   "source": [
    "f=['Poland']\n",
    "filt=data['country'].isin(f)\n",
    "data[filt].head()"
   ]
  },
  {
   "cell_type": "code",
   "execution_count": 21,
   "id": "a42c1424",
   "metadata": {},
   "outputs": [
    {
     "data": {
      "text/html": [
       "<div>\n",
       "<style scoped>\n",
       "    .dataframe tbody tr th:only-of-type {\n",
       "        vertical-align: middle;\n",
       "    }\n",
       "\n",
       "    .dataframe tbody tr th {\n",
       "        vertical-align: top;\n",
       "    }\n",
       "\n",
       "    .dataframe thead th {\n",
       "        text-align: right;\n",
       "    }\n",
       "</style>\n",
       "<table border=\"1\" class=\"dataframe\">\n",
       "  <thead>\n",
       "    <tr style=\"text-align: right;\">\n",
       "      <th></th>\n",
       "      <th>country</th>\n",
       "      <th>country_code</th>\n",
       "      <th>year_week</th>\n",
       "      <th>level</th>\n",
       "      <th>region</th>\n",
       "      <th>region_name</th>\n",
       "      <th>new_cases</th>\n",
       "      <th>tests_done</th>\n",
       "      <th>population</th>\n",
       "      <th>testing_rate</th>\n",
       "      <th>positivity_rate</th>\n",
       "      <th>testing_data_source</th>\n",
       "    </tr>\n",
       "  </thead>\n",
       "  <tbody>\n",
       "    <tr>\n",
       "      <th>4995</th>\n",
       "      <td>Poland</td>\n",
       "      <td>PL</td>\n",
       "      <td>2020-W10</td>\n",
       "      <td>national</td>\n",
       "      <td>PL</td>\n",
       "      <td>Poland</td>\n",
       "      <td>11.0</td>\n",
       "      <td>603</td>\n",
       "      <td>37958138.0</td>\n",
       "      <td>1.588592</td>\n",
       "      <td>1.824212</td>\n",
       "      <td>TESSy</td>\n",
       "    </tr>\n",
       "    <tr>\n",
       "      <th>4996</th>\n",
       "      <td>Poland</td>\n",
       "      <td>PL</td>\n",
       "      <td>2020-W11</td>\n",
       "      <td>national</td>\n",
       "      <td>PL</td>\n",
       "      <td>Poland</td>\n",
       "      <td>114.0</td>\n",
       "      <td>5835</td>\n",
       "      <td>37958138.0</td>\n",
       "      <td>15.372198</td>\n",
       "      <td>1.953728</td>\n",
       "      <td>TESSy</td>\n",
       "    </tr>\n",
       "    <tr>\n",
       "      <th>4997</th>\n",
       "      <td>Poland</td>\n",
       "      <td>PL</td>\n",
       "      <td>2020-W12</td>\n",
       "      <td>national</td>\n",
       "      <td>PL</td>\n",
       "      <td>Poland</td>\n",
       "      <td>509.0</td>\n",
       "      <td>13328</td>\n",
       "      <td>37958138.0</td>\n",
       "      <td>35.112365</td>\n",
       "      <td>3.819028</td>\n",
       "      <td>TESSy</td>\n",
       "    </tr>\n",
       "    <tr>\n",
       "      <th>4998</th>\n",
       "      <td>Poland</td>\n",
       "      <td>PL</td>\n",
       "      <td>2020-W13</td>\n",
       "      <td>national</td>\n",
       "      <td>PL</td>\n",
       "      <td>Poland</td>\n",
       "      <td>1228.0</td>\n",
       "      <td>26137</td>\n",
       "      <td>37958138.0</td>\n",
       "      <td>68.857434</td>\n",
       "      <td>4.698320</td>\n",
       "      <td>TESSy</td>\n",
       "    </tr>\n",
       "    <tr>\n",
       "      <th>4999</th>\n",
       "      <td>Poland</td>\n",
       "      <td>PL</td>\n",
       "      <td>2020-W14</td>\n",
       "      <td>national</td>\n",
       "      <td>PL</td>\n",
       "      <td>Poland</td>\n",
       "      <td>2240.0</td>\n",
       "      <td>39315</td>\n",
       "      <td>37958138.0</td>\n",
       "      <td>103.574627</td>\n",
       "      <td>5.697571</td>\n",
       "      <td>TESSy</td>\n",
       "    </tr>\n",
       "  </tbody>\n",
       "</table>\n",
       "</div>"
      ],
      "text/plain": [
       "     country country_code year_week     level region region_name  new_cases  \\\n",
       "4995  Poland           PL  2020-W10  national     PL      Poland       11.0   \n",
       "4996  Poland           PL  2020-W11  national     PL      Poland      114.0   \n",
       "4997  Poland           PL  2020-W12  national     PL      Poland      509.0   \n",
       "4998  Poland           PL  2020-W13  national     PL      Poland     1228.0   \n",
       "4999  Poland           PL  2020-W14  national     PL      Poland     2240.0   \n",
       "\n",
       "      tests_done  population  testing_rate  positivity_rate  \\\n",
       "4995         603  37958138.0      1.588592         1.824212   \n",
       "4996        5835  37958138.0     15.372198         1.953728   \n",
       "4997       13328  37958138.0     35.112365         3.819028   \n",
       "4998       26137  37958138.0     68.857434         4.698320   \n",
       "4999       39315  37958138.0    103.574627         5.697571   \n",
       "\n",
       "     testing_data_source  \n",
       "4995               TESSy  \n",
       "4996               TESSy  \n",
       "4997               TESSy  \n",
       "4998               TESSy  \n",
       "4999               TESSy  "
      ]
     },
     "execution_count": 21,
     "metadata": {},
     "output_type": "execute_result"
    }
   ],
   "source": [
    "data[data['country'].isin(['Poland'])].head()"
   ]
  },
  {
   "cell_type": "code",
   "execution_count": 22,
   "id": "cac7965e",
   "metadata": {},
   "outputs": [
    {
     "data": {
      "text/html": [
       "<div>\n",
       "<style scoped>\n",
       "    .dataframe tbody tr th:only-of-type {\n",
       "        vertical-align: middle;\n",
       "    }\n",
       "\n",
       "    .dataframe tbody tr th {\n",
       "        vertical-align: top;\n",
       "    }\n",
       "\n",
       "    .dataframe thead th {\n",
       "        text-align: right;\n",
       "    }\n",
       "</style>\n",
       "<table border=\"1\" class=\"dataframe\">\n",
       "  <thead>\n",
       "    <tr style=\"text-align: right;\">\n",
       "      <th></th>\n",
       "      <th>country</th>\n",
       "      <th>country_code</th>\n",
       "      <th>year_week</th>\n",
       "      <th>level</th>\n",
       "      <th>region</th>\n",
       "      <th>region_name</th>\n",
       "      <th>new_cases</th>\n",
       "      <th>tests_done</th>\n",
       "      <th>population</th>\n",
       "      <th>testing_rate</th>\n",
       "      <th>positivity_rate</th>\n",
       "      <th>testing_data_source</th>\n",
       "    </tr>\n",
       "  </thead>\n",
       "  <tbody>\n",
       "    <tr>\n",
       "      <th>6619</th>\n",
       "      <td>Spain</td>\n",
       "      <td>ES</td>\n",
       "      <td>2020-W18</td>\n",
       "      <td>national</td>\n",
       "      <td>ES</td>\n",
       "      <td>Spain</td>\n",
       "      <td>7635.0</td>\n",
       "      <td>315608</td>\n",
       "      <td>47332614.0</td>\n",
       "      <td>666.787598</td>\n",
       "      <td>2.419140</td>\n",
       "      <td>Other</td>\n",
       "    </tr>\n",
       "    <tr>\n",
       "      <th>6620</th>\n",
       "      <td>Spain</td>\n",
       "      <td>ES</td>\n",
       "      <td>2020-W19</td>\n",
       "      <td>national</td>\n",
       "      <td>ES</td>\n",
       "      <td>Spain</td>\n",
       "      <td>8565.0</td>\n",
       "      <td>274081</td>\n",
       "      <td>47332614.0</td>\n",
       "      <td>579.053166</td>\n",
       "      <td>3.124989</td>\n",
       "      <td>Other</td>\n",
       "    </tr>\n",
       "    <tr>\n",
       "      <th>6621</th>\n",
       "      <td>Spain</td>\n",
       "      <td>ES</td>\n",
       "      <td>2020-W20</td>\n",
       "      <td>national</td>\n",
       "      <td>ES</td>\n",
       "      <td>Spain</td>\n",
       "      <td>3836.0</td>\n",
       "      <td>294200</td>\n",
       "      <td>47332614.0</td>\n",
       "      <td>621.558742</td>\n",
       "      <td>1.303875</td>\n",
       "      <td>Other</td>\n",
       "    </tr>\n",
       "    <tr>\n",
       "      <th>6622</th>\n",
       "      <td>Spain</td>\n",
       "      <td>ES</td>\n",
       "      <td>2020-W21</td>\n",
       "      <td>national</td>\n",
       "      <td>ES</td>\n",
       "      <td>Spain</td>\n",
       "      <td>3794.0</td>\n",
       "      <td>302086</td>\n",
       "      <td>47332614.0</td>\n",
       "      <td>638.219558</td>\n",
       "      <td>1.255934</td>\n",
       "      <td>Other</td>\n",
       "    </tr>\n",
       "    <tr>\n",
       "      <th>6623</th>\n",
       "      <td>Spain</td>\n",
       "      <td>ES</td>\n",
       "      <td>2020-W22</td>\n",
       "      <td>national</td>\n",
       "      <td>ES</td>\n",
       "      <td>Spain</td>\n",
       "      <td>4238.0</td>\n",
       "      <td>314737</td>\n",
       "      <td>47332614.0</td>\n",
       "      <td>664.947429</td>\n",
       "      <td>1.346521</td>\n",
       "      <td>Other</td>\n",
       "    </tr>\n",
       "  </tbody>\n",
       "</table>\n",
       "</div>"
      ],
      "text/plain": [
       "     country country_code year_week     level region region_name  new_cases  \\\n",
       "6619   Spain           ES  2020-W18  national     ES       Spain     7635.0   \n",
       "6620   Spain           ES  2020-W19  national     ES       Spain     8565.0   \n",
       "6621   Spain           ES  2020-W20  national     ES       Spain     3836.0   \n",
       "6622   Spain           ES  2020-W21  national     ES       Spain     3794.0   \n",
       "6623   Spain           ES  2020-W22  national     ES       Spain     4238.0   \n",
       "\n",
       "      tests_done  population  testing_rate  positivity_rate  \\\n",
       "6619      315608  47332614.0    666.787598         2.419140   \n",
       "6620      274081  47332614.0    579.053166         3.124989   \n",
       "6621      294200  47332614.0    621.558742         1.303875   \n",
       "6622      302086  47332614.0    638.219558         1.255934   \n",
       "6623      314737  47332614.0    664.947429         1.346521   \n",
       "\n",
       "     testing_data_source  \n",
       "6619               Other  \n",
       "6620               Other  \n",
       "6621               Other  \n",
       "6622               Other  \n",
       "6623               Other  "
      ]
     },
     "execution_count": 22,
     "metadata": {},
     "output_type": "execute_result"
    }
   ],
   "source": [
    "f=['Spain']\n",
    "filt=data['country'].isin(f)\n",
    "data[filt].head()"
   ]
  },
  {
   "cell_type": "code",
   "execution_count": 24,
   "id": "5189ff97",
   "metadata": {},
   "outputs": [
    {
     "data": {
      "text/plain": [
       "Poland    1191\n",
       "Spain      883\n",
       "Name: country, dtype: int64"
      ]
     },
     "execution_count": 24,
     "metadata": {},
     "output_type": "execute_result"
    }
   ],
   "source": [
    "data[data['country'].isin(['Poland','Spain'])]['country'].value_counts()"
   ]
  },
  {
   "cell_type": "code",
   "execution_count": 26,
   "id": "3ef99f7e",
   "metadata": {},
   "outputs": [
    {
     "data": {
      "text/plain": [
       "country                 0\n",
       "country_code            0\n",
       "year_week               0\n",
       "level                   0\n",
       "region                  0\n",
       "region_name             0\n",
       "new_cases              19\n",
       "tests_done              0\n",
       "population              0\n",
       "testing_rate            0\n",
       "positivity_rate        24\n",
       "testing_data_source     0\n",
       "dtype: int64"
      ]
     },
     "execution_count": 26,
     "metadata": {},
     "output_type": "execute_result"
    }
   ],
   "source": [
    "data.isnull().sum()"
   ]
  },
  {
   "cell_type": "code",
   "execution_count": 36,
   "id": "c4a0d4bd",
   "metadata": {},
   "outputs": [
    {
     "data": {
      "text/html": [
       "<div>\n",
       "<style scoped>\n",
       "    .dataframe tbody tr th:only-of-type {\n",
       "        vertical-align: middle;\n",
       "    }\n",
       "\n",
       "    .dataframe tbody tr th {\n",
       "        vertical-align: top;\n",
       "    }\n",
       "\n",
       "    .dataframe thead tr th {\n",
       "        text-align: left;\n",
       "    }\n",
       "\n",
       "    .dataframe thead tr:last-of-type th {\n",
       "        text-align: right;\n",
       "    }\n",
       "</style>\n",
       "<table border=\"1\" class=\"dataframe\">\n",
       "  <thead>\n",
       "    <tr>\n",
       "      <th></th>\n",
       "      <th colspan=\"2\" halign=\"left\">population</th>\n",
       "    </tr>\n",
       "    <tr>\n",
       "      <th>level</th>\n",
       "      <th>national</th>\n",
       "      <th>subnational</th>\n",
       "    </tr>\n",
       "    <tr>\n",
       "      <th>country</th>\n",
       "      <th></th>\n",
       "      <th></th>\n",
       "    </tr>\n",
       "  </thead>\n",
       "  <tbody>\n",
       "    <tr>\n",
       "      <th>Austria</th>\n",
       "      <td>68.0</td>\n",
       "      <td>297.0</td>\n",
       "    </tr>\n",
       "    <tr>\n",
       "      <th>Belgium</th>\n",
       "      <td>75.0</td>\n",
       "      <td>89.0</td>\n",
       "    </tr>\n",
       "    <tr>\n",
       "      <th>Bulgaria</th>\n",
       "      <td>61.0</td>\n",
       "      <td>NaN</td>\n",
       "    </tr>\n",
       "    <tr>\n",
       "      <th>Croatia</th>\n",
       "      <td>79.0</td>\n",
       "      <td>134.0</td>\n",
       "    </tr>\n",
       "    <tr>\n",
       "      <th>Cyprus</th>\n",
       "      <td>73.0</td>\n",
       "      <td>NaN</td>\n",
       "    </tr>\n",
       "    <tr>\n",
       "      <th>Czechia</th>\n",
       "      <td>79.0</td>\n",
       "      <td>NaN</td>\n",
       "    </tr>\n",
       "    <tr>\n",
       "      <th>Denmark</th>\n",
       "      <td>79.0</td>\n",
       "      <td>200.0</td>\n",
       "    </tr>\n",
       "    <tr>\n",
       "      <th>Estonia</th>\n",
       "      <td>77.0</td>\n",
       "      <td>NaN</td>\n",
       "    </tr>\n",
       "    <tr>\n",
       "      <th>Finland</th>\n",
       "      <td>83.0</td>\n",
       "      <td>NaN</td>\n",
       "    </tr>\n",
       "    <tr>\n",
       "      <th>France</th>\n",
       "      <td>75.0</td>\n",
       "      <td>594.0</td>\n",
       "    </tr>\n",
       "    <tr>\n",
       "      <th>Germany</th>\n",
       "      <td>74.0</td>\n",
       "      <td>NaN</td>\n",
       "    </tr>\n",
       "    <tr>\n",
       "      <th>Greece</th>\n",
       "      <td>75.0</td>\n",
       "      <td>221.0</td>\n",
       "    </tr>\n",
       "    <tr>\n",
       "      <th>Hungary</th>\n",
       "      <td>74.0</td>\n",
       "      <td>NaN</td>\n",
       "    </tr>\n",
       "    <tr>\n",
       "      <th>Iceland</th>\n",
       "      <td>75.0</td>\n",
       "      <td>NaN</td>\n",
       "    </tr>\n",
       "    <tr>\n",
       "      <th>Ireland</th>\n",
       "      <td>78.0</td>\n",
       "      <td>NaN</td>\n",
       "    </tr>\n",
       "    <tr>\n",
       "      <th>Italy</th>\n",
       "      <td>75.0</td>\n",
       "      <td>966.0</td>\n",
       "    </tr>\n",
       "    <tr>\n",
       "      <th>Latvia</th>\n",
       "      <td>77.0</td>\n",
       "      <td>NaN</td>\n",
       "    </tr>\n",
       "    <tr>\n",
       "      <th>Liechtenstein</th>\n",
       "      <td>2.0</td>\n",
       "      <td>NaN</td>\n",
       "    </tr>\n",
       "    <tr>\n",
       "      <th>Lithuania</th>\n",
       "      <td>74.0</td>\n",
       "      <td>82.0</td>\n",
       "    </tr>\n",
       "    <tr>\n",
       "      <th>Luxembourg</th>\n",
       "      <td>75.0</td>\n",
       "      <td>NaN</td>\n",
       "    </tr>\n",
       "    <tr>\n",
       "      <th>Malta</th>\n",
       "      <td>77.0</td>\n",
       "      <td>NaN</td>\n",
       "    </tr>\n",
       "    <tr>\n",
       "      <th>Netherlands</th>\n",
       "      <td>73.0</td>\n",
       "      <td>NaN</td>\n",
       "    </tr>\n",
       "    <tr>\n",
       "      <th>Norway</th>\n",
       "      <td>75.0</td>\n",
       "      <td>759.0</td>\n",
       "    </tr>\n",
       "    <tr>\n",
       "      <th>Poland</th>\n",
       "      <td>74.0</td>\n",
       "      <td>1117.0</td>\n",
       "    </tr>\n",
       "    <tr>\n",
       "      <th>Portugal</th>\n",
       "      <td>75.0</td>\n",
       "      <td>132.0</td>\n",
       "    </tr>\n",
       "    <tr>\n",
       "      <th>Romania</th>\n",
       "      <td>73.0</td>\n",
       "      <td>NaN</td>\n",
       "    </tr>\n",
       "    <tr>\n",
       "      <th>Slovakia</th>\n",
       "      <td>78.0</td>\n",
       "      <td>NaN</td>\n",
       "    </tr>\n",
       "    <tr>\n",
       "      <th>Slovenia</th>\n",
       "      <td>75.0</td>\n",
       "      <td>NaN</td>\n",
       "    </tr>\n",
       "    <tr>\n",
       "      <th>Spain</th>\n",
       "      <td>66.0</td>\n",
       "      <td>817.0</td>\n",
       "    </tr>\n",
       "    <tr>\n",
       "      <th>Sweden</th>\n",
       "      <td>70.0</td>\n",
       "      <td>NaN</td>\n",
       "    </tr>\n",
       "  </tbody>\n",
       "</table>\n",
       "</div>"
      ],
      "text/plain": [
       "              population            \n",
       "level           national subnational\n",
       "country                             \n",
       "Austria             68.0       297.0\n",
       "Belgium             75.0        89.0\n",
       "Bulgaria            61.0         NaN\n",
       "Croatia             79.0       134.0\n",
       "Cyprus              73.0         NaN\n",
       "Czechia             79.0         NaN\n",
       "Denmark             79.0       200.0\n",
       "Estonia             77.0         NaN\n",
       "Finland             83.0         NaN\n",
       "France              75.0       594.0\n",
       "Germany             74.0         NaN\n",
       "Greece              75.0       221.0\n",
       "Hungary             74.0         NaN\n",
       "Iceland             75.0         NaN\n",
       "Ireland             78.0         NaN\n",
       "Italy               75.0       966.0\n",
       "Latvia              77.0         NaN\n",
       "Liechtenstein        2.0         NaN\n",
       "Lithuania           74.0        82.0\n",
       "Luxembourg          75.0         NaN\n",
       "Malta               77.0         NaN\n",
       "Netherlands         73.0         NaN\n",
       "Norway              75.0       759.0\n",
       "Poland              74.0      1117.0\n",
       "Portugal            75.0       132.0\n",
       "Romania             73.0         NaN\n",
       "Slovakia            78.0         NaN\n",
       "Slovenia            75.0         NaN\n",
       "Spain               66.0       817.0\n",
       "Sweden              70.0         NaN"
      ]
     },
     "execution_count": 36,
     "metadata": {},
     "output_type": "execute_result"
    }
   ],
   "source": [
    "pd.pivot_table(data=data,index=['country'],columns=['level'],values=['population'],aggfunc=len)\n",
    "\n",
    "# there is length of each at the national level and subnational level"
   ]
  },
  {
   "cell_type": "code",
   "execution_count": 42,
   "id": "283646cb",
   "metadata": {},
   "outputs": [
    {
     "data": {
      "text/html": [
       "<div>\n",
       "<style scoped>\n",
       "    .dataframe tbody tr th:only-of-type {\n",
       "        vertical-align: middle;\n",
       "    }\n",
       "\n",
       "    .dataframe tbody tr th {\n",
       "        vertical-align: top;\n",
       "    }\n",
       "\n",
       "    .dataframe thead tr th {\n",
       "        text-align: left;\n",
       "    }\n",
       "\n",
       "    .dataframe thead tr:last-of-type th {\n",
       "        text-align: right;\n",
       "    }\n",
       "</style>\n",
       "<table border=\"1\" class=\"dataframe\">\n",
       "  <thead>\n",
       "    <tr>\n",
       "      <th></th>\n",
       "      <th colspan=\"2\" halign=\"left\">population</th>\n",
       "    </tr>\n",
       "    <tr>\n",
       "      <th>level</th>\n",
       "      <th>national</th>\n",
       "      <th>subnational</th>\n",
       "    </tr>\n",
       "    <tr>\n",
       "      <th>country</th>\n",
       "      <th></th>\n",
       "      <th></th>\n",
       "    </tr>\n",
       "  </thead>\n",
       "  <tbody>\n",
       "    <tr>\n",
       "      <th>Austria</th>\n",
       "      <td>6.052724e+08</td>\n",
       "      <td>2.923396e+08</td>\n",
       "    </tr>\n",
       "    <tr>\n",
       "      <th>Belgium</th>\n",
       "      <td>8.641830e+08</td>\n",
       "      <td>3.370693e+08</td>\n",
       "    </tr>\n",
       "    <tr>\n",
       "      <th>Bulgaria</th>\n",
       "      <td>4.240404e+08</td>\n",
       "      <td>NaN</td>\n",
       "    </tr>\n",
       "    <tr>\n",
       "      <th>Croatia</th>\n",
       "      <td>3.205950e+08</td>\n",
       "      <td>3.764981e+07</td>\n",
       "    </tr>\n",
       "    <tr>\n",
       "      <th>Cyprus</th>\n",
       "      <td>6.482436e+07</td>\n",
       "      <td>NaN</td>\n",
       "    </tr>\n",
       "    <tr>\n",
       "      <th>Czechia</th>\n",
       "      <td>8.448212e+08</td>\n",
       "      <td>NaN</td>\n",
       "    </tr>\n",
       "    <tr>\n",
       "      <th>Denmark</th>\n",
       "      <td>4.599983e+08</td>\n",
       "      <td>2.322432e+08</td>\n",
       "    </tr>\n",
       "    <tr>\n",
       "      <th>Estonia</th>\n",
       "      <td>1.023312e+08</td>\n",
       "      <td>NaN</td>\n",
       "    </tr>\n",
       "    <tr>\n",
       "      <th>Finland</th>\n",
       "      <td>4.585992e+08</td>\n",
       "      <td>NaN</td>\n",
       "    </tr>\n",
       "    <tr>\n",
       "      <th>France</th>\n",
       "      <td>5.049016e+09</td>\n",
       "      <td>2.203558e+09</td>\n",
       "    </tr>\n",
       "    <tr>\n",
       "      <th>Germany</th>\n",
       "      <td>6.154337e+09</td>\n",
       "      <td>NaN</td>\n",
       "    </tr>\n",
       "    <tr>\n",
       "      <th>Greece</th>\n",
       "      <td>8.038924e+08</td>\n",
       "      <td>1.823182e+08</td>\n",
       "    </tr>\n",
       "    <tr>\n",
       "      <th>Hungary</th>\n",
       "      <td>7.229449e+08</td>\n",
       "      <td>NaN</td>\n",
       "    </tr>\n",
       "    <tr>\n",
       "      <th>Iceland</th>\n",
       "      <td>2.731005e+07</td>\n",
       "      <td>NaN</td>\n",
       "    </tr>\n",
       "    <tr>\n",
       "      <th>Ireland</th>\n",
       "      <td>3.872263e+08</td>\n",
       "      <td>NaN</td>\n",
       "    </tr>\n",
       "    <tr>\n",
       "      <th>Italy</th>\n",
       "      <td>4.473112e+09</td>\n",
       "      <td>2.776539e+09</td>\n",
       "    </tr>\n",
       "    <tr>\n",
       "      <th>Latvia</th>\n",
       "      <td>1.468910e+08</td>\n",
       "      <td>NaN</td>\n",
       "    </tr>\n",
       "    <tr>\n",
       "      <th>Liechtenstein</th>\n",
       "      <td>7.749400e+04</td>\n",
       "      <td>NaN</td>\n",
       "    </tr>\n",
       "    <tr>\n",
       "      <th>Lithuania</th>\n",
       "      <td>2.067627e+08</td>\n",
       "      <td>4.226867e+07</td>\n",
       "    </tr>\n",
       "    <tr>\n",
       "      <th>Luxembourg</th>\n",
       "      <td>4.695810e+07</td>\n",
       "      <td>NaN</td>\n",
       "    </tr>\n",
       "    <tr>\n",
       "      <th>Malta</th>\n",
       "      <td>3.962143e+07</td>\n",
       "      <td>NaN</td>\n",
       "    </tr>\n",
       "    <tr>\n",
       "      <th>Netherlands</th>\n",
       "      <td>1.270754e+09</td>\n",
       "      <td>NaN</td>\n",
       "    </tr>\n",
       "    <tr>\n",
       "      <th>Norway</th>\n",
       "      <td>4.025685e+08</td>\n",
       "      <td>3.676466e+08</td>\n",
       "    </tr>\n",
       "    <tr>\n",
       "      <th>Poland</th>\n",
       "      <td>2.808902e+09</td>\n",
       "      <td>2.653844e+09</td>\n",
       "    </tr>\n",
       "    <tr>\n",
       "      <th>Portugal</th>\n",
       "      <td>7.721932e+08</td>\n",
       "      <td>1.081002e+08</td>\n",
       "    </tr>\n",
       "    <tr>\n",
       "      <th>Romania</th>\n",
       "      <td>1.411005e+09</td>\n",
       "      <td>NaN</td>\n",
       "    </tr>\n",
       "    <tr>\n",
       "      <th>Slovakia</th>\n",
       "      <td>4.257141e+08</td>\n",
       "      <td>NaN</td>\n",
       "    </tr>\n",
       "    <tr>\n",
       "      <th>Slovenia</th>\n",
       "      <td>1.571896e+08</td>\n",
       "      <td>NaN</td>\n",
       "    </tr>\n",
       "    <tr>\n",
       "      <th>Spain</th>\n",
       "      <td>3.123953e+09</td>\n",
       "      <td>2.018294e+09</td>\n",
       "    </tr>\n",
       "    <tr>\n",
       "      <th>Sweden</th>\n",
       "      <td>7.229312e+08</td>\n",
       "      <td>NaN</td>\n",
       "    </tr>\n",
       "  </tbody>\n",
       "</table>\n",
       "</div>"
      ],
      "text/plain": [
       "                 population              \n",
       "level              national   subnational\n",
       "country                                  \n",
       "Austria        6.052724e+08  2.923396e+08\n",
       "Belgium        8.641830e+08  3.370693e+08\n",
       "Bulgaria       4.240404e+08           NaN\n",
       "Croatia        3.205950e+08  3.764981e+07\n",
       "Cyprus         6.482436e+07           NaN\n",
       "Czechia        8.448212e+08           NaN\n",
       "Denmark        4.599983e+08  2.322432e+08\n",
       "Estonia        1.023312e+08           NaN\n",
       "Finland        4.585992e+08           NaN\n",
       "France         5.049016e+09  2.203558e+09\n",
       "Germany        6.154337e+09           NaN\n",
       "Greece         8.038924e+08  1.823182e+08\n",
       "Hungary        7.229449e+08           NaN\n",
       "Iceland        2.731005e+07           NaN\n",
       "Ireland        3.872263e+08           NaN\n",
       "Italy          4.473112e+09  2.776539e+09\n",
       "Latvia         1.468910e+08           NaN\n",
       "Liechtenstein  7.749400e+04           NaN\n",
       "Lithuania      2.067627e+08  4.226867e+07\n",
       "Luxembourg     4.695810e+07           NaN\n",
       "Malta          3.962143e+07           NaN\n",
       "Netherlands    1.270754e+09           NaN\n",
       "Norway         4.025685e+08  3.676466e+08\n",
       "Poland         2.808902e+09  2.653844e+09\n",
       "Portugal       7.721932e+08  1.081002e+08\n",
       "Romania        1.411005e+09           NaN\n",
       "Slovakia       4.257141e+08           NaN\n",
       "Slovenia       1.571896e+08           NaN\n",
       "Spain          3.123953e+09  2.018294e+09\n",
       "Sweden         7.229312e+08           NaN"
      ]
     },
     "execution_count": 42,
     "metadata": {},
     "output_type": "execute_result"
    }
   ],
   "source": [
    "pd.pivot_table(data=data,index=['country'],columns=['level'],values=['population'],aggfunc=sum)\n"
   ]
  },
  {
   "cell_type": "code",
   "execution_count": 44,
   "id": "b58b9682",
   "metadata": {},
   "outputs": [
    {
     "data": {
      "text/html": [
       "<div>\n",
       "<style scoped>\n",
       "    .dataframe tbody tr th:only-of-type {\n",
       "        vertical-align: middle;\n",
       "    }\n",
       "\n",
       "    .dataframe tbody tr th {\n",
       "        vertical-align: top;\n",
       "    }\n",
       "\n",
       "    .dataframe thead tr th {\n",
       "        text-align: left;\n",
       "    }\n",
       "\n",
       "    .dataframe thead tr:last-of-type th {\n",
       "        text-align: right;\n",
       "    }\n",
       "</style>\n",
       "<table border=\"1\" class=\"dataframe\">\n",
       "  <thead>\n",
       "    <tr>\n",
       "      <th></th>\n",
       "      <th colspan=\"2\" halign=\"left\">population</th>\n",
       "    </tr>\n",
       "    <tr>\n",
       "      <th>level</th>\n",
       "      <th>national</th>\n",
       "      <th>subnational</th>\n",
       "    </tr>\n",
       "    <tr>\n",
       "      <th>country</th>\n",
       "      <th></th>\n",
       "      <th></th>\n",
       "    </tr>\n",
       "  </thead>\n",
       "  <tbody>\n",
       "    <tr>\n",
       "      <th>Bulgaria</th>\n",
       "      <td>424040402.0</td>\n",
       "      <td>NaN</td>\n",
       "    </tr>\n",
       "  </tbody>\n",
       "</table>\n",
       "</div>"
      ],
      "text/plain": [
       "           population            \n",
       "level        national subnational\n",
       "country                          \n",
       "Bulgaria  424040402.0         NaN"
      ]
     },
     "execution_count": 44,
     "metadata": {},
     "output_type": "execute_result"
    }
   ],
   "source": [
    "pd.pivot_table(data=data,index=['country'],columns=['level'],values=['population'],aggfunc=sum)[2:3]\n",
    "\n",
    "# and now i will proove how it is come "
   ]
  },
  {
   "cell_type": "code",
   "execution_count": 47,
   "id": "1fa5ec34",
   "metadata": {},
   "outputs": [
    {
     "data": {
      "text/plain": [
       "national    61\n",
       "Name: level, dtype: int64"
      ]
     },
     "execution_count": 47,
     "metadata": {},
     "output_type": "execute_result"
    }
   ],
   "source": [
    "data[data['country']=='Bulgaria']['level'].value_counts()\n",
    "# as you can see there is  only single level"
   ]
  },
  {
   "cell_type": "code",
   "execution_count": 50,
   "id": "6cd813b9",
   "metadata": {},
   "outputs": [
    {
     "data": {
      "text/plain": [
       "424040402.0"
      ]
     },
     "execution_count": 50,
     "metadata": {},
     "output_type": "execute_result"
    }
   ],
   "source": [
    "data[data['country']=='Bulgaria']['population'].sum()\n",
    "# now value is prooved"
   ]
  },
  {
   "cell_type": "markdown",
   "id": "d3b2c6c2",
   "metadata": {},
   "source": [
    "## and now i will apply the groupby function on this data\n"
   ]
  },
  {
   "cell_type": "code",
   "execution_count": 51,
   "id": "1fe83ca5",
   "metadata": {},
   "outputs": [
    {
     "data": {
      "text/plain": [
       "<pandas.core.groupby.generic.DataFrameGroupBy object at 0x0000018272711D20>"
      ]
     },
     "execution_count": 51,
     "metadata": {},
     "output_type": "execute_result"
    }
   ],
   "source": [
    "grouped=data.groupby(['country'])\n",
    "grouped    \n",
    "\n",
    "# this variable contain a country column as a group and as a DataFrame\n",
    "# and now we will create the group under the country"
   ]
  },
  {
   "cell_type": "code",
   "execution_count": 30,
   "id": "7f61178f",
   "metadata": {},
   "outputs": [
    {
     "data": {
      "text/plain": [
       "Poland           1191\n",
       "Italy            1041\n",
       "Spain             883\n",
       "Norway            834\n",
       "France            669\n",
       "Austria           365\n",
       "Greece            296\n",
       "Denmark           279\n",
       "Croatia           213\n",
       "Portugal          207\n",
       "Belgium           164\n",
       "Lithuania         156\n",
       "Finland            83\n",
       "Czechia            79\n",
       "Ireland            78\n",
       "Slovakia           78\n",
       "Estonia            77\n",
       "Malta              77\n",
       "Latvia             77\n",
       "Iceland            75\n",
       "Luxembourg         75\n",
       "Slovenia           75\n",
       "Hungary            74\n",
       "Germany            74\n",
       "Netherlands        73\n",
       "Cyprus             73\n",
       "Romania            73\n",
       "Sweden             70\n",
       "Bulgaria           61\n",
       "Liechtenstein       2\n",
       "Name: country, dtype: int64"
      ]
     },
     "execution_count": 30,
     "metadata": {},
     "output_type": "execute_result"
    }
   ],
   "source": [
    "data['country'].value_counts()"
   ]
  },
  {
   "cell_type": "code",
   "execution_count": 53,
   "id": "ce53e57a",
   "metadata": {},
   "outputs": [
    {
     "data": {
      "text/html": [
       "<div>\n",
       "<style scoped>\n",
       "    .dataframe tbody tr th:only-of-type {\n",
       "        vertical-align: middle;\n",
       "    }\n",
       "\n",
       "    .dataframe tbody tr th {\n",
       "        vertical-align: top;\n",
       "    }\n",
       "\n",
       "    .dataframe thead th {\n",
       "        text-align: right;\n",
       "    }\n",
       "</style>\n",
       "<table border=\"1\" class=\"dataframe\">\n",
       "  <thead>\n",
       "    <tr style=\"text-align: right;\">\n",
       "      <th></th>\n",
       "      <th>country</th>\n",
       "      <th>country_code</th>\n",
       "      <th>year_week</th>\n",
       "      <th>level</th>\n",
       "      <th>region</th>\n",
       "      <th>region_name</th>\n",
       "      <th>new_cases</th>\n",
       "      <th>tests_done</th>\n",
       "      <th>population</th>\n",
       "      <th>testing_rate</th>\n",
       "      <th>positivity_rate</th>\n",
       "      <th>testing_data_source</th>\n",
       "    </tr>\n",
       "  </thead>\n",
       "  <tbody>\n",
       "    <tr>\n",
       "      <th>4995</th>\n",
       "      <td>Poland</td>\n",
       "      <td>PL</td>\n",
       "      <td>2020-W10</td>\n",
       "      <td>national</td>\n",
       "      <td>PL</td>\n",
       "      <td>Poland</td>\n",
       "      <td>11.0</td>\n",
       "      <td>603</td>\n",
       "      <td>37958138.0</td>\n",
       "      <td>1.588592</td>\n",
       "      <td>1.824212</td>\n",
       "      <td>TESSy</td>\n",
       "    </tr>\n",
       "    <tr>\n",
       "      <th>4996</th>\n",
       "      <td>Poland</td>\n",
       "      <td>PL</td>\n",
       "      <td>2020-W11</td>\n",
       "      <td>national</td>\n",
       "      <td>PL</td>\n",
       "      <td>Poland</td>\n",
       "      <td>114.0</td>\n",
       "      <td>5835</td>\n",
       "      <td>37958138.0</td>\n",
       "      <td>15.372198</td>\n",
       "      <td>1.953728</td>\n",
       "      <td>TESSy</td>\n",
       "    </tr>\n",
       "    <tr>\n",
       "      <th>4997</th>\n",
       "      <td>Poland</td>\n",
       "      <td>PL</td>\n",
       "      <td>2020-W12</td>\n",
       "      <td>national</td>\n",
       "      <td>PL</td>\n",
       "      <td>Poland</td>\n",
       "      <td>509.0</td>\n",
       "      <td>13328</td>\n",
       "      <td>37958138.0</td>\n",
       "      <td>35.112365</td>\n",
       "      <td>3.819028</td>\n",
       "      <td>TESSy</td>\n",
       "    </tr>\n",
       "    <tr>\n",
       "      <th>4998</th>\n",
       "      <td>Poland</td>\n",
       "      <td>PL</td>\n",
       "      <td>2020-W13</td>\n",
       "      <td>national</td>\n",
       "      <td>PL</td>\n",
       "      <td>Poland</td>\n",
       "      <td>1228.0</td>\n",
       "      <td>26137</td>\n",
       "      <td>37958138.0</td>\n",
       "      <td>68.857434</td>\n",
       "      <td>4.698320</td>\n",
       "      <td>TESSy</td>\n",
       "    </tr>\n",
       "    <tr>\n",
       "      <th>4999</th>\n",
       "      <td>Poland</td>\n",
       "      <td>PL</td>\n",
       "      <td>2020-W14</td>\n",
       "      <td>national</td>\n",
       "      <td>PL</td>\n",
       "      <td>Poland</td>\n",
       "      <td>2240.0</td>\n",
       "      <td>39315</td>\n",
       "      <td>37958138.0</td>\n",
       "      <td>103.574627</td>\n",
       "      <td>5.697571</td>\n",
       "      <td>TESSy</td>\n",
       "    </tr>\n",
       "  </tbody>\n",
       "</table>\n",
       "</div>"
      ],
      "text/plain": [
       "     country country_code year_week     level region region_name  new_cases  \\\n",
       "4995  Poland           PL  2020-W10  national     PL      Poland       11.0   \n",
       "4996  Poland           PL  2020-W11  national     PL      Poland      114.0   \n",
       "4997  Poland           PL  2020-W12  national     PL      Poland      509.0   \n",
       "4998  Poland           PL  2020-W13  national     PL      Poland     1228.0   \n",
       "4999  Poland           PL  2020-W14  national     PL      Poland     2240.0   \n",
       "\n",
       "      tests_done  population  testing_rate  positivity_rate  \\\n",
       "4995         603  37958138.0      1.588592         1.824212   \n",
       "4996        5835  37958138.0     15.372198         1.953728   \n",
       "4997       13328  37958138.0     35.112365         3.819028   \n",
       "4998       26137  37958138.0     68.857434         4.698320   \n",
       "4999       39315  37958138.0    103.574627         5.697571   \n",
       "\n",
       "     testing_data_source  \n",
       "4995               TESSy  \n",
       "4996               TESSy  \n",
       "4997               TESSy  \n",
       "4998               TESSy  \n",
       "4999               TESSy  "
      ]
     },
     "execution_count": 53,
     "metadata": {},
     "output_type": "execute_result"
    }
   ],
   "source": [
    "grouped.get_group('Poland').head()\n",
    "#simply u have to change the parameter value and fetch that record"
   ]
  },
  {
   "cell_type": "code",
   "execution_count": 59,
   "id": "e8d794e3",
   "metadata": {},
   "outputs": [
    {
     "data": {
      "text/plain": [
       "424040402.0"
      ]
     },
     "execution_count": 59,
     "metadata": {},
     "output_type": "execute_result"
    }
   ],
   "source": [
    "grouped.get_group('Bulgaria')['population'].sum()"
   ]
  },
  {
   "cell_type": "markdown",
   "id": "e361c3ce",
   "metadata": {},
   "source": [
    "# for one more than one columns and different method apply"
   ]
  },
  {
   "cell_type": "code",
   "execution_count": 39,
   "id": "1feae76e",
   "metadata": {},
   "outputs": [
    {
     "data": {
      "text/plain": [
       "positivity_rate    14655.022550\n",
       "testing_rate         675.962483\n",
       "dtype: float64"
      ]
     },
     "execution_count": 39,
     "metadata": {},
     "output_type": "execute_result"
    }
   ],
   "source": [
    "grouped.get_group('Poland').agg({'positivity_rate':'sum','testing_rate':'mean'})\n"
   ]
  },
  {
   "cell_type": "code",
   "execution_count": 61,
   "id": "d1384ffd",
   "metadata": {},
   "outputs": [
    {
     "data": {
      "text/plain": [
       "population    424040402.0\n",
       "tests_done      3536697.0\n",
       "dtype: float64"
      ]
     },
     "execution_count": 61,
     "metadata": {},
     "output_type": "execute_result"
    }
   ],
   "source": [
    "grouped.get_group('Bulgaria').agg({'population':sum,'tests_done':sum})"
   ]
  },
  {
   "cell_type": "code",
   "execution_count": 76,
   "id": "f26cc11d",
   "metadata": {},
   "outputs": [
    {
     "data": {
      "text/html": [
       "<div>\n",
       "<style scoped>\n",
       "    .dataframe tbody tr th:only-of-type {\n",
       "        vertical-align: middle;\n",
       "    }\n",
       "\n",
       "    .dataframe tbody tr th {\n",
       "        vertical-align: top;\n",
       "    }\n",
       "\n",
       "    .dataframe thead th {\n",
       "        text-align: right;\n",
       "    }\n",
       "</style>\n",
       "<table border=\"1\" class=\"dataframe\">\n",
       "  <thead>\n",
       "    <tr style=\"text-align: right;\">\n",
       "      <th></th>\n",
       "      <th>country</th>\n",
       "      <th>country_code</th>\n",
       "      <th>year_week</th>\n",
       "      <th>level</th>\n",
       "      <th>region</th>\n",
       "      <th>region_name</th>\n",
       "      <th>new_cases</th>\n",
       "      <th>tests_done</th>\n",
       "      <th>population</th>\n",
       "      <th>testing_rate</th>\n",
       "      <th>positivity_rate</th>\n",
       "      <th>testing_data_source</th>\n",
       "    </tr>\n",
       "  </thead>\n",
       "  <tbody>\n",
       "    <tr>\n",
       "      <th>6619</th>\n",
       "      <td>Spain</td>\n",
       "      <td>ES</td>\n",
       "      <td>2020-W18</td>\n",
       "      <td>national</td>\n",
       "      <td>ES</td>\n",
       "      <td>Spain</td>\n",
       "      <td>7635.0</td>\n",
       "      <td>315608</td>\n",
       "      <td>47332614.0</td>\n",
       "      <td>666.787598</td>\n",
       "      <td>2.419140</td>\n",
       "      <td>Other</td>\n",
       "    </tr>\n",
       "    <tr>\n",
       "      <th>6620</th>\n",
       "      <td>Spain</td>\n",
       "      <td>ES</td>\n",
       "      <td>2020-W19</td>\n",
       "      <td>national</td>\n",
       "      <td>ES</td>\n",
       "      <td>Spain</td>\n",
       "      <td>8565.0</td>\n",
       "      <td>274081</td>\n",
       "      <td>47332614.0</td>\n",
       "      <td>579.053166</td>\n",
       "      <td>3.124989</td>\n",
       "      <td>Other</td>\n",
       "    </tr>\n",
       "    <tr>\n",
       "      <th>6621</th>\n",
       "      <td>Spain</td>\n",
       "      <td>ES</td>\n",
       "      <td>2020-W20</td>\n",
       "      <td>national</td>\n",
       "      <td>ES</td>\n",
       "      <td>Spain</td>\n",
       "      <td>3836.0</td>\n",
       "      <td>294200</td>\n",
       "      <td>47332614.0</td>\n",
       "      <td>621.558742</td>\n",
       "      <td>1.303875</td>\n",
       "      <td>Other</td>\n",
       "    </tr>\n",
       "    <tr>\n",
       "      <th>6622</th>\n",
       "      <td>Spain</td>\n",
       "      <td>ES</td>\n",
       "      <td>2020-W21</td>\n",
       "      <td>national</td>\n",
       "      <td>ES</td>\n",
       "      <td>Spain</td>\n",
       "      <td>3794.0</td>\n",
       "      <td>302086</td>\n",
       "      <td>47332614.0</td>\n",
       "      <td>638.219558</td>\n",
       "      <td>1.255934</td>\n",
       "      <td>Other</td>\n",
       "    </tr>\n",
       "    <tr>\n",
       "      <th>6623</th>\n",
       "      <td>Spain</td>\n",
       "      <td>ES</td>\n",
       "      <td>2020-W22</td>\n",
       "      <td>national</td>\n",
       "      <td>ES</td>\n",
       "      <td>Spain</td>\n",
       "      <td>4238.0</td>\n",
       "      <td>314737</td>\n",
       "      <td>47332614.0</td>\n",
       "      <td>664.947429</td>\n",
       "      <td>1.346521</td>\n",
       "      <td>Other</td>\n",
       "    </tr>\n",
       "  </tbody>\n",
       "</table>\n",
       "</div>"
      ],
      "text/plain": [
       "     country country_code year_week     level region region_name  new_cases  \\\n",
       "6619   Spain           ES  2020-W18  national     ES       Spain     7635.0   \n",
       "6620   Spain           ES  2020-W19  national     ES       Spain     8565.0   \n",
       "6621   Spain           ES  2020-W20  national     ES       Spain     3836.0   \n",
       "6622   Spain           ES  2020-W21  national     ES       Spain     3794.0   \n",
       "6623   Spain           ES  2020-W22  national     ES       Spain     4238.0   \n",
       "\n",
       "      tests_done  population  testing_rate  positivity_rate  \\\n",
       "6619      315608  47332614.0    666.787598         2.419140   \n",
       "6620      274081  47332614.0    579.053166         3.124989   \n",
       "6621      294200  47332614.0    621.558742         1.303875   \n",
       "6622      302086  47332614.0    638.219558         1.255934   \n",
       "6623      314737  47332614.0    664.947429         1.346521   \n",
       "\n",
       "     testing_data_source  \n",
       "6619               Other  \n",
       "6620               Other  \n",
       "6621               Other  \n",
       "6622               Other  \n",
       "6623               Other  "
      ]
     },
     "execution_count": 76,
     "metadata": {},
     "output_type": "execute_result"
    }
   ],
   "source": [
    "grouped.get_group('Spain').head()\n"
   ]
  },
  {
   "cell_type": "code",
   "execution_count": 75,
   "id": "c26b4b5b",
   "metadata": {},
   "outputs": [],
   "source": [
    "grouped2=data.groupby(['testing_data_source'])\n"
   ]
  },
  {
   "cell_type": "code",
   "execution_count": 95,
   "id": "014d19c2",
   "metadata": {},
   "outputs": [
    {
     "data": {
      "text/html": [
       "<div>\n",
       "<style scoped>\n",
       "    .dataframe tbody tr th:only-of-type {\n",
       "        vertical-align: middle;\n",
       "    }\n",
       "\n",
       "    .dataframe tbody tr th {\n",
       "        vertical-align: top;\n",
       "    }\n",
       "\n",
       "    .dataframe thead th {\n",
       "        text-align: right;\n",
       "    }\n",
       "</style>\n",
       "<table border=\"1\" class=\"dataframe\">\n",
       "  <thead>\n",
       "    <tr style=\"text-align: right;\">\n",
       "      <th></th>\n",
       "      <th>country</th>\n",
       "      <th>country_code</th>\n",
       "      <th>year_week</th>\n",
       "      <th>level</th>\n",
       "      <th>region</th>\n",
       "      <th>region_name</th>\n",
       "      <th>new_cases</th>\n",
       "      <th>tests_done</th>\n",
       "      <th>population</th>\n",
       "      <th>testing_rate</th>\n",
       "      <th>positivity_rate</th>\n",
       "      <th>testing_data_source</th>\n",
       "    </tr>\n",
       "  </thead>\n",
       "  <tbody>\n",
       "    <tr>\n",
       "      <th>821</th>\n",
       "      <td>Cyprus</td>\n",
       "      <td>CY</td>\n",
       "      <td>2020-W28</td>\n",
       "      <td>national</td>\n",
       "      <td>CY</td>\n",
       "      <td>Cyprus</td>\n",
       "      <td>18.0</td>\n",
       "      <td>9471</td>\n",
       "      <td>888005.0</td>\n",
       "      <td>1066.548049</td>\n",
       "      <td>0.190054</td>\n",
       "      <td>Other</td>\n",
       "    </tr>\n",
       "    <tr>\n",
       "      <th>822</th>\n",
       "      <td>Cyprus</td>\n",
       "      <td>CY</td>\n",
       "      <td>2020-W29</td>\n",
       "      <td>national</td>\n",
       "      <td>CY</td>\n",
       "      <td>Cyprus</td>\n",
       "      <td>17.0</td>\n",
       "      <td>10103</td>\n",
       "      <td>888005.0</td>\n",
       "      <td>1137.718819</td>\n",
       "      <td>0.168267</td>\n",
       "      <td>Other</td>\n",
       "    </tr>\n",
       "    <tr>\n",
       "      <th>823</th>\n",
       "      <td>Cyprus</td>\n",
       "      <td>CY</td>\n",
       "      <td>2020-W30</td>\n",
       "      <td>national</td>\n",
       "      <td>CY</td>\n",
       "      <td>Cyprus</td>\n",
       "      <td>19.0</td>\n",
       "      <td>10703</td>\n",
       "      <td>888005.0</td>\n",
       "      <td>1205.286006</td>\n",
       "      <td>0.177520</td>\n",
       "      <td>Other</td>\n",
       "    </tr>\n",
       "    <tr>\n",
       "      <th>824</th>\n",
       "      <td>Cyprus</td>\n",
       "      <td>CY</td>\n",
       "      <td>2020-W31</td>\n",
       "      <td>national</td>\n",
       "      <td>CY</td>\n",
       "      <td>Cyprus</td>\n",
       "      <td>93.0</td>\n",
       "      <td>15404</td>\n",
       "      <td>888005.0</td>\n",
       "      <td>1734.674917</td>\n",
       "      <td>0.603739</td>\n",
       "      <td>Other</td>\n",
       "    </tr>\n",
       "    <tr>\n",
       "      <th>825</th>\n",
       "      <td>Cyprus</td>\n",
       "      <td>CY</td>\n",
       "      <td>2020-W32</td>\n",
       "      <td>national</td>\n",
       "      <td>CY</td>\n",
       "      <td>Cyprus</td>\n",
       "      <td>92.0</td>\n",
       "      <td>22959</td>\n",
       "      <td>888005.0</td>\n",
       "      <td>2585.458415</td>\n",
       "      <td>0.400714</td>\n",
       "      <td>Other</td>\n",
       "    </tr>\n",
       "    <tr>\n",
       "      <th>826</th>\n",
       "      <td>Cyprus</td>\n",
       "      <td>CY</td>\n",
       "      <td>2020-W33</td>\n",
       "      <td>national</td>\n",
       "      <td>CY</td>\n",
       "      <td>Cyprus</td>\n",
       "      <td>90.0</td>\n",
       "      <td>23053</td>\n",
       "      <td>888005.0</td>\n",
       "      <td>2596.043941</td>\n",
       "      <td>0.390405</td>\n",
       "      <td>Other</td>\n",
       "    </tr>\n",
       "    <tr>\n",
       "      <th>827</th>\n",
       "      <td>Cyprus</td>\n",
       "      <td>CY</td>\n",
       "      <td>2020-W34</td>\n",
       "      <td>national</td>\n",
       "      <td>CY</td>\n",
       "      <td>Cyprus</td>\n",
       "      <td>89.0</td>\n",
       "      <td>24751</td>\n",
       "      <td>888005.0</td>\n",
       "      <td>2787.259081</td>\n",
       "      <td>0.359581</td>\n",
       "      <td>Other</td>\n",
       "    </tr>\n",
       "    <tr>\n",
       "      <th>828</th>\n",
       "      <td>Cyprus</td>\n",
       "      <td>CY</td>\n",
       "      <td>2020-W35</td>\n",
       "      <td>national</td>\n",
       "      <td>CY</td>\n",
       "      <td>Cyprus</td>\n",
       "      <td>66.0</td>\n",
       "      <td>20858</td>\n",
       "      <td>888005.0</td>\n",
       "      <td>2348.860648</td>\n",
       "      <td>0.316425</td>\n",
       "      <td>Other</td>\n",
       "    </tr>\n",
       "    <tr>\n",
       "      <th>829</th>\n",
       "      <td>Cyprus</td>\n",
       "      <td>CY</td>\n",
       "      <td>2020-W36</td>\n",
       "      <td>national</td>\n",
       "      <td>CY</td>\n",
       "      <td>Cyprus</td>\n",
       "      <td>22.0</td>\n",
       "      <td>16347</td>\n",
       "      <td>888005.0</td>\n",
       "      <td>1840.868013</td>\n",
       "      <td>0.134581</td>\n",
       "      <td>Other</td>\n",
       "    </tr>\n",
       "    <tr>\n",
       "      <th>830</th>\n",
       "      <td>Cyprus</td>\n",
       "      <td>CY</td>\n",
       "      <td>2020-W37</td>\n",
       "      <td>national</td>\n",
       "      <td>CY</td>\n",
       "      <td>Cyprus</td>\n",
       "      <td>17.0</td>\n",
       "      <td>17787</td>\n",
       "      <td>888005.0</td>\n",
       "      <td>2003.029262</td>\n",
       "      <td>0.095575</td>\n",
       "      <td>Other</td>\n",
       "    </tr>\n",
       "    <tr>\n",
       "      <th>831</th>\n",
       "      <td>Cyprus</td>\n",
       "      <td>CY</td>\n",
       "      <td>2020-W38</td>\n",
       "      <td>national</td>\n",
       "      <td>CY</td>\n",
       "      <td>Cyprus</td>\n",
       "      <td>74.0</td>\n",
       "      <td>17670</td>\n",
       "      <td>888005.0</td>\n",
       "      <td>1989.853661</td>\n",
       "      <td>0.418789</td>\n",
       "      <td>Other</td>\n",
       "    </tr>\n",
       "    <tr>\n",
       "      <th>832</th>\n",
       "      <td>Cyprus</td>\n",
       "      <td>CY</td>\n",
       "      <td>2020-W39</td>\n",
       "      <td>national</td>\n",
       "      <td>CY</td>\n",
       "      <td>Cyprus</td>\n",
       "      <td>96.0</td>\n",
       "      <td>21128</td>\n",
       "      <td>888005.0</td>\n",
       "      <td>2379.265883</td>\n",
       "      <td>0.454373</td>\n",
       "      <td>Other</td>\n",
       "    </tr>\n",
       "    <tr>\n",
       "      <th>833</th>\n",
       "      <td>Cyprus</td>\n",
       "      <td>CY</td>\n",
       "      <td>2020-W40</td>\n",
       "      <td>national</td>\n",
       "      <td>CY</td>\n",
       "      <td>Cyprus</td>\n",
       "      <td>128.0</td>\n",
       "      <td>19817</td>\n",
       "      <td>888005.0</td>\n",
       "      <td>2231.631579</td>\n",
       "      <td>0.645910</td>\n",
       "      <td>Other</td>\n",
       "    </tr>\n",
       "    <tr>\n",
       "      <th>834</th>\n",
       "      <td>Cyprus</td>\n",
       "      <td>CY</td>\n",
       "      <td>2020-W41</td>\n",
       "      <td>national</td>\n",
       "      <td>CY</td>\n",
       "      <td>Cyprus</td>\n",
       "      <td>162.0</td>\n",
       "      <td>21166</td>\n",
       "      <td>888005.0</td>\n",
       "      <td>2383.545138</td>\n",
       "      <td>0.765378</td>\n",
       "      <td>Other</td>\n",
       "    </tr>\n",
       "  </tbody>\n",
       "</table>\n",
       "</div>"
      ],
      "text/plain": [
       "    country country_code year_week     level region region_name  new_cases  \\\n",
       "821  Cyprus           CY  2020-W28  national     CY      Cyprus       18.0   \n",
       "822  Cyprus           CY  2020-W29  national     CY      Cyprus       17.0   \n",
       "823  Cyprus           CY  2020-W30  national     CY      Cyprus       19.0   \n",
       "824  Cyprus           CY  2020-W31  national     CY      Cyprus       93.0   \n",
       "825  Cyprus           CY  2020-W32  national     CY      Cyprus       92.0   \n",
       "826  Cyprus           CY  2020-W33  national     CY      Cyprus       90.0   \n",
       "827  Cyprus           CY  2020-W34  national     CY      Cyprus       89.0   \n",
       "828  Cyprus           CY  2020-W35  national     CY      Cyprus       66.0   \n",
       "829  Cyprus           CY  2020-W36  national     CY      Cyprus       22.0   \n",
       "830  Cyprus           CY  2020-W37  national     CY      Cyprus       17.0   \n",
       "831  Cyprus           CY  2020-W38  national     CY      Cyprus       74.0   \n",
       "832  Cyprus           CY  2020-W39  national     CY      Cyprus       96.0   \n",
       "833  Cyprus           CY  2020-W40  national     CY      Cyprus      128.0   \n",
       "834  Cyprus           CY  2020-W41  national     CY      Cyprus      162.0   \n",
       "\n",
       "     tests_done  population  testing_rate  positivity_rate testing_data_source  \n",
       "821        9471    888005.0   1066.548049         0.190054               Other  \n",
       "822       10103    888005.0   1137.718819         0.168267               Other  \n",
       "823       10703    888005.0   1205.286006         0.177520               Other  \n",
       "824       15404    888005.0   1734.674917         0.603739               Other  \n",
       "825       22959    888005.0   2585.458415         0.400714               Other  \n",
       "826       23053    888005.0   2596.043941         0.390405               Other  \n",
       "827       24751    888005.0   2787.259081         0.359581               Other  \n",
       "828       20858    888005.0   2348.860648         0.316425               Other  \n",
       "829       16347    888005.0   1840.868013         0.134581               Other  \n",
       "830       17787    888005.0   2003.029262         0.095575               Other  \n",
       "831       17670    888005.0   1989.853661         0.418789               Other  \n",
       "832       21128    888005.0   2379.265883         0.454373               Other  \n",
       "833       19817    888005.0   2231.631579         0.645910               Other  \n",
       "834       21166    888005.0   2383.545138         0.765378               Other  "
      ]
     },
     "execution_count": 95,
     "metadata": {},
     "output_type": "execute_result"
    }
   ],
   "source": [
    "grouped2.get_group('Other')[grouped2.get_group('Other')['country']=='Cyprus']"
   ]
  },
  {
   "cell_type": "code",
   "execution_count": 97,
   "id": "3e81c458",
   "metadata": {},
   "outputs": [
    {
     "data": {
      "text/html": [
       "<div>\n",
       "<style scoped>\n",
       "    .dataframe tbody tr th:only-of-type {\n",
       "        vertical-align: middle;\n",
       "    }\n",
       "\n",
       "    .dataframe tbody tr th {\n",
       "        vertical-align: top;\n",
       "    }\n",
       "\n",
       "    .dataframe thead th {\n",
       "        text-align: right;\n",
       "    }\n",
       "</style>\n",
       "<table border=\"1\" class=\"dataframe\">\n",
       "  <thead>\n",
       "    <tr style=\"text-align: right;\">\n",
       "      <th></th>\n",
       "      <th>country</th>\n",
       "      <th>country_code</th>\n",
       "      <th>year_week</th>\n",
       "      <th>level</th>\n",
       "      <th>region</th>\n",
       "      <th>region_name</th>\n",
       "      <th>new_cases</th>\n",
       "      <th>tests_done</th>\n",
       "      <th>population</th>\n",
       "      <th>testing_rate</th>\n",
       "      <th>positivity_rate</th>\n",
       "      <th>testing_data_source</th>\n",
       "    </tr>\n",
       "  </thead>\n",
       "  <tbody>\n",
       "    <tr>\n",
       "      <th>821</th>\n",
       "      <td>Cyprus</td>\n",
       "      <td>CY</td>\n",
       "      <td>2020-W28</td>\n",
       "      <td>national</td>\n",
       "      <td>CY</td>\n",
       "      <td>Cyprus</td>\n",
       "      <td>18.0</td>\n",
       "      <td>9471</td>\n",
       "      <td>888005.0</td>\n",
       "      <td>1066.548049</td>\n",
       "      <td>0.190054</td>\n",
       "      <td>Other</td>\n",
       "    </tr>\n",
       "    <tr>\n",
       "      <th>822</th>\n",
       "      <td>Cyprus</td>\n",
       "      <td>CY</td>\n",
       "      <td>2020-W29</td>\n",
       "      <td>national</td>\n",
       "      <td>CY</td>\n",
       "      <td>Cyprus</td>\n",
       "      <td>17.0</td>\n",
       "      <td>10103</td>\n",
       "      <td>888005.0</td>\n",
       "      <td>1137.718819</td>\n",
       "      <td>0.168267</td>\n",
       "      <td>Other</td>\n",
       "    </tr>\n",
       "    <tr>\n",
       "      <th>823</th>\n",
       "      <td>Cyprus</td>\n",
       "      <td>CY</td>\n",
       "      <td>2020-W30</td>\n",
       "      <td>national</td>\n",
       "      <td>CY</td>\n",
       "      <td>Cyprus</td>\n",
       "      <td>19.0</td>\n",
       "      <td>10703</td>\n",
       "      <td>888005.0</td>\n",
       "      <td>1205.286006</td>\n",
       "      <td>0.177520</td>\n",
       "      <td>Other</td>\n",
       "    </tr>\n",
       "    <tr>\n",
       "      <th>824</th>\n",
       "      <td>Cyprus</td>\n",
       "      <td>CY</td>\n",
       "      <td>2020-W31</td>\n",
       "      <td>national</td>\n",
       "      <td>CY</td>\n",
       "      <td>Cyprus</td>\n",
       "      <td>93.0</td>\n",
       "      <td>15404</td>\n",
       "      <td>888005.0</td>\n",
       "      <td>1734.674917</td>\n",
       "      <td>0.603739</td>\n",
       "      <td>Other</td>\n",
       "    </tr>\n",
       "    <tr>\n",
       "      <th>825</th>\n",
       "      <td>Cyprus</td>\n",
       "      <td>CY</td>\n",
       "      <td>2020-W32</td>\n",
       "      <td>national</td>\n",
       "      <td>CY</td>\n",
       "      <td>Cyprus</td>\n",
       "      <td>92.0</td>\n",
       "      <td>22959</td>\n",
       "      <td>888005.0</td>\n",
       "      <td>2585.458415</td>\n",
       "      <td>0.400714</td>\n",
       "      <td>Other</td>\n",
       "    </tr>\n",
       "  </tbody>\n",
       "</table>\n",
       "</div>"
      ],
      "text/plain": [
       "    country country_code year_week     level region region_name  new_cases  \\\n",
       "821  Cyprus           CY  2020-W28  national     CY      Cyprus       18.0   \n",
       "822  Cyprus           CY  2020-W29  national     CY      Cyprus       17.0   \n",
       "823  Cyprus           CY  2020-W30  national     CY      Cyprus       19.0   \n",
       "824  Cyprus           CY  2020-W31  national     CY      Cyprus       93.0   \n",
       "825  Cyprus           CY  2020-W32  national     CY      Cyprus       92.0   \n",
       "\n",
       "     tests_done  population  testing_rate  positivity_rate testing_data_source  \n",
       "821        9471    888005.0   1066.548049         0.190054               Other  \n",
       "822       10103    888005.0   1137.718819         0.168267               Other  \n",
       "823       10703    888005.0   1205.286006         0.177520               Other  \n",
       "824       15404    888005.0   1734.674917         0.603739               Other  \n",
       "825       22959    888005.0   2585.458415         0.400714               Other  "
      ]
     },
     "execution_count": 97,
     "metadata": {},
     "output_type": "execute_result"
    }
   ],
   "source": [
    "cyprus_of_other=grouped2.get_group('Other')[grouped2.get_group('Other')['country']=='Cyprus']\n",
    "cyprus_of_other.head()"
   ]
  },
  {
   "cell_type": "code",
   "execution_count": 108,
   "id": "da200a5b",
   "metadata": {},
   "outputs": [
    {
     "data": {
      "text/plain": [
       "Index(['CY'], dtype='object')"
      ]
     },
     "execution_count": 108,
     "metadata": {},
     "output_type": "execute_result"
    }
   ],
   "source": [
    "cyprus_of_other['country_code'].value_counts().index\n",
    "\n",
    "# this is country code"
   ]
  },
  {
   "cell_type": "code",
   "execution_count": 110,
   "id": "ab883139",
   "metadata": {},
   "outputs": [
    {
     "data": {
      "text/plain": [
       "2020-W28    1\n",
       "2020-W29    1\n",
       "2020-W30    1\n",
       "2020-W31    1\n",
       "2020-W32    1\n",
       "2020-W33    1\n",
       "2020-W34    1\n",
       "2020-W35    1\n",
       "2020-W36    1\n",
       "2020-W37    1\n",
       "2020-W38    1\n",
       "2020-W39    1\n",
       "2020-W40    1\n",
       "2020-W41    1\n",
       "Name: year_week, dtype: int64"
      ]
     },
     "execution_count": 110,
     "metadata": {},
     "output_type": "execute_result"
    }
   ],
   "source": [
    "cyprus_of_other['year_week'].value_counts()"
   ]
  },
  {
   "cell_type": "code",
   "execution_count": 119,
   "id": "10fe01e8",
   "metadata": {},
   "outputs": [
    {
     "data": {
      "text/plain": [
       "TESSy                 7267\n",
       "Country website        173\n",
       "Other                   37\n",
       "Country API             36\n",
       "Survey                  35\n",
       "Country GitHub          18\n",
       "Manual webscraping       6\n",
       "Name: testing_data_source, dtype: int64"
      ]
     },
     "execution_count": 119,
     "metadata": {},
     "output_type": "execute_result"
    }
   ],
   "source": [
    "data['testing_data_source'].value_counts()"
   ]
  },
  {
   "cell_type": "code",
   "execution_count": 118,
   "id": "ec87a9a3",
   "metadata": {},
   "outputs": [
    {
     "data": {
      "text/plain": [
       "TESSy              41\n",
       "Other              14\n",
       "Country website    12\n",
       "Survey              6\n",
       "Name: testing_data_source, dtype: int64"
      ]
     },
     "execution_count": 118,
     "metadata": {},
     "output_type": "execute_result"
    }
   ],
   "source": [
    "grp=data.groupby(['country'])\n",
    "grp.get_group('Cyprus')['testing_data_source'].value_counts()"
   ]
  },
  {
   "cell_type": "markdown",
   "id": "21872a9b",
   "metadata": {},
   "source": [
    "# year_weak"
   ]
  },
  {
   "cell_type": "code",
   "execution_count": 139,
   "id": "d760988c",
   "metadata": {},
   "outputs": [],
   "source": [
    "year=[]\n",
    "week=[]\n",
    "for i in data['year_week'].str.split('-'):\n",
    "    year.append(i[0])\n",
    "    week.append(i[1])"
   ]
  },
  {
   "cell_type": "code",
   "execution_count": 142,
   "id": "835631d4",
   "metadata": {},
   "outputs": [],
   "source": [
    "data['year']=pd.Series(year)"
   ]
  },
  {
   "cell_type": "code",
   "execution_count": 143,
   "id": "337d2d91",
   "metadata": {},
   "outputs": [],
   "source": [
    "data['week']=pd.Series(week)"
   ]
  },
  {
   "cell_type": "code",
   "execution_count": 146,
   "id": "d6125d04",
   "metadata": {},
   "outputs": [
    {
     "data": {
      "text/html": [
       "<div>\n",
       "<style scoped>\n",
       "    .dataframe tbody tr th:only-of-type {\n",
       "        vertical-align: middle;\n",
       "    }\n",
       "\n",
       "    .dataframe tbody tr th {\n",
       "        vertical-align: top;\n",
       "    }\n",
       "\n",
       "    .dataframe thead th {\n",
       "        text-align: right;\n",
       "    }\n",
       "</style>\n",
       "<table border=\"1\" class=\"dataframe\">\n",
       "  <thead>\n",
       "    <tr style=\"text-align: right;\">\n",
       "      <th></th>\n",
       "      <th>year</th>\n",
       "      <th>week</th>\n",
       "    </tr>\n",
       "  </thead>\n",
       "  <tbody>\n",
       "    <tr>\n",
       "      <th>0</th>\n",
       "      <td>2020</td>\n",
       "      <td>W15</td>\n",
       "    </tr>\n",
       "    <tr>\n",
       "      <th>1</th>\n",
       "      <td>2020</td>\n",
       "      <td>W16</td>\n",
       "    </tr>\n",
       "    <tr>\n",
       "      <th>2</th>\n",
       "      <td>2020</td>\n",
       "      <td>W17</td>\n",
       "    </tr>\n",
       "    <tr>\n",
       "      <th>3</th>\n",
       "      <td>2020</td>\n",
       "      <td>W18</td>\n",
       "    </tr>\n",
       "    <tr>\n",
       "      <th>4</th>\n",
       "      <td>2020</td>\n",
       "      <td>W19</td>\n",
       "    </tr>\n",
       "  </tbody>\n",
       "</table>\n",
       "</div>"
      ],
      "text/plain": [
       "   year week\n",
       "0  2020  W15\n",
       "1  2020  W16\n",
       "2  2020  W17\n",
       "3  2020  W18\n",
       "4  2020  W19"
      ]
     },
     "execution_count": 146,
     "metadata": {},
     "output_type": "execute_result"
    }
   ],
   "source": [
    "data[['year','week']].head()\n",
    "# now i will deal with week column"
   ]
  },
  {
   "cell_type": "code",
   "execution_count": 148,
   "id": "6f316c51",
   "metadata": {},
   "outputs": [],
   "source": [
    "data['week']=data['week'].str.replace('W','')"
   ]
  },
  {
   "cell_type": "code",
   "execution_count": 149,
   "id": "6cf8e1f6",
   "metadata": {},
   "outputs": [
    {
     "data": {
      "text/html": [
       "<div>\n",
       "<style scoped>\n",
       "    .dataframe tbody tr th:only-of-type {\n",
       "        vertical-align: middle;\n",
       "    }\n",
       "\n",
       "    .dataframe tbody tr th {\n",
       "        vertical-align: top;\n",
       "    }\n",
       "\n",
       "    .dataframe thead th {\n",
       "        text-align: right;\n",
       "    }\n",
       "</style>\n",
       "<table border=\"1\" class=\"dataframe\">\n",
       "  <thead>\n",
       "    <tr style=\"text-align: right;\">\n",
       "      <th></th>\n",
       "      <th>year</th>\n",
       "      <th>week</th>\n",
       "    </tr>\n",
       "  </thead>\n",
       "  <tbody>\n",
       "    <tr>\n",
       "      <th>0</th>\n",
       "      <td>2020</td>\n",
       "      <td>15</td>\n",
       "    </tr>\n",
       "    <tr>\n",
       "      <th>1</th>\n",
       "      <td>2020</td>\n",
       "      <td>16</td>\n",
       "    </tr>\n",
       "    <tr>\n",
       "      <th>2</th>\n",
       "      <td>2020</td>\n",
       "      <td>17</td>\n",
       "    </tr>\n",
       "    <tr>\n",
       "      <th>3</th>\n",
       "      <td>2020</td>\n",
       "      <td>18</td>\n",
       "    </tr>\n",
       "    <tr>\n",
       "      <th>4</th>\n",
       "      <td>2020</td>\n",
       "      <td>19</td>\n",
       "    </tr>\n",
       "  </tbody>\n",
       "</table>\n",
       "</div>"
      ],
      "text/plain": [
       "   year week\n",
       "0  2020   15\n",
       "1  2020   16\n",
       "2  2020   17\n",
       "3  2020   18\n",
       "4  2020   19"
      ]
     },
     "execution_count": 149,
     "metadata": {},
     "output_type": "execute_result"
    }
   ],
   "source": [
    "data[['year','week']].head()\n"
   ]
  },
  {
   "cell_type": "code",
   "execution_count": 150,
   "id": "fde92be2",
   "metadata": {},
   "outputs": [
    {
     "data": {
      "text/plain": [
       "year    object\n",
       "week    object\n",
       "dtype: object"
      ]
     },
     "execution_count": 150,
     "metadata": {},
     "output_type": "execute_result"
    }
   ],
   "source": [
    "data[['year','week']].dtypes\n"
   ]
  },
  {
   "cell_type": "markdown",
   "id": "a4a73c49",
   "metadata": {},
   "source": [
    "# agg function"
   ]
  },
  {
   "cell_type": "code",
   "execution_count": 157,
   "id": "e116c324",
   "metadata": {},
   "outputs": [
    {
     "data": {
      "text/plain": [
       "5883504.265119902"
      ]
     },
     "execution_count": 157,
     "metadata": {},
     "output_type": "execute_result"
    }
   ],
   "source": [
    "data.agg({'tests_done':'sum','population':'mean'}).values[1]\n",
    "# this is the mean value of population"
   ]
  },
  {
   "cell_type": "code",
   "execution_count": 158,
   "id": "7758c84b",
   "metadata": {},
   "outputs": [
    {
     "data": {
      "text/plain": [
       "5883504.265119902"
      ]
     },
     "execution_count": 158,
     "metadata": {},
     "output_type": "execute_result"
    }
   ],
   "source": [
    "data['population'].mean()"
   ]
  },
  {
   "cell_type": "markdown",
   "id": "48c556fe",
   "metadata": {},
   "source": [
    "### groupby country with another columns awesome trick"
   ]
  },
  {
   "cell_type": "code",
   "execution_count": 171,
   "id": "13960202",
   "metadata": {},
   "outputs": [
    {
     "data": {
      "text/plain": [
       "country  region\n",
       "Austria  AT        68\n",
       "         AT11      33\n",
       "         AT12      33\n",
       "         AT13      33\n",
       "         AT21      33\n",
       "                   ..\n",
       "Spain    ES62      43\n",
       "         ES63      43\n",
       "         ES64      43\n",
       "         ES70      43\n",
       "Sweden   SE        70\n",
       "Name: region, Length: 154, dtype: int64"
      ]
     },
     "execution_count": 171,
     "metadata": {},
     "output_type": "execute_result"
    }
   ],
   "source": [
    "grouped['region'].value_counts()\n",
    "# this is important"
   ]
  },
  {
   "cell_type": "code",
   "execution_count": 161,
   "id": "6709cf78",
   "metadata": {},
   "outputs": [
    {
     "data": {
      "text/plain": [
       "country   region\n",
       "Austria   AT        68\n",
       "          AT11      33\n",
       "          AT12      33\n",
       "          AT13      33\n",
       "          AT21      33\n",
       "          AT22      33\n",
       "          AT31      33\n",
       "          AT32      33\n",
       "          AT33      33\n",
       "          AT34      33\n",
       "Belgium   BE        75\n",
       "          BE1       30\n",
       "          BE3       30\n",
       "          BE2       29\n",
       "Bulgaria  BG        61\n",
       "Croatia   HR        79\n",
       "          HR03      68\n",
       "          HR02      22\n",
       "          HR05      22\n",
       "          HR06      22\n",
       "Cyprus    CY        73\n",
       "Czechia   CZ        79\n",
       "Denmark   DK        79\n",
       "          DK01      40\n",
       "          DK02      40\n",
       "          DK03      40\n",
       "          DK04      40\n",
       "          DK05      40\n",
       "Estonia   EE        77\n",
       "Finland   FI        83\n",
       "France    FR        75\n",
       "          FR1       33\n",
       "          FRB       33\n",
       "          FRC       33\n",
       "          FRD       33\n",
       "          FRE       33\n",
       "          FRF       33\n",
       "          FRG       33\n",
       "          FRH       33\n",
       "          FRI       33\n",
       "          FRJ       33\n",
       "          FRK       33\n",
       "          FRL       33\n",
       "          FRM       33\n",
       "          FRY1      33\n",
       "          FRY2      33\n",
       "          FRY3      33\n",
       "          FRY4      33\n",
       "          FRY5      33\n",
       "Germany   DE        74\n",
       "Name: region, dtype: int64"
      ]
     },
     "execution_count": 161,
     "metadata": {},
     "output_type": "execute_result"
    }
   ],
   "source": [
    "#country with region group by using group\n",
    "grouped['region'].value_counts().head(50)\n",
    "# according to this Austria have 10 region and what the region how much\n",
    "####\n",
    "# and now i want to fatch or display just France column next step check it"
   ]
  },
  {
   "cell_type": "code",
   "execution_count": 40,
   "id": "73b95d8d",
   "metadata": {},
   "outputs": [
    {
     "data": {
      "text/plain": [
       "country        testing_data_source\n",
       "Austria        TESSy                   339\n",
       "               Country website          23\n",
       "               Manual webscraping        3\n",
       "Belgium        TESSy                   151\n",
       "               Country website          13\n",
       "Bulgaria       TESSy                    61\n",
       "Croatia        TESSy                   213\n",
       "Cyprus         TESSy                    41\n",
       "               Other                    14\n",
       "               Country website          12\n",
       "               Survey                    6\n",
       "Czechia        TESSy                    79\n",
       "Denmark        TESSy                   243\n",
       "               Country website          36\n",
       "Estonia        TESSy                    66\n",
       "               Country API              11\n",
       "Finland        TESSy                    42\n",
       "               Country API              25\n",
       "               Survey                   16\n",
       "France         TESSy                   669\n",
       "Germany        TESSy                    74\n",
       "Greece         TESSy                   296\n",
       "Hungary        TESSy                    74\n",
       "Iceland        TESSy                    44\n",
       "               Country website          31\n",
       "Ireland        TESSy                    78\n",
       "Italy          TESSy                  1026\n",
       "               Country GitHub           15\n",
       "Latvia         TESSy                    77\n",
       "Liechtenstein  TESSy                     2\n",
       "Lithuania      TESSy                   133\n",
       "               Country website          23\n",
       "Luxembourg     TESSy                    75\n",
       "Malta          TESSy                    77\n",
       "Netherlands    TESSy                    73\n",
       "Norway         TESSy                   834\n",
       "Poland         TESSy                  1191\n",
       "Portugal       TESSy                   206\n",
       "               Country website           1\n",
       "Romania        TESSy                    71\n",
       "               Country website           2\n",
       "Slovakia       TESSy                    54\n",
       "               Country website          22\n",
       "               Country GitHub            2\n",
       "Slovenia       TESSy                    74\n",
       "               Country GitHub            1\n",
       "Spain          TESSy                   860\n",
       "               Other                    23\n",
       "Sweden         TESSy                    44\n",
       "               Survey                   13\n",
       "               Country website          10\n",
       "               Manual webscraping        3\n",
       "Name: testing_data_source, dtype: int64"
      ]
     },
     "execution_count": 40,
     "metadata": {},
     "output_type": "execute_result"
    }
   ],
   "source": [
    "grouped['testing_data_source'].value_counts()\n",
    "#next step below"
   ]
  },
  {
   "cell_type": "code",
   "execution_count": 190,
   "id": "75582c87",
   "metadata": {},
   "outputs": [
    {
     "data": {
      "text/plain": [
       "country   level      \n",
       "Austria   subnational    297\n",
       "          national        68\n",
       "Belgium   subnational     89\n",
       "          national        75\n",
       "Bulgaria  national        61\n",
       "                        ... \n",
       "Slovakia  national        78\n",
       "Slovenia  national        75\n",
       "Spain     subnational    817\n",
       "          national        66\n",
       "Sweden    national        70\n",
       "Name: level, Length: 42, dtype: int64"
      ]
     },
     "execution_count": 190,
     "metadata": {},
     "output_type": "execute_result"
    }
   ],
   "source": [
    "grouped['level'].value_counts()"
   ]
  },
  {
   "cell_type": "code",
   "execution_count": 189,
   "id": "8f5d8090",
   "metadata": {},
   "outputs": [
    {
     "data": {
      "text/plain": [
       "level\n",
       "subnational    297\n",
       "national        68\n",
       "Name: level, dtype: int64"
      ]
     },
     "execution_count": 189,
     "metadata": {},
     "output_type": "execute_result"
    }
   ],
   "source": [
    "grouped['level'].value_counts()['Austria']"
   ]
  },
  {
   "cell_type": "code",
   "execution_count": 46,
   "id": "afe2c450",
   "metadata": {},
   "outputs": [
    {
     "data": {
      "text/plain": [
       "TESSy                 339\n",
       "Country website        23\n",
       "Manual webscraping      3\n",
       "Name: testing_data_source, dtype: int64"
      ]
     },
     "execution_count": 46,
     "metadata": {},
     "output_type": "execute_result"
    }
   ],
   "source": [
    "grouped.get_group('Austria')['testing_data_source'].value_counts()\n",
    "# 10 regions are presents in the Austria"
   ]
  },
  {
   "cell_type": "code",
   "execution_count": 193,
   "id": "b1318a8e",
   "metadata": {},
   "outputs": [
    {
     "data": {
      "text/plain": [
       "testing_data_source\n",
       "TESSy                 339\n",
       "Country website        23\n",
       "Manual webscraping      3\n",
       "Name: testing_data_source, dtype: int64"
      ]
     },
     "execution_count": 193,
     "metadata": {},
     "output_type": "execute_result"
    }
   ],
   "source": [
    "grouped['testing_data_source'].value_counts()['Austria']"
   ]
  },
  {
   "cell_type": "markdown",
   "id": "06e0f47a",
   "metadata": {},
   "source": [
    "# for grouped wise "
   ]
  },
  {
   "cell_type": "code",
   "execution_count": 50,
   "id": "312577e8",
   "metadata": {},
   "outputs": [
    {
     "data": {
      "text/plain": [
       "country        level      \n",
       "Austria        subnational     297\n",
       "               national         68\n",
       "Belgium        subnational      89\n",
       "               national         75\n",
       "Bulgaria       national         61\n",
       "Croatia        subnational     134\n",
       "               national         79\n",
       "Cyprus         national         73\n",
       "Czechia        national         79\n",
       "Denmark        subnational     200\n",
       "               national         79\n",
       "Estonia        national         77\n",
       "Finland        national         83\n",
       "France         subnational     594\n",
       "               national         75\n",
       "Germany        national         74\n",
       "Greece         subnational     221\n",
       "               national         75\n",
       "Hungary        national         74\n",
       "Iceland        national         75\n",
       "Ireland        national         78\n",
       "Italy          subnational     966\n",
       "               national         75\n",
       "Latvia         national         77\n",
       "Liechtenstein  national          2\n",
       "Lithuania      subnational      82\n",
       "               national         74\n",
       "Luxembourg     national         75\n",
       "Malta          national         77\n",
       "Netherlands    national         73\n",
       "Norway         subnational     759\n",
       "               national         75\n",
       "Poland         subnational    1117\n",
       "               national         74\n",
       "Portugal       subnational     132\n",
       "               national         75\n",
       "Romania        national         73\n",
       "Slovakia       national         78\n",
       "Slovenia       national         75\n",
       "Spain          subnational     817\n",
       "               national         66\n",
       "Sweden         national         70\n",
       "Name: level, dtype: int64"
      ]
     },
     "execution_count": 50,
     "metadata": {},
     "output_type": "execute_result"
    }
   ],
   "source": [
    "grouped['level'].value_counts()"
   ]
  },
  {
   "cell_type": "markdown",
   "id": "1d5a1621",
   "metadata": {},
   "source": [
    "# for particular country in grouped"
   ]
  },
  {
   "cell_type": "code",
   "execution_count": 51,
   "id": "f9748862",
   "metadata": {},
   "outputs": [
    {
     "data": {
      "text/plain": [
       "level\n",
       "subnational    297\n",
       "national        68\n",
       "Name: level, dtype: int64"
      ]
     },
     "execution_count": 51,
     "metadata": {},
     "output_type": "execute_result"
    }
   ],
   "source": [
    "grouped['level'].value_counts().loc['Austria']"
   ]
  },
  {
   "cell_type": "code",
   "execution_count": 195,
   "id": "4e8ab40d",
   "metadata": {},
   "outputs": [
    {
     "data": {
      "text/plain": [
       "365"
      ]
     },
     "execution_count": 195,
     "metadata": {},
     "output_type": "execute_result"
    }
   ],
   "source": [
    "grouped.get_group('Austria')['level'].value_counts().sum()"
   ]
  },
  {
   "cell_type": "code",
   "execution_count": 210,
   "id": "df7d8d1a",
   "metadata": {},
   "outputs": [],
   "source": [
    "\n",
    "def level_count():\n",
    "    level_count=[]\n",
    "    for country_name in data['country'].value_counts().index:\n",
    "        level_count.append(grouped.get_group(country_name)['level'].value_counts().sum())\n",
    "    return level_count\n",
    "\n",
    "# total levels in each country by prectice"
   ]
  },
  {
   "cell_type": "code",
   "execution_count": 232,
   "id": "f31d2f82",
   "metadata": {},
   "outputs": [
    {
     "data": {
      "text/plain": [
       "[1191,\n",
       " 1041,\n",
       " 883,\n",
       " 834,\n",
       " 669,\n",
       " 365,\n",
       " 296,\n",
       " 279,\n",
       " 213,\n",
       " 207,\n",
       " 164,\n",
       " 156,\n",
       " 83,\n",
       " 79,\n",
       " 78,\n",
       " 78,\n",
       " 77,\n",
       " 77,\n",
       " 77,\n",
       " 75,\n",
       " 75,\n",
       " 75,\n",
       " 74,\n",
       " 74,\n",
       " 73,\n",
       " 73,\n",
       " 73,\n",
       " 70,\n",
       " 61,\n",
       " 2]"
      ]
     },
     "execution_count": 232,
     "metadata": {},
     "output_type": "execute_result"
    }
   ],
   "source": [
    "level_count()"
   ]
  },
  {
   "cell_type": "code",
   "execution_count": 233,
   "id": "991bfeab",
   "metadata": {},
   "outputs": [
    {
     "data": {
      "text/plain": [
       "(7572, 14)"
      ]
     },
     "execution_count": 233,
     "metadata": {},
     "output_type": "execute_result"
    }
   ],
   "source": [
    "data.shape"
   ]
  },
  {
   "cell_type": "code",
   "execution_count": 230,
   "id": "7b84ed72",
   "metadata": {},
   "outputs": [
    {
     "data": {
      "text/plain": [
       "country   level      \n",
       "Austria   subnational    297\n",
       "          national        68\n",
       "Belgium   subnational     89\n",
       "          national        75\n",
       "Bulgaria  national        61\n",
       "                        ... \n",
       "Slovakia  national        78\n",
       "Slovenia  national        75\n",
       "Spain     subnational    817\n",
       "          national        66\n",
       "Sweden    national        70\n",
       "Name: level, Length: 42, dtype: int64"
      ]
     },
     "execution_count": 230,
     "metadata": {},
     "output_type": "execute_result"
    }
   ],
   "source": [
    "grouped['level'].value_counts()"
   ]
  },
  {
   "cell_type": "markdown",
   "id": "083e7131",
   "metadata": {},
   "source": [
    "### both are same output but method different"
   ]
  },
  {
   "cell_type": "code",
   "execution_count": 56,
   "id": "25396c55",
   "metadata": {},
   "outputs": [
    {
     "data": {
      "text/plain": [
       "testing_data_source\n",
       "TESSy                 339\n",
       "Country website        23\n",
       "Manual webscraping      3\n",
       "Name: testing_data_source, dtype: int64"
      ]
     },
     "execution_count": 56,
     "metadata": {},
     "output_type": "execute_result"
    }
   ],
   "source": [
    "grouped['testing_data_source'].value_counts().loc['Austria']\n",
    "# with loc"
   ]
  },
  {
   "cell_type": "code",
   "execution_count": 57,
   "id": "1133ecf4",
   "metadata": {},
   "outputs": [
    {
     "data": {
      "text/plain": [
       "testing_data_source\n",
       "TESSy                 339\n",
       "Country website        23\n",
       "Manual webscraping      3\n",
       "Name: testing_data_source, dtype: int64"
      ]
     },
     "execution_count": 57,
     "metadata": {},
     "output_type": "execute_result"
    }
   ],
   "source": [
    "grouped['testing_data_source'].value_counts()['Austria']\n",
    "# without LOC parameter"
   ]
  },
  {
   "cell_type": "markdown",
   "id": "b0f13581",
   "metadata": {},
   "source": [
    "## if you want to percentage value"
   ]
  },
  {
   "cell_type": "code",
   "execution_count": 61,
   "id": "653c4fb6",
   "metadata": {},
   "outputs": [
    {
     "data": {
      "text/html": [
       "<div>\n",
       "<style scoped>\n",
       "    .dataframe tbody tr th:only-of-type {\n",
       "        vertical-align: middle;\n",
       "    }\n",
       "\n",
       "    .dataframe tbody tr th {\n",
       "        vertical-align: top;\n",
       "    }\n",
       "\n",
       "    .dataframe thead th {\n",
       "        text-align: right;\n",
       "    }\n",
       "</style>\n",
       "<table border=\"1\" class=\"dataframe\">\n",
       "  <thead>\n",
       "    <tr style=\"text-align: right;\">\n",
       "      <th></th>\n",
       "      <th>country</th>\n",
       "      <th>country_code</th>\n",
       "      <th>year_week</th>\n",
       "      <th>level</th>\n",
       "      <th>region</th>\n",
       "      <th>region_name</th>\n",
       "      <th>new_cases</th>\n",
       "      <th>tests_done</th>\n",
       "      <th>population</th>\n",
       "      <th>testing_rate</th>\n",
       "      <th>positivity_rate</th>\n",
       "      <th>testing_data_source</th>\n",
       "    </tr>\n",
       "  </thead>\n",
       "  <tbody>\n",
       "    <tr>\n",
       "      <th>0</th>\n",
       "      <td>Austria</td>\n",
       "      <td>AT</td>\n",
       "      <td>2020-W15</td>\n",
       "      <td>national</td>\n",
       "      <td>AT</td>\n",
       "      <td>Austria</td>\n",
       "      <td>1954.0</td>\n",
       "      <td>12339</td>\n",
       "      <td>8901064.0</td>\n",
       "      <td>138.623877</td>\n",
       "      <td>15.835967</td>\n",
       "      <td>Manual webscraping</td>\n",
       "    </tr>\n",
       "    <tr>\n",
       "      <th>1</th>\n",
       "      <td>Austria</td>\n",
       "      <td>AT</td>\n",
       "      <td>2020-W16</td>\n",
       "      <td>national</td>\n",
       "      <td>AT</td>\n",
       "      <td>Austria</td>\n",
       "      <td>773.0</td>\n",
       "      <td>58488</td>\n",
       "      <td>8901064.0</td>\n",
       "      <td>657.089984</td>\n",
       "      <td>1.321639</td>\n",
       "      <td>Manual webscraping</td>\n",
       "    </tr>\n",
       "  </tbody>\n",
       "</table>\n",
       "</div>"
      ],
      "text/plain": [
       "   country country_code year_week     level region region_name  new_cases  \\\n",
       "0  Austria           AT  2020-W15  national     AT     Austria     1954.0   \n",
       "1  Austria           AT  2020-W16  national     AT     Austria      773.0   \n",
       "\n",
       "   tests_done  population  testing_rate  positivity_rate testing_data_source  \n",
       "0       12339   8901064.0    138.623877        15.835967  Manual webscraping  \n",
       "1       58488   8901064.0    657.089984         1.321639  Manual webscraping  "
      ]
     },
     "execution_count": 61,
     "metadata": {},
     "output_type": "execute_result"
    }
   ],
   "source": [
    "data.head(2)"
   ]
  },
  {
   "cell_type": "markdown",
   "id": "f5ae4c04",
   "metadata": {},
   "source": [
    "# value_counts for single grouped return in percentage value"
   ]
  },
  {
   "cell_type": "code",
   "execution_count": 69,
   "id": "628f59fd",
   "metadata": {},
   "outputs": [
    {
     "data": {
      "text/plain": [
       "level\n",
       "subnational    0.81\n",
       "national       0.19\n",
       "Name: level, dtype: float64"
      ]
     },
     "execution_count": 69,
     "metadata": {},
     "output_type": "execute_result"
    }
   ],
   "source": [
    "grouped['level'].value_counts(normalize=True).round(2)['Austria']"
   ]
  },
  {
   "cell_type": "code",
   "execution_count": 216,
   "id": "dfcbaa5f",
   "metadata": {},
   "outputs": [
    {
     "data": {
      "text/plain": [
       "subnational    0.81\n",
       "national       0.19\n",
       "Name: level, dtype: float64"
      ]
     },
     "execution_count": 216,
     "metadata": {},
     "output_type": "execute_result"
    }
   ],
   "source": [
    "grouped.get_group('Austria')['level'].value_counts(normalize=True).round(2)"
   ]
  },
  {
   "cell_type": "markdown",
   "id": "77fc2ecb",
   "metadata": {},
   "source": [
    "# for more than two feature or two grouped"
   ]
  },
  {
   "cell_type": "code",
   "execution_count": 222,
   "id": "357be221",
   "metadata": {},
   "outputs": [
    {
     "data": {
      "text/plain": [
       "country  level      \n",
       "Austria  subnational    297\n",
       "         national        68\n",
       "Belgium  subnational     89\n",
       "         national        75\n",
       "Spain    subnational    817\n",
       "         national        66\n",
       "Name: level, dtype: int64"
      ]
     },
     "execution_count": 222,
     "metadata": {},
     "output_type": "execute_result"
    }
   ],
   "source": [
    "grouped['level'].value_counts()[['Austria','Belgium','Spain']]"
   ]
  },
  {
   "cell_type": "code",
   "execution_count": 223,
   "id": "6dab628a",
   "metadata": {},
   "outputs": [
    {
     "data": {
      "text/plain": [
       "level\n",
       "subnational    817\n",
       "national        66\n",
       "Name: level, dtype: int64"
      ]
     },
     "execution_count": 223,
     "metadata": {},
     "output_type": "execute_result"
    }
   ],
   "source": [
    "grouped['level'].value_counts()[['Austria','Belgium','Spain']]['Spain']"
   ]
  },
  {
   "cell_type": "code",
   "execution_count": 59,
   "id": "cfb23094",
   "metadata": {},
   "outputs": [
    {
     "data": {
      "text/plain": [
       "country  testing_data_source\n",
       "Austria  TESSy                  0.928767\n",
       "         Country website        0.063014\n",
       "         Manual webscraping     0.008219\n",
       "Poland   TESSy                  1.000000\n",
       "Name: testing_data_source, dtype: float64"
      ]
     },
     "execution_count": 59,
     "metadata": {},
     "output_type": "execute_result"
    }
   ],
   "source": [
    "grouped['testing_data_source'].value_counts(normalize=True).loc[['Austria','Poland']]\n"
   ]
  },
  {
   "cell_type": "code",
   "execution_count": 62,
   "id": "bbf2b05a",
   "metadata": {},
   "outputs": [
    {
     "data": {
      "text/plain": [
       "region\n",
       "FR      75\n",
       "FR1     33\n",
       "FRB     33\n",
       "FRC     33\n",
       "FRD     33\n",
       "FRE     33\n",
       "FRF     33\n",
       "FRG     33\n",
       "FRH     33\n",
       "FRI     33\n",
       "FRJ     33\n",
       "FRK     33\n",
       "FRL     33\n",
       "FRM     33\n",
       "FRY1    33\n",
       "FRY2    33\n",
       "FRY3    33\n",
       "FRY4    33\n",
       "FRY5    33\n",
       "Name: region, dtype: int64"
      ]
     },
     "execution_count": 62,
     "metadata": {},
     "output_type": "execute_result"
    }
   ],
   "source": [
    "grouped['region'].value_counts().loc['France']\n",
    "# these are all region from the France by "
   ]
  },
  {
   "cell_type": "markdown",
   "id": "6c70371f",
   "metadata": {},
   "source": [
    "### get_group returns a dataframe with functionalty"
   ]
  },
  {
   "cell_type": "code",
   "execution_count": 59,
   "id": "513df6a3",
   "metadata": {},
   "outputs": [
    {
     "data": {
      "text/html": [
       "<div>\n",
       "<style scoped>\n",
       "    .dataframe tbody tr th:only-of-type {\n",
       "        vertical-align: middle;\n",
       "    }\n",
       "\n",
       "    .dataframe tbody tr th {\n",
       "        vertical-align: top;\n",
       "    }\n",
       "\n",
       "    .dataframe thead th {\n",
       "        text-align: right;\n",
       "    }\n",
       "</style>\n",
       "<table border=\"1\" class=\"dataframe\">\n",
       "  <thead>\n",
       "    <tr style=\"text-align: right;\">\n",
       "      <th></th>\n",
       "      <th>country</th>\n",
       "      <th>country_code</th>\n",
       "      <th>year_week</th>\n",
       "      <th>level</th>\n",
       "      <th>region</th>\n",
       "      <th>region_name</th>\n",
       "      <th>new_cases</th>\n",
       "      <th>tests_done</th>\n",
       "      <th>population</th>\n",
       "      <th>testing_rate</th>\n",
       "      <th>positivity_rate</th>\n",
       "      <th>testing_data_source</th>\n",
       "    </tr>\n",
       "  </thead>\n",
       "  <tbody>\n",
       "    <tr>\n",
       "      <th>0</th>\n",
       "      <td>Austria</td>\n",
       "      <td>AT</td>\n",
       "      <td>2020-W15</td>\n",
       "      <td>national</td>\n",
       "      <td>AT</td>\n",
       "      <td>Austria</td>\n",
       "      <td>1954.0</td>\n",
       "      <td>12339</td>\n",
       "      <td>8901064.0</td>\n",
       "      <td>138.623877</td>\n",
       "      <td>15.835967</td>\n",
       "      <td>Manual webscraping</td>\n",
       "    </tr>\n",
       "    <tr>\n",
       "      <th>1</th>\n",
       "      <td>Austria</td>\n",
       "      <td>AT</td>\n",
       "      <td>2020-W16</td>\n",
       "      <td>national</td>\n",
       "      <td>AT</td>\n",
       "      <td>Austria</td>\n",
       "      <td>773.0</td>\n",
       "      <td>58488</td>\n",
       "      <td>8901064.0</td>\n",
       "      <td>657.089984</td>\n",
       "      <td>1.321639</td>\n",
       "      <td>Manual webscraping</td>\n",
       "    </tr>\n",
       "    <tr>\n",
       "      <th>2</th>\n",
       "      <td>Austria</td>\n",
       "      <td>AT</td>\n",
       "      <td>2020-W17</td>\n",
       "      <td>national</td>\n",
       "      <td>AT</td>\n",
       "      <td>Austria</td>\n",
       "      <td>479.0</td>\n",
       "      <td>33443</td>\n",
       "      <td>8901064.0</td>\n",
       "      <td>375.719128</td>\n",
       "      <td>1.432288</td>\n",
       "      <td>Manual webscraping</td>\n",
       "    </tr>\n",
       "    <tr>\n",
       "      <th>3</th>\n",
       "      <td>Austria</td>\n",
       "      <td>AT</td>\n",
       "      <td>2020-W18</td>\n",
       "      <td>national</td>\n",
       "      <td>AT</td>\n",
       "      <td>Austria</td>\n",
       "      <td>349.0</td>\n",
       "      <td>26598</td>\n",
       "      <td>8901064.0</td>\n",
       "      <td>298.818209</td>\n",
       "      <td>1.312129</td>\n",
       "      <td>Country website</td>\n",
       "    </tr>\n",
       "    <tr>\n",
       "      <th>4</th>\n",
       "      <td>Austria</td>\n",
       "      <td>AT</td>\n",
       "      <td>2020-W19</td>\n",
       "      <td>national</td>\n",
       "      <td>AT</td>\n",
       "      <td>Austria</td>\n",
       "      <td>249.0</td>\n",
       "      <td>42153</td>\n",
       "      <td>8901064.0</td>\n",
       "      <td>473.572598</td>\n",
       "      <td>0.590705</td>\n",
       "      <td>Country website</td>\n",
       "    </tr>\n",
       "  </tbody>\n",
       "</table>\n",
       "</div>"
      ],
      "text/plain": [
       "   country country_code year_week     level region region_name  new_cases  \\\n",
       "0  Austria           AT  2020-W15  national     AT     Austria     1954.0   \n",
       "1  Austria           AT  2020-W16  national     AT     Austria      773.0   \n",
       "2  Austria           AT  2020-W17  national     AT     Austria      479.0   \n",
       "3  Austria           AT  2020-W18  national     AT     Austria      349.0   \n",
       "4  Austria           AT  2020-W19  national     AT     Austria      249.0   \n",
       "\n",
       "   tests_done  population  testing_rate  positivity_rate testing_data_source  \n",
       "0       12339   8901064.0    138.623877        15.835967  Manual webscraping  \n",
       "1       58488   8901064.0    657.089984         1.321639  Manual webscraping  \n",
       "2       33443   8901064.0    375.719128         1.432288  Manual webscraping  \n",
       "3       26598   8901064.0    298.818209         1.312129     Country website  \n",
       "4       42153   8901064.0    473.572598         0.590705     Country website  "
      ]
     },
     "execution_count": 59,
     "metadata": {},
     "output_type": "execute_result"
    }
   ],
   "source": [
    "grouped.get_group('Austria').head()"
   ]
  },
  {
   "cell_type": "code",
   "execution_count": 119,
   "id": "1855990b",
   "metadata": {},
   "outputs": [
    {
     "data": {
      "text/plain": [
       "country\n",
       "Austria     8.976119e+08\n",
       "Belgium     1.201252e+09\n",
       "Bulgaria    4.240404e+08\n",
       "Croatia     3.582448e+08\n",
       "Cyprus      6.482436e+07\n",
       "Name: population, dtype: float64"
      ]
     },
     "execution_count": 119,
     "metadata": {},
     "output_type": "execute_result"
    }
   ],
   "source": [
    "data.groupby('country').sum()['population'].head()"
   ]
  },
  {
   "cell_type": "code",
   "execution_count": 224,
   "id": "6f2c2e48",
   "metadata": {},
   "outputs": [
    {
     "data": {
      "text/plain": [
       "country\n",
       "Austria          8.976119e+08\n",
       "Belgium          1.201252e+09\n",
       "Bulgaria         4.240404e+08\n",
       "Croatia          3.582448e+08\n",
       "Cyprus           6.482436e+07\n",
       "Czechia          8.448212e+08\n",
       "Denmark          6.922415e+08\n",
       "Estonia          1.023312e+08\n",
       "Finland          4.585992e+08\n",
       "France           7.252574e+09\n",
       "Germany          6.154337e+09\n",
       "Greece           9.862106e+08\n",
       "Hungary          7.229449e+08\n",
       "Iceland          2.731005e+07\n",
       "Ireland          3.872263e+08\n",
       "Italy            7.249651e+09\n",
       "Latvia           1.468910e+08\n",
       "Liechtenstein    7.749400e+04\n",
       "Lithuania        2.490313e+08\n",
       "Luxembourg       4.695810e+07\n",
       "Malta            3.962143e+07\n",
       "Netherlands      1.270754e+09\n",
       "Norway           7.702151e+08\n",
       "Poland           5.462746e+09\n",
       "Portugal         8.802933e+08\n",
       "Romania          1.411005e+09\n",
       "Slovakia         4.257141e+08\n",
       "Slovenia         1.571896e+08\n",
       "Spain            5.142246e+09\n",
       "Sweden           7.229312e+08\n",
       "Name: population, dtype: float64"
      ]
     },
     "execution_count": 224,
     "metadata": {},
     "output_type": "execute_result"
    }
   ],
   "source": [
    "grouped['population'].sum()\n",
    "# grouped is instance of groupby"
   ]
  },
  {
   "cell_type": "markdown",
   "id": "d57236b2",
   "metadata": {},
   "source": [
    "## find out median value"
   ]
  },
  {
   "cell_type": "code",
   "execution_count": 111,
   "id": "238dd465",
   "metadata": {},
   "outputs": [
    {
     "data": {
      "text/html": [
       "<div>\n",
       "<style scoped>\n",
       "    .dataframe tbody tr th:only-of-type {\n",
       "        vertical-align: middle;\n",
       "    }\n",
       "\n",
       "    .dataframe tbody tr th {\n",
       "        vertical-align: top;\n",
       "    }\n",
       "\n",
       "    .dataframe thead th {\n",
       "        text-align: right;\n",
       "    }\n",
       "</style>\n",
       "<table border=\"1\" class=\"dataframe\">\n",
       "  <thead>\n",
       "    <tr style=\"text-align: right;\">\n",
       "      <th></th>\n",
       "      <th>new_cases</th>\n",
       "      <th>tests_done</th>\n",
       "      <th>population</th>\n",
       "      <th>testing_rate</th>\n",
       "      <th>positivity_rate</th>\n",
       "    </tr>\n",
       "    <tr>\n",
       "      <th>country</th>\n",
       "      <th></th>\n",
       "      <th></th>\n",
       "      <th></th>\n",
       "      <th></th>\n",
       "      <th></th>\n",
       "    </tr>\n",
       "  </thead>\n",
       "  <tbody>\n",
       "    <tr>\n",
       "      <th>Austria</th>\n",
       "      <td>2642.265753</td>\n",
       "      <td>463764.624658</td>\n",
       "      <td>2.459211e+06</td>\n",
       "      <td>26471.655065</td>\n",
       "      <td>2.867624</td>\n",
       "    </tr>\n",
       "    <tr>\n",
       "      <th>Belgium</th>\n",
       "      <td>9750.202454</td>\n",
       "      <td>165495.408537</td>\n",
       "      <td>7.324709e+06</td>\n",
       "      <td>2550.616297</td>\n",
       "      <td>5.784331</td>\n",
       "    </tr>\n",
       "    <tr>\n",
       "      <th>Bulgaria</th>\n",
       "      <td>7040.350000</td>\n",
       "      <td>57978.639344</td>\n",
       "      <td>6.951482e+06</td>\n",
       "      <td>834.047177</td>\n",
       "      <td>11.582336</td>\n",
       "    </tr>\n",
       "    <tr>\n",
       "      <th>Croatia</th>\n",
       "      <td>2631.990610</td>\n",
       "      <td>21631.037559</td>\n",
       "      <td>1.681901e+06</td>\n",
       "      <td>4582.503001</td>\n",
       "      <td>9.360447</td>\n",
       "    </tr>\n",
       "    <tr>\n",
       "      <th>Cyprus</th>\n",
       "      <td>1410.625000</td>\n",
       "      <td>130416.095890</td>\n",
       "      <td>8.880050e+05</td>\n",
       "      <td>14686.414591</td>\n",
       "      <td>3.970128</td>\n",
       "    </tr>\n",
       "  </tbody>\n",
       "</table>\n",
       "</div>"
      ],
      "text/plain": [
       "            new_cases     tests_done    population  testing_rate  \\\n",
       "country                                                            \n",
       "Austria   2642.265753  463764.624658  2.459211e+06  26471.655065   \n",
       "Belgium   9750.202454  165495.408537  7.324709e+06   2550.616297   \n",
       "Bulgaria  7040.350000   57978.639344  6.951482e+06    834.047177   \n",
       "Croatia   2631.990610   21631.037559  1.681901e+06   4582.503001   \n",
       "Cyprus    1410.625000  130416.095890  8.880050e+05  14686.414591   \n",
       "\n",
       "          positivity_rate  \n",
       "country                    \n",
       "Austria          2.867624  \n",
       "Belgium          5.784331  \n",
       "Bulgaria        11.582336  \n",
       "Croatia          9.360447  \n",
       "Cyprus           3.970128  "
      ]
     },
     "execution_count": 111,
     "metadata": {},
     "output_type": "execute_result"
    }
   ],
   "source": [
    "grouped.mean().head()"
   ]
  },
  {
   "cell_type": "code",
   "execution_count": 225,
   "id": "165bc1de",
   "metadata": {},
   "outputs": [
    {
     "data": {
      "text/html": [
       "<div>\n",
       "<style scoped>\n",
       "    .dataframe tbody tr th:only-of-type {\n",
       "        vertical-align: middle;\n",
       "    }\n",
       "\n",
       "    .dataframe tbody tr th {\n",
       "        vertical-align: top;\n",
       "    }\n",
       "\n",
       "    .dataframe thead th {\n",
       "        text-align: right;\n",
       "    }\n",
       "</style>\n",
       "<table border=\"1\" class=\"dataframe\">\n",
       "  <thead>\n",
       "    <tr style=\"text-align: right;\">\n",
       "      <th></th>\n",
       "      <th>new_cases</th>\n",
       "      <th>population</th>\n",
       "      <th>testing_rate</th>\n",
       "    </tr>\n",
       "    <tr>\n",
       "      <th>country</th>\n",
       "      <th></th>\n",
       "      <th></th>\n",
       "      <th></th>\n",
       "    </tr>\n",
       "  </thead>\n",
       "  <tbody>\n",
       "    <tr>\n",
       "      <th>Austria</th>\n",
       "      <td>964427.0</td>\n",
       "      <td>2.459211e+06</td>\n",
       "      <td>26471.655065</td>\n",
       "    </tr>\n",
       "    <tr>\n",
       "      <th>Belgium</th>\n",
       "      <td>1589283.0</td>\n",
       "      <td>7.324709e+06</td>\n",
       "      <td>2550.616297</td>\n",
       "    </tr>\n",
       "    <tr>\n",
       "      <th>Bulgaria</th>\n",
       "      <td>422421.0</td>\n",
       "      <td>6.951482e+06</td>\n",
       "      <td>834.047177</td>\n",
       "    </tr>\n",
       "    <tr>\n",
       "      <th>Croatia</th>\n",
       "      <td>560614.0</td>\n",
       "      <td>1.681901e+06</td>\n",
       "      <td>4582.503001</td>\n",
       "    </tr>\n",
       "    <tr>\n",
       "      <th>Cyprus</th>\n",
       "      <td>101565.0</td>\n",
       "      <td>8.880050e+05</td>\n",
       "      <td>14686.414591</td>\n",
       "    </tr>\n",
       "    <tr>\n",
       "      <th>Czechia</th>\n",
       "      <td>1673795.0</td>\n",
       "      <td>1.069394e+07</td>\n",
       "      <td>3921.726011</td>\n",
       "    </tr>\n",
       "    <tr>\n",
       "      <th>Denmark</th>\n",
       "      <td>593138.0</td>\n",
       "      <td>2.481152e+06</td>\n",
       "      <td>26015.150750</td>\n",
       "    </tr>\n",
       "    <tr>\n",
       "      <th>Estonia</th>\n",
       "      <td>133438.0</td>\n",
       "      <td>1.328976e+06</td>\n",
       "      <td>1487.708259</td>\n",
       "    </tr>\n",
       "    <tr>\n",
       "      <th>Finland</th>\n",
       "      <td>107321.0</td>\n",
       "      <td>5.525292e+06</td>\n",
       "      <td>1295.789773</td>\n",
       "    </tr>\n",
       "    <tr>\n",
       "      <th>France</th>\n",
       "      <td>10071988.0</td>\n",
       "      <td>1.084092e+07</td>\n",
       "      <td>2815.708581</td>\n",
       "    </tr>\n",
       "    <tr>\n",
       "      <th>Germany</th>\n",
       "      <td>3771980.0</td>\n",
       "      <td>8.316671e+07</td>\n",
       "      <td>1099.436548</td>\n",
       "    </tr>\n",
       "    <tr>\n",
       "      <th>Greece</th>\n",
       "      <td>706865.0</td>\n",
       "      <td>3.331792e+06</td>\n",
       "      <td>14113.720022</td>\n",
       "    </tr>\n",
       "    <tr>\n",
       "      <th>Hungary</th>\n",
       "      <td>809646.0</td>\n",
       "      <td>9.769526e+06</td>\n",
       "      <td>835.758133</td>\n",
       "    </tr>\n",
       "    <tr>\n",
       "      <th>Iceland</th>\n",
       "      <td>8122.0</td>\n",
       "      <td>3.641340e+05</td>\n",
       "      <td>3115.779722</td>\n",
       "    </tr>\n",
       "    <tr>\n",
       "      <th>Ireland</th>\n",
       "      <td>299103.0</td>\n",
       "      <td>4.964440e+06</td>\n",
       "      <td>1541.157894</td>\n",
       "    </tr>\n",
       "    <tr>\n",
       "      <th>Italy</th>\n",
       "      <td>8421138.0</td>\n",
       "      <td>6.964122e+06</td>\n",
       "      <td>2474.590872</td>\n",
       "    </tr>\n",
       "    <tr>\n",
       "      <th>Latvia</th>\n",
       "      <td>138899.0</td>\n",
       "      <td>1.907675e+06</td>\n",
       "      <td>2102.978757</td>\n",
       "    </tr>\n",
       "    <tr>\n",
       "      <th>Liechtenstein</th>\n",
       "      <td>20.0</td>\n",
       "      <td>3.874700e+04</td>\n",
       "      <td>3102.175653</td>\n",
       "    </tr>\n",
       "    <tr>\n",
       "      <th>Lithuania</th>\n",
       "      <td>547235.0</td>\n",
       "      <td>1.596355e+06</td>\n",
       "      <td>8225.912305</td>\n",
       "    </tr>\n",
       "    <tr>\n",
       "      <th>Luxembourg</th>\n",
       "      <td>74949.0</td>\n",
       "      <td>6.261080e+05</td>\n",
       "      <td>9149.486457</td>\n",
       "    </tr>\n",
       "    <tr>\n",
       "      <th>Malta</th>\n",
       "      <td>34439.0</td>\n",
       "      <td>5.145640e+05</td>\n",
       "      <td>2565.185182</td>\n",
       "    </tr>\n",
       "    <tr>\n",
       "      <th>Netherlands</th>\n",
       "      <td>1867448.0</td>\n",
       "      <td>1.740758e+07</td>\n",
       "      <td>1692.532622</td>\n",
       "    </tr>\n",
       "    <tr>\n",
       "      <th>Norway</th>\n",
       "      <td>267614.0</td>\n",
       "      <td>9.235193e+05</td>\n",
       "      <td>1962.206647</td>\n",
       "    </tr>\n",
       "    <tr>\n",
       "      <th>Poland</th>\n",
       "      <td>5752676.0</td>\n",
       "      <td>4.586689e+06</td>\n",
       "      <td>675.962483</td>\n",
       "    </tr>\n",
       "    <tr>\n",
       "      <th>Portugal</th>\n",
       "      <td>1869537.0</td>\n",
       "      <td>4.252625e+06</td>\n",
       "      <td>5716.334684</td>\n",
       "    </tr>\n",
       "    <tr>\n",
       "      <th>Romania</th>\n",
       "      <td>1083463.0</td>\n",
       "      <td>1.932884e+07</td>\n",
       "      <td>713.630835</td>\n",
       "    </tr>\n",
       "    <tr>\n",
       "      <th>Slovakia</th>\n",
       "      <td>773233.0</td>\n",
       "      <td>5.457873e+06</td>\n",
       "      <td>1584.785445</td>\n",
       "    </tr>\n",
       "    <tr>\n",
       "      <th>Slovenia</th>\n",
       "      <td>259486.0</td>\n",
       "      <td>2.095861e+06</td>\n",
       "      <td>3847.381736</td>\n",
       "    </tr>\n",
       "    <tr>\n",
       "      <th>Spain</th>\n",
       "      <td>8069950.0</td>\n",
       "      <td>5.823608e+06</td>\n",
       "      <td>1986.900725</td>\n",
       "    </tr>\n",
       "    <tr>\n",
       "      <th>Sweden</th>\n",
       "      <td>1082697.0</td>\n",
       "      <td>1.032759e+07</td>\n",
       "      <td>1426.043387</td>\n",
       "    </tr>\n",
       "  </tbody>\n",
       "</table>\n",
       "</div>"
      ],
      "text/plain": [
       "                new_cases    population  testing_rate\n",
       "country                                              \n",
       "Austria          964427.0  2.459211e+06  26471.655065\n",
       "Belgium         1589283.0  7.324709e+06   2550.616297\n",
       "Bulgaria         422421.0  6.951482e+06    834.047177\n",
       "Croatia          560614.0  1.681901e+06   4582.503001\n",
       "Cyprus           101565.0  8.880050e+05  14686.414591\n",
       "Czechia         1673795.0  1.069394e+07   3921.726011\n",
       "Denmark          593138.0  2.481152e+06  26015.150750\n",
       "Estonia          133438.0  1.328976e+06   1487.708259\n",
       "Finland          107321.0  5.525292e+06   1295.789773\n",
       "France         10071988.0  1.084092e+07   2815.708581\n",
       "Germany         3771980.0  8.316671e+07   1099.436548\n",
       "Greece           706865.0  3.331792e+06  14113.720022\n",
       "Hungary          809646.0  9.769526e+06    835.758133\n",
       "Iceland            8122.0  3.641340e+05   3115.779722\n",
       "Ireland          299103.0  4.964440e+06   1541.157894\n",
       "Italy           8421138.0  6.964122e+06   2474.590872\n",
       "Latvia           138899.0  1.907675e+06   2102.978757\n",
       "Liechtenstein        20.0  3.874700e+04   3102.175653\n",
       "Lithuania        547235.0  1.596355e+06   8225.912305\n",
       "Luxembourg        74949.0  6.261080e+05   9149.486457\n",
       "Malta             34439.0  5.145640e+05   2565.185182\n",
       "Netherlands     1867448.0  1.740758e+07   1692.532622\n",
       "Norway           267614.0  9.235193e+05   1962.206647\n",
       "Poland          5752676.0  4.586689e+06    675.962483\n",
       "Portugal        1869537.0  4.252625e+06   5716.334684\n",
       "Romania         1083463.0  1.932884e+07    713.630835\n",
       "Slovakia         773233.0  5.457873e+06   1584.785445\n",
       "Slovenia         259486.0  2.095861e+06   3847.381736\n",
       "Spain           8069950.0  5.823608e+06   1986.900725\n",
       "Sweden          1082697.0  1.032759e+07   1426.043387"
      ]
     },
     "execution_count": 225,
     "metadata": {},
     "output_type": "execute_result"
    }
   ],
   "source": [
    "grouped.agg({'new_cases':'sum','population':'mean','testing_rate':'mean'})"
   ]
  },
  {
   "cell_type": "code",
   "execution_count": 80,
   "id": "c7d0756f",
   "metadata": {},
   "outputs": [
    {
     "data": {
      "text/plain": [
       "country\n",
       "Austria     185766.0\n",
       "Belgium     137929.0\n",
       "Bulgaria     58036.0\n",
       "Croatia      13393.0\n",
       "Cyprus       52141.0\n",
       "Name: tests_done, dtype: float64"
      ]
     },
     "execution_count": 80,
     "metadata": {},
     "output_type": "execute_result"
    }
   ],
   "source": [
    "grouped['tests_done'].median().head()"
   ]
  },
  {
   "cell_type": "code",
   "execution_count": 90,
   "id": "9cb575d2",
   "metadata": {},
   "outputs": [
    {
     "data": {
      "text/plain": [
       "185766.0"
      ]
     },
     "execution_count": 90,
     "metadata": {},
     "output_type": "execute_result"
    }
   ],
   "source": [
    "grouped['tests_done'].median().loc['Austria']"
   ]
  },
  {
   "cell_type": "markdown",
   "id": "0761ff05",
   "metadata": {},
   "source": [
    "## total test done in different country"
   ]
  },
  {
   "cell_type": "code",
   "execution_count": 91,
   "id": "f2421dae",
   "metadata": {},
   "outputs": [
    {
     "data": {
      "text/plain": [
       "3536697"
      ]
     },
     "execution_count": 91,
     "metadata": {},
     "output_type": "execute_result"
    }
   ],
   "source": [
    "grouped['tests_done'].sum().loc['Bulgaria']"
   ]
  },
  {
   "cell_type": "code",
   "execution_count": 126,
   "id": "30189df4",
   "metadata": {},
   "outputs": [
    {
     "data": {
      "text/plain": [
       "415"
      ]
     },
     "execution_count": 126,
     "metadata": {},
     "output_type": "execute_result"
    }
   ],
   "source": [
    "grouped.get_group('Poland')['tests_done'].min()"
   ]
  },
  {
   "cell_type": "code",
   "execution_count": 137,
   "id": "11077948",
   "metadata": {},
   "outputs": [
    {
     "data": {
      "text/plain": [
       "country  tests_done\n",
       "Austria  3032          1\n",
       "         3334          1\n",
       "         3383          1\n",
       "         3487          1\n",
       "         3723          1\n",
       "                      ..\n",
       "Poland   520899        1\n",
       "         553882        1\n",
       "         600052        1\n",
       "         610218        1\n",
       "         621069        1\n",
       "Name: tests_done, Length: 1543, dtype: int64"
      ]
     },
     "execution_count": 137,
     "metadata": {},
     "output_type": "execute_result"
    }
   ],
   "source": [
    "grouped['tests_done'].value_counts()[['Austria','Poland']]"
   ]
  },
  {
   "cell_type": "markdown",
   "id": "0ee8c3bd",
   "metadata": {},
   "source": [
    "## mininmum value inside the tests_done with different country"
   ]
  },
  {
   "cell_type": "code",
   "execution_count": 84,
   "id": "8ecbe8ad",
   "metadata": {},
   "outputs": [
    {
     "data": {
      "text/plain": [
       "country\n",
       "Austria           3032\n",
       "Belgium             82\n",
       "Bulgaria         13137\n",
       "Croatia              4\n",
       "Cyprus              14\n",
       "Czechia              8\n",
       "Denmark              3\n",
       "Estonia              1\n",
       "Finland              9\n",
       "France            1564\n",
       "Germany          69493\n",
       "Greece             200\n",
       "Hungary            318\n",
       "Iceland             90\n",
       "Ireland              1\n",
       "Italy             1071\n",
       "Latvia               4\n",
       "Liechtenstein     1003\n",
       "Lithuania           47\n",
       "Luxembourg          34\n",
       "Malta                1\n",
       "Netherlands      13941\n",
       "Norway             367\n",
       "Poland             415\n",
       "Portugal            25\n",
       "Romania              2\n",
       "Slovakia             2\n",
       "Slovenia           191\n",
       "Spain              512\n",
       "Sweden              11\n",
       "Name: tests_done, dtype: int64"
      ]
     },
     "execution_count": 84,
     "metadata": {},
     "output_type": "execute_result"
    }
   ],
   "source": [
    "grouped[\"tests_done\"].min()"
   ]
  },
  {
   "cell_type": "code",
   "execution_count": 92,
   "id": "d627517c",
   "metadata": {},
   "outputs": [
    {
     "data": {
      "text/plain": [
       "69493"
      ]
     },
     "execution_count": 92,
     "metadata": {},
     "output_type": "execute_result"
    }
   ],
   "source": [
    "grouped[\"tests_done\"].min().loc['Germany']"
   ]
  },
  {
   "cell_type": "code",
   "execution_count": 89,
   "id": "06222592",
   "metadata": {},
   "outputs": [
    {
     "data": {
      "text/plain": [
       "country\n",
       "Austria     463764.624658\n",
       "Belgium     165495.408537\n",
       "Bulgaria     57978.639344\n",
       "Croatia      21631.037559\n",
       "Cyprus      130416.095890\n",
       "Name: tests_done, dtype: float64"
      ]
     },
     "execution_count": 89,
     "metadata": {},
     "output_type": "execute_result"
    }
   ],
   "source": [
    "grouped['tests_done'].mean().head()"
   ]
  },
  {
   "cell_type": "markdown",
   "id": "a401f8a7",
   "metadata": {},
   "source": [
    "## if you want to see mean,min,median,max,count different functionalty altogether"
   ]
  },
  {
   "cell_type": "code",
   "execution_count": 97,
   "id": "51b65ce2",
   "metadata": {},
   "outputs": [
    {
     "data": {
      "text/html": [
       "<div>\n",
       "<style scoped>\n",
       "    .dataframe tbody tr th:only-of-type {\n",
       "        vertical-align: middle;\n",
       "    }\n",
       "\n",
       "    .dataframe tbody tr th {\n",
       "        vertical-align: top;\n",
       "    }\n",
       "\n",
       "    .dataframe thead th {\n",
       "        text-align: right;\n",
       "    }\n",
       "</style>\n",
       "<table border=\"1\" class=\"dataframe\">\n",
       "  <thead>\n",
       "    <tr style=\"text-align: right;\">\n",
       "      <th></th>\n",
       "      <th>mean</th>\n",
       "      <th>median</th>\n",
       "      <th>min</th>\n",
       "      <th>max</th>\n",
       "      <th>count</th>\n",
       "    </tr>\n",
       "    <tr>\n",
       "      <th>country</th>\n",
       "      <th></th>\n",
       "      <th></th>\n",
       "      <th></th>\n",
       "      <th></th>\n",
       "      <th></th>\n",
       "    </tr>\n",
       "  </thead>\n",
       "  <tbody>\n",
       "    <tr>\n",
       "      <th>Austria</th>\n",
       "      <td>463764.624658</td>\n",
       "      <td>185766.0</td>\n",
       "      <td>3032</td>\n",
       "      <td>5665559</td>\n",
       "      <td>365</td>\n",
       "    </tr>\n",
       "    <tr>\n",
       "      <th>Belgium</th>\n",
       "      <td>165495.408537</td>\n",
       "      <td>137929.0</td>\n",
       "      <td>82</td>\n",
       "      <td>502504</td>\n",
       "      <td>164</td>\n",
       "    </tr>\n",
       "    <tr>\n",
       "      <th>Bulgaria</th>\n",
       "      <td>57978.639344</td>\n",
       "      <td>58036.0</td>\n",
       "      <td>13137</td>\n",
       "      <td>111907</td>\n",
       "      <td>61</td>\n",
       "    </tr>\n",
       "    <tr>\n",
       "      <th>Croatia</th>\n",
       "      <td>21631.037559</td>\n",
       "      <td>13393.0</td>\n",
       "      <td>4</td>\n",
       "      <td>112673</td>\n",
       "      <td>213</td>\n",
       "    </tr>\n",
       "    <tr>\n",
       "      <th>Cyprus</th>\n",
       "      <td>130416.095890</td>\n",
       "      <td>52141.0</td>\n",
       "      <td>14</td>\n",
       "      <td>525868</td>\n",
       "      <td>73</td>\n",
       "    </tr>\n",
       "  </tbody>\n",
       "</table>\n",
       "</div>"
      ],
      "text/plain": [
       "                   mean    median    min      max  count\n",
       "country                                                 \n",
       "Austria   463764.624658  185766.0   3032  5665559    365\n",
       "Belgium   165495.408537  137929.0     82   502504    164\n",
       "Bulgaria   57978.639344   58036.0  13137   111907     61\n",
       "Croatia    21631.037559   13393.0      4   112673    213\n",
       "Cyprus    130416.095890   52141.0     14   525868     73"
      ]
     },
     "execution_count": 97,
     "metadata": {},
     "output_type": "execute_result"
    }
   ],
   "source": [
    "grouped[\"tests_done\"].agg(['mean','median','min','max','count']).head()\n",
    "## awesome tricks for know the more about dataset with the help of groupby"
   ]
  },
  {
   "cell_type": "markdown",
   "id": "99e7da71",
   "metadata": {},
   "source": [
    "## if you want to see same functionalty with but in a single country then tricks follow it , as noted below it "
   ]
  },
  {
   "cell_type": "code",
   "execution_count": 96,
   "id": "bde8a8e1",
   "metadata": {},
   "outputs": [
    {
     "data": {
      "text/plain": [
       "min       3.032000e+03\n",
       "max       5.665559e+06\n",
       "median    1.857660e+05\n",
       "mean      4.637646e+05\n",
       "count     3.650000e+02\n",
       "Name: Austria, dtype: float64"
      ]
     },
     "execution_count": 96,
     "metadata": {},
     "output_type": "execute_result"
    }
   ],
   "source": [
    "grouped[\"tests_done\"].agg(['min','max','median','mean','count']).loc['Austria']\n",
    "#here i was saw min,max,mean,count value of Austria group"
   ]
  },
  {
   "cell_type": "code",
   "execution_count": 103,
   "id": "e8aedbd6",
   "metadata": {},
   "outputs": [
    {
     "data": {
      "text/plain": [
       "3032"
      ]
     },
     "execution_count": 103,
     "metadata": {},
     "output_type": "execute_result"
    }
   ],
   "source": [
    "#such as noted above here i watched the min value of Austria \n",
    "f=data[['tests_done','country']]\n",
    "g=f[f['country']==\"Austria\"]\n",
    "g.tests_done.min()"
   ]
  },
  {
   "cell_type": "code",
   "execution_count": 24,
   "id": "c4c5ff48",
   "metadata": {},
   "outputs": [
    {
     "data": {
      "text/plain": [
       "0       False\n",
       "1       False\n",
       "2       False\n",
       "3       False\n",
       "4       False\n",
       "        ...  \n",
       "7567    False\n",
       "7568    False\n",
       "7569    False\n",
       "7570    False\n",
       "7571    False\n",
       "Name: testing_data_source, Length: 7572, dtype: bool"
      ]
     },
     "execution_count": 24,
     "metadata": {},
     "output_type": "execute_result"
    }
   ],
   "source": [
    "# grouped['testing_data_source'].str.contains('API').sum()        #IT WILL SHOW ERROR USE BELOW METHOD INSIDE THE GROUPE\n",
    "grouped['testing_data_source'].apply(lambda x:x.str.contains('API'))"
   ]
  },
  {
   "cell_type": "code",
   "execution_count": 25,
   "id": "3fd361ec",
   "metadata": {},
   "outputs": [
    {
     "data": {
      "text/plain": [
       "country\n",
       "Austria           0\n",
       "Belgium           0\n",
       "Bulgaria          0\n",
       "Croatia           0\n",
       "Cyprus            0\n",
       "Czechia           0\n",
       "Denmark           0\n",
       "Estonia          11\n",
       "Finland          25\n",
       "France            0\n",
       "Germany           0\n",
       "Greece            0\n",
       "Hungary           0\n",
       "Iceland           0\n",
       "Ireland           0\n",
       "Italy             0\n",
       "Latvia            0\n",
       "Liechtenstein     0\n",
       "Lithuania         0\n",
       "Luxembourg        0\n",
       "Malta             0\n",
       "Netherlands       0\n",
       "Norway            0\n",
       "Poland            0\n",
       "Portugal          0\n",
       "Romania           0\n",
       "Slovakia          0\n",
       "Slovenia          0\n",
       "Spain             0\n",
       "Sweden            0\n",
       "Name: testing_data_source, dtype: int64"
      ]
     },
     "execution_count": 25,
     "metadata": {},
     "output_type": "execute_result"
    }
   ],
   "source": [
    "grouped['testing_data_source'].apply(lambda x:x.str.contains('API').sum())\n",
    "# where and how many times places inside the DataFrame but here i want fetch by using the group"
   ]
  },
  {
   "cell_type": "code",
   "execution_count": 32,
   "id": "17e3ccc3",
   "metadata": {},
   "outputs": [
    {
     "data": {
      "text/plain": [
       "36"
      ]
     },
     "execution_count": 32,
     "metadata": {},
     "output_type": "execute_result"
    }
   ],
   "source": [
    "data['testing_data_source'].str.contains(\"API\").sum()"
   ]
  },
  {
   "cell_type": "code",
   "execution_count": 33,
   "id": "8e3a01ed",
   "metadata": {},
   "outputs": [
    {
     "data": {
      "text/html": [
       "<div>\n",
       "<style scoped>\n",
       "    .dataframe tbody tr th:only-of-type {\n",
       "        vertical-align: middle;\n",
       "    }\n",
       "\n",
       "    .dataframe tbody tr th {\n",
       "        vertical-align: top;\n",
       "    }\n",
       "\n",
       "    .dataframe thead th {\n",
       "        text-align: right;\n",
       "    }\n",
       "</style>\n",
       "<table border=\"1\" class=\"dataframe\">\n",
       "  <thead>\n",
       "    <tr style=\"text-align: right;\">\n",
       "      <th></th>\n",
       "      <th>country</th>\n",
       "      <th>country_code</th>\n",
       "      <th>year_week</th>\n",
       "      <th>level</th>\n",
       "      <th>region</th>\n",
       "      <th>region_name</th>\n",
       "      <th>new_cases</th>\n",
       "      <th>tests_done</th>\n",
       "      <th>population</th>\n",
       "      <th>testing_rate</th>\n",
       "      <th>positivity_rate</th>\n",
       "      <th>testing_data_source</th>\n",
       "    </tr>\n",
       "  </thead>\n",
       "  <tbody>\n",
       "    <tr>\n",
       "      <th>1234</th>\n",
       "      <td>Estonia</td>\n",
       "      <td>EE</td>\n",
       "      <td>2020-W06</td>\n",
       "      <td>national</td>\n",
       "      <td>EE</td>\n",
       "      <td>Estonia</td>\n",
       "      <td>0.0</td>\n",
       "      <td>2</td>\n",
       "      <td>1328976.0</td>\n",
       "      <td>0.150492</td>\n",
       "      <td>0.000000</td>\n",
       "      <td>Country API</td>\n",
       "    </tr>\n",
       "    <tr>\n",
       "      <th>1235</th>\n",
       "      <td>Estonia</td>\n",
       "      <td>EE</td>\n",
       "      <td>2020-W07</td>\n",
       "      <td>national</td>\n",
       "      <td>EE</td>\n",
       "      <td>Estonia</td>\n",
       "      <td>0.0</td>\n",
       "      <td>1</td>\n",
       "      <td>1328976.0</td>\n",
       "      <td>0.075246</td>\n",
       "      <td>0.000000</td>\n",
       "      <td>Country API</td>\n",
       "    </tr>\n",
       "    <tr>\n",
       "      <th>1236</th>\n",
       "      <td>Estonia</td>\n",
       "      <td>EE</td>\n",
       "      <td>2020-W08</td>\n",
       "      <td>national</td>\n",
       "      <td>EE</td>\n",
       "      <td>Estonia</td>\n",
       "      <td>0.0</td>\n",
       "      <td>1</td>\n",
       "      <td>1328976.0</td>\n",
       "      <td>0.075246</td>\n",
       "      <td>0.000000</td>\n",
       "      <td>Country API</td>\n",
       "    </tr>\n",
       "    <tr>\n",
       "      <th>1237</th>\n",
       "      <td>Estonia</td>\n",
       "      <td>EE</td>\n",
       "      <td>2020-W09</td>\n",
       "      <td>national</td>\n",
       "      <td>EE</td>\n",
       "      <td>Estonia</td>\n",
       "      <td>1.0</td>\n",
       "      <td>58</td>\n",
       "      <td>1328976.0</td>\n",
       "      <td>4.364262</td>\n",
       "      <td>1.724138</td>\n",
       "      <td>Country API</td>\n",
       "    </tr>\n",
       "    <tr>\n",
       "      <th>1238</th>\n",
       "      <td>Estonia</td>\n",
       "      <td>EE</td>\n",
       "      <td>2020-W10</td>\n",
       "      <td>national</td>\n",
       "      <td>EE</td>\n",
       "      <td>Estonia</td>\n",
       "      <td>9.0</td>\n",
       "      <td>243</td>\n",
       "      <td>1328976.0</td>\n",
       "      <td>18.284755</td>\n",
       "      <td>3.703704</td>\n",
       "      <td>Country API</td>\n",
       "    </tr>\n",
       "  </tbody>\n",
       "</table>\n",
       "</div>"
      ],
      "text/plain": [
       "      country country_code year_week     level region region_name  new_cases  \\\n",
       "1234  Estonia           EE  2020-W06  national     EE     Estonia        0.0   \n",
       "1235  Estonia           EE  2020-W07  national     EE     Estonia        0.0   \n",
       "1236  Estonia           EE  2020-W08  national     EE     Estonia        0.0   \n",
       "1237  Estonia           EE  2020-W09  national     EE     Estonia        1.0   \n",
       "1238  Estonia           EE  2020-W10  national     EE     Estonia        9.0   \n",
       "\n",
       "      tests_done  population  testing_rate  positivity_rate  \\\n",
       "1234           2   1328976.0      0.150492         0.000000   \n",
       "1235           1   1328976.0      0.075246         0.000000   \n",
       "1236           1   1328976.0      0.075246         0.000000   \n",
       "1237          58   1328976.0      4.364262         1.724138   \n",
       "1238         243   1328976.0     18.284755         3.703704   \n",
       "\n",
       "     testing_data_source  \n",
       "1234         Country API  \n",
       "1235         Country API  \n",
       "1236         Country API  \n",
       "1237         Country API  \n",
       "1238         Country API  "
      ]
     },
     "execution_count": 33,
     "metadata": {},
     "output_type": "execute_result"
    }
   ],
   "source": [
    "data[data['testing_data_source'].str.contains(\"API\")].head()"
   ]
  },
  {
   "cell_type": "markdown",
   "id": "76975978",
   "metadata": {},
   "source": [
    "## here i am creating data table iside the DataFrame first valuecount value\n",
    "### and second value is contains API string how many times"
   ]
  },
  {
   "cell_type": "code",
   "execution_count": 70,
   "id": "1f32d5e3",
   "metadata": {},
   "outputs": [
    {
     "data": {
      "text/html": [
       "<div>\n",
       "<style scoped>\n",
       "    .dataframe tbody tr th:only-of-type {\n",
       "        vertical-align: middle;\n",
       "    }\n",
       "\n",
       "    .dataframe tbody tr th {\n",
       "        vertical-align: top;\n",
       "    }\n",
       "\n",
       "    .dataframe thead th {\n",
       "        text-align: right;\n",
       "    }\n",
       "</style>\n",
       "<table border=\"1\" class=\"dataframe\">\n",
       "  <thead>\n",
       "    <tr style=\"text-align: right;\">\n",
       "      <th></th>\n",
       "      <th>Value_count_value</th>\n",
       "      <th>ApiExistence_value</th>\n",
       "    </tr>\n",
       "  </thead>\n",
       "  <tbody>\n",
       "    <tr>\n",
       "      <th>TESSy</th>\n",
       "      <td>7267.0</td>\n",
       "      <td>NaN</td>\n",
       "    </tr>\n",
       "    <tr>\n",
       "      <th>Country website</th>\n",
       "      <td>173.0</td>\n",
       "      <td>NaN</td>\n",
       "    </tr>\n",
       "    <tr>\n",
       "      <th>Other</th>\n",
       "      <td>37.0</td>\n",
       "      <td>NaN</td>\n",
       "    </tr>\n",
       "    <tr>\n",
       "      <th>Country API</th>\n",
       "      <td>36.0</td>\n",
       "      <td>NaN</td>\n",
       "    </tr>\n",
       "    <tr>\n",
       "      <th>Survey</th>\n",
       "      <td>35.0</td>\n",
       "      <td>NaN</td>\n",
       "    </tr>\n",
       "    <tr>\n",
       "      <th>Country GitHub</th>\n",
       "      <td>18.0</td>\n",
       "      <td>NaN</td>\n",
       "    </tr>\n",
       "    <tr>\n",
       "      <th>Manual webscraping</th>\n",
       "      <td>6.0</td>\n",
       "      <td>NaN</td>\n",
       "    </tr>\n",
       "    <tr>\n",
       "      <th>Austria</th>\n",
       "      <td>NaN</td>\n",
       "      <td>339.0</td>\n",
       "    </tr>\n",
       "    <tr>\n",
       "      <th>Belgium</th>\n",
       "      <td>NaN</td>\n",
       "      <td>151.0</td>\n",
       "    </tr>\n",
       "    <tr>\n",
       "      <th>Bulgaria</th>\n",
       "      <td>NaN</td>\n",
       "      <td>61.0</td>\n",
       "    </tr>\n",
       "    <tr>\n",
       "      <th>Croatia</th>\n",
       "      <td>NaN</td>\n",
       "      <td>213.0</td>\n",
       "    </tr>\n",
       "    <tr>\n",
       "      <th>Cyprus</th>\n",
       "      <td>NaN</td>\n",
       "      <td>41.0</td>\n",
       "    </tr>\n",
       "    <tr>\n",
       "      <th>Czechia</th>\n",
       "      <td>NaN</td>\n",
       "      <td>79.0</td>\n",
       "    </tr>\n",
       "    <tr>\n",
       "      <th>Denmark</th>\n",
       "      <td>NaN</td>\n",
       "      <td>243.0</td>\n",
       "    </tr>\n",
       "    <tr>\n",
       "      <th>Estonia</th>\n",
       "      <td>NaN</td>\n",
       "      <td>66.0</td>\n",
       "    </tr>\n",
       "    <tr>\n",
       "      <th>Finland</th>\n",
       "      <td>NaN</td>\n",
       "      <td>42.0</td>\n",
       "    </tr>\n",
       "    <tr>\n",
       "      <th>France</th>\n",
       "      <td>NaN</td>\n",
       "      <td>669.0</td>\n",
       "    </tr>\n",
       "    <tr>\n",
       "      <th>Germany</th>\n",
       "      <td>NaN</td>\n",
       "      <td>74.0</td>\n",
       "    </tr>\n",
       "    <tr>\n",
       "      <th>Greece</th>\n",
       "      <td>NaN</td>\n",
       "      <td>296.0</td>\n",
       "    </tr>\n",
       "    <tr>\n",
       "      <th>Hungary</th>\n",
       "      <td>NaN</td>\n",
       "      <td>74.0</td>\n",
       "    </tr>\n",
       "    <tr>\n",
       "      <th>Iceland</th>\n",
       "      <td>NaN</td>\n",
       "      <td>44.0</td>\n",
       "    </tr>\n",
       "    <tr>\n",
       "      <th>Ireland</th>\n",
       "      <td>NaN</td>\n",
       "      <td>78.0</td>\n",
       "    </tr>\n",
       "    <tr>\n",
       "      <th>Italy</th>\n",
       "      <td>NaN</td>\n",
       "      <td>1026.0</td>\n",
       "    </tr>\n",
       "    <tr>\n",
       "      <th>Latvia</th>\n",
       "      <td>NaN</td>\n",
       "      <td>77.0</td>\n",
       "    </tr>\n",
       "    <tr>\n",
       "      <th>Liechtenstein</th>\n",
       "      <td>NaN</td>\n",
       "      <td>2.0</td>\n",
       "    </tr>\n",
       "    <tr>\n",
       "      <th>Lithuania</th>\n",
       "      <td>NaN</td>\n",
       "      <td>133.0</td>\n",
       "    </tr>\n",
       "    <tr>\n",
       "      <th>Luxembourg</th>\n",
       "      <td>NaN</td>\n",
       "      <td>75.0</td>\n",
       "    </tr>\n",
       "    <tr>\n",
       "      <th>Malta</th>\n",
       "      <td>NaN</td>\n",
       "      <td>77.0</td>\n",
       "    </tr>\n",
       "    <tr>\n",
       "      <th>Netherlands</th>\n",
       "      <td>NaN</td>\n",
       "      <td>73.0</td>\n",
       "    </tr>\n",
       "    <tr>\n",
       "      <th>Norway</th>\n",
       "      <td>NaN</td>\n",
       "      <td>834.0</td>\n",
       "    </tr>\n",
       "    <tr>\n",
       "      <th>Poland</th>\n",
       "      <td>NaN</td>\n",
       "      <td>1191.0</td>\n",
       "    </tr>\n",
       "    <tr>\n",
       "      <th>Portugal</th>\n",
       "      <td>NaN</td>\n",
       "      <td>206.0</td>\n",
       "    </tr>\n",
       "    <tr>\n",
       "      <th>Romania</th>\n",
       "      <td>NaN</td>\n",
       "      <td>71.0</td>\n",
       "    </tr>\n",
       "    <tr>\n",
       "      <th>Slovakia</th>\n",
       "      <td>NaN</td>\n",
       "      <td>54.0</td>\n",
       "    </tr>\n",
       "    <tr>\n",
       "      <th>Slovenia</th>\n",
       "      <td>NaN</td>\n",
       "      <td>74.0</td>\n",
       "    </tr>\n",
       "    <tr>\n",
       "      <th>Spain</th>\n",
       "      <td>NaN</td>\n",
       "      <td>860.0</td>\n",
       "    </tr>\n",
       "    <tr>\n",
       "      <th>Sweden</th>\n",
       "      <td>NaN</td>\n",
       "      <td>44.0</td>\n",
       "    </tr>\n",
       "  </tbody>\n",
       "</table>\n",
       "</div>"
      ],
      "text/plain": [
       "                    Value_count_value  ApiExistence_value\n",
       "TESSy                          7267.0                 NaN\n",
       "Country website                 173.0                 NaN\n",
       "Other                            37.0                 NaN\n",
       "Country API                      36.0                 NaN\n",
       "Survey                           35.0                 NaN\n",
       "Country GitHub                   18.0                 NaN\n",
       "Manual webscraping                6.0                 NaN\n",
       "Austria                           NaN               339.0\n",
       "Belgium                           NaN               151.0\n",
       "Bulgaria                          NaN                61.0\n",
       "Croatia                           NaN               213.0\n",
       "Cyprus                            NaN                41.0\n",
       "Czechia                           NaN                79.0\n",
       "Denmark                           NaN               243.0\n",
       "Estonia                           NaN                66.0\n",
       "Finland                           NaN                42.0\n",
       "France                            NaN               669.0\n",
       "Germany                           NaN                74.0\n",
       "Greece                            NaN               296.0\n",
       "Hungary                           NaN                74.0\n",
       "Iceland                           NaN                44.0\n",
       "Ireland                           NaN                78.0\n",
       "Italy                             NaN              1026.0\n",
       "Latvia                            NaN                77.0\n",
       "Liechtenstein                     NaN                 2.0\n",
       "Lithuania                         NaN               133.0\n",
       "Luxembourg                        NaN                75.0\n",
       "Malta                             NaN                77.0\n",
       "Netherlands                       NaN                73.0\n",
       "Norway                            NaN               834.0\n",
       "Poland                            NaN              1191.0\n",
       "Portugal                          NaN               206.0\n",
       "Romania                           NaN                71.0\n",
       "Slovakia                          NaN                54.0\n",
       "Slovenia                          NaN                74.0\n",
       "Spain                             NaN               860.0\n",
       "Sweden                            NaN                44.0"
      ]
     },
     "execution_count": 70,
     "metadata": {},
     "output_type": "execute_result"
    }
   ],
   "source": [
    "valcount=data['testing_data_source'].value_counts()\n",
    "valueexist=grouped['testing_data_source'].apply(lambda x:x.str.contains(\"TESSy\").sum())\n",
    "tabel=pd.concat([valcount,valueexist],axis='columns',sort=False)\n",
    "dataframe=tabel.rename(columns={'testing_data_source':'value_count_value','testing_data_source':'ExistValue'})\n",
    "dataframe.columns=['Value_count_value','ApiExistence_value']\n",
    "dataframe\n",
    "# and next step is add another column that are show the percentage value of ApiExistence_value"
   ]
  },
  {
   "cell_type": "markdown",
   "id": "b4956c71",
   "metadata": {},
   "source": [
    "## top 11 pandas tricks"
   ]
  },
  {
   "cell_type": "code",
   "execution_count": 234,
   "id": "8ab4f9ad",
   "metadata": {},
   "outputs": [
    {
     "data": {
      "text/html": [
       "<div>\n",
       "<style scoped>\n",
       "    .dataframe tbody tr th:only-of-type {\n",
       "        vertical-align: middle;\n",
       "    }\n",
       "\n",
       "    .dataframe tbody tr th {\n",
       "        vertical-align: top;\n",
       "    }\n",
       "\n",
       "    .dataframe thead th {\n",
       "        text-align: right;\n",
       "    }\n",
       "</style>\n",
       "<table border=\"1\" class=\"dataframe\">\n",
       "  <thead>\n",
       "    <tr style=\"text-align: right;\">\n",
       "      <th></th>\n",
       "      <th>stop_date</th>\n",
       "      <th>stop_time</th>\n",
       "      <th>country_name</th>\n",
       "      <th>driver_gender</th>\n",
       "      <th>driver_age_raw</th>\n",
       "      <th>driver_age</th>\n",
       "      <th>driver_race</th>\n",
       "      <th>violation_raw</th>\n",
       "      <th>violation</th>\n",
       "      <th>search_conducted</th>\n",
       "      <th>search_type</th>\n",
       "      <th>stop_outcome</th>\n",
       "      <th>is_arrested</th>\n",
       "      <th>stop_duration</th>\n",
       "      <th>drugs_related_stop</th>\n",
       "    </tr>\n",
       "  </thead>\n",
       "  <tbody>\n",
       "    <tr>\n",
       "      <th>0</th>\n",
       "      <td>1/2/2005</td>\n",
       "      <td>1:55</td>\n",
       "      <td>NaN</td>\n",
       "      <td>M</td>\n",
       "      <td>1985.0</td>\n",
       "      <td>20.0</td>\n",
       "      <td>White</td>\n",
       "      <td>Speeding</td>\n",
       "      <td>Speeding</td>\n",
       "      <td>False</td>\n",
       "      <td>NaN</td>\n",
       "      <td>Citation</td>\n",
       "      <td>False</td>\n",
       "      <td>0-15 Min</td>\n",
       "      <td>False</td>\n",
       "    </tr>\n",
       "    <tr>\n",
       "      <th>1</th>\n",
       "      <td>1/18/2005</td>\n",
       "      <td>8:15</td>\n",
       "      <td>NaN</td>\n",
       "      <td>M</td>\n",
       "      <td>1965.0</td>\n",
       "      <td>40.0</td>\n",
       "      <td>White</td>\n",
       "      <td>Speeding</td>\n",
       "      <td>Speeding</td>\n",
       "      <td>False</td>\n",
       "      <td>NaN</td>\n",
       "      <td>Citation</td>\n",
       "      <td>False</td>\n",
       "      <td>0-15 Min</td>\n",
       "      <td>False</td>\n",
       "    </tr>\n",
       "  </tbody>\n",
       "</table>\n",
       "</div>"
      ],
      "text/plain": [
       "   stop_date stop_time  country_name driver_gender  driver_age_raw  \\\n",
       "0   1/2/2005      1:55           NaN             M          1985.0   \n",
       "1  1/18/2005      8:15           NaN             M          1965.0   \n",
       "\n",
       "   driver_age driver_race violation_raw violation  search_conducted  \\\n",
       "0        20.0       White      Speeding  Speeding             False   \n",
       "1        40.0       White      Speeding  Speeding             False   \n",
       "\n",
       "  search_type stop_outcome is_arrested stop_duration  drugs_related_stop  \n",
       "0         NaN     Citation       False      0-15 Min               False  \n",
       "1         NaN     Citation       False      0-15 Min               False  "
      ]
     },
     "execution_count": 234,
     "metadata": {},
     "output_type": "execute_result"
    }
   ],
   "source": [
    "data=pd.read_csv('pollice data.csv')\n",
    "data.head(2)"
   ]
  },
  {
   "cell_type": "markdown",
   "id": "f987ab3c",
   "metadata": {},
   "source": [
    "## rename functin u can use here inplace "
   ]
  },
  {
   "cell_type": "code",
   "execution_count": 235,
   "id": "91716eea",
   "metadata": {},
   "outputs": [
    {
     "data": {
      "text/html": [
       "<div>\n",
       "<style scoped>\n",
       "    .dataframe tbody tr th:only-of-type {\n",
       "        vertical-align: middle;\n",
       "    }\n",
       "\n",
       "    .dataframe tbody tr th {\n",
       "        vertical-align: top;\n",
       "    }\n",
       "\n",
       "    .dataframe thead th {\n",
       "        text-align: right;\n",
       "    }\n",
       "</style>\n",
       "<table border=\"1\" class=\"dataframe\">\n",
       "  <thead>\n",
       "    <tr style=\"text-align: right;\">\n",
       "      <th></th>\n",
       "      <th>stop_date</th>\n",
       "      <th>stop_time</th>\n",
       "      <th>country</th>\n",
       "      <th>driver_gender</th>\n",
       "      <th>driver_age_raw</th>\n",
       "      <th>driver_age</th>\n",
       "      <th>driver_race</th>\n",
       "      <th>violation_raw</th>\n",
       "      <th>violation</th>\n",
       "      <th>search_conducted</th>\n",
       "      <th>search_type</th>\n",
       "      <th>stop_outcome</th>\n",
       "      <th>is_arrested</th>\n",
       "      <th>stop_duration</th>\n",
       "      <th>drugs_related_stop</th>\n",
       "    </tr>\n",
       "  </thead>\n",
       "  <tbody>\n",
       "    <tr>\n",
       "      <th>0</th>\n",
       "      <td>1/2/2005</td>\n",
       "      <td>1:55</td>\n",
       "      <td>NaN</td>\n",
       "      <td>M</td>\n",
       "      <td>1985.0</td>\n",
       "      <td>20.0</td>\n",
       "      <td>White</td>\n",
       "      <td>Speeding</td>\n",
       "      <td>Speeding</td>\n",
       "      <td>False</td>\n",
       "      <td>NaN</td>\n",
       "      <td>Citation</td>\n",
       "      <td>False</td>\n",
       "      <td>0-15 Min</td>\n",
       "      <td>False</td>\n",
       "    </tr>\n",
       "    <tr>\n",
       "      <th>1</th>\n",
       "      <td>1/18/2005</td>\n",
       "      <td>8:15</td>\n",
       "      <td>NaN</td>\n",
       "      <td>M</td>\n",
       "      <td>1965.0</td>\n",
       "      <td>40.0</td>\n",
       "      <td>White</td>\n",
       "      <td>Speeding</td>\n",
       "      <td>Speeding</td>\n",
       "      <td>False</td>\n",
       "      <td>NaN</td>\n",
       "      <td>Citation</td>\n",
       "      <td>False</td>\n",
       "      <td>0-15 Min</td>\n",
       "      <td>False</td>\n",
       "    </tr>\n",
       "    <tr>\n",
       "      <th>2</th>\n",
       "      <td>1/23/2005</td>\n",
       "      <td>23:15</td>\n",
       "      <td>NaN</td>\n",
       "      <td>M</td>\n",
       "      <td>1972.0</td>\n",
       "      <td>33.0</td>\n",
       "      <td>White</td>\n",
       "      <td>Speeding</td>\n",
       "      <td>Speeding</td>\n",
       "      <td>False</td>\n",
       "      <td>NaN</td>\n",
       "      <td>Citation</td>\n",
       "      <td>False</td>\n",
       "      <td>0-15 Min</td>\n",
       "      <td>False</td>\n",
       "    </tr>\n",
       "    <tr>\n",
       "      <th>3</th>\n",
       "      <td>2/20/2005</td>\n",
       "      <td>17:15</td>\n",
       "      <td>NaN</td>\n",
       "      <td>M</td>\n",
       "      <td>1986.0</td>\n",
       "      <td>19.0</td>\n",
       "      <td>White</td>\n",
       "      <td>Call for Service</td>\n",
       "      <td>Other</td>\n",
       "      <td>False</td>\n",
       "      <td>NaN</td>\n",
       "      <td>Arrest Driver</td>\n",
       "      <td>True</td>\n",
       "      <td>16-30 Min</td>\n",
       "      <td>False</td>\n",
       "    </tr>\n",
       "    <tr>\n",
       "      <th>4</th>\n",
       "      <td>3/14/2005</td>\n",
       "      <td>10:00</td>\n",
       "      <td>NaN</td>\n",
       "      <td>F</td>\n",
       "      <td>1984.0</td>\n",
       "      <td>21.0</td>\n",
       "      <td>White</td>\n",
       "      <td>Speeding</td>\n",
       "      <td>Speeding</td>\n",
       "      <td>False</td>\n",
       "      <td>NaN</td>\n",
       "      <td>Citation</td>\n",
       "      <td>False</td>\n",
       "      <td>0-15 Min</td>\n",
       "      <td>False</td>\n",
       "    </tr>\n",
       "  </tbody>\n",
       "</table>\n",
       "</div>"
      ],
      "text/plain": [
       "   stop_date stop_time  country driver_gender  driver_age_raw  driver_age  \\\n",
       "0   1/2/2005      1:55      NaN             M          1985.0        20.0   \n",
       "1  1/18/2005      8:15      NaN             M          1965.0        40.0   \n",
       "2  1/23/2005     23:15      NaN             M          1972.0        33.0   \n",
       "3  2/20/2005     17:15      NaN             M          1986.0        19.0   \n",
       "4  3/14/2005     10:00      NaN             F          1984.0        21.0   \n",
       "\n",
       "  driver_race     violation_raw violation  search_conducted search_type  \\\n",
       "0       White          Speeding  Speeding             False         NaN   \n",
       "1       White          Speeding  Speeding             False         NaN   \n",
       "2       White          Speeding  Speeding             False         NaN   \n",
       "3       White  Call for Service     Other             False         NaN   \n",
       "4       White          Speeding  Speeding             False         NaN   \n",
       "\n",
       "    stop_outcome is_arrested stop_duration  drugs_related_stop  \n",
       "0       Citation       False      0-15 Min               False  \n",
       "1       Citation       False      0-15 Min               False  \n",
       "2       Citation       False      0-15 Min               False  \n",
       "3  Arrest Driver        True     16-30 Min               False  \n",
       "4       Citation       False      0-15 Min               False  "
      ]
     },
     "execution_count": 235,
     "metadata": {},
     "output_type": "execute_result"
    }
   ],
   "source": [
    "data.rename({'country_name':'country'},axis='columns').head()"
   ]
  },
  {
   "cell_type": "markdown",
   "id": "722cb7d5",
   "metadata": {},
   "source": [
    "## split data columns method and split method belongs to regular expression"
   ]
  },
  {
   "cell_type": "code",
   "execution_count": 237,
   "id": "09f5096b",
   "metadata": {},
   "outputs": [
    {
     "data": {
      "text/html": [
       "<div>\n",
       "<style scoped>\n",
       "    .dataframe tbody tr th:only-of-type {\n",
       "        vertical-align: middle;\n",
       "    }\n",
       "\n",
       "    .dataframe tbody tr th {\n",
       "        vertical-align: top;\n",
       "    }\n",
       "\n",
       "    .dataframe thead th {\n",
       "        text-align: right;\n",
       "    }\n",
       "</style>\n",
       "<table border=\"1\" class=\"dataframe\">\n",
       "  <thead>\n",
       "    <tr style=\"text-align: right;\">\n",
       "      <th></th>\n",
       "      <th>stop_date</th>\n",
       "      <th>day</th>\n",
       "      <th>month</th>\n",
       "      <th>year</th>\n",
       "    </tr>\n",
       "  </thead>\n",
       "  <tbody>\n",
       "    <tr>\n",
       "      <th>0</th>\n",
       "      <td>1/2/2005</td>\n",
       "      <td>2</td>\n",
       "      <td>1</td>\n",
       "      <td>2005</td>\n",
       "    </tr>\n",
       "    <tr>\n",
       "      <th>1</th>\n",
       "      <td>1/18/2005</td>\n",
       "      <td>18</td>\n",
       "      <td>1</td>\n",
       "      <td>2005</td>\n",
       "    </tr>\n",
       "  </tbody>\n",
       "</table>\n",
       "</div>"
      ],
      "text/plain": [
       "   stop_date day month  year\n",
       "0   1/2/2005   2     1  2005\n",
       "1  1/18/2005  18     1  2005"
      ]
     },
     "execution_count": 237,
     "metadata": {},
     "output_type": "execute_result"
    }
   ],
   "source": [
    "data[['month','day','year']]= data['stop_date'].str.split(\"/\",expand=True)\n",
    "data[['stop_date','day','month','year']] .head(2)\n",
    "## expand return value in form like\n",
    "## here 3 section so i am using three variable for unpacking\n",
    "# and it will modified the dataframe"
   ]
  },
  {
   "cell_type": "code",
   "execution_count": 238,
   "id": "81da2f7d",
   "metadata": {},
   "outputs": [
    {
     "data": {
      "text/plain": [
       "7     2331\n",
       "21    2326\n",
       "10    2319\n",
       "9     2296\n",
       "5     2295\n",
       "Name: day, dtype: int64"
      ]
     },
     "execution_count": 238,
     "metadata": {},
     "output_type": "execute_result"
    }
   ],
   "source": [
    "data.day.value_counts().head()"
   ]
  },
  {
   "cell_type": "markdown",
   "id": "fe75177b",
   "metadata": {},
   "source": [
    "## reverese trick for split data it means merge the split columns"
   ]
  },
  {
   "cell_type": "code",
   "execution_count": 239,
   "id": "fa548060",
   "metadata": {},
   "outputs": [],
   "source": [
    "data['Date']= data['day']+'-'+data['month']+'-'+data['year']"
   ]
  },
  {
   "cell_type": "code",
   "execution_count": 240,
   "id": "9eeaa753",
   "metadata": {},
   "outputs": [
    {
     "data": {
      "text/html": [
       "<div>\n",
       "<style scoped>\n",
       "    .dataframe tbody tr th:only-of-type {\n",
       "        vertical-align: middle;\n",
       "    }\n",
       "\n",
       "    .dataframe tbody tr th {\n",
       "        vertical-align: top;\n",
       "    }\n",
       "\n",
       "    .dataframe thead th {\n",
       "        text-align: right;\n",
       "    }\n",
       "</style>\n",
       "<table border=\"1\" class=\"dataframe\">\n",
       "  <thead>\n",
       "    <tr style=\"text-align: right;\">\n",
       "      <th></th>\n",
       "      <th>stop_date</th>\n",
       "      <th>day</th>\n",
       "      <th>month</th>\n",
       "      <th>year</th>\n",
       "      <th>Date</th>\n",
       "    </tr>\n",
       "  </thead>\n",
       "  <tbody>\n",
       "    <tr>\n",
       "      <th>0</th>\n",
       "      <td>1/2/2005</td>\n",
       "      <td>2</td>\n",
       "      <td>1</td>\n",
       "      <td>2005</td>\n",
       "      <td>2-1-2005</td>\n",
       "    </tr>\n",
       "    <tr>\n",
       "      <th>1</th>\n",
       "      <td>1/18/2005</td>\n",
       "      <td>18</td>\n",
       "      <td>1</td>\n",
       "      <td>2005</td>\n",
       "      <td>18-1-2005</td>\n",
       "    </tr>\n",
       "  </tbody>\n",
       "</table>\n",
       "</div>"
      ],
      "text/plain": [
       "   stop_date day month  year       Date\n",
       "0   1/2/2005   2     1  2005   2-1-2005\n",
       "1  1/18/2005  18     1  2005  18-1-2005"
      ]
     },
     "execution_count": 240,
     "metadata": {},
     "output_type": "execute_result"
    }
   ],
   "source": [
    "data[['stop_date','day','month','year','Date']].head(2)"
   ]
  },
  {
   "cell_type": "code",
   "execution_count": 241,
   "id": "5538d210",
   "metadata": {},
   "outputs": [
    {
     "data": {
      "text/plain": [
       "dtype('O')"
      ]
     },
     "execution_count": 241,
     "metadata": {},
     "output_type": "execute_result"
    }
   ],
   "source": [
    "data['Date'].dtypes"
   ]
  },
  {
   "cell_type": "code",
   "execution_count": 251,
   "id": "428ff85f",
   "metadata": {},
   "outputs": [
    {
     "data": {
      "text/plain": [
       "'Tuesday'"
      ]
     },
     "execution_count": 251,
     "metadata": {},
     "output_type": "execute_result"
    }
   ],
   "source": [
    "pd.to_datetime(data['Date'])[0].day_name()\n"
   ]
  },
  {
   "cell_type": "code",
   "execution_count": 252,
   "id": "59672fb3",
   "metadata": {},
   "outputs": [
    {
     "data": {
      "text/plain": [
       "'February'"
      ]
     },
     "execution_count": 252,
     "metadata": {},
     "output_type": "execute_result"
    }
   ],
   "source": [
    "pd.to_datetime(data['Date'])[0].month_name()"
   ]
  },
  {
   "cell_type": "code",
   "execution_count": 254,
   "id": "e8686cac",
   "metadata": {},
   "outputs": [
    {
     "data": {
      "text/plain": [
       "2005"
      ]
     },
     "execution_count": 254,
     "metadata": {},
     "output_type": "execute_result"
    }
   ],
   "source": [
    "pd.to_datetime(data['Date'])[0].year"
   ]
  },
  {
   "cell_type": "markdown",
   "id": "e663aaa6",
   "metadata": {},
   "source": [
    "## one hot encoding"
   ]
  },
  {
   "cell_type": "code",
   "execution_count": 32,
   "id": "346c4c2f",
   "metadata": {},
   "outputs": [
    {
     "data": {
      "text/html": [
       "<div>\n",
       "<style scoped>\n",
       "    .dataframe tbody tr th:only-of-type {\n",
       "        vertical-align: middle;\n",
       "    }\n",
       "\n",
       "    .dataframe tbody tr th {\n",
       "        vertical-align: top;\n",
       "    }\n",
       "\n",
       "    .dataframe thead th {\n",
       "        text-align: right;\n",
       "    }\n",
       "</style>\n",
       "<table border=\"1\" class=\"dataframe\">\n",
       "  <thead>\n",
       "    <tr style=\"text-align: right;\">\n",
       "      <th></th>\n",
       "      <th>stop_date</th>\n",
       "      <th>stop_time</th>\n",
       "      <th>country_name</th>\n",
       "      <th>driver_gender</th>\n",
       "      <th>driver_age_raw</th>\n",
       "      <th>driver_age</th>\n",
       "      <th>driver_race</th>\n",
       "      <th>violation_raw</th>\n",
       "      <th>violation</th>\n",
       "      <th>search_conducted</th>\n",
       "      <th>...</th>\n",
       "      <th>month_11</th>\n",
       "      <th>month_12</th>\n",
       "      <th>month_2</th>\n",
       "      <th>month_3</th>\n",
       "      <th>month_4</th>\n",
       "      <th>month_5</th>\n",
       "      <th>month_6</th>\n",
       "      <th>month_7</th>\n",
       "      <th>month_8</th>\n",
       "      <th>month_9</th>\n",
       "    </tr>\n",
       "  </thead>\n",
       "  <tbody>\n",
       "    <tr>\n",
       "      <th>0</th>\n",
       "      <td>1/2/2005</td>\n",
       "      <td>1:55</td>\n",
       "      <td>NaN</td>\n",
       "      <td>M</td>\n",
       "      <td>1985.0</td>\n",
       "      <td>20.0</td>\n",
       "      <td>White</td>\n",
       "      <td>Speeding</td>\n",
       "      <td>Speeding</td>\n",
       "      <td>False</td>\n",
       "      <td>...</td>\n",
       "      <td>0</td>\n",
       "      <td>0</td>\n",
       "      <td>0</td>\n",
       "      <td>0</td>\n",
       "      <td>0</td>\n",
       "      <td>0</td>\n",
       "      <td>0</td>\n",
       "      <td>0</td>\n",
       "      <td>0</td>\n",
       "      <td>0</td>\n",
       "    </tr>\n",
       "    <tr>\n",
       "      <th>1</th>\n",
       "      <td>1/18/2005</td>\n",
       "      <td>8:15</td>\n",
       "      <td>NaN</td>\n",
       "      <td>M</td>\n",
       "      <td>1965.0</td>\n",
       "      <td>40.0</td>\n",
       "      <td>White</td>\n",
       "      <td>Speeding</td>\n",
       "      <td>Speeding</td>\n",
       "      <td>False</td>\n",
       "      <td>...</td>\n",
       "      <td>0</td>\n",
       "      <td>0</td>\n",
       "      <td>0</td>\n",
       "      <td>0</td>\n",
       "      <td>0</td>\n",
       "      <td>0</td>\n",
       "      <td>0</td>\n",
       "      <td>0</td>\n",
       "      <td>0</td>\n",
       "      <td>0</td>\n",
       "    </tr>\n",
       "    <tr>\n",
       "      <th>2</th>\n",
       "      <td>1/23/2005</td>\n",
       "      <td>23:15</td>\n",
       "      <td>NaN</td>\n",
       "      <td>M</td>\n",
       "      <td>1972.0</td>\n",
       "      <td>33.0</td>\n",
       "      <td>White</td>\n",
       "      <td>Speeding</td>\n",
       "      <td>Speeding</td>\n",
       "      <td>False</td>\n",
       "      <td>...</td>\n",
       "      <td>0</td>\n",
       "      <td>0</td>\n",
       "      <td>0</td>\n",
       "      <td>0</td>\n",
       "      <td>0</td>\n",
       "      <td>0</td>\n",
       "      <td>0</td>\n",
       "      <td>0</td>\n",
       "      <td>0</td>\n",
       "      <td>0</td>\n",
       "    </tr>\n",
       "    <tr>\n",
       "      <th>3</th>\n",
       "      <td>2/20/2005</td>\n",
       "      <td>17:15</td>\n",
       "      <td>NaN</td>\n",
       "      <td>M</td>\n",
       "      <td>1986.0</td>\n",
       "      <td>19.0</td>\n",
       "      <td>White</td>\n",
       "      <td>Call for Service</td>\n",
       "      <td>Other</td>\n",
       "      <td>False</td>\n",
       "      <td>...</td>\n",
       "      <td>0</td>\n",
       "      <td>0</td>\n",
       "      <td>1</td>\n",
       "      <td>0</td>\n",
       "      <td>0</td>\n",
       "      <td>0</td>\n",
       "      <td>0</td>\n",
       "      <td>0</td>\n",
       "      <td>0</td>\n",
       "      <td>0</td>\n",
       "    </tr>\n",
       "    <tr>\n",
       "      <th>4</th>\n",
       "      <td>3/14/2005</td>\n",
       "      <td>10:00</td>\n",
       "      <td>NaN</td>\n",
       "      <td>F</td>\n",
       "      <td>1984.0</td>\n",
       "      <td>21.0</td>\n",
       "      <td>White</td>\n",
       "      <td>Speeding</td>\n",
       "      <td>Speeding</td>\n",
       "      <td>False</td>\n",
       "      <td>...</td>\n",
       "      <td>0</td>\n",
       "      <td>0</td>\n",
       "      <td>0</td>\n",
       "      <td>1</td>\n",
       "      <td>0</td>\n",
       "      <td>0</td>\n",
       "      <td>0</td>\n",
       "      <td>0</td>\n",
       "      <td>0</td>\n",
       "      <td>0</td>\n",
       "    </tr>\n",
       "    <tr>\n",
       "      <th>...</th>\n",
       "      <td>...</td>\n",
       "      <td>...</td>\n",
       "      <td>...</td>\n",
       "      <td>...</td>\n",
       "      <td>...</td>\n",
       "      <td>...</td>\n",
       "      <td>...</td>\n",
       "      <td>...</td>\n",
       "      <td>...</td>\n",
       "      <td>...</td>\n",
       "      <td>...</td>\n",
       "      <td>...</td>\n",
       "      <td>...</td>\n",
       "      <td>...</td>\n",
       "      <td>...</td>\n",
       "      <td>...</td>\n",
       "      <td>...</td>\n",
       "      <td>...</td>\n",
       "      <td>...</td>\n",
       "      <td>...</td>\n",
       "      <td>...</td>\n",
       "    </tr>\n",
       "    <tr>\n",
       "      <th>65530</th>\n",
       "      <td>12/6/2012</td>\n",
       "      <td>17:54</td>\n",
       "      <td>NaN</td>\n",
       "      <td>F</td>\n",
       "      <td>1987.0</td>\n",
       "      <td>25.0</td>\n",
       "      <td>White</td>\n",
       "      <td>Speeding</td>\n",
       "      <td>Speeding</td>\n",
       "      <td>False</td>\n",
       "      <td>...</td>\n",
       "      <td>0</td>\n",
       "      <td>1</td>\n",
       "      <td>0</td>\n",
       "      <td>0</td>\n",
       "      <td>0</td>\n",
       "      <td>0</td>\n",
       "      <td>0</td>\n",
       "      <td>0</td>\n",
       "      <td>0</td>\n",
       "      <td>0</td>\n",
       "    </tr>\n",
       "    <tr>\n",
       "      <th>65531</th>\n",
       "      <td>12/6/2012</td>\n",
       "      <td>22:22</td>\n",
       "      <td>NaN</td>\n",
       "      <td>M</td>\n",
       "      <td>1954.0</td>\n",
       "      <td>58.0</td>\n",
       "      <td>White</td>\n",
       "      <td>Speeding</td>\n",
       "      <td>Speeding</td>\n",
       "      <td>False</td>\n",
       "      <td>...</td>\n",
       "      <td>0</td>\n",
       "      <td>1</td>\n",
       "      <td>0</td>\n",
       "      <td>0</td>\n",
       "      <td>0</td>\n",
       "      <td>0</td>\n",
       "      <td>0</td>\n",
       "      <td>0</td>\n",
       "      <td>0</td>\n",
       "      <td>0</td>\n",
       "    </tr>\n",
       "    <tr>\n",
       "      <th>65532</th>\n",
       "      <td>12/6/2012</td>\n",
       "      <td>23:20</td>\n",
       "      <td>NaN</td>\n",
       "      <td>M</td>\n",
       "      <td>1985.0</td>\n",
       "      <td>27.0</td>\n",
       "      <td>Black</td>\n",
       "      <td>Equipment/Inspection Violation</td>\n",
       "      <td>Equipment</td>\n",
       "      <td>False</td>\n",
       "      <td>...</td>\n",
       "      <td>0</td>\n",
       "      <td>1</td>\n",
       "      <td>0</td>\n",
       "      <td>0</td>\n",
       "      <td>0</td>\n",
       "      <td>0</td>\n",
       "      <td>0</td>\n",
       "      <td>0</td>\n",
       "      <td>0</td>\n",
       "      <td>0</td>\n",
       "    </tr>\n",
       "    <tr>\n",
       "      <th>65533</th>\n",
       "      <td>12/7/2012</td>\n",
       "      <td>0:23</td>\n",
       "      <td>NaN</td>\n",
       "      <td>NaN</td>\n",
       "      <td>NaN</td>\n",
       "      <td>NaN</td>\n",
       "      <td>NaN</td>\n",
       "      <td>NaN</td>\n",
       "      <td>NaN</td>\n",
       "      <td>False</td>\n",
       "      <td>...</td>\n",
       "      <td>0</td>\n",
       "      <td>1</td>\n",
       "      <td>0</td>\n",
       "      <td>0</td>\n",
       "      <td>0</td>\n",
       "      <td>0</td>\n",
       "      <td>0</td>\n",
       "      <td>0</td>\n",
       "      <td>0</td>\n",
       "      <td>0</td>\n",
       "    </tr>\n",
       "    <tr>\n",
       "      <th>65534</th>\n",
       "      <td>12/7/2012</td>\n",
       "      <td>0:30</td>\n",
       "      <td>NaN</td>\n",
       "      <td>F</td>\n",
       "      <td>1985.0</td>\n",
       "      <td>27.0</td>\n",
       "      <td>White</td>\n",
       "      <td>Speeding</td>\n",
       "      <td>Speeding</td>\n",
       "      <td>False</td>\n",
       "      <td>...</td>\n",
       "      <td>0</td>\n",
       "      <td>1</td>\n",
       "      <td>0</td>\n",
       "      <td>0</td>\n",
       "      <td>0</td>\n",
       "      <td>0</td>\n",
       "      <td>0</td>\n",
       "      <td>0</td>\n",
       "      <td>0</td>\n",
       "      <td>0</td>\n",
       "    </tr>\n",
       "  </tbody>\n",
       "</table>\n",
       "<p>65535 rows × 30 columns</p>\n",
       "</div>"
      ],
      "text/plain": [
       "       stop_date stop_time  country_name driver_gender  driver_age_raw  \\\n",
       "0       1/2/2005      1:55           NaN             M          1985.0   \n",
       "1      1/18/2005      8:15           NaN             M          1965.0   \n",
       "2      1/23/2005     23:15           NaN             M          1972.0   \n",
       "3      2/20/2005     17:15           NaN             M          1986.0   \n",
       "4      3/14/2005     10:00           NaN             F          1984.0   \n",
       "...          ...       ...           ...           ...             ...   \n",
       "65530  12/6/2012     17:54           NaN             F          1987.0   \n",
       "65531  12/6/2012     22:22           NaN             M          1954.0   \n",
       "65532  12/6/2012     23:20           NaN             M          1985.0   \n",
       "65533  12/7/2012      0:23           NaN           NaN             NaN   \n",
       "65534  12/7/2012      0:30           NaN             F          1985.0   \n",
       "\n",
       "       driver_age driver_race                   violation_raw  violation  \\\n",
       "0            20.0       White                        Speeding   Speeding   \n",
       "1            40.0       White                        Speeding   Speeding   \n",
       "2            33.0       White                        Speeding   Speeding   \n",
       "3            19.0       White                Call for Service      Other   \n",
       "4            21.0       White                        Speeding   Speeding   \n",
       "...           ...         ...                             ...        ...   \n",
       "65530        25.0       White                        Speeding   Speeding   \n",
       "65531        58.0       White                        Speeding   Speeding   \n",
       "65532        27.0       Black  Equipment/Inspection Violation  Equipment   \n",
       "65533         NaN         NaN                             NaN        NaN   \n",
       "65534        27.0       White                        Speeding   Speeding   \n",
       "\n",
       "       search_conducted  ... month_11 month_12 month_2 month_3  month_4  \\\n",
       "0                 False  ...        0        0       0       0        0   \n",
       "1                 False  ...        0        0       0       0        0   \n",
       "2                 False  ...        0        0       0       0        0   \n",
       "3                 False  ...        0        0       1       0        0   \n",
       "4                 False  ...        0        0       0       1        0   \n",
       "...                 ...  ...      ...      ...     ...     ...      ...   \n",
       "65530             False  ...        0        1       0       0        0   \n",
       "65531             False  ...        0        1       0       0        0   \n",
       "65532             False  ...        0        1       0       0        0   \n",
       "65533             False  ...        0        1       0       0        0   \n",
       "65534             False  ...        0        1       0       0        0   \n",
       "\n",
       "      month_5 month_6 month_7  month_8  month_9  \n",
       "0           0       0       0        0        0  \n",
       "1           0       0       0        0        0  \n",
       "2           0       0       0        0        0  \n",
       "3           0       0       0        0        0  \n",
       "4           0       0       0        0        0  \n",
       "...       ...     ...     ...      ...      ...  \n",
       "65530       0       0       0        0        0  \n",
       "65531       0       0       0        0        0  \n",
       "65532       0       0       0        0        0  \n",
       "65533       0       0       0        0        0  \n",
       "65534       0       0       0        0        0  \n",
       "\n",
       "[65535 rows x 30 columns]"
      ]
     },
     "execution_count": 32,
     "metadata": {},
     "output_type": "execute_result"
    }
   ],
   "source": [
    "df=pd.get_dummies(data,prefix='month',prefix_sep='_',columns=['month'])   \n",
    "\n",
    "# u can use here drop_first=True or False\n",
    "df\n",
    "# get_dummies function returning a dummy data of categorical data_column\n",
    "# whenever condition met in this metho it will put the 1\n",
    "# if you have 5 categoery in column then you may be seen 5 dummies column"
   ]
  },
  {
   "cell_type": "markdown",
   "id": "126e058e",
   "metadata": {},
   "source": [
    "## values function return a ndarray single dimension"
   ]
  },
  {
   "cell_type": "code",
   "execution_count": 49,
   "id": "1f4c8602",
   "metadata": {},
   "outputs": [
    {
     "name": "stdout",
     "output_type": "stream",
     "text": [
      "1\n",
      "(65535,)\n"
     ]
    },
    {
     "data": {
      "text/plain": [
       "array(['1/2/2005', '1/18/2005', '1/23/2005', ..., '12/6/2012',\n",
       "       '12/7/2012', '12/7/2012'], dtype=object)"
      ]
     },
     "execution_count": 49,
     "metadata": {},
     "output_type": "execute_result"
    }
   ],
   "source": [
    "e=data['stop_date'].values\n",
    "print(e.ndim)\n",
    "print(e.shape)\n",
    "e"
   ]
  },
  {
   "cell_type": "markdown",
   "id": "da86f02b",
   "metadata": {},
   "source": [
    "## continuos variabl3 to categorical\n",
    "it is my best tricks in this trick we are convert a countinuous variable into catogorical \n",
    ". when you assign the 5 bins then you will have to assign 4 labels"
   ]
  },
  {
   "cell_type": "code",
   "execution_count": 256,
   "id": "e85a92cd",
   "metadata": {},
   "outputs": [
    {
     "data": {
      "text/plain": [
       "0        mazer\n",
       "1        young\n",
       "2        young\n",
       "3        mazer\n",
       "4        mazer\n",
       "         ...  \n",
       "65530    mazer\n",
       "65531      old\n",
       "65532    young\n",
       "65533      NaN\n",
       "65534    young\n",
       "Name: driver_age, Length: 65535, dtype: category\n",
       "Categories (5, object): ['maner' < 'mazer' < 'young' < 'old' < 'poor_old']"
      ]
     },
     "execution_count": 256,
     "metadata": {},
     "output_type": "execute_result"
    }
   ],
   "source": [
    "pd.cut(data['driver_age'],bins=[0,18,25,40,60,80],labels=['maner','mazer','young','old','poor_old'])"
   ]
  },
  {
   "cell_type": "code",
   "execution_count": 52,
   "id": "5c9207cb",
   "metadata": {},
   "outputs": [
    {
     "data": {
      "text/html": [
       "<div>\n",
       "<style scoped>\n",
       "    .dataframe tbody tr th:only-of-type {\n",
       "        vertical-align: middle;\n",
       "    }\n",
       "\n",
       "    .dataframe tbody tr th {\n",
       "        vertical-align: top;\n",
       "    }\n",
       "\n",
       "    .dataframe thead th {\n",
       "        text-align: right;\n",
       "    }\n",
       "</style>\n",
       "<table border=\"1\" class=\"dataframe\">\n",
       "  <thead>\n",
       "    <tr style=\"text-align: right;\">\n",
       "      <th></th>\n",
       "      <th>driver_age</th>\n",
       "      <th>categorized_age</th>\n",
       "    </tr>\n",
       "  </thead>\n",
       "  <tbody>\n",
       "    <tr>\n",
       "      <th>0</th>\n",
       "      <td>20.0</td>\n",
       "      <td>mazer</td>\n",
       "    </tr>\n",
       "    <tr>\n",
       "      <th>1</th>\n",
       "      <td>40.0</td>\n",
       "      <td>young</td>\n",
       "    </tr>\n",
       "    <tr>\n",
       "      <th>2</th>\n",
       "      <td>33.0</td>\n",
       "      <td>young</td>\n",
       "    </tr>\n",
       "    <tr>\n",
       "      <th>3</th>\n",
       "      <td>19.0</td>\n",
       "      <td>mazer</td>\n",
       "    </tr>\n",
       "    <tr>\n",
       "      <th>4</th>\n",
       "      <td>21.0</td>\n",
       "      <td>mazer</td>\n",
       "    </tr>\n",
       "    <tr>\n",
       "      <th>...</th>\n",
       "      <td>...</td>\n",
       "      <td>...</td>\n",
       "    </tr>\n",
       "    <tr>\n",
       "      <th>65530</th>\n",
       "      <td>25.0</td>\n",
       "      <td>mazer</td>\n",
       "    </tr>\n",
       "    <tr>\n",
       "      <th>65531</th>\n",
       "      <td>58.0</td>\n",
       "      <td>old</td>\n",
       "    </tr>\n",
       "    <tr>\n",
       "      <th>65532</th>\n",
       "      <td>27.0</td>\n",
       "      <td>young</td>\n",
       "    </tr>\n",
       "    <tr>\n",
       "      <th>65533</th>\n",
       "      <td>NaN</td>\n",
       "      <td>NaN</td>\n",
       "    </tr>\n",
       "    <tr>\n",
       "      <th>65534</th>\n",
       "      <td>27.0</td>\n",
       "      <td>young</td>\n",
       "    </tr>\n",
       "  </tbody>\n",
       "</table>\n",
       "<p>65535 rows × 2 columns</p>\n",
       "</div>"
      ],
      "text/plain": [
       "       driver_age categorized_age\n",
       "0            20.0           mazer\n",
       "1            40.0           young\n",
       "2            33.0           young\n",
       "3            19.0           mazer\n",
       "4            21.0           mazer\n",
       "...           ...             ...\n",
       "65530        25.0           mazer\n",
       "65531        58.0             old\n",
       "65532        27.0           young\n",
       "65533         NaN             NaN\n",
       "65534        27.0           young\n",
       "\n",
       "[65535 rows x 2 columns]"
      ]
     },
     "execution_count": 52,
     "metadata": {},
     "output_type": "execute_result"
    }
   ],
   "source": [
    "data['categorized_age']=pd.cut(data['driver_age'].values,bins=[0,18,25,40,60,85],labels=['maner','mazer','young','old','poor_old'])\n",
    "data[['driver_age','categorized_age']]"
   ]
  },
  {
   "cell_type": "code",
   "execution_count": 53,
   "id": "10a1053a",
   "metadata": {},
   "outputs": [
    {
     "data": {
      "text/plain": [
       "young       22464\n",
       "mazer       18634\n",
       "old         16145\n",
       "poor_old     2144\n",
       "maner        1833\n",
       "Name: categorized_age, dtype: int64"
      ]
     },
     "execution_count": 53,
     "metadata": {},
     "output_type": "execute_result"
    }
   ],
   "source": [
    "data['categorized_age'].value_counts()"
   ]
  },
  {
   "cell_type": "markdown",
   "id": "cfdf6580",
   "metadata": {},
   "source": [
    "## apply() method for change case letter\n",
    "i do not know about it what float object and why it not giving me suitable aswer ! but i don,t care bcz i have many method for this query"
   ]
  },
  {
   "cell_type": "code",
   "execution_count": 268,
   "id": "01a3ba5c",
   "metadata": {},
   "outputs": [
    {
     "data": {
      "text/plain": [
       "White       45747\n",
       "Black        8267\n",
       "Hispanic     5611\n",
       "Asian        1639\n",
       "Other         211\n",
       "Name: driver_race, dtype: int64"
      ]
     },
     "execution_count": 268,
     "metadata": {},
     "output_type": "execute_result"
    }
   ],
   "source": [
    "data['driver_race'].value_counts()"
   ]
  },
  {
   "cell_type": "code",
   "execution_count": 283,
   "id": "9b6b9212",
   "metadata": {},
   "outputs": [
    {
     "ename": "AttributeError",
     "evalue": "'float' object has no attribute 'upper'",
     "output_type": "error",
     "traceback": [
      "\u001b[1;31m---------------------------------------------------------------------------\u001b[0m",
      "\u001b[1;31mAttributeError\u001b[0m                            Traceback (most recent call last)",
      "Input \u001b[1;32mIn [283]\u001b[0m, in \u001b[0;36m<cell line: 1>\u001b[1;34m()\u001b[0m\n\u001b[1;32m----> 1\u001b[0m data[\u001b[38;5;124m'\u001b[39m\u001b[38;5;124mdriver_race\u001b[39m\u001b[38;5;124m'\u001b[39m]\u001b[38;5;241m=\u001b[39m \u001b[43mdata\u001b[49m\u001b[43m[\u001b[49m\u001b[38;5;124;43m'\u001b[39;49m\u001b[38;5;124;43mdriver_race\u001b[39;49m\u001b[38;5;124;43m'\u001b[39;49m\u001b[43m]\u001b[49m\u001b[38;5;241;43m.\u001b[39;49m\u001b[43mapply\u001b[49m\u001b[43m(\u001b[49m\u001b[38;5;28;43;01mlambda\u001b[39;49;00m\u001b[43m \u001b[49m\u001b[43mx\u001b[49m\u001b[43m:\u001b[49m\u001b[43mx\u001b[49m\u001b[38;5;241;43m.\u001b[39;49m\u001b[43mupper\u001b[49m\u001b[43m(\u001b[49m\u001b[43m)\u001b[49m\u001b[43m)\u001b[49m\n\u001b[0;32m      2\u001b[0m data\n",
      "File \u001b[1;32m~\\AppData\\Local\\Programs\\Python\\Python310\\lib\\site-packages\\pandas\\core\\series.py:4433\u001b[0m, in \u001b[0;36mSeries.apply\u001b[1;34m(self, func, convert_dtype, args, **kwargs)\u001b[0m\n\u001b[0;32m   4323\u001b[0m \u001b[38;5;28;01mdef\u001b[39;00m \u001b[38;5;21mapply\u001b[39m(\n\u001b[0;32m   4324\u001b[0m     \u001b[38;5;28mself\u001b[39m,\n\u001b[0;32m   4325\u001b[0m     func: AggFuncType,\n\u001b[1;32m   (...)\u001b[0m\n\u001b[0;32m   4328\u001b[0m     \u001b[38;5;241m*\u001b[39m\u001b[38;5;241m*\u001b[39mkwargs,\n\u001b[0;32m   4329\u001b[0m ) \u001b[38;5;241m-\u001b[39m\u001b[38;5;241m>\u001b[39m DataFrame \u001b[38;5;241m|\u001b[39m Series:\n\u001b[0;32m   4330\u001b[0m     \u001b[38;5;124;03m\"\"\"\u001b[39;00m\n\u001b[0;32m   4331\u001b[0m \u001b[38;5;124;03m    Invoke function on values of Series.\u001b[39;00m\n\u001b[0;32m   4332\u001b[0m \n\u001b[1;32m   (...)\u001b[0m\n\u001b[0;32m   4431\u001b[0m \u001b[38;5;124;03m    dtype: float64\u001b[39;00m\n\u001b[0;32m   4432\u001b[0m \u001b[38;5;124;03m    \"\"\"\u001b[39;00m\n\u001b[1;32m-> 4433\u001b[0m     \u001b[38;5;28;01mreturn\u001b[39;00m \u001b[43mSeriesApply\u001b[49m\u001b[43m(\u001b[49m\u001b[38;5;28;43mself\u001b[39;49m\u001b[43m,\u001b[49m\u001b[43m \u001b[49m\u001b[43mfunc\u001b[49m\u001b[43m,\u001b[49m\u001b[43m \u001b[49m\u001b[43mconvert_dtype\u001b[49m\u001b[43m,\u001b[49m\u001b[43m \u001b[49m\u001b[43margs\u001b[49m\u001b[43m,\u001b[49m\u001b[43m \u001b[49m\u001b[43mkwargs\u001b[49m\u001b[43m)\u001b[49m\u001b[38;5;241;43m.\u001b[39;49m\u001b[43mapply\u001b[49m\u001b[43m(\u001b[49m\u001b[43m)\u001b[49m\n",
      "File \u001b[1;32m~\\AppData\\Local\\Programs\\Python\\Python310\\lib\\site-packages\\pandas\\core\\apply.py:1088\u001b[0m, in \u001b[0;36mSeriesApply.apply\u001b[1;34m(self)\u001b[0m\n\u001b[0;32m   1084\u001b[0m \u001b[38;5;28;01mif\u001b[39;00m \u001b[38;5;28misinstance\u001b[39m(\u001b[38;5;28mself\u001b[39m\u001b[38;5;241m.\u001b[39mf, \u001b[38;5;28mstr\u001b[39m):\n\u001b[0;32m   1085\u001b[0m     \u001b[38;5;66;03m# if we are a string, try to dispatch\u001b[39;00m\n\u001b[0;32m   1086\u001b[0m     \u001b[38;5;28;01mreturn\u001b[39;00m \u001b[38;5;28mself\u001b[39m\u001b[38;5;241m.\u001b[39mapply_str()\n\u001b[1;32m-> 1088\u001b[0m \u001b[38;5;28;01mreturn\u001b[39;00m \u001b[38;5;28;43mself\u001b[39;49m\u001b[38;5;241;43m.\u001b[39;49m\u001b[43mapply_standard\u001b[49m\u001b[43m(\u001b[49m\u001b[43m)\u001b[49m\n",
      "File \u001b[1;32m~\\AppData\\Local\\Programs\\Python\\Python310\\lib\\site-packages\\pandas\\core\\apply.py:1143\u001b[0m, in \u001b[0;36mSeriesApply.apply_standard\u001b[1;34m(self)\u001b[0m\n\u001b[0;32m   1137\u001b[0m         values \u001b[38;5;241m=\u001b[39m obj\u001b[38;5;241m.\u001b[39mastype(\u001b[38;5;28mobject\u001b[39m)\u001b[38;5;241m.\u001b[39m_values\n\u001b[0;32m   1138\u001b[0m         \u001b[38;5;66;03m# error: Argument 2 to \"map_infer\" has incompatible type\u001b[39;00m\n\u001b[0;32m   1139\u001b[0m         \u001b[38;5;66;03m# \"Union[Callable[..., Any], str, List[Union[Callable[..., Any], str]],\u001b[39;00m\n\u001b[0;32m   1140\u001b[0m         \u001b[38;5;66;03m# Dict[Hashable, Union[Union[Callable[..., Any], str],\u001b[39;00m\n\u001b[0;32m   1141\u001b[0m         \u001b[38;5;66;03m# List[Union[Callable[..., Any], str]]]]]\"; expected\u001b[39;00m\n\u001b[0;32m   1142\u001b[0m         \u001b[38;5;66;03m# \"Callable[[Any], Any]\"\u001b[39;00m\n\u001b[1;32m-> 1143\u001b[0m         mapped \u001b[38;5;241m=\u001b[39m \u001b[43mlib\u001b[49m\u001b[38;5;241;43m.\u001b[39;49m\u001b[43mmap_infer\u001b[49m\u001b[43m(\u001b[49m\n\u001b[0;32m   1144\u001b[0m \u001b[43m            \u001b[49m\u001b[43mvalues\u001b[49m\u001b[43m,\u001b[49m\n\u001b[0;32m   1145\u001b[0m \u001b[43m            \u001b[49m\u001b[43mf\u001b[49m\u001b[43m,\u001b[49m\u001b[43m  \u001b[49m\u001b[38;5;66;43;03m# type: ignore[arg-type]\u001b[39;49;00m\n\u001b[0;32m   1146\u001b[0m \u001b[43m            \u001b[49m\u001b[43mconvert\u001b[49m\u001b[38;5;241;43m=\u001b[39;49m\u001b[38;5;28;43mself\u001b[39;49m\u001b[38;5;241;43m.\u001b[39;49m\u001b[43mconvert_dtype\u001b[49m\u001b[43m,\u001b[49m\n\u001b[0;32m   1147\u001b[0m \u001b[43m        \u001b[49m\u001b[43m)\u001b[49m\n\u001b[0;32m   1149\u001b[0m \u001b[38;5;28;01mif\u001b[39;00m \u001b[38;5;28mlen\u001b[39m(mapped) \u001b[38;5;129;01mand\u001b[39;00m \u001b[38;5;28misinstance\u001b[39m(mapped[\u001b[38;5;241m0\u001b[39m], ABCSeries):\n\u001b[0;32m   1150\u001b[0m     \u001b[38;5;66;03m# GH#43986 Need to do list(mapped) in order to get treated as nested\u001b[39;00m\n\u001b[0;32m   1151\u001b[0m     \u001b[38;5;66;03m#  See also GH#25959 regarding EA support\u001b[39;00m\n\u001b[0;32m   1152\u001b[0m     \u001b[38;5;28;01mreturn\u001b[39;00m obj\u001b[38;5;241m.\u001b[39m_constructor_expanddim(\u001b[38;5;28mlist\u001b[39m(mapped), index\u001b[38;5;241m=\u001b[39mobj\u001b[38;5;241m.\u001b[39mindex)\n",
      "File \u001b[1;32m~\\AppData\\Local\\Programs\\Python\\Python310\\lib\\site-packages\\pandas\\_libs\\lib.pyx:2870\u001b[0m, in \u001b[0;36mpandas._libs.lib.map_infer\u001b[1;34m()\u001b[0m\n",
      "Input \u001b[1;32mIn [283]\u001b[0m, in \u001b[0;36m<lambda>\u001b[1;34m(x)\u001b[0m\n\u001b[1;32m----> 1\u001b[0m data[\u001b[38;5;124m'\u001b[39m\u001b[38;5;124mdriver_race\u001b[39m\u001b[38;5;124m'\u001b[39m]\u001b[38;5;241m=\u001b[39m data[\u001b[38;5;124m'\u001b[39m\u001b[38;5;124mdriver_race\u001b[39m\u001b[38;5;124m'\u001b[39m]\u001b[38;5;241m.\u001b[39mapply(\u001b[38;5;28;01mlambda\u001b[39;00m x:\u001b[43mx\u001b[49m\u001b[38;5;241;43m.\u001b[39;49m\u001b[43mupper\u001b[49m())\n\u001b[0;32m      2\u001b[0m data\n",
      "\u001b[1;31mAttributeError\u001b[0m: 'float' object has no attribute 'upper'"
     ]
    }
   ],
   "source": [
    "data['driver_race']= data['driver_race'].apply(lambda x:x.upper())\n",
    "data"
   ]
  },
  {
   "cell_type": "code",
   "execution_count": 78,
   "id": "3caad441",
   "metadata": {},
   "outputs": [],
   "source": [
    "# first we have to change the dtype into int\n",
    "# after thet we will produce a new column because arithmetic operation\n",
    "# con not perform on the object column\n",
    "data['day']=data['day'].astype(int)\n",
    "data['produced_day']= data['day'].apply(lambda x : 1 if x%2==0 else 0)"
   ]
  },
  {
   "cell_type": "code",
   "execution_count": 80,
   "id": "3e3829a7",
   "metadata": {},
   "outputs": [
    {
     "data": {
      "text/html": [
       "<div>\n",
       "<style scoped>\n",
       "    .dataframe tbody tr th:only-of-type {\n",
       "        vertical-align: middle;\n",
       "    }\n",
       "\n",
       "    .dataframe tbody tr th {\n",
       "        vertical-align: top;\n",
       "    }\n",
       "\n",
       "    .dataframe thead th {\n",
       "        text-align: right;\n",
       "    }\n",
       "</style>\n",
       "<table border=\"1\" class=\"dataframe\">\n",
       "  <thead>\n",
       "    <tr style=\"text-align: right;\">\n",
       "      <th></th>\n",
       "      <th>day</th>\n",
       "      <th>produced_day</th>\n",
       "    </tr>\n",
       "  </thead>\n",
       "  <tbody>\n",
       "    <tr>\n",
       "      <th>0</th>\n",
       "      <td>2</td>\n",
       "      <td>1</td>\n",
       "    </tr>\n",
       "    <tr>\n",
       "      <th>1</th>\n",
       "      <td>18</td>\n",
       "      <td>1</td>\n",
       "    </tr>\n",
       "    <tr>\n",
       "      <th>2</th>\n",
       "      <td>23</td>\n",
       "      <td>0</td>\n",
       "    </tr>\n",
       "    <tr>\n",
       "      <th>3</th>\n",
       "      <td>20</td>\n",
       "      <td>1</td>\n",
       "    </tr>\n",
       "    <tr>\n",
       "      <th>4</th>\n",
       "      <td>14</td>\n",
       "      <td>1</td>\n",
       "    </tr>\n",
       "    <tr>\n",
       "      <th>...</th>\n",
       "      <td>...</td>\n",
       "      <td>...</td>\n",
       "    </tr>\n",
       "    <tr>\n",
       "      <th>65530</th>\n",
       "      <td>6</td>\n",
       "      <td>1</td>\n",
       "    </tr>\n",
       "    <tr>\n",
       "      <th>65531</th>\n",
       "      <td>6</td>\n",
       "      <td>1</td>\n",
       "    </tr>\n",
       "    <tr>\n",
       "      <th>65532</th>\n",
       "      <td>6</td>\n",
       "      <td>1</td>\n",
       "    </tr>\n",
       "    <tr>\n",
       "      <th>65533</th>\n",
       "      <td>7</td>\n",
       "      <td>0</td>\n",
       "    </tr>\n",
       "    <tr>\n",
       "      <th>65534</th>\n",
       "      <td>7</td>\n",
       "      <td>0</td>\n",
       "    </tr>\n",
       "  </tbody>\n",
       "</table>\n",
       "<p>65535 rows × 2 columns</p>\n",
       "</div>"
      ],
      "text/plain": [
       "       day  produced_day\n",
       "0        2             1\n",
       "1       18             1\n",
       "2       23             0\n",
       "3       20             1\n",
       "4       14             1\n",
       "...    ...           ...\n",
       "65530    6             1\n",
       "65531    6             1\n",
       "65532    6             1\n",
       "65533    7             0\n",
       "65534    7             0\n",
       "\n",
       "[65535 rows x 2 columns]"
      ]
     },
     "execution_count": 80,
     "metadata": {},
     "output_type": "execute_result"
    }
   ],
   "source": [
    "data[['day','produced_day']]"
   ]
  },
  {
   "cell_type": "markdown",
   "id": "a8ca955d",
   "metadata": {},
   "source": [
    "## select_dtype() function"
   ]
  },
  {
   "cell_type": "code",
   "execution_count": 8,
   "id": "b9d1b70c",
   "metadata": {},
   "outputs": [
    {
     "data": {
      "text/plain": [
       "stop_date             datetime64[ns]\n",
       "stop_time                     object\n",
       "country_name                 float64\n",
       "driver_gender                 object\n",
       "driver_age_raw               float64\n",
       "driver_age                   float64\n",
       "driver_race                   object\n",
       "violation_raw                 object\n",
       "violation                     object\n",
       "search_conducted                bool\n",
       "search_type                   object\n",
       "stop_outcome                  object\n",
       "is_arrested                   object\n",
       "stop_duration                 object\n",
       "drugs_related_stop              bool\n",
       "dtype: object"
      ]
     },
     "execution_count": 8,
     "metadata": {},
     "output_type": "execute_result"
    }
   ],
   "source": [
    "data.dtypes"
   ]
  },
  {
   "cell_type": "code",
   "execution_count": 10,
   "id": "f1f0a5cb",
   "metadata": {},
   "outputs": [
    {
     "data": {
      "text/html": [
       "<div>\n",
       "<style scoped>\n",
       "    .dataframe tbody tr th:only-of-type {\n",
       "        vertical-align: middle;\n",
       "    }\n",
       "\n",
       "    .dataframe tbody tr th {\n",
       "        vertical-align: top;\n",
       "    }\n",
       "\n",
       "    .dataframe thead th {\n",
       "        text-align: right;\n",
       "    }\n",
       "</style>\n",
       "<table border=\"1\" class=\"dataframe\">\n",
       "  <thead>\n",
       "    <tr style=\"text-align: right;\">\n",
       "      <th></th>\n",
       "      <th>search_conducted</th>\n",
       "      <th>drugs_related_stop</th>\n",
       "    </tr>\n",
       "  </thead>\n",
       "  <tbody>\n",
       "    <tr>\n",
       "      <th>0</th>\n",
       "      <td>False</td>\n",
       "      <td>False</td>\n",
       "    </tr>\n",
       "    <tr>\n",
       "      <th>1</th>\n",
       "      <td>False</td>\n",
       "      <td>False</td>\n",
       "    </tr>\n",
       "    <tr>\n",
       "      <th>2</th>\n",
       "      <td>False</td>\n",
       "      <td>False</td>\n",
       "    </tr>\n",
       "    <tr>\n",
       "      <th>3</th>\n",
       "      <td>False</td>\n",
       "      <td>False</td>\n",
       "    </tr>\n",
       "    <tr>\n",
       "      <th>4</th>\n",
       "      <td>False</td>\n",
       "      <td>False</td>\n",
       "    </tr>\n",
       "    <tr>\n",
       "      <th>...</th>\n",
       "      <td>...</td>\n",
       "      <td>...</td>\n",
       "    </tr>\n",
       "    <tr>\n",
       "      <th>65530</th>\n",
       "      <td>False</td>\n",
       "      <td>False</td>\n",
       "    </tr>\n",
       "    <tr>\n",
       "      <th>65531</th>\n",
       "      <td>False</td>\n",
       "      <td>False</td>\n",
       "    </tr>\n",
       "    <tr>\n",
       "      <th>65532</th>\n",
       "      <td>False</td>\n",
       "      <td>False</td>\n",
       "    </tr>\n",
       "    <tr>\n",
       "      <th>65533</th>\n",
       "      <td>False</td>\n",
       "      <td>False</td>\n",
       "    </tr>\n",
       "    <tr>\n",
       "      <th>65534</th>\n",
       "      <td>False</td>\n",
       "      <td>False</td>\n",
       "    </tr>\n",
       "  </tbody>\n",
       "</table>\n",
       "<p>65535 rows × 2 columns</p>\n",
       "</div>"
      ],
      "text/plain": [
       "       search_conducted  drugs_related_stop\n",
       "0                 False               False\n",
       "1                 False               False\n",
       "2                 False               False\n",
       "3                 False               False\n",
       "4                 False               False\n",
       "...                 ...                 ...\n",
       "65530             False               False\n",
       "65531             False               False\n",
       "65532             False               False\n",
       "65533             False               False\n",
       "65534             False               False\n",
       "\n",
       "[65535 rows x 2 columns]"
      ]
     },
     "execution_count": 10,
     "metadata": {},
     "output_type": "execute_result"
    }
   ],
   "source": [
    "data.select_dtypes(bool) # u can use here only two parameter include and exclude"
   ]
  },
  {
   "cell_type": "code",
   "execution_count": 12,
   "id": "705bbcaf",
   "metadata": {},
   "outputs": [
    {
     "data": {
      "text/plain": [
       "country_name          float64\n",
       "driver_age_raw        float64\n",
       "driver_age            float64\n",
       "search_conducted         bool\n",
       "drugs_related_stop       bool\n",
       "dtype: object"
      ]
     },
     "execution_count": 12,
     "metadata": {},
     "output_type": "execute_result"
    }
   ],
   "source": [
    "df=data.select_dtypes(include=[float,bool])\n",
    "df.dtypes\n",
    "#here i am extracting only float and bool by using include parameter"
   ]
  },
  {
   "cell_type": "code",
   "execution_count": 13,
   "id": "4754a79d",
   "metadata": {},
   "outputs": [
    {
     "data": {
      "text/plain": [
       "stop_date        datetime64[ns]\n",
       "stop_time                object\n",
       "driver_gender            object\n",
       "driver_race              object\n",
       "violation_raw            object\n",
       "violation                object\n",
       "search_type              object\n",
       "stop_outcome             object\n",
       "is_arrested              object\n",
       "stop_duration            object\n",
       "dtype: object"
      ]
     },
     "execution_count": 13,
     "metadata": {},
     "output_type": "execute_result"
    }
   ],
   "source": [
    "df=data.select_dtypes(exclude=[float,bool])\n",
    "df.dtypes"
   ]
  },
  {
   "cell_type": "code",
   "execution_count": 15,
   "id": "af088162",
   "metadata": {},
   "outputs": [
    {
     "data": {
      "text/plain": [
       "stop_time        object\n",
       "driver_gender    object\n",
       "driver_race      object\n",
       "violation_raw    object\n",
       "violation        object\n",
       "search_type      object\n",
       "stop_outcome     object\n",
       "is_arrested      object\n",
       "stop_duration    object\n",
       "dtype: object"
      ]
     },
     "execution_count": 15,
     "metadata": {},
     "output_type": "execute_result"
    }
   ],
   "source": [
    "df=data.select_dtypes(object)\n",
    "df.dtypes"
   ]
  },
  {
   "cell_type": "code",
   "execution_count": null,
   "id": "23720a3f",
   "metadata": {},
   "outputs": [],
   "source": []
  },
  {
   "cell_type": "code",
   "execution_count": null,
   "id": "60e1c0a2",
   "metadata": {},
   "outputs": [],
   "source": []
  },
  {
   "cell_type": "code",
   "execution_count": null,
   "id": "b6760804",
   "metadata": {},
   "outputs": [],
   "source": []
  },
  {
   "cell_type": "code",
   "execution_count": null,
   "id": "3e4e7b9b",
   "metadata": {},
   "outputs": [],
   "source": []
  },
  {
   "cell_type": "code",
   "execution_count": null,
   "id": "80b2f716",
   "metadata": {},
   "outputs": [],
   "source": []
  },
  {
   "cell_type": "code",
   "execution_count": null,
   "id": "518da700",
   "metadata": {},
   "outputs": [],
   "source": []
  },
  {
   "cell_type": "code",
   "execution_count": null,
   "id": "c8857a4d",
   "metadata": {},
   "outputs": [],
   "source": []
  }
 ],
 "metadata": {
  "kernelspec": {
   "display_name": "Python 3 (ipykernel)",
   "language": "python",
   "name": "python3"
  },
  "language_info": {
   "codemirror_mode": {
    "name": "ipython",
    "version": 3
   },
   "file_extension": ".py",
   "mimetype": "text/x-python",
   "name": "python",
   "nbconvert_exporter": "python",
   "pygments_lexer": "ipython3",
   "version": "3.10.6"
  }
 },
 "nbformat": 4,
 "nbformat_minor": 5
}
