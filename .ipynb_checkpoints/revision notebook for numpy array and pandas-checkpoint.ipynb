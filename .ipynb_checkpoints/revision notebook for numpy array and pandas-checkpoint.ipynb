{
 "cells": [
  {
   "cell_type": "code",
   "execution_count": 1,
   "id": "ea8c8c65",
   "metadata": {},
   "outputs": [],
   "source": [
    "import numpy as np\n",
    "import pandas as pd\n"
   ]
  },
  {
   "cell_type": "code",
   "execution_count": 3,
   "id": "650c3304",
   "metadata": {},
   "outputs": [],
   "source": [
    "arr = np.array([[i for i in range(1,21)] for j in range(1,21)])"
   ]
  },
  {
   "cell_type": "code",
   "execution_count": 4,
   "id": "8bf0c031",
   "metadata": {},
   "outputs": [
    {
     "data": {
      "text/plain": [
       "array([[ 1,  2,  3,  4,  5,  6,  7,  8,  9, 10, 11, 12, 13, 14, 15, 16,\n",
       "        17, 18, 19, 20],\n",
       "       [ 1,  2,  3,  4,  5,  6,  7,  8,  9, 10, 11, 12, 13, 14, 15, 16,\n",
       "        17, 18, 19, 20],\n",
       "       [ 1,  2,  3,  4,  5,  6,  7,  8,  9, 10, 11, 12, 13, 14, 15, 16,\n",
       "        17, 18, 19, 20],\n",
       "       [ 1,  2,  3,  4,  5,  6,  7,  8,  9, 10, 11, 12, 13, 14, 15, 16,\n",
       "        17, 18, 19, 20],\n",
       "       [ 1,  2,  3,  4,  5,  6,  7,  8,  9, 10, 11, 12, 13, 14, 15, 16,\n",
       "        17, 18, 19, 20],\n",
       "       [ 1,  2,  3,  4,  5,  6,  7,  8,  9, 10, 11, 12, 13, 14, 15, 16,\n",
       "        17, 18, 19, 20],\n",
       "       [ 1,  2,  3,  4,  5,  6,  7,  8,  9, 10, 11, 12, 13, 14, 15, 16,\n",
       "        17, 18, 19, 20],\n",
       "       [ 1,  2,  3,  4,  5,  6,  7,  8,  9, 10, 11, 12, 13, 14, 15, 16,\n",
       "        17, 18, 19, 20],\n",
       "       [ 1,  2,  3,  4,  5,  6,  7,  8,  9, 10, 11, 12, 13, 14, 15, 16,\n",
       "        17, 18, 19, 20],\n",
       "       [ 1,  2,  3,  4,  5,  6,  7,  8,  9, 10, 11, 12, 13, 14, 15, 16,\n",
       "        17, 18, 19, 20],\n",
       "       [ 1,  2,  3,  4,  5,  6,  7,  8,  9, 10, 11, 12, 13, 14, 15, 16,\n",
       "        17, 18, 19, 20],\n",
       "       [ 1,  2,  3,  4,  5,  6,  7,  8,  9, 10, 11, 12, 13, 14, 15, 16,\n",
       "        17, 18, 19, 20],\n",
       "       [ 1,  2,  3,  4,  5,  6,  7,  8,  9, 10, 11, 12, 13, 14, 15, 16,\n",
       "        17, 18, 19, 20],\n",
       "       [ 1,  2,  3,  4,  5,  6,  7,  8,  9, 10, 11, 12, 13, 14, 15, 16,\n",
       "        17, 18, 19, 20],\n",
       "       [ 1,  2,  3,  4,  5,  6,  7,  8,  9, 10, 11, 12, 13, 14, 15, 16,\n",
       "        17, 18, 19, 20],\n",
       "       [ 1,  2,  3,  4,  5,  6,  7,  8,  9, 10, 11, 12, 13, 14, 15, 16,\n",
       "        17, 18, 19, 20],\n",
       "       [ 1,  2,  3,  4,  5,  6,  7,  8,  9, 10, 11, 12, 13, 14, 15, 16,\n",
       "        17, 18, 19, 20],\n",
       "       [ 1,  2,  3,  4,  5,  6,  7,  8,  9, 10, 11, 12, 13, 14, 15, 16,\n",
       "        17, 18, 19, 20],\n",
       "       [ 1,  2,  3,  4,  5,  6,  7,  8,  9, 10, 11, 12, 13, 14, 15, 16,\n",
       "        17, 18, 19, 20],\n",
       "       [ 1,  2,  3,  4,  5,  6,  7,  8,  9, 10, 11, 12, 13, 14, 15, 16,\n",
       "        17, 18, 19, 20]])"
      ]
     },
     "execution_count": 4,
     "metadata": {},
     "output_type": "execute_result"
    }
   ],
   "source": [
    "\n",
    "arr\n"
   ]
  },
  {
   "cell_type": "code",
   "execution_count": 7,
   "id": "fad3a5ae",
   "metadata": {},
   "outputs": [
    {
     "data": {
      "text/plain": [
       "(20, 20)"
      ]
     },
     "execution_count": 7,
     "metadata": {},
     "output_type": "execute_result"
    }
   ],
   "source": [
    "arr.shape"
   ]
  },
  {
   "cell_type": "code",
   "execution_count": 8,
   "id": "906da107",
   "metadata": {},
   "outputs": [
    {
     "data": {
      "text/plain": [
       "400"
      ]
     },
     "execution_count": 8,
     "metadata": {},
     "output_type": "execute_result"
    }
   ],
   "source": [
    "arr.size"
   ]
  },
  {
   "cell_type": "code",
   "execution_count": 9,
   "id": "6a8f281b",
   "metadata": {},
   "outputs": [
    {
     "data": {
      "text/plain": [
       "2"
      ]
     },
     "execution_count": 9,
     "metadata": {},
     "output_type": "execute_result"
    }
   ],
   "source": [
    "arr.ndim"
   ]
  },
  {
   "cell_type": "code",
   "execution_count": 13,
   "id": "d14a594d",
   "metadata": {},
   "outputs": [],
   "source": [
    "arr[19,19]=400"
   ]
  },
  {
   "cell_type": "code",
   "execution_count": 14,
   "id": "60049258",
   "metadata": {},
   "outputs": [
    {
     "data": {
      "text/plain": [
       "array([[  1,   2,   3,   4,   5,   6,   7,   8,   9,  10,  11,  12,  13,\n",
       "         14,  15,  16,  17,  18,  19,  20],\n",
       "       [  1,   2,   3,   4,   5,   6,   7,   8,   9,  10,  11,  12,  13,\n",
       "         14,  15,  16,  17,  18,  19,  20],\n",
       "       [  1,   2,   3,   4,   5,   6,   7,   8,   9,  10,  11,  12,  13,\n",
       "         14,  15,  16,  17,  18,  19,  20],\n",
       "       [  1,   2,   3,   4,   5,   6,   7,   8,   9,  10,  11,  12,  13,\n",
       "         14,  15,  16,  17,  18,  19,  20],\n",
       "       [  1,   2,   3,   4,   5,   6,   7,   8,   9,  10,  11,  12,  13,\n",
       "         14,  15,  16,  17,  18,  19,  20],\n",
       "       [  1,   2,   3,   4,   5,   6,   7,   8,   9,  10,  11,  12,  13,\n",
       "         14,  15,  16,  17,  18,  19,  20],\n",
       "       [  1,   2,   3,   4,   5,   6,   7,   8,   9,  10,  11,  12,  13,\n",
       "         14,  15,  16,  17,  18,  19,  20],\n",
       "       [  1,   2,   3,   4,   5,   6,   7,   8,   9,  10,  11,  12,  13,\n",
       "         14,  15,  16,  17,  18,  19,  20],\n",
       "       [  1,   2,   3,   4,   5,   6,   7,   8,   9,  10,  11,  12,  13,\n",
       "         14,  15,  16,  17,  18,  19,  20],\n",
       "       [  1,   2,   3,   4,   5,   6,   7,   8,   9,  10,  11,  12,  13,\n",
       "         14,  15,  16,  17,  18,  19,  20],\n",
       "       [  1,   2,   3,   4,   5,   6,   7,   8,   9,  10,  11,  12,  13,\n",
       "         14,  15,  16,  17,  18,  19,  20],\n",
       "       [  1,   2,   3,   4,   5,   6,   7,   8,   9,  10,  11,  12,  13,\n",
       "         14,  15,  16,  17,  18,  19,  20],\n",
       "       [  1,   2,   3,   4,   5,   6,   7,   8,   9,  10,  11,  12,  13,\n",
       "         14,  15,  16,  17,  18,  19,  20],\n",
       "       [  1,   2,   3,   4,   5,   6,   7,   8,   9,  10,  11,  12,  13,\n",
       "         14,  15,  16,  17,  18,  19,  20],\n",
       "       [  1,   2,   3,   4,   5,   6,   7,   8,   9,  10,  11,  12,  13,\n",
       "         14,  15,  16,  17,  18,  19,  20],\n",
       "       [  1,   2,   3,   4,   5,   6,   7,   8,   9,  10,  11,  12,  13,\n",
       "         14,  15,  16,  17,  18,  19,  20],\n",
       "       [  1,   2,   3,   4,   5,   6,   7,   8,   9,  10,  11,  12,  13,\n",
       "         14,  15,  16,  17,  18,  19,  20],\n",
       "       [  1,   2,   3,   4,   5,   6,   7,   8,   9,  10,  11,  12,  13,\n",
       "         14,  15,  16,  17,  18,  19,  20],\n",
       "       [  1,   2,   3,   4,   5,   6,   7,   8,   9,  10,  11,  12,  13,\n",
       "         14,  15,  16,  17,  18,  19,  20],\n",
       "       [  1,   2,   3,   4,   5,   6,   7,   8,   9,  10,  11,  12,  13,\n",
       "         14,  15,  16,  17,  18,  19, 400]])"
      ]
     },
     "execution_count": 14,
     "metadata": {},
     "output_type": "execute_result"
    }
   ],
   "source": [
    "arr"
   ]
  },
  {
   "cell_type": "code",
   "execution_count": 17,
   "id": "817abcc9",
   "metadata": {},
   "outputs": [],
   "source": [
    "arr[19,18]=300"
   ]
  },
  {
   "cell_type": "code",
   "execution_count": 18,
   "id": "f3e3cf5f",
   "metadata": {},
   "outputs": [
    {
     "data": {
      "text/plain": [
       "array([[  1,   2,   3,   4,   5,   6,   7,   8,   9,  10,  11,  12,  13,\n",
       "         14,  15,  16,  17,  18,  19,  20],\n",
       "       [  1,   2,   3,   4,   5,   6,   7,   8,   9,  10,  11,  12,  13,\n",
       "         14,  15,  16,  17,  18,  19,  20],\n",
       "       [  1,   2,   3,   4,   5,   6,   7,   8,   9,  10,  11,  12,  13,\n",
       "         14,  15,  16,  17,  18,  19,  20],\n",
       "       [  1,   2,   3,   4,   5,   6,   7,   8,   9,  10,  11,  12,  13,\n",
       "         14,  15,  16,  17,  18,  19,  20],\n",
       "       [  1,   2,   3,   4,   5,   6,   7,   8,   9,  10,  11,  12,  13,\n",
       "         14,  15,  16,  17,  18,  19,  20],\n",
       "       [  1,   2,   3,   4,   5,   6,   7,   8,   9,  10,  11,  12,  13,\n",
       "         14,  15,  16,  17,  18,  19,  20],\n",
       "       [  1,   2,   3,   4,   5,   6,   7,   8,   9,  10,  11,  12,  13,\n",
       "         14,  15,  16,  17,  18,  19,  20],\n",
       "       [  1,   2,   3,   4,   5,   6,   7,   8,   9,  10,  11,  12,  13,\n",
       "         14,  15,  16,  17,  18,  19,  20],\n",
       "       [  1,   2,   3,   4,   5,   6,   7,   8,   9,  10,  11,  12,  13,\n",
       "         14,  15,  16,  17,  18,  19,  20],\n",
       "       [  1,   2,   3,   4,   5,   6,   7,   8,   9,  10,  11,  12,  13,\n",
       "         14,  15,  16,  17,  18,  19,  20],\n",
       "       [  1,   2,   3,   4,   5,   6,   7,   8,   9,  10,  11,  12,  13,\n",
       "         14,  15,  16,  17,  18,  19,  20],\n",
       "       [  1,   2,   3,   4,   5,   6,   7,   8,   9,  10,  11,  12,  13,\n",
       "         14,  15,  16,  17,  18,  19,  20],\n",
       "       [  1,   2,   3,   4,   5,   6,   7,   8,   9,  10,  11,  12,  13,\n",
       "         14,  15,  16,  17,  18,  19,  20],\n",
       "       [  1,   2,   3,   4,   5,   6,   7,   8,   9,  10,  11,  12,  13,\n",
       "         14,  15,  16,  17,  18,  19,  20],\n",
       "       [  1,   2,   3,   4,   5,   6,   7,   8,   9,  10,  11,  12,  13,\n",
       "         14,  15,  16,  17,  18,  19,  20],\n",
       "       [  1,   2,   3,   4,   5,   6,   7,   8,   9,  10,  11,  12,  13,\n",
       "         14,  15,  16,  17,  18,  19,  20],\n",
       "       [  1,   2,   3,   4,   5,   6,   7,   8,   9,  10,  11,  12,  13,\n",
       "         14,  15,  16,  17,  18,  19,  20],\n",
       "       [  1,   2,   3,   4,   5,   6,   7,   8,   9,  10,  11,  12,  13,\n",
       "         14,  15,  16,  17,  18,  19,  20],\n",
       "       [  1,   2,   3,   4,   5,   6,   7,   8,   9,  10,  11,  12,  13,\n",
       "         14,  15,  16,  17,  18,  19,  20],\n",
       "       [  1,   2,   3,   4,   5,   6,   7,   8,   9,  10,  11,  12,  13,\n",
       "         14,  15,  16,  17,  18, 300, 400]])"
      ]
     },
     "execution_count": 18,
     "metadata": {},
     "output_type": "execute_result"
    }
   ],
   "source": [
    "arr"
   ]
  },
  {
   "cell_type": "code",
   "execution_count": 19,
   "id": "18972eef",
   "metadata": {},
   "outputs": [],
   "source": [
    "import os"
   ]
  },
  {
   "cell_type": "code",
   "execution_count": 20,
   "id": "f7645f50",
   "metadata": {},
   "outputs": [
    {
     "data": {
      "text/plain": [
       "'C:\\\\Users\\\\Dell\\\\Desktop'"
      ]
     },
     "execution_count": 20,
     "metadata": {},
     "output_type": "execute_result"
    }
   ],
   "source": [
    "os.getcwd()"
   ]
  },
  {
   "cell_type": "markdown",
   "id": "059ab2fa",
   "metadata": {},
   "source": [
    "# arange function create single dimension \n",
    "# by using arange function"
   ]
  },
  {
   "cell_type": "code",
   "execution_count": 4,
   "id": "f49e747a",
   "metadata": {},
   "outputs": [],
   "source": [
    "ar = np.arange(2,5)"
   ]
  },
  {
   "cell_type": "code",
   "execution_count": 5,
   "id": "74baff62",
   "metadata": {},
   "outputs": [
    {
     "data": {
      "text/plain": [
       "array([2, 3, 4])"
      ]
     },
     "execution_count": 5,
     "metadata": {},
     "output_type": "execute_result"
    }
   ],
   "source": [
    "ar"
   ]
  },
  {
   "cell_type": "markdown",
   "id": "ab1c07cb",
   "metadata": {},
   "source": [
    "# reshape function for single dimension to multidimension"
   ]
  },
  {
   "cell_type": "code",
   "execution_count": 6,
   "id": "00c18ccd",
   "metadata": {},
   "outputs": [
    {
     "data": {
      "text/plain": [
       "array([[2, 3, 4]])"
      ]
     },
     "execution_count": 6,
     "metadata": {},
     "output_type": "execute_result"
    }
   ],
   "source": [
    "ar.reshape(1,3)"
   ]
  },
  {
   "cell_type": "code",
   "execution_count": 7,
   "id": "a6668ab4",
   "metadata": {},
   "outputs": [
    {
     "data": {
      "text/plain": [
       "1"
      ]
     },
     "execution_count": 7,
     "metadata": {},
     "output_type": "execute_result"
    }
   ],
   "source": [
    "ar.ndim"
   ]
  },
  {
   "cell_type": "markdown",
   "id": "c582e3fc",
   "metadata": {},
   "source": [
    "# zeros function create a array in range with zero filling"
   ]
  },
  {
   "cell_type": "code",
   "execution_count": 10,
   "id": "1a0a40ad",
   "metadata": {},
   "outputs": [],
   "source": [
    "rt = np.zeros((2,5))"
   ]
  },
  {
   "cell_type": "code",
   "execution_count": 11,
   "id": "5037fd33",
   "metadata": {},
   "outputs": [
    {
     "data": {
      "text/plain": [
       "array([[0., 0., 0., 0., 0.],\n",
       "       [0., 0., 0., 0., 0.]])"
      ]
     },
     "execution_count": 11,
     "metadata": {},
     "output_type": "execute_result"
    }
   ],
   "source": [
    "rt"
   ]
  },
  {
   "cell_type": "markdown",
   "id": "e1b89456",
   "metadata": {},
   "source": [
    "# ravel function using convert single dimension "
   ]
  },
  {
   "cell_type": "code",
   "execution_count": 14,
   "id": "e57cc7c8",
   "metadata": {},
   "outputs": [
    {
     "name": "stdout",
     "output_type": "stream",
     "text": [
      "[0. 0. 0. 0. 0. 0. 0. 0. 0. 0.]\n"
     ]
    }
   ],
   "source": [
    "pr = rt.ravel()\n",
    "print(pr)"
   ]
  },
  {
   "cell_type": "markdown",
   "id": "25719d33",
   "metadata": {},
   "source": [
    "# linspace for creating similar difference array in range like 1 to 5 and 10 element "
   ]
  },
  {
   "cell_type": "code",
   "execution_count": 15,
   "id": "3a8f6601",
   "metadata": {},
   "outputs": [],
   "source": [
    "tt = np.linspace(1,10,8)"
   ]
  },
  {
   "cell_type": "code",
   "execution_count": 16,
   "id": "9235cb84",
   "metadata": {},
   "outputs": [
    {
     "data": {
      "text/plain": [
       "array([ 1.        ,  2.28571429,  3.57142857,  4.85714286,  6.14285714,\n",
       "        7.42857143,  8.71428571, 10.        ])"
      ]
     },
     "execution_count": 16,
     "metadata": {},
     "output_type": "execute_result"
    }
   ],
   "source": [
    "tt"
   ]
  },
  {
   "cell_type": "code",
   "execution_count": 17,
   "id": "8f4d082b",
   "metadata": {},
   "outputs": [
    {
     "data": {
      "text/plain": [
       "(8,)"
      ]
     },
     "execution_count": 17,
     "metadata": {},
     "output_type": "execute_result"
    }
   ],
   "source": [
    "tt.shape"
   ]
  },
  {
   "cell_type": "code",
   "execution_count": 18,
   "id": "3ff623cf",
   "metadata": {},
   "outputs": [
    {
     "data": {
      "text/plain": [
       "8"
      ]
     },
     "execution_count": 18,
     "metadata": {},
     "output_type": "execute_result"
    }
   ],
   "source": [
    "tt.size"
   ]
  },
  {
   "cell_type": "code",
   "execution_count": 19,
   "id": "fbadb0fe",
   "metadata": {},
   "outputs": [
    {
     "data": {
      "text/plain": [
       "1"
      ]
     },
     "execution_count": 19,
     "metadata": {},
     "output_type": "execute_result"
    }
   ],
   "source": [
    "tt.ndim"
   ]
  },
  {
   "cell_type": "code",
   "execution_count": 20,
   "id": "e5358321",
   "metadata": {},
   "outputs": [
    {
     "data": {
      "text/plain": [
       "64"
      ]
     },
     "execution_count": 20,
     "metadata": {},
     "output_type": "execute_result"
    }
   ],
   "source": [
    "tt.nbytes"
   ]
  },
  {
   "cell_type": "markdown",
   "id": "88c8c835",
   "metadata": {},
   "source": [
    "# empty function create npy array with filling random number"
   ]
  },
  {
   "cell_type": "code",
   "execution_count": 22,
   "id": "1e225548",
   "metadata": {},
   "outputs": [
    {
     "data": {
      "text/plain": [
       "array([[0., 0., 0., 0., 0.],\n",
       "       [0., 0., 0., 0., 0.],\n",
       "       [0., 0., 0., 0., 0.]])"
      ]
     },
     "execution_count": 22,
     "metadata": {},
     "output_type": "execute_result"
    }
   ],
   "source": [
    "tr = np.empty((3,5))\n",
    "tr"
   ]
  },
  {
   "cell_type": "code",
   "execution_count": 24,
   "id": "feac8c69",
   "metadata": {},
   "outputs": [],
   "source": [
    "tre = np.empty((5,5),np.int64)"
   ]
  },
  {
   "cell_type": "code",
   "execution_count": 25,
   "id": "98381375",
   "metadata": {},
   "outputs": [
    {
     "data": {
      "text/plain": [
       "array([[25895968444448860, 23925768161198147, 32370111954616435,\n",
       "        30399731280904284, 31525476570497132],\n",
       "       [32651513914720368, 31244048838426721, 25896161720205411,\n",
       "        28992399350038608, 32370090479517810],\n",
       "       [32651616994721884, 25896170311057512, 29273895802044496,\n",
       "        16044292723048559, 27584998694191196],\n",
       "       [32651548277538908, 27303553780220005, 28992339220037731,\n",
       "        30962642582700133, 34058953225470069],\n",
       "       [32651535391785052, 30399731283263580, 12948338561581168,\n",
       "        12947848936620144,           7929968]], dtype=int64)"
      ]
     },
     "execution_count": 25,
     "metadata": {},
     "output_type": "execute_result"
    }
   ],
   "source": [
    "tre"
   ]
  },
  {
   "cell_type": "code",
   "execution_count": 26,
   "id": "2c2359a3",
   "metadata": {},
   "outputs": [
    {
     "data": {
      "text/plain": [
       "2"
      ]
     },
     "execution_count": 26,
     "metadata": {},
     "output_type": "execute_result"
    }
   ],
   "source": [
    "tre.ndim"
   ]
  },
  {
   "cell_type": "code",
   "execution_count": 27,
   "id": "72fc8979",
   "metadata": {},
   "outputs": [
    {
     "data": {
      "text/plain": [
       "200"
      ]
     },
     "execution_count": 27,
     "metadata": {},
     "output_type": "execute_result"
    }
   ],
   "source": [
    "tre.nbytes"
   ]
  },
  {
   "cell_type": "code",
   "execution_count": 28,
   "id": "656e1508",
   "metadata": {},
   "outputs": [
    {
     "data": {
      "text/plain": [
       "(5, 5)"
      ]
     },
     "execution_count": 28,
     "metadata": {},
     "output_type": "execute_result"
    }
   ],
   "source": [
    "tre.shape"
   ]
  },
  {
   "cell_type": "code",
   "execution_count": 29,
   "id": "6151763e",
   "metadata": {},
   "outputs": [
    {
     "data": {
      "text/plain": [
       "dtype('int64')"
      ]
     },
     "execution_count": 29,
     "metadata": {},
     "output_type": "execute_result"
    }
   ],
   "source": [
    "tre.dtype"
   ]
  },
  {
   "cell_type": "markdown",
   "id": "945f659d",
   "metadata": {},
   "source": [
    "# Empty_like function create array similar type\n",
    "# another array"
   ]
  },
  {
   "cell_type": "code",
   "execution_count": 3,
   "id": "34b4630b",
   "metadata": {},
   "outputs": [
    {
     "data": {
      "text/plain": [
       "array([ 2.,  4.,  6.,  8., 10.])"
      ]
     },
     "execution_count": 3,
     "metadata": {},
     "output_type": "execute_result"
    }
   ],
   "source": [
    "w = np.linspace(2,10,5)\n",
    "w"
   ]
  },
  {
   "cell_type": "code",
   "execution_count": 4,
   "id": "f783fc64",
   "metadata": {},
   "outputs": [
    {
     "data": {
      "text/plain": [
       "array([ 2.,  4.,  6.,  8., 10.])"
      ]
     },
     "execution_count": 4,
     "metadata": {},
     "output_type": "execute_result"
    }
   ],
   "source": [
    "we = np.empty_like(w)\n",
    "we"
   ]
  },
  {
   "cell_type": "code",
   "execution_count": 5,
   "id": "ce74ecdd",
   "metadata": {},
   "outputs": [
    {
     "data": {
      "text/plain": [
       "array([ 2.,  4.,  6.,  8., 10.])"
      ]
     },
     "execution_count": 5,
     "metadata": {},
     "output_type": "execute_result"
    }
   ],
   "source": [
    "we = np.empty_like(w)\n",
    "we"
   ]
  },
  {
   "cell_type": "markdown",
   "id": "1e1539d3",
   "metadata": {},
   "source": [
    "# identity fuction \n",
    "# create npy array same row size and column\n",
    "# with filling randomly input number"
   ]
  },
  {
   "cell_type": "code",
   "execution_count": 6,
   "id": "0e46b995",
   "metadata": {},
   "outputs": [],
   "source": [
    "f = np.identity(10)"
   ]
  },
  {
   "cell_type": "code",
   "execution_count": 7,
   "id": "c9470618",
   "metadata": {},
   "outputs": [
    {
     "data": {
      "text/plain": [
       "array([[1., 0., 0., 0., 0., 0., 0., 0., 0., 0.],\n",
       "       [0., 1., 0., 0., 0., 0., 0., 0., 0., 0.],\n",
       "       [0., 0., 1., 0., 0., 0., 0., 0., 0., 0.],\n",
       "       [0., 0., 0., 1., 0., 0., 0., 0., 0., 0.],\n",
       "       [0., 0., 0., 0., 1., 0., 0., 0., 0., 0.],\n",
       "       [0., 0., 0., 0., 0., 1., 0., 0., 0., 0.],\n",
       "       [0., 0., 0., 0., 0., 0., 1., 0., 0., 0.],\n",
       "       [0., 0., 0., 0., 0., 0., 0., 1., 0., 0.],\n",
       "       [0., 0., 0., 0., 0., 0., 0., 0., 1., 0.],\n",
       "       [0., 0., 0., 0., 0., 0., 0., 0., 0., 1.]])"
      ]
     },
     "execution_count": 7,
     "metadata": {},
     "output_type": "execute_result"
    }
   ],
   "source": [
    "f"
   ]
  },
  {
   "cell_type": "code",
   "execution_count": 8,
   "id": "17a5d765",
   "metadata": {},
   "outputs": [
    {
     "data": {
      "text/plain": [
       "(10, 10)"
      ]
     },
     "execution_count": 8,
     "metadata": {},
     "output_type": "execute_result"
    }
   ],
   "source": [
    "f.shape"
   ]
  },
  {
   "cell_type": "code",
   "execution_count": 10,
   "id": "88b4d1f2",
   "metadata": {},
   "outputs": [
    {
     "data": {
      "text/plain": [
       "100"
      ]
     },
     "execution_count": 10,
     "metadata": {},
     "output_type": "execute_result"
    }
   ],
   "source": [
    "f.size\n"
   ]
  },
  {
   "cell_type": "code",
   "execution_count": 2,
   "id": "f9f1dee1",
   "metadata": {},
   "outputs": [
    {
     "data": {
      "text/plain": [
       "array([[1, 2, 3],\n",
       "       [1, 2, 3],\n",
       "       [1, 2, 3]])"
      ]
     },
     "execution_count": 2,
     "metadata": {},
     "output_type": "execute_result"
    }
   ],
   "source": [
    "fr = np.array([[i for i in range(1,4)] for j in range(1,4)])\n",
    "fr"
   ]
  },
  {
   "cell_type": "markdown",
   "id": "5bc7b276",
   "metadata": {},
   "source": [
    "# fr.sum()     # add for all element\n",
    "# and now sum by using axis value"
   ]
  },
  {
   "cell_type": "code",
   "execution_count": 14,
   "id": "0ac5f1bb",
   "metadata": {},
   "outputs": [
    {
     "data": {
      "text/plain": [
       "array([6, 6, 6])"
      ]
     },
     "execution_count": 14,
     "metadata": {},
     "output_type": "execute_result"
    }
   ],
   "source": [
    "fr.sum(axis = 1)"
   ]
  },
  {
   "cell_type": "code",
   "execution_count": 15,
   "id": "7476a209",
   "metadata": {},
   "outputs": [
    {
     "data": {
      "text/plain": [
       "array([3, 6, 9])"
      ]
     },
     "execution_count": 15,
     "metadata": {},
     "output_type": "execute_result"
    }
   ],
   "source": [
    "fr.sum(axis = 0)"
   ]
  },
  {
   "cell_type": "code",
   "execution_count": 3,
   "id": "14f17cc4",
   "metadata": {},
   "outputs": [
    {
     "data": {
      "text/plain": [
       "18"
      ]
     },
     "execution_count": 3,
     "metadata": {},
     "output_type": "execute_result"
    }
   ],
   "source": [
    "fr.sum()"
   ]
  },
  {
   "cell_type": "code",
   "execution_count": null,
   "id": "06fdd263",
   "metadata": {},
   "outputs": [],
   "source": [
    "fr.argmin()"
   ]
  },
  {
   "cell_type": "markdown",
   "id": "c71aa14b",
   "metadata": {},
   "source": [
    "# transpose convert row into column"
   ]
  },
  {
   "cell_type": "code",
   "execution_count": 16,
   "id": "73437aeb",
   "metadata": {},
   "outputs": [
    {
     "data": {
      "text/plain": [
       "array([[1, 2, 3],\n",
       "       [1, 2, 3],\n",
       "       [1, 2, 3]])"
      ]
     },
     "execution_count": 16,
     "metadata": {},
     "output_type": "execute_result"
    }
   ],
   "source": [
    "fr"
   ]
  },
  {
   "cell_type": "code",
   "execution_count": 18,
   "id": "5e698678",
   "metadata": {},
   "outputs": [
    {
     "data": {
      "text/plain": [
       "array([[1, 1, 1],\n",
       "       [2, 2, 2],\n",
       "       [3, 3, 3]])"
      ]
     },
     "execution_count": 18,
     "metadata": {},
     "output_type": "execute_result"
    }
   ],
   "source": [
    "fr.T"
   ]
  },
  {
   "cell_type": "code",
   "execution_count": 20,
   "id": "0286259d",
   "metadata": {},
   "outputs": [
    {
     "data": {
      "text/plain": [
       "array([[1, 1, 1],\n",
       "       [2, 2, 2],\n",
       "       [3, 3, 3]])"
      ]
     },
     "execution_count": 20,
     "metadata": {},
     "output_type": "execute_result"
    }
   ],
   "source": [
    "fr.T"
   ]
  },
  {
   "cell_type": "code",
   "execution_count": 3,
   "id": "13d25eb7",
   "metadata": {},
   "outputs": [],
   "source": [
    "import os \n"
   ]
  },
  {
   "cell_type": "code",
   "execution_count": 6,
   "id": "22674485",
   "metadata": {},
   "outputs": [
    {
     "data": {
      "text/plain": [
       "<function nt.getcwd()>"
      ]
     },
     "execution_count": 6,
     "metadata": {},
     "output_type": "execute_result"
    }
   ],
   "source": [
    "os.getcwd"
   ]
  },
  {
   "cell_type": "code",
   "execution_count": 7,
   "id": "539ed6f8",
   "metadata": {},
   "outputs": [
    {
     "data": {
      "text/plain": [
       "'C:\\\\Users\\\\Dell\\\\Desktop'"
      ]
     },
     "execution_count": 7,
     "metadata": {},
     "output_type": "execute_result"
    }
   ],
   "source": [
    "os.getcwd()"
   ]
  },
  {
   "cell_type": "code",
   "execution_count": 8,
   "id": "8c708f8d",
   "metadata": {},
   "outputs": [
    {
     "data": {
      "text/plain": [
       "['.ipynb_checkpoints',\n",
       " 'Bubbles - Shortcut.lnk',\n",
       " 'chachal.jpeg',\n",
       " 'dwld',\n",
       " 'h2.jpg',\n",
       " 'IMG_20200326_210100.jpg',\n",
       " 'index.html',\n",
       " 'laptop.jpg',\n",
       " 'laptop2.jpg',\n",
       " 'laptop3.jpg',\n",
       " 'LINKS - Mark II.appref-ms',\n",
       " 'Microsoft Edge.lnk',\n",
       " 'notepad.lnk',\n",
       " 'pdf',\n",
       " 'project',\n",
       " 'python syllabus.docx',\n",
       " 'raj.jpg',\n",
       " 'raj1.jpg',\n",
       " 'ranj.jpg',\n",
       " 'revision notebook for numpy array.ipynb',\n",
       " 'sachin.txt',\n",
       " 'SlideToShutDown.lnk',\n",
       " 'style.css',\n",
       " 'sublime_text - Shortcut.lnk',\n",
       " 'typing chart.jpg',\n",
       " 'unit_1.pdf',\n",
       " 'Visual Studio Code - Insiders.lnk',\n",
       " 'vs_ code shortcuts.pdf',\n",
       " 'whtspdf',\n",
       " 'Zoom.lnk']"
      ]
     },
     "execution_count": 8,
     "metadata": {},
     "output_type": "execute_result"
    }
   ],
   "source": [
    "os.listdir()"
   ]
  },
  {
   "cell_type": "code",
   "execution_count": 12,
   "id": "9897e31c",
   "metadata": {},
   "outputs": [],
   "source": [
    "with open(\"file.txt\",\"w\") as file:\n",
    "    s=\"this is my file\"\n",
    "    b=file.write(s)\n",
    "    "
   ]
  },
  {
   "cell_type": "code",
   "execution_count": 15,
   "id": "e8888529",
   "metadata": {},
   "outputs": [
    {
     "name": "stdout",
     "output_type": "stream",
     "text": [
      "this is my file\n"
     ]
    }
   ],
   "source": [
    "with open(\"file.txt\",\"r\") as file_readr:\n",
    "    read_file=file_readr.read()\n",
    "    print(read_file)"
   ]
  },
  {
   "cell_type": "code",
   "execution_count": 16,
   "id": "52db171c",
   "metadata": {},
   "outputs": [],
   "source": [
    "import shutil"
   ]
  },
  {
   "cell_type": "code",
   "execution_count": 17,
   "id": "5507f19a",
   "metadata": {},
   "outputs": [
    {
     "data": {
      "text/plain": [
       "'C:\\\\Users\\\\Dell\\\\Desktop'"
      ]
     },
     "execution_count": 17,
     "metadata": {},
     "output_type": "execute_result"
    }
   ],
   "source": [
    "os.getcwd()"
   ]
  },
  {
   "cell_type": "code",
   "execution_count": 18,
   "id": "67c04448",
   "metadata": {},
   "outputs": [
    {
     "data": {
      "text/plain": [
       "'C:\\\\Users\\\\Dell\\\\Desktop\\\\dwld\\\\ranjitfile.txt'"
      ]
     },
     "execution_count": 18,
     "metadata": {},
     "output_type": "execute_result"
    }
   ],
   "source": [
    "shutil.move(\"C:\\\\Users\\\\Dell\\\\Desktop\\\\file.txt\",'C:\\\\Users\\\\Dell\\\\Desktop\\\\dwld\\\\ranjitfile.txt')"
   ]
  },
  {
   "cell_type": "code",
   "execution_count": 19,
   "id": "c31c5635",
   "metadata": {},
   "outputs": [
    {
     "data": {
      "text/plain": [
       "['.ipynb_checkpoints',\n",
       " 'Bubbles - Shortcut.lnk',\n",
       " 'chachal.jpeg',\n",
       " 'dwld',\n",
       " 'h2.jpg',\n",
       " 'IMG_20200326_210100.jpg',\n",
       " 'index.html',\n",
       " 'laptop.jpg',\n",
       " 'laptop2.jpg',\n",
       " 'laptop3.jpg',\n",
       " 'LINKS - Mark II.appref-ms',\n",
       " 'Microsoft Edge.lnk',\n",
       " 'notepad.lnk',\n",
       " 'pdf',\n",
       " 'project',\n",
       " 'python syllabus.docx',\n",
       " 'raj.jpg',\n",
       " 'raj1.jpg',\n",
       " 'ranj.jpg',\n",
       " 'revision notebook for numpy array.ipynb',\n",
       " 'sachin.txt',\n",
       " 'SlideToShutDown.lnk',\n",
       " 'style.css',\n",
       " 'sublime_text - Shortcut.lnk',\n",
       " 'typing chart.jpg',\n",
       " 'unit_1.pdf',\n",
       " 'Visual Studio Code - Insiders.lnk',\n",
       " 'vs_ code shortcuts.pdf',\n",
       " 'whtspdf',\n",
       " 'Zoom.lnk']"
      ]
     },
     "execution_count": 19,
     "metadata": {},
     "output_type": "execute_result"
    }
   ],
   "source": [
    "os.listdir()"
   ]
  },
  {
   "cell_type": "code",
   "execution_count": 39,
   "id": "779aba8a",
   "metadata": {},
   "outputs": [],
   "source": [
    "os.chdir('C:\\\\Users\\\\Dell\\\\Desktop\\\\dwld')"
   ]
  },
  {
   "cell_type": "code",
   "execution_count": 40,
   "id": "cf751dbe",
   "metadata": {},
   "outputs": [],
   "source": [
    "walkk=os.walk(r\".\")"
   ]
  },
  {
   "cell_type": "code",
   "execution_count": 44,
   "id": "d0c349d7",
   "metadata": {},
   "outputs": [],
   "source": [
    "for i in walkk:\n",
    "    print(\"this is my data\",i)\n",
    "    "
   ]
  },
  {
   "cell_type": "code",
   "execution_count": 38,
   "id": "fdb1e97d",
   "metadata": {},
   "outputs": [],
   "source": [
    "d = os.listdir('C:\\\\Users\\\\Dell\\\\Desktop\\\\dwld')"
   ]
  },
  {
   "cell_type": "code",
   "execution_count": 36,
   "id": "ad17504f",
   "metadata": {},
   "outputs": [
    {
     "data": {
      "text/plain": [
       "[]"
      ]
     },
     "execution_count": 36,
     "metadata": {},
     "output_type": "execute_result"
    }
   ],
   "source": [
    "ls"
   ]
  },
  {
   "cell_type": "code",
   "execution_count": 23,
   "id": "e006ca92",
   "metadata": {},
   "outputs": [
    {
     "name": "stdout",
     "output_type": "stream",
     "text": [
      "\n",
      "3_Big_Mistakes_in_Your_English_Listening__Go_Natural_English(480p).mp4\n",
      "\n",
      "500+_Daily_Use_English_Sentences_।_English_Speaking_Practice(128k).m4a\n",
      "\n",
      "50_English_Phrases_to_Use_in_a_Conversation(480p).mp4\n",
      "\n",
      "52_GAJ_KA_DAMAN__PRANJAL_DAHIYA__AMAN_JAJI__RENUKA_PANWAR__MUKESH_JAJI__SAHIL_SANDHU(256k).mp3\n",
      "\n",
      "Active_and_Passive_Voice__RULES,_TRICKS,_CHARTS,_EXERCISES,_EXAMPLES_&_PDF__English_Grammar(480p).mp4\n",
      "\n",
      "Active_Passive_Voice_of_Modals_Helping_Verbs(360p).mp4\n",
      "\n",
      "Active_Passive_Voice_of_Modals_Helping_Verbs(360p).mp4.smi\n",
      "\n",
      "Automatic_English_Conversation(720p).mp4\n",
      "\n",
      "Bhut_Gana_Pyar_Hai_Tere_T_!!_By_Chetna_New_Video_!!_Viki_Entertainment(240p).mp4\n",
      "\n",
      "Coding_Deletion_Operation_in_Array_Using_C_Language_(With_Notes)(720p).mp4\n",
      "\n",
      "Coding_Insertion_Operation_in_Array_in_Data_Structures_in_C_language(720p).mp4\n",
      "\n",
      "constraints_in_dbms__key,_domain_&_referential_integrity_(360p).mp4\n",
      "\n",
      "data_independence_in_dbms__logical_and_physical_data_(360p).mp4\n",
      "\n",
      "Excuse_Me__Kaka__New_Song_Latest_punjabi_Songs_2020_Libaas(360p).mp4\n",
      "\n",
      "Functional_dependency_in_DBMS__What_is_functional_dependency__Database_Management_System(360p).mp4\n",
      "\n",
      "Haryanvi_Beat_-_Diler_Kharkiya__Renuka_Panwar__Angel_Rai__New_Haryanvi_Song_Haryanavi_2021(1080p).mp4\n",
      "\n",
      "Keh_Len_De_(Official_Video)_Kaka__Latest_Punjabi_Song_2021__New_Punjabi_Songs_2021__Haani_Records(1080p).mp4\n",
      "\n",
      "Keh_Len_De_(Official_Video)_Kaka__Latest_Punjabi_Song_2021__New_Punjabi_Songs_2021__Haani_Records(1080p).mp4.smi\n",
      "\n",
      "Ke_Baar_Baar_Samjhana_(के_बार_बार_समझाना)_Full_Song_with_Lyrics__Best_WhatsApp_Status__Dhull_HR(360p).mp4\n",
      "\n",
      "Learn_English_in_30_Minutes_-_ALL_the_English_Basics_You_Need(240p).mp4\n",
      "\n",
      "Learn_English_through_Hindi__1000_sentences_for_English_speaking_आसान_अगंर्जेी__Full_course(480p).mp4\n",
      "\n",
      "Maa_Ki_Mamta__Adarsh_Sharma__Haryanvi_Ragni_Song_2020__Sonotek_Haryanvi(480p).mp4\n",
      "\n",
      "Mehendi_Wale_Haath_Song_Guru_Randhawa_Sanjana_SSayeed_Q,_Sachet-Parampara,_Arvindr_Bhushan_Kumar(256k).mp3\n",
      "\n",
      "Milne_Hai_Mujhse_Aayi__cover_@Sakshi_Singh__Sing_Dil_Se__Aashiqui_2__Arijit_Singh(256k).mp3\n",
      "\n",
      "My_top_25_pandas_tricks(720p).mp4.smi\n",
      "\n",
      "o_pata_nahi_ji_konsa_nasha_karta_hai_-_Titliyan_full_Song_Hardy_Sandhu__Yaar_Mera_Titliyan_Warga(256k).mp3\n",
      "\n",
      "Passive_voice_of_LET__Active_and_Passive_Voice_in_English_Grammar(480p).mp4\n",
      "\n",
      "Salam-E-Ishq_Meri_Jaan_Zara_Kabul_Kar_Lo__Muqaddar_Ka_Sikandar (1978)__Amitabh_Bachchan,_Rekha(1080p).mp4\n",
      "\n",
      "SEARCHING_&_SORTING_COMPLETE_(_In_just_50_min)(360p).mp4\n",
      "\n",
      "Second_Normal_Form_in_DBMS__2NF_in_dbms__Normalization_in_DBMS(360p).mp4\n",
      "\n",
      "Second_Normal_Form_in_DBMS__2NF_in_dbms__Normalization_in_DBMS(360p).mp4.smi\n",
      "\n",
      "Tu_Chahida_Song,_Ve_Mainu_Juttiyan_Di_Lod_Nahi_Tu_Chahida,_Ve_Mainu_Tu_Chahida_Riyaz_Aly,_Aroob_Khan(720p).mp4\n",
      "\n",
      "Understand_FAST_English_Conversations(480p).mp4\n",
      "\n",
      "Understand_FAST_English_Conversations(480p).mp4.smi\n",
      "\n",
      "vm3u8cache\n",
      "\n",
      "WRITING_SKILL,Essay_Writing_(The_Most_important)कैसे_सोचे_कैसे_लिखे_🔥🔥(480p).mp4\n",
      "\n",
      "Yaaro_Tod_Deni_Surjit_Bhullar__यारी_तोड़_दनेी__Surjit_Bhullar__Panjabi_Song__2020(256k).mp3\n",
      "\n",
      "_Fazilpuria_feat_Deepti__Afsana__Jaani__SukhE__New_Haryanvi_Songs_Haryanavi_2020(256k).mp3\n",
      "\n",
      "_First_Normal_form_in_DBMS_in_HINDI__1st_Normal_form_कय्ा_होती_ह_ै(360p).mp4\n",
      "\n",
      "_Jass_Manak_(Full_Video)_Satti_Dhillon__Sharry_Nexus__GK_DIGITAL__New_Songs__Geet_MP3(256k).mp3\n",
      "\n",
      "_Neha_Kakkar,_Sunny_Kaushal__Jubin_Nautiyal,Jaani__Bhushan_Kumar__Arvindr_K(256k).mp3\n",
      "\n",
      "_Third_Normal_Form_in_dbms_with_examples_in_Hindi__Normalization(360p).mp4\n",
      "\n",
      "_Tum_Hi_Aana__Marjaavaan__Riteish_D,_Sidharth_M,_Tara_S_Jubin_Nautiyal,Payal_Dev,Kunaal_V(256k).mp3\n",
      "\n",
      "मैया_तेरे_चरणों_की_Ambe_Tere_Charno_Ki__बहुत_ही_मधुर_नये_म्यूजिक_के_साथ___Saijal__Isha__Anchal(256k).mp3\n"
     ]
    }
   ],
   "source": [
    "type(d)\n",
    "len(d)\n",
    "for i in d:\n",
    "    print()\n",
    "    print(i)"
   ]
  },
  {
   "cell_type": "code",
   "execution_count": 26,
   "id": "c1b8394c",
   "metadata": {},
   "outputs": [
    {
     "data": {
      "text/plain": [
       "['500+_Daily_Use_English_Sentences_।_English_Speaking_Practice(128k).m4a',\n",
       " '50_English_Phrases_to_Use_in_a_Conversation(480p).mp4',\n",
       " '52_GAJ_KA_DAMAN__PRANJAL_DAHIYA__AMAN_JAJI__RENUKA_PANWAR__MUKESH_JAJI__SAHIL_SANDHU(256k).mp3',\n",
       " 'Active_and_Passive_Voice__RULES,_TRICKS,_CHARTS,_EXERCISES,_EXAMPLES_&_PDF__English_Grammar(480p).mp4',\n",
       " 'Active_Passive_Voice_of_Modals_Helping_Verbs(360p).mp4',\n",
       " 'Active_Passive_Voice_of_Modals_Helping_Verbs(360p).mp4.smi',\n",
       " 'Automatic_English_Conversation(720p).mp4',\n",
       " 'Bhut_Gana_Pyar_Hai_Tere_T_!!_By_Chetna_New_Video_!!_Viki_Entertainment(240p).mp4',\n",
       " 'Coding_Deletion_Operation_in_Array_Using_C_Language_(With_Notes)(720p).mp4']"
      ]
     },
     "execution_count": 26,
     "metadata": {},
     "output_type": "execute_result"
    }
   ],
   "source": [
    "d[1:10]"
   ]
  },
  {
   "cell_type": "code",
   "execution_count": 24,
   "id": "47bedc1e",
   "metadata": {},
   "outputs": [
    {
     "data": {
      "text/plain": [
       "'C:\\\\Users\\\\Dell\\\\Desktop\\\\dwld'"
      ]
     },
     "execution_count": 24,
     "metadata": {},
     "output_type": "execute_result"
    }
   ],
   "source": [
    "os.getcwd()"
   ]
  },
  {
   "cell_type": "code",
   "execution_count": 25,
   "id": "36db1062",
   "metadata": {},
   "outputs": [],
   "source": [
    "os.remove(\"ranjitfile.txt\")"
   ]
  },
  {
   "cell_type": "code",
   "execution_count": 26,
   "id": "59051820",
   "metadata": {},
   "outputs": [
    {
     "data": {
      "text/plain": [
       "'C:\\\\Users\\\\Dell\\\\Desktop\\\\dwld'"
      ]
     },
     "execution_count": 26,
     "metadata": {},
     "output_type": "execute_result"
    }
   ],
   "source": [
    "os.getcwd()"
   ]
  },
  {
   "cell_type": "code",
   "execution_count": 27,
   "id": "fc8cccf8",
   "metadata": {},
   "outputs": [
    {
     "name": "stdout",
     "output_type": "stream",
     "text": [
      "3_Big_Mistakes_in_Your_English_Listening__Go_Natural_English(480p).mp4\n",
      "500+_Daily_Use_English_Sentences_।_English_Speaking_Practice(128k).m4a\n",
      "50_English_Phrases_to_Use_in_a_Conversation(480p).mp4\n",
      "52_GAJ_KA_DAMAN__PRANJAL_DAHIYA__AMAN_JAJI__RENUKA_PANWAR__MUKESH_JAJI__SAHIL_SANDHU(256k).mp3\n",
      "Active_and_Passive_Voice__RULES,_TRICKS,_CHARTS,_EXERCISES,_EXAMPLES_&_PDF__English_Grammar(480p).mp4\n",
      "Active_Passive_Voice_of_Modals_Helping_Verbs(360p).mp4\n",
      "Active_Passive_Voice_of_Modals_Helping_Verbs(360p).mp4.smi\n",
      "Automatic_English_Conversation(720p).mp4\n",
      "Bhut_Gana_Pyar_Hai_Tere_T_!!_By_Chetna_New_Video_!!_Viki_Entertainment(240p).mp4\n",
      "Coding_Deletion_Operation_in_Array_Using_C_Language_(With_Notes)(720p).mp4\n",
      "Coding_Insertion_Operation_in_Array_in_Data_Structures_in_C_language(720p).mp4\n",
      "constraints_in_dbms__key,_domain_&_referential_integrity_(360p).mp4\n",
      "data_independence_in_dbms__logical_and_physical_data_(360p).mp4\n",
      "Excuse_Me__Kaka__New_Song_Latest_punjabi_Songs_2020_Libaas(360p).mp4\n",
      "Functional_dependency_in_DBMS__What_is_functional_dependency__Database_Management_System(360p).mp4\n",
      "Haryanvi_Beat_-_Diler_Kharkiya__Renuka_Panwar__Angel_Rai__New_Haryanvi_Song_Haryanavi_2021(1080p).mp4\n",
      "Keh_Len_De_(Official_Video)_Kaka__Latest_Punjabi_Song_2021__New_Punjabi_Songs_2021__Haani_Records(1080p).mp4\n",
      "Keh_Len_De_(Official_Video)_Kaka__Latest_Punjabi_Song_2021__New_Punjabi_Songs_2021__Haani_Records(1080p).mp4.smi\n",
      "Ke_Baar_Baar_Samjhana_(के_बार_बार_समझाना)_Full_Song_with_Lyrics__Best_WhatsApp_Status__Dhull_HR(360p).mp4\n",
      "Learn_English_in_30_Minutes_-_ALL_the_English_Basics_You_Need(240p).mp4\n",
      "Learn_English_through_Hindi__1000_sentences_for_English_speaking_आसान_अगंर्जेी__Full_course(480p).mp4\n",
      "Maa_Ki_Mamta__Adarsh_Sharma__Haryanvi_Ragni_Song_2020__Sonotek_Haryanvi(480p).mp4\n",
      "Mehendi_Wale_Haath_Song_Guru_Randhawa_Sanjana_SSayeed_Q,_Sachet-Parampara,_Arvindr_Bhushan_Kumar(256k).mp3\n",
      "Milne_Hai_Mujhse_Aayi__cover_@Sakshi_Singh__Sing_Dil_Se__Aashiqui_2__Arijit_Singh(256k).mp3\n",
      "My_top_25_pandas_tricks(720p).mp4.smi\n",
      "o_pata_nahi_ji_konsa_nasha_karta_hai_-_Titliyan_full_Song_Hardy_Sandhu__Yaar_Mera_Titliyan_Warga(256k).mp3\n",
      "Passive_voice_of_LET__Active_and_Passive_Voice_in_English_Grammar(480p).mp4\n",
      "Salam-E-Ishq_Meri_Jaan_Zara_Kabul_Kar_Lo__Muqaddar_Ka_Sikandar (1978)__Amitabh_Bachchan,_Rekha(1080p).mp4\n",
      "SEARCHING_&_SORTING_COMPLETE_(_In_just_50_min)(360p).mp4\n",
      "Second_Normal_Form_in_DBMS__2NF_in_dbms__Normalization_in_DBMS(360p).mp4\n",
      "Second_Normal_Form_in_DBMS__2NF_in_dbms__Normalization_in_DBMS(360p).mp4.smi\n",
      "Tu_Chahida_Song,_Ve_Mainu_Juttiyan_Di_Lod_Nahi_Tu_Chahida,_Ve_Mainu_Tu_Chahida_Riyaz_Aly,_Aroob_Khan(720p).mp4\n",
      "Understand_FAST_English_Conversations(480p).mp4\n",
      "Understand_FAST_English_Conversations(480p).mp4.smi\n",
      "vm3u8cache\n",
      "WRITING_SKILL,Essay_Writing_(The_Most_important)कैसे_सोचे_कैसे_लिखे_🔥🔥(480p).mp4\n",
      "Yaaro_Tod_Deni_Surjit_Bhullar__यारी_तोड़_दनेी__Surjit_Bhullar__Panjabi_Song__2020(256k).mp3\n",
      "_Fazilpuria_feat_Deepti__Afsana__Jaani__SukhE__New_Haryanvi_Songs_Haryanavi_2020(256k).mp3\n",
      "_First_Normal_form_in_DBMS_in_HINDI__1st_Normal_form_कय्ा_होती_ह_ै(360p).mp4\n",
      "_Jass_Manak_(Full_Video)_Satti_Dhillon__Sharry_Nexus__GK_DIGITAL__New_Songs__Geet_MP3(256k).mp3\n",
      "_Neha_Kakkar,_Sunny_Kaushal__Jubin_Nautiyal,Jaani__Bhushan_Kumar__Arvindr_K(256k).mp3\n",
      "_Third_Normal_Form_in_dbms_with_examples_in_Hindi__Normalization(360p).mp4\n",
      "_Tum_Hi_Aana__Marjaavaan__Riteish_D,_Sidharth_M,_Tara_S_Jubin_Nautiyal,Payal_Dev,Kunaal_V(256k).mp3\n",
      "मैया_तेरे_चरणों_की_Ambe_Tere_Charno_Ki__बहुत_ही_मधुर_नये_म्यूजिक_के_साथ___Saijal__Isha__Anchal(256k).mp3\n"
     ]
    }
   ],
   "source": [
    "for i in os.listdir():\n",
    "    print(i)"
   ]
  },
  {
   "cell_type": "code",
   "execution_count": 28,
   "id": "9b275e52",
   "metadata": {},
   "outputs": [
    {
     "name": "stdout",
     "output_type": "stream",
     "text": [
      "not present\n"
     ]
    }
   ],
   "source": [
    "if os.path.exists(\"ranjitfile.txt\"):\n",
    "    print(\"present\")\n",
    "else:\n",
    "    print(\"not present\")"
   ]
  },
  {
   "cell_type": "code",
   "execution_count": 45,
   "id": "f1f5d975",
   "metadata": {},
   "outputs": [
    {
     "name": "stdout",
     "output_type": "stream",
     "text": [
      "Help on function walk in module os:\n",
      "\n",
      "walk(top, topdown=True, onerror=None, followlinks=False)\n",
      "    Directory tree generator.\n",
      "    \n",
      "    For each directory in the directory tree rooted at top (including top\n",
      "    itself, but excluding '.' and '..'), yields a 3-tuple\n",
      "    \n",
      "        dirpath, dirnames, filenames\n",
      "    \n",
      "    dirpath is a string, the path to the directory.  dirnames is a list of\n",
      "    the names of the subdirectories in dirpath (excluding '.' and '..').\n",
      "    filenames is a list of the names of the non-directory files in dirpath.\n",
      "    Note that the names in the lists are just names, with no path components.\n",
      "    To get a full path (which begins with top) to a file or directory in\n",
      "    dirpath, do os.path.join(dirpath, name).\n",
      "    \n",
      "    If optional arg 'topdown' is true or not specified, the triple for a\n",
      "    directory is generated before the triples for any of its subdirectories\n",
      "    (directories are generated top down).  If topdown is false, the triple\n",
      "    for a directory is generated after the triples for all of its\n",
      "    subdirectories (directories are generated bottom up).\n",
      "    \n",
      "    When topdown is true, the caller can modify the dirnames list in-place\n",
      "    (e.g., via del or slice assignment), and walk will only recurse into the\n",
      "    subdirectories whose names remain in dirnames; this can be used to prune the\n",
      "    search, or to impose a specific order of visiting.  Modifying dirnames when\n",
      "    topdown is false has no effect on the behavior of os.walk(), since the\n",
      "    directories in dirnames have already been generated by the time dirnames\n",
      "    itself is generated. No matter the value of topdown, the list of\n",
      "    subdirectories is retrieved before the tuples for the directory and its\n",
      "    subdirectories are generated.\n",
      "    \n",
      "    By default errors from the os.scandir() call are ignored.  If\n",
      "    optional arg 'onerror' is specified, it should be a function; it\n",
      "    will be called with one argument, an OSError instance.  It can\n",
      "    report the error to continue with the walk, or raise the exception\n",
      "    to abort the walk.  Note that the filename is available as the\n",
      "    filename attribute of the exception object.\n",
      "    \n",
      "    By default, os.walk does not follow symbolic links to subdirectories on\n",
      "    systems that support them.  In order to get this functionality, set the\n",
      "    optional argument 'followlinks' to true.\n",
      "    \n",
      "    Caution:  if you pass a relative pathname for top, don't change the\n",
      "    current working directory between resumptions of walk.  walk never\n",
      "    changes the current directory, and assumes that the client doesn't\n",
      "    either.\n",
      "    \n",
      "    Example:\n",
      "    \n",
      "    import os\n",
      "    from os.path import join, getsize\n",
      "    for root, dirs, files in os.walk('python/Lib/email'):\n",
      "        print(root, \"consumes\", end=\"\")\n",
      "        print(sum(getsize(join(root, name)) for name in files), end=\"\")\n",
      "        print(\"bytes in\", len(files), \"non-directory files\")\n",
      "        if 'CVS' in dirs:\n",
      "            dirs.remove('CVS')  # don't visit CVS directories\n",
      "\n"
     ]
    }
   ],
   "source": [
    "help(os.walk)"
   ]
  },
  {
   "cell_type": "code",
   "execution_count": 9,
   "id": "f5be9690",
   "metadata": {},
   "outputs": [],
   "source": [
    "import pandas as pd\n",
    "import numpy as np"
   ]
  },
  {
   "cell_type": "code",
   "execution_count": 11,
   "id": "d28cacbe",
   "metadata": {},
   "outputs": [],
   "source": [
    "dataa=np.arange(1,501).reshape(50,10)"
   ]
  },
  {
   "cell_type": "code",
   "execution_count": 12,
   "id": "33203b1b",
   "metadata": {},
   "outputs": [
    {
     "data": {
      "text/plain": [
       "array([[  1,   2,   3,   4,   5,   6,   7,   8,   9,  10],\n",
       "       [ 11,  12,  13,  14,  15,  16,  17,  18,  19,  20],\n",
       "       [ 21,  22,  23,  24,  25,  26,  27,  28,  29,  30],\n",
       "       [ 31,  32,  33,  34,  35,  36,  37,  38,  39,  40],\n",
       "       [ 41,  42,  43,  44,  45,  46,  47,  48,  49,  50],\n",
       "       [ 51,  52,  53,  54,  55,  56,  57,  58,  59,  60],\n",
       "       [ 61,  62,  63,  64,  65,  66,  67,  68,  69,  70],\n",
       "       [ 71,  72,  73,  74,  75,  76,  77,  78,  79,  80],\n",
       "       [ 81,  82,  83,  84,  85,  86,  87,  88,  89,  90],\n",
       "       [ 91,  92,  93,  94,  95,  96,  97,  98,  99, 100],\n",
       "       [101, 102, 103, 104, 105, 106, 107, 108, 109, 110],\n",
       "       [111, 112, 113, 114, 115, 116, 117, 118, 119, 120],\n",
       "       [121, 122, 123, 124, 125, 126, 127, 128, 129, 130],\n",
       "       [131, 132, 133, 134, 135, 136, 137, 138, 139, 140],\n",
       "       [141, 142, 143, 144, 145, 146, 147, 148, 149, 150],\n",
       "       [151, 152, 153, 154, 155, 156, 157, 158, 159, 160],\n",
       "       [161, 162, 163, 164, 165, 166, 167, 168, 169, 170],\n",
       "       [171, 172, 173, 174, 175, 176, 177, 178, 179, 180],\n",
       "       [181, 182, 183, 184, 185, 186, 187, 188, 189, 190],\n",
       "       [191, 192, 193, 194, 195, 196, 197, 198, 199, 200],\n",
       "       [201, 202, 203, 204, 205, 206, 207, 208, 209, 210],\n",
       "       [211, 212, 213, 214, 215, 216, 217, 218, 219, 220],\n",
       "       [221, 222, 223, 224, 225, 226, 227, 228, 229, 230],\n",
       "       [231, 232, 233, 234, 235, 236, 237, 238, 239, 240],\n",
       "       [241, 242, 243, 244, 245, 246, 247, 248, 249, 250],\n",
       "       [251, 252, 253, 254, 255, 256, 257, 258, 259, 260],\n",
       "       [261, 262, 263, 264, 265, 266, 267, 268, 269, 270],\n",
       "       [271, 272, 273, 274, 275, 276, 277, 278, 279, 280],\n",
       "       [281, 282, 283, 284, 285, 286, 287, 288, 289, 290],\n",
       "       [291, 292, 293, 294, 295, 296, 297, 298, 299, 300],\n",
       "       [301, 302, 303, 304, 305, 306, 307, 308, 309, 310],\n",
       "       [311, 312, 313, 314, 315, 316, 317, 318, 319, 320],\n",
       "       [321, 322, 323, 324, 325, 326, 327, 328, 329, 330],\n",
       "       [331, 332, 333, 334, 335, 336, 337, 338, 339, 340],\n",
       "       [341, 342, 343, 344, 345, 346, 347, 348, 349, 350],\n",
       "       [351, 352, 353, 354, 355, 356, 357, 358, 359, 360],\n",
       "       [361, 362, 363, 364, 365, 366, 367, 368, 369, 370],\n",
       "       [371, 372, 373, 374, 375, 376, 377, 378, 379, 380],\n",
       "       [381, 382, 383, 384, 385, 386, 387, 388, 389, 390],\n",
       "       [391, 392, 393, 394, 395, 396, 397, 398, 399, 400],\n",
       "       [401, 402, 403, 404, 405, 406, 407, 408, 409, 410],\n",
       "       [411, 412, 413, 414, 415, 416, 417, 418, 419, 420],\n",
       "       [421, 422, 423, 424, 425, 426, 427, 428, 429, 430],\n",
       "       [431, 432, 433, 434, 435, 436, 437, 438, 439, 440],\n",
       "       [441, 442, 443, 444, 445, 446, 447, 448, 449, 450],\n",
       "       [451, 452, 453, 454, 455, 456, 457, 458, 459, 460],\n",
       "       [461, 462, 463, 464, 465, 466, 467, 468, 469, 470],\n",
       "       [471, 472, 473, 474, 475, 476, 477, 478, 479, 480],\n",
       "       [481, 482, 483, 484, 485, 486, 487, 488, 489, 490],\n",
       "       [491, 492, 493, 494, 495, 496, 497, 498, 499, 500]])"
      ]
     },
     "execution_count": 12,
     "metadata": {},
     "output_type": "execute_result"
    }
   ],
   "source": [
    "dataa"
   ]
  },
  {
   "cell_type": "code",
   "execution_count": 13,
   "id": "aa7aeb5c",
   "metadata": {},
   "outputs": [],
   "source": [
    "df=pd.DataFrame(data=dataa,columns=[\"col_\"+str(i) for i in range(1,11)],index=[\"row_\"+str(i) for i in range(1,51)])"
   ]
  },
  {
   "cell_type": "code",
   "execution_count": 14,
   "id": "f1de8147",
   "metadata": {},
   "outputs": [
    {
     "data": {
      "text/html": [
       "<div>\n",
       "<style scoped>\n",
       "    .dataframe tbody tr th:only-of-type {\n",
       "        vertical-align: middle;\n",
       "    }\n",
       "\n",
       "    .dataframe tbody tr th {\n",
       "        vertical-align: top;\n",
       "    }\n",
       "\n",
       "    .dataframe thead th {\n",
       "        text-align: right;\n",
       "    }\n",
       "</style>\n",
       "<table border=\"1\" class=\"dataframe\">\n",
       "  <thead>\n",
       "    <tr style=\"text-align: right;\">\n",
       "      <th></th>\n",
       "      <th>col_1</th>\n",
       "      <th>col_2</th>\n",
       "      <th>col_3</th>\n",
       "      <th>col_4</th>\n",
       "      <th>col_5</th>\n",
       "      <th>col_6</th>\n",
       "      <th>col_7</th>\n",
       "      <th>col_8</th>\n",
       "      <th>col_9</th>\n",
       "      <th>col_10</th>\n",
       "    </tr>\n",
       "  </thead>\n",
       "  <tbody>\n",
       "    <tr>\n",
       "      <th>row_1</th>\n",
       "      <td>1</td>\n",
       "      <td>2</td>\n",
       "      <td>3</td>\n",
       "      <td>4</td>\n",
       "      <td>5</td>\n",
       "      <td>6</td>\n",
       "      <td>7</td>\n",
       "      <td>8</td>\n",
       "      <td>9</td>\n",
       "      <td>10</td>\n",
       "    </tr>\n",
       "    <tr>\n",
       "      <th>row_2</th>\n",
       "      <td>11</td>\n",
       "      <td>12</td>\n",
       "      <td>13</td>\n",
       "      <td>14</td>\n",
       "      <td>15</td>\n",
       "      <td>16</td>\n",
       "      <td>17</td>\n",
       "      <td>18</td>\n",
       "      <td>19</td>\n",
       "      <td>20</td>\n",
       "    </tr>\n",
       "    <tr>\n",
       "      <th>row_3</th>\n",
       "      <td>21</td>\n",
       "      <td>22</td>\n",
       "      <td>23</td>\n",
       "      <td>24</td>\n",
       "      <td>25</td>\n",
       "      <td>26</td>\n",
       "      <td>27</td>\n",
       "      <td>28</td>\n",
       "      <td>29</td>\n",
       "      <td>30</td>\n",
       "    </tr>\n",
       "    <tr>\n",
       "      <th>row_4</th>\n",
       "      <td>31</td>\n",
       "      <td>32</td>\n",
       "      <td>33</td>\n",
       "      <td>34</td>\n",
       "      <td>35</td>\n",
       "      <td>36</td>\n",
       "      <td>37</td>\n",
       "      <td>38</td>\n",
       "      <td>39</td>\n",
       "      <td>40</td>\n",
       "    </tr>\n",
       "    <tr>\n",
       "      <th>row_5</th>\n",
       "      <td>41</td>\n",
       "      <td>42</td>\n",
       "      <td>43</td>\n",
       "      <td>44</td>\n",
       "      <td>45</td>\n",
       "      <td>46</td>\n",
       "      <td>47</td>\n",
       "      <td>48</td>\n",
       "      <td>49</td>\n",
       "      <td>50</td>\n",
       "    </tr>\n",
       "    <tr>\n",
       "      <th>row_6</th>\n",
       "      <td>51</td>\n",
       "      <td>52</td>\n",
       "      <td>53</td>\n",
       "      <td>54</td>\n",
       "      <td>55</td>\n",
       "      <td>56</td>\n",
       "      <td>57</td>\n",
       "      <td>58</td>\n",
       "      <td>59</td>\n",
       "      <td>60</td>\n",
       "    </tr>\n",
       "    <tr>\n",
       "      <th>row_7</th>\n",
       "      <td>61</td>\n",
       "      <td>62</td>\n",
       "      <td>63</td>\n",
       "      <td>64</td>\n",
       "      <td>65</td>\n",
       "      <td>66</td>\n",
       "      <td>67</td>\n",
       "      <td>68</td>\n",
       "      <td>69</td>\n",
       "      <td>70</td>\n",
       "    </tr>\n",
       "    <tr>\n",
       "      <th>row_8</th>\n",
       "      <td>71</td>\n",
       "      <td>72</td>\n",
       "      <td>73</td>\n",
       "      <td>74</td>\n",
       "      <td>75</td>\n",
       "      <td>76</td>\n",
       "      <td>77</td>\n",
       "      <td>78</td>\n",
       "      <td>79</td>\n",
       "      <td>80</td>\n",
       "    </tr>\n",
       "    <tr>\n",
       "      <th>row_9</th>\n",
       "      <td>81</td>\n",
       "      <td>82</td>\n",
       "      <td>83</td>\n",
       "      <td>84</td>\n",
       "      <td>85</td>\n",
       "      <td>86</td>\n",
       "      <td>87</td>\n",
       "      <td>88</td>\n",
       "      <td>89</td>\n",
       "      <td>90</td>\n",
       "    </tr>\n",
       "    <tr>\n",
       "      <th>row_10</th>\n",
       "      <td>91</td>\n",
       "      <td>92</td>\n",
       "      <td>93</td>\n",
       "      <td>94</td>\n",
       "      <td>95</td>\n",
       "      <td>96</td>\n",
       "      <td>97</td>\n",
       "      <td>98</td>\n",
       "      <td>99</td>\n",
       "      <td>100</td>\n",
       "    </tr>\n",
       "    <tr>\n",
       "      <th>row_11</th>\n",
       "      <td>101</td>\n",
       "      <td>102</td>\n",
       "      <td>103</td>\n",
       "      <td>104</td>\n",
       "      <td>105</td>\n",
       "      <td>106</td>\n",
       "      <td>107</td>\n",
       "      <td>108</td>\n",
       "      <td>109</td>\n",
       "      <td>110</td>\n",
       "    </tr>\n",
       "    <tr>\n",
       "      <th>row_12</th>\n",
       "      <td>111</td>\n",
       "      <td>112</td>\n",
       "      <td>113</td>\n",
       "      <td>114</td>\n",
       "      <td>115</td>\n",
       "      <td>116</td>\n",
       "      <td>117</td>\n",
       "      <td>118</td>\n",
       "      <td>119</td>\n",
       "      <td>120</td>\n",
       "    </tr>\n",
       "    <tr>\n",
       "      <th>row_13</th>\n",
       "      <td>121</td>\n",
       "      <td>122</td>\n",
       "      <td>123</td>\n",
       "      <td>124</td>\n",
       "      <td>125</td>\n",
       "      <td>126</td>\n",
       "      <td>127</td>\n",
       "      <td>128</td>\n",
       "      <td>129</td>\n",
       "      <td>130</td>\n",
       "    </tr>\n",
       "    <tr>\n",
       "      <th>row_14</th>\n",
       "      <td>131</td>\n",
       "      <td>132</td>\n",
       "      <td>133</td>\n",
       "      <td>134</td>\n",
       "      <td>135</td>\n",
       "      <td>136</td>\n",
       "      <td>137</td>\n",
       "      <td>138</td>\n",
       "      <td>139</td>\n",
       "      <td>140</td>\n",
       "    </tr>\n",
       "    <tr>\n",
       "      <th>row_15</th>\n",
       "      <td>141</td>\n",
       "      <td>142</td>\n",
       "      <td>143</td>\n",
       "      <td>144</td>\n",
       "      <td>145</td>\n",
       "      <td>146</td>\n",
       "      <td>147</td>\n",
       "      <td>148</td>\n",
       "      <td>149</td>\n",
       "      <td>150</td>\n",
       "    </tr>\n",
       "    <tr>\n",
       "      <th>row_16</th>\n",
       "      <td>151</td>\n",
       "      <td>152</td>\n",
       "      <td>153</td>\n",
       "      <td>154</td>\n",
       "      <td>155</td>\n",
       "      <td>156</td>\n",
       "      <td>157</td>\n",
       "      <td>158</td>\n",
       "      <td>159</td>\n",
       "      <td>160</td>\n",
       "    </tr>\n",
       "    <tr>\n",
       "      <th>row_17</th>\n",
       "      <td>161</td>\n",
       "      <td>162</td>\n",
       "      <td>163</td>\n",
       "      <td>164</td>\n",
       "      <td>165</td>\n",
       "      <td>166</td>\n",
       "      <td>167</td>\n",
       "      <td>168</td>\n",
       "      <td>169</td>\n",
       "      <td>170</td>\n",
       "    </tr>\n",
       "    <tr>\n",
       "      <th>row_18</th>\n",
       "      <td>171</td>\n",
       "      <td>172</td>\n",
       "      <td>173</td>\n",
       "      <td>174</td>\n",
       "      <td>175</td>\n",
       "      <td>176</td>\n",
       "      <td>177</td>\n",
       "      <td>178</td>\n",
       "      <td>179</td>\n",
       "      <td>180</td>\n",
       "    </tr>\n",
       "    <tr>\n",
       "      <th>row_19</th>\n",
       "      <td>181</td>\n",
       "      <td>182</td>\n",
       "      <td>183</td>\n",
       "      <td>184</td>\n",
       "      <td>185</td>\n",
       "      <td>186</td>\n",
       "      <td>187</td>\n",
       "      <td>188</td>\n",
       "      <td>189</td>\n",
       "      <td>190</td>\n",
       "    </tr>\n",
       "    <tr>\n",
       "      <th>row_20</th>\n",
       "      <td>191</td>\n",
       "      <td>192</td>\n",
       "      <td>193</td>\n",
       "      <td>194</td>\n",
       "      <td>195</td>\n",
       "      <td>196</td>\n",
       "      <td>197</td>\n",
       "      <td>198</td>\n",
       "      <td>199</td>\n",
       "      <td>200</td>\n",
       "    </tr>\n",
       "    <tr>\n",
       "      <th>row_21</th>\n",
       "      <td>201</td>\n",
       "      <td>202</td>\n",
       "      <td>203</td>\n",
       "      <td>204</td>\n",
       "      <td>205</td>\n",
       "      <td>206</td>\n",
       "      <td>207</td>\n",
       "      <td>208</td>\n",
       "      <td>209</td>\n",
       "      <td>210</td>\n",
       "    </tr>\n",
       "    <tr>\n",
       "      <th>row_22</th>\n",
       "      <td>211</td>\n",
       "      <td>212</td>\n",
       "      <td>213</td>\n",
       "      <td>214</td>\n",
       "      <td>215</td>\n",
       "      <td>216</td>\n",
       "      <td>217</td>\n",
       "      <td>218</td>\n",
       "      <td>219</td>\n",
       "      <td>220</td>\n",
       "    </tr>\n",
       "    <tr>\n",
       "      <th>row_23</th>\n",
       "      <td>221</td>\n",
       "      <td>222</td>\n",
       "      <td>223</td>\n",
       "      <td>224</td>\n",
       "      <td>225</td>\n",
       "      <td>226</td>\n",
       "      <td>227</td>\n",
       "      <td>228</td>\n",
       "      <td>229</td>\n",
       "      <td>230</td>\n",
       "    </tr>\n",
       "    <tr>\n",
       "      <th>row_24</th>\n",
       "      <td>231</td>\n",
       "      <td>232</td>\n",
       "      <td>233</td>\n",
       "      <td>234</td>\n",
       "      <td>235</td>\n",
       "      <td>236</td>\n",
       "      <td>237</td>\n",
       "      <td>238</td>\n",
       "      <td>239</td>\n",
       "      <td>240</td>\n",
       "    </tr>\n",
       "    <tr>\n",
       "      <th>row_25</th>\n",
       "      <td>241</td>\n",
       "      <td>242</td>\n",
       "      <td>243</td>\n",
       "      <td>244</td>\n",
       "      <td>245</td>\n",
       "      <td>246</td>\n",
       "      <td>247</td>\n",
       "      <td>248</td>\n",
       "      <td>249</td>\n",
       "      <td>250</td>\n",
       "    </tr>\n",
       "    <tr>\n",
       "      <th>row_26</th>\n",
       "      <td>251</td>\n",
       "      <td>252</td>\n",
       "      <td>253</td>\n",
       "      <td>254</td>\n",
       "      <td>255</td>\n",
       "      <td>256</td>\n",
       "      <td>257</td>\n",
       "      <td>258</td>\n",
       "      <td>259</td>\n",
       "      <td>260</td>\n",
       "    </tr>\n",
       "    <tr>\n",
       "      <th>row_27</th>\n",
       "      <td>261</td>\n",
       "      <td>262</td>\n",
       "      <td>263</td>\n",
       "      <td>264</td>\n",
       "      <td>265</td>\n",
       "      <td>266</td>\n",
       "      <td>267</td>\n",
       "      <td>268</td>\n",
       "      <td>269</td>\n",
       "      <td>270</td>\n",
       "    </tr>\n",
       "    <tr>\n",
       "      <th>row_28</th>\n",
       "      <td>271</td>\n",
       "      <td>272</td>\n",
       "      <td>273</td>\n",
       "      <td>274</td>\n",
       "      <td>275</td>\n",
       "      <td>276</td>\n",
       "      <td>277</td>\n",
       "      <td>278</td>\n",
       "      <td>279</td>\n",
       "      <td>280</td>\n",
       "    </tr>\n",
       "    <tr>\n",
       "      <th>row_29</th>\n",
       "      <td>281</td>\n",
       "      <td>282</td>\n",
       "      <td>283</td>\n",
       "      <td>284</td>\n",
       "      <td>285</td>\n",
       "      <td>286</td>\n",
       "      <td>287</td>\n",
       "      <td>288</td>\n",
       "      <td>289</td>\n",
       "      <td>290</td>\n",
       "    </tr>\n",
       "    <tr>\n",
       "      <th>row_30</th>\n",
       "      <td>291</td>\n",
       "      <td>292</td>\n",
       "      <td>293</td>\n",
       "      <td>294</td>\n",
       "      <td>295</td>\n",
       "      <td>296</td>\n",
       "      <td>297</td>\n",
       "      <td>298</td>\n",
       "      <td>299</td>\n",
       "      <td>300</td>\n",
       "    </tr>\n",
       "    <tr>\n",
       "      <th>row_31</th>\n",
       "      <td>301</td>\n",
       "      <td>302</td>\n",
       "      <td>303</td>\n",
       "      <td>304</td>\n",
       "      <td>305</td>\n",
       "      <td>306</td>\n",
       "      <td>307</td>\n",
       "      <td>308</td>\n",
       "      <td>309</td>\n",
       "      <td>310</td>\n",
       "    </tr>\n",
       "    <tr>\n",
       "      <th>row_32</th>\n",
       "      <td>311</td>\n",
       "      <td>312</td>\n",
       "      <td>313</td>\n",
       "      <td>314</td>\n",
       "      <td>315</td>\n",
       "      <td>316</td>\n",
       "      <td>317</td>\n",
       "      <td>318</td>\n",
       "      <td>319</td>\n",
       "      <td>320</td>\n",
       "    </tr>\n",
       "    <tr>\n",
       "      <th>row_33</th>\n",
       "      <td>321</td>\n",
       "      <td>322</td>\n",
       "      <td>323</td>\n",
       "      <td>324</td>\n",
       "      <td>325</td>\n",
       "      <td>326</td>\n",
       "      <td>327</td>\n",
       "      <td>328</td>\n",
       "      <td>329</td>\n",
       "      <td>330</td>\n",
       "    </tr>\n",
       "    <tr>\n",
       "      <th>row_34</th>\n",
       "      <td>331</td>\n",
       "      <td>332</td>\n",
       "      <td>333</td>\n",
       "      <td>334</td>\n",
       "      <td>335</td>\n",
       "      <td>336</td>\n",
       "      <td>337</td>\n",
       "      <td>338</td>\n",
       "      <td>339</td>\n",
       "      <td>340</td>\n",
       "    </tr>\n",
       "    <tr>\n",
       "      <th>row_35</th>\n",
       "      <td>341</td>\n",
       "      <td>342</td>\n",
       "      <td>343</td>\n",
       "      <td>344</td>\n",
       "      <td>345</td>\n",
       "      <td>346</td>\n",
       "      <td>347</td>\n",
       "      <td>348</td>\n",
       "      <td>349</td>\n",
       "      <td>350</td>\n",
       "    </tr>\n",
       "    <tr>\n",
       "      <th>row_36</th>\n",
       "      <td>351</td>\n",
       "      <td>352</td>\n",
       "      <td>353</td>\n",
       "      <td>354</td>\n",
       "      <td>355</td>\n",
       "      <td>356</td>\n",
       "      <td>357</td>\n",
       "      <td>358</td>\n",
       "      <td>359</td>\n",
       "      <td>360</td>\n",
       "    </tr>\n",
       "    <tr>\n",
       "      <th>row_37</th>\n",
       "      <td>361</td>\n",
       "      <td>362</td>\n",
       "      <td>363</td>\n",
       "      <td>364</td>\n",
       "      <td>365</td>\n",
       "      <td>366</td>\n",
       "      <td>367</td>\n",
       "      <td>368</td>\n",
       "      <td>369</td>\n",
       "      <td>370</td>\n",
       "    </tr>\n",
       "    <tr>\n",
       "      <th>row_38</th>\n",
       "      <td>371</td>\n",
       "      <td>372</td>\n",
       "      <td>373</td>\n",
       "      <td>374</td>\n",
       "      <td>375</td>\n",
       "      <td>376</td>\n",
       "      <td>377</td>\n",
       "      <td>378</td>\n",
       "      <td>379</td>\n",
       "      <td>380</td>\n",
       "    </tr>\n",
       "    <tr>\n",
       "      <th>row_39</th>\n",
       "      <td>381</td>\n",
       "      <td>382</td>\n",
       "      <td>383</td>\n",
       "      <td>384</td>\n",
       "      <td>385</td>\n",
       "      <td>386</td>\n",
       "      <td>387</td>\n",
       "      <td>388</td>\n",
       "      <td>389</td>\n",
       "      <td>390</td>\n",
       "    </tr>\n",
       "    <tr>\n",
       "      <th>row_40</th>\n",
       "      <td>391</td>\n",
       "      <td>392</td>\n",
       "      <td>393</td>\n",
       "      <td>394</td>\n",
       "      <td>395</td>\n",
       "      <td>396</td>\n",
       "      <td>397</td>\n",
       "      <td>398</td>\n",
       "      <td>399</td>\n",
       "      <td>400</td>\n",
       "    </tr>\n",
       "    <tr>\n",
       "      <th>row_41</th>\n",
       "      <td>401</td>\n",
       "      <td>402</td>\n",
       "      <td>403</td>\n",
       "      <td>404</td>\n",
       "      <td>405</td>\n",
       "      <td>406</td>\n",
       "      <td>407</td>\n",
       "      <td>408</td>\n",
       "      <td>409</td>\n",
       "      <td>410</td>\n",
       "    </tr>\n",
       "    <tr>\n",
       "      <th>row_42</th>\n",
       "      <td>411</td>\n",
       "      <td>412</td>\n",
       "      <td>413</td>\n",
       "      <td>414</td>\n",
       "      <td>415</td>\n",
       "      <td>416</td>\n",
       "      <td>417</td>\n",
       "      <td>418</td>\n",
       "      <td>419</td>\n",
       "      <td>420</td>\n",
       "    </tr>\n",
       "    <tr>\n",
       "      <th>row_43</th>\n",
       "      <td>421</td>\n",
       "      <td>422</td>\n",
       "      <td>423</td>\n",
       "      <td>424</td>\n",
       "      <td>425</td>\n",
       "      <td>426</td>\n",
       "      <td>427</td>\n",
       "      <td>428</td>\n",
       "      <td>429</td>\n",
       "      <td>430</td>\n",
       "    </tr>\n",
       "    <tr>\n",
       "      <th>row_44</th>\n",
       "      <td>431</td>\n",
       "      <td>432</td>\n",
       "      <td>433</td>\n",
       "      <td>434</td>\n",
       "      <td>435</td>\n",
       "      <td>436</td>\n",
       "      <td>437</td>\n",
       "      <td>438</td>\n",
       "      <td>439</td>\n",
       "      <td>440</td>\n",
       "    </tr>\n",
       "    <tr>\n",
       "      <th>row_45</th>\n",
       "      <td>441</td>\n",
       "      <td>442</td>\n",
       "      <td>443</td>\n",
       "      <td>444</td>\n",
       "      <td>445</td>\n",
       "      <td>446</td>\n",
       "      <td>447</td>\n",
       "      <td>448</td>\n",
       "      <td>449</td>\n",
       "      <td>450</td>\n",
       "    </tr>\n",
       "    <tr>\n",
       "      <th>row_46</th>\n",
       "      <td>451</td>\n",
       "      <td>452</td>\n",
       "      <td>453</td>\n",
       "      <td>454</td>\n",
       "      <td>455</td>\n",
       "      <td>456</td>\n",
       "      <td>457</td>\n",
       "      <td>458</td>\n",
       "      <td>459</td>\n",
       "      <td>460</td>\n",
       "    </tr>\n",
       "    <tr>\n",
       "      <th>row_47</th>\n",
       "      <td>461</td>\n",
       "      <td>462</td>\n",
       "      <td>463</td>\n",
       "      <td>464</td>\n",
       "      <td>465</td>\n",
       "      <td>466</td>\n",
       "      <td>467</td>\n",
       "      <td>468</td>\n",
       "      <td>469</td>\n",
       "      <td>470</td>\n",
       "    </tr>\n",
       "    <tr>\n",
       "      <th>row_48</th>\n",
       "      <td>471</td>\n",
       "      <td>472</td>\n",
       "      <td>473</td>\n",
       "      <td>474</td>\n",
       "      <td>475</td>\n",
       "      <td>476</td>\n",
       "      <td>477</td>\n",
       "      <td>478</td>\n",
       "      <td>479</td>\n",
       "      <td>480</td>\n",
       "    </tr>\n",
       "    <tr>\n",
       "      <th>row_49</th>\n",
       "      <td>481</td>\n",
       "      <td>482</td>\n",
       "      <td>483</td>\n",
       "      <td>484</td>\n",
       "      <td>485</td>\n",
       "      <td>486</td>\n",
       "      <td>487</td>\n",
       "      <td>488</td>\n",
       "      <td>489</td>\n",
       "      <td>490</td>\n",
       "    </tr>\n",
       "    <tr>\n",
       "      <th>row_50</th>\n",
       "      <td>491</td>\n",
       "      <td>492</td>\n",
       "      <td>493</td>\n",
       "      <td>494</td>\n",
       "      <td>495</td>\n",
       "      <td>496</td>\n",
       "      <td>497</td>\n",
       "      <td>498</td>\n",
       "      <td>499</td>\n",
       "      <td>500</td>\n",
       "    </tr>\n",
       "  </tbody>\n",
       "</table>\n",
       "</div>"
      ],
      "text/plain": [
       "        col_1  col_2  col_3  col_4  col_5  col_6  col_7  col_8  col_9  col_10\n",
       "row_1       1      2      3      4      5      6      7      8      9      10\n",
       "row_2      11     12     13     14     15     16     17     18     19      20\n",
       "row_3      21     22     23     24     25     26     27     28     29      30\n",
       "row_4      31     32     33     34     35     36     37     38     39      40\n",
       "row_5      41     42     43     44     45     46     47     48     49      50\n",
       "row_6      51     52     53     54     55     56     57     58     59      60\n",
       "row_7      61     62     63     64     65     66     67     68     69      70\n",
       "row_8      71     72     73     74     75     76     77     78     79      80\n",
       "row_9      81     82     83     84     85     86     87     88     89      90\n",
       "row_10     91     92     93     94     95     96     97     98     99     100\n",
       "row_11    101    102    103    104    105    106    107    108    109     110\n",
       "row_12    111    112    113    114    115    116    117    118    119     120\n",
       "row_13    121    122    123    124    125    126    127    128    129     130\n",
       "row_14    131    132    133    134    135    136    137    138    139     140\n",
       "row_15    141    142    143    144    145    146    147    148    149     150\n",
       "row_16    151    152    153    154    155    156    157    158    159     160\n",
       "row_17    161    162    163    164    165    166    167    168    169     170\n",
       "row_18    171    172    173    174    175    176    177    178    179     180\n",
       "row_19    181    182    183    184    185    186    187    188    189     190\n",
       "row_20    191    192    193    194    195    196    197    198    199     200\n",
       "row_21    201    202    203    204    205    206    207    208    209     210\n",
       "row_22    211    212    213    214    215    216    217    218    219     220\n",
       "row_23    221    222    223    224    225    226    227    228    229     230\n",
       "row_24    231    232    233    234    235    236    237    238    239     240\n",
       "row_25    241    242    243    244    245    246    247    248    249     250\n",
       "row_26    251    252    253    254    255    256    257    258    259     260\n",
       "row_27    261    262    263    264    265    266    267    268    269     270\n",
       "row_28    271    272    273    274    275    276    277    278    279     280\n",
       "row_29    281    282    283    284    285    286    287    288    289     290\n",
       "row_30    291    292    293    294    295    296    297    298    299     300\n",
       "row_31    301    302    303    304    305    306    307    308    309     310\n",
       "row_32    311    312    313    314    315    316    317    318    319     320\n",
       "row_33    321    322    323    324    325    326    327    328    329     330\n",
       "row_34    331    332    333    334    335    336    337    338    339     340\n",
       "row_35    341    342    343    344    345    346    347    348    349     350\n",
       "row_36    351    352    353    354    355    356    357    358    359     360\n",
       "row_37    361    362    363    364    365    366    367    368    369     370\n",
       "row_38    371    372    373    374    375    376    377    378    379     380\n",
       "row_39    381    382    383    384    385    386    387    388    389     390\n",
       "row_40    391    392    393    394    395    396    397    398    399     400\n",
       "row_41    401    402    403    404    405    406    407    408    409     410\n",
       "row_42    411    412    413    414    415    416    417    418    419     420\n",
       "row_43    421    422    423    424    425    426    427    428    429     430\n",
       "row_44    431    432    433    434    435    436    437    438    439     440\n",
       "row_45    441    442    443    444    445    446    447    448    449     450\n",
       "row_46    451    452    453    454    455    456    457    458    459     460\n",
       "row_47    461    462    463    464    465    466    467    468    469     470\n",
       "row_48    471    472    473    474    475    476    477    478    479     480\n",
       "row_49    481    482    483    484    485    486    487    488    489     490\n",
       "row_50    491    492    493    494    495    496    497    498    499     500"
      ]
     },
     "execution_count": 14,
     "metadata": {},
     "output_type": "execute_result"
    }
   ],
   "source": [
    "df"
   ]
  },
  {
   "cell_type": "code",
   "execution_count": 15,
   "id": "eb3658a5",
   "metadata": {},
   "outputs": [
    {
     "data": {
      "text/plain": [
       "Index(['row_1', 'row_2', 'row_3', 'row_4', 'row_5', 'row_6', 'row_7', 'row_8',\n",
       "       'row_9', 'row_10', 'row_11', 'row_12', 'row_13', 'row_14', 'row_15',\n",
       "       'row_16', 'row_17', 'row_18', 'row_19', 'row_20', 'row_21', 'row_22',\n",
       "       'row_23', 'row_24', 'row_25', 'row_26', 'row_27', 'row_28', 'row_29',\n",
       "       'row_30', 'row_31', 'row_32', 'row_33', 'row_34', 'row_35', 'row_36',\n",
       "       'row_37', 'row_38', 'row_39', 'row_40', 'row_41', 'row_42', 'row_43',\n",
       "       'row_44', 'row_45', 'row_46', 'row_47', 'row_48', 'row_49', 'row_50'],\n",
       "      dtype='object')"
      ]
     },
     "execution_count": 15,
     "metadata": {},
     "output_type": "execute_result"
    }
   ],
   "source": [
    "df.index"
   ]
  },
  {
   "cell_type": "code",
   "execution_count": 18,
   "id": "0d9cb598",
   "metadata": {},
   "outputs": [
    {
     "data": {
      "text/plain": [
       "Index(['row_1', 'row_2', 'row_3', 'row_4', 'row_5', 'row_6', 'row_7', 'row_8',\n",
       "       'row_9', 'row_10', 'row_11', 'row_12', 'row_13', 'row_14', 'row_15',\n",
       "       'row_16', 'row_17', 'row_18', 'row_19', 'row_20', 'row_21', 'row_22',\n",
       "       'row_23', 'row_24', 'row_25', 'row_26', 'row_27', 'row_28', 'row_29',\n",
       "       'row_30', 'row_31', 'row_32', 'row_33', 'row_34', 'row_35', 'row_36',\n",
       "       'row_37', 'row_38', 'row_39', 'row_40', 'row_41', 'row_42', 'row_43',\n",
       "       'row_44', 'row_45', 'row_46', 'row_47', 'row_48', 'row_49', 'row_50'],\n",
       "      dtype='object')"
      ]
     },
     "execution_count": 18,
     "metadata": {},
     "output_type": "execute_result"
    }
   ],
   "source": [
    "df.index"
   ]
  },
  {
   "cell_type": "code",
   "execution_count": 20,
   "id": "1cdfec9c",
   "metadata": {},
   "outputs": [
    {
     "data": {
      "text/plain": [
       "col_1     int32\n",
       "col_2     int32\n",
       "col_3     int32\n",
       "col_4     int32\n",
       "col_5     int32\n",
       "col_6     int32\n",
       "col_7     int32\n",
       "col_8     int32\n",
       "col_9     int32\n",
       "col_10    int32\n",
       "dtype: object"
      ]
     },
     "execution_count": 20,
     "metadata": {},
     "output_type": "execute_result"
    }
   ],
   "source": [
    "df.dtypes"
   ]
  },
  {
   "cell_type": "code",
   "execution_count": 21,
   "id": "b12809b0",
   "metadata": {},
   "outputs": [
    {
     "data": {
      "text/plain": [
       "row_1       2\n",
       "row_2      12\n",
       "row_3      22\n",
       "row_4      32\n",
       "row_5      42\n",
       "row_6      52\n",
       "row_7      62\n",
       "row_8      72\n",
       "row_9      82\n",
       "row_10     92\n",
       "row_11    102\n",
       "row_12    112\n",
       "row_13    122\n",
       "row_14    132\n",
       "row_15    142\n",
       "row_16    152\n",
       "row_17    162\n",
       "row_18    172\n",
       "row_19    182\n",
       "row_20    192\n",
       "row_21    202\n",
       "row_22    212\n",
       "row_23    222\n",
       "row_24    232\n",
       "row_25    242\n",
       "row_26    252\n",
       "row_27    262\n",
       "row_28    272\n",
       "row_29    282\n",
       "row_30    292\n",
       "row_31    302\n",
       "row_32    312\n",
       "row_33    322\n",
       "row_34    332\n",
       "row_35    342\n",
       "row_36    352\n",
       "row_37    362\n",
       "row_38    372\n",
       "row_39    382\n",
       "row_40    392\n",
       "row_41    402\n",
       "row_42    412\n",
       "row_43    422\n",
       "row_44    432\n",
       "row_45    442\n",
       "row_46    452\n",
       "row_47    462\n",
       "row_48    472\n",
       "row_49    482\n",
       "row_50    492\n",
       "Name: col_2, dtype: int32"
      ]
     },
     "execution_count": 21,
     "metadata": {},
     "output_type": "execute_result"
    }
   ],
   "source": [
    "df.col_2"
   ]
  },
  {
   "cell_type": "code",
   "execution_count": 22,
   "id": "ae445737",
   "metadata": {},
   "outputs": [
    {
     "data": {
      "text/plain": [
       "row_1       2\n",
       "row_2      12\n",
       "row_3      22\n",
       "row_4      32\n",
       "row_5      42\n",
       "row_6      52\n",
       "row_7      62\n",
       "row_8      72\n",
       "row_9      82\n",
       "row_10     92\n",
       "row_11    102\n",
       "row_12    112\n",
       "row_13    122\n",
       "row_14    132\n",
       "row_15    142\n",
       "row_16    152\n",
       "row_17    162\n",
       "row_18    172\n",
       "row_19    182\n",
       "row_20    192\n",
       "row_21    202\n",
       "row_22    212\n",
       "row_23    222\n",
       "row_24    232\n",
       "row_25    242\n",
       "row_26    252\n",
       "row_27    262\n",
       "row_28    272\n",
       "row_29    282\n",
       "row_30    292\n",
       "row_31    302\n",
       "row_32    312\n",
       "row_33    322\n",
       "row_34    332\n",
       "row_35    342\n",
       "row_36    352\n",
       "row_37    362\n",
       "row_38    372\n",
       "row_39    382\n",
       "row_40    392\n",
       "row_41    402\n",
       "row_42    412\n",
       "row_43    422\n",
       "row_44    432\n",
       "row_45    442\n",
       "row_46    452\n",
       "row_47    462\n",
       "row_48    472\n",
       "row_49    482\n",
       "row_50    492\n",
       "Name: col_2, dtype: int32"
      ]
     },
     "execution_count": 22,
     "metadata": {},
     "output_type": "execute_result"
    }
   ],
   "source": [
    "df['col_2']"
   ]
  },
  {
   "cell_type": "code",
   "execution_count": 23,
   "id": "43ed8ea8",
   "metadata": {},
   "outputs": [
    {
     "data": {
      "text/html": [
       "<div>\n",
       "<style scoped>\n",
       "    .dataframe tbody tr th:only-of-type {\n",
       "        vertical-align: middle;\n",
       "    }\n",
       "\n",
       "    .dataframe tbody tr th {\n",
       "        vertical-align: top;\n",
       "    }\n",
       "\n",
       "    .dataframe thead th {\n",
       "        text-align: right;\n",
       "    }\n",
       "</style>\n",
       "<table border=\"1\" class=\"dataframe\">\n",
       "  <thead>\n",
       "    <tr style=\"text-align: right;\">\n",
       "      <th></th>\n",
       "      <th>col_2</th>\n",
       "    </tr>\n",
       "  </thead>\n",
       "  <tbody>\n",
       "    <tr>\n",
       "      <th>row_1</th>\n",
       "      <td>2</td>\n",
       "    </tr>\n",
       "    <tr>\n",
       "      <th>row_2</th>\n",
       "      <td>12</td>\n",
       "    </tr>\n",
       "    <tr>\n",
       "      <th>row_3</th>\n",
       "      <td>22</td>\n",
       "    </tr>\n",
       "    <tr>\n",
       "      <th>row_4</th>\n",
       "      <td>32</td>\n",
       "    </tr>\n",
       "    <tr>\n",
       "      <th>row_5</th>\n",
       "      <td>42</td>\n",
       "    </tr>\n",
       "    <tr>\n",
       "      <th>row_6</th>\n",
       "      <td>52</td>\n",
       "    </tr>\n",
       "    <tr>\n",
       "      <th>row_7</th>\n",
       "      <td>62</td>\n",
       "    </tr>\n",
       "    <tr>\n",
       "      <th>row_8</th>\n",
       "      <td>72</td>\n",
       "    </tr>\n",
       "    <tr>\n",
       "      <th>row_9</th>\n",
       "      <td>82</td>\n",
       "    </tr>\n",
       "    <tr>\n",
       "      <th>row_10</th>\n",
       "      <td>92</td>\n",
       "    </tr>\n",
       "    <tr>\n",
       "      <th>row_11</th>\n",
       "      <td>102</td>\n",
       "    </tr>\n",
       "    <tr>\n",
       "      <th>row_12</th>\n",
       "      <td>112</td>\n",
       "    </tr>\n",
       "    <tr>\n",
       "      <th>row_13</th>\n",
       "      <td>122</td>\n",
       "    </tr>\n",
       "    <tr>\n",
       "      <th>row_14</th>\n",
       "      <td>132</td>\n",
       "    </tr>\n",
       "    <tr>\n",
       "      <th>row_15</th>\n",
       "      <td>142</td>\n",
       "    </tr>\n",
       "    <tr>\n",
       "      <th>row_16</th>\n",
       "      <td>152</td>\n",
       "    </tr>\n",
       "    <tr>\n",
       "      <th>row_17</th>\n",
       "      <td>162</td>\n",
       "    </tr>\n",
       "    <tr>\n",
       "      <th>row_18</th>\n",
       "      <td>172</td>\n",
       "    </tr>\n",
       "    <tr>\n",
       "      <th>row_19</th>\n",
       "      <td>182</td>\n",
       "    </tr>\n",
       "    <tr>\n",
       "      <th>row_20</th>\n",
       "      <td>192</td>\n",
       "    </tr>\n",
       "    <tr>\n",
       "      <th>row_21</th>\n",
       "      <td>202</td>\n",
       "    </tr>\n",
       "    <tr>\n",
       "      <th>row_22</th>\n",
       "      <td>212</td>\n",
       "    </tr>\n",
       "    <tr>\n",
       "      <th>row_23</th>\n",
       "      <td>222</td>\n",
       "    </tr>\n",
       "    <tr>\n",
       "      <th>row_24</th>\n",
       "      <td>232</td>\n",
       "    </tr>\n",
       "    <tr>\n",
       "      <th>row_25</th>\n",
       "      <td>242</td>\n",
       "    </tr>\n",
       "    <tr>\n",
       "      <th>row_26</th>\n",
       "      <td>252</td>\n",
       "    </tr>\n",
       "    <tr>\n",
       "      <th>row_27</th>\n",
       "      <td>262</td>\n",
       "    </tr>\n",
       "    <tr>\n",
       "      <th>row_28</th>\n",
       "      <td>272</td>\n",
       "    </tr>\n",
       "    <tr>\n",
       "      <th>row_29</th>\n",
       "      <td>282</td>\n",
       "    </tr>\n",
       "    <tr>\n",
       "      <th>row_30</th>\n",
       "      <td>292</td>\n",
       "    </tr>\n",
       "    <tr>\n",
       "      <th>row_31</th>\n",
       "      <td>302</td>\n",
       "    </tr>\n",
       "    <tr>\n",
       "      <th>row_32</th>\n",
       "      <td>312</td>\n",
       "    </tr>\n",
       "    <tr>\n",
       "      <th>row_33</th>\n",
       "      <td>322</td>\n",
       "    </tr>\n",
       "    <tr>\n",
       "      <th>row_34</th>\n",
       "      <td>332</td>\n",
       "    </tr>\n",
       "    <tr>\n",
       "      <th>row_35</th>\n",
       "      <td>342</td>\n",
       "    </tr>\n",
       "    <tr>\n",
       "      <th>row_36</th>\n",
       "      <td>352</td>\n",
       "    </tr>\n",
       "    <tr>\n",
       "      <th>row_37</th>\n",
       "      <td>362</td>\n",
       "    </tr>\n",
       "    <tr>\n",
       "      <th>row_38</th>\n",
       "      <td>372</td>\n",
       "    </tr>\n",
       "    <tr>\n",
       "      <th>row_39</th>\n",
       "      <td>382</td>\n",
       "    </tr>\n",
       "    <tr>\n",
       "      <th>row_40</th>\n",
       "      <td>392</td>\n",
       "    </tr>\n",
       "    <tr>\n",
       "      <th>row_41</th>\n",
       "      <td>402</td>\n",
       "    </tr>\n",
       "    <tr>\n",
       "      <th>row_42</th>\n",
       "      <td>412</td>\n",
       "    </tr>\n",
       "    <tr>\n",
       "      <th>row_43</th>\n",
       "      <td>422</td>\n",
       "    </tr>\n",
       "    <tr>\n",
       "      <th>row_44</th>\n",
       "      <td>432</td>\n",
       "    </tr>\n",
       "    <tr>\n",
       "      <th>row_45</th>\n",
       "      <td>442</td>\n",
       "    </tr>\n",
       "    <tr>\n",
       "      <th>row_46</th>\n",
       "      <td>452</td>\n",
       "    </tr>\n",
       "    <tr>\n",
       "      <th>row_47</th>\n",
       "      <td>462</td>\n",
       "    </tr>\n",
       "    <tr>\n",
       "      <th>row_48</th>\n",
       "      <td>472</td>\n",
       "    </tr>\n",
       "    <tr>\n",
       "      <th>row_49</th>\n",
       "      <td>482</td>\n",
       "    </tr>\n",
       "    <tr>\n",
       "      <th>row_50</th>\n",
       "      <td>492</td>\n",
       "    </tr>\n",
       "  </tbody>\n",
       "</table>\n",
       "</div>"
      ],
      "text/plain": [
       "        col_2\n",
       "row_1       2\n",
       "row_2      12\n",
       "row_3      22\n",
       "row_4      32\n",
       "row_5      42\n",
       "row_6      52\n",
       "row_7      62\n",
       "row_8      72\n",
       "row_9      82\n",
       "row_10     92\n",
       "row_11    102\n",
       "row_12    112\n",
       "row_13    122\n",
       "row_14    132\n",
       "row_15    142\n",
       "row_16    152\n",
       "row_17    162\n",
       "row_18    172\n",
       "row_19    182\n",
       "row_20    192\n",
       "row_21    202\n",
       "row_22    212\n",
       "row_23    222\n",
       "row_24    232\n",
       "row_25    242\n",
       "row_26    252\n",
       "row_27    262\n",
       "row_28    272\n",
       "row_29    282\n",
       "row_30    292\n",
       "row_31    302\n",
       "row_32    312\n",
       "row_33    322\n",
       "row_34    332\n",
       "row_35    342\n",
       "row_36    352\n",
       "row_37    362\n",
       "row_38    372\n",
       "row_39    382\n",
       "row_40    392\n",
       "row_41    402\n",
       "row_42    412\n",
       "row_43    422\n",
       "row_44    432\n",
       "row_45    442\n",
       "row_46    452\n",
       "row_47    462\n",
       "row_48    472\n",
       "row_49    482\n",
       "row_50    492"
      ]
     },
     "execution_count": 23,
     "metadata": {},
     "output_type": "execute_result"
    }
   ],
   "source": [
    "df[['col_2']]"
   ]
  },
  {
   "cell_type": "code",
   "execution_count": 25,
   "id": "1e8357b6",
   "metadata": {},
   "outputs": [
    {
     "data": {
      "text/html": [
       "<div>\n",
       "<style scoped>\n",
       "    .dataframe tbody tr th:only-of-type {\n",
       "        vertical-align: middle;\n",
       "    }\n",
       "\n",
       "    .dataframe tbody tr th {\n",
       "        vertical-align: top;\n",
       "    }\n",
       "\n",
       "    .dataframe thead th {\n",
       "        text-align: right;\n",
       "    }\n",
       "</style>\n",
       "<table border=\"1\" class=\"dataframe\">\n",
       "  <thead>\n",
       "    <tr style=\"text-align: right;\">\n",
       "      <th></th>\n",
       "      <th>col_2</th>\n",
       "      <th>col_3</th>\n",
       "    </tr>\n",
       "  </thead>\n",
       "  <tbody>\n",
       "    <tr>\n",
       "      <th>row_1</th>\n",
       "      <td>2</td>\n",
       "      <td>3</td>\n",
       "    </tr>\n",
       "    <tr>\n",
       "      <th>row_2</th>\n",
       "      <td>12</td>\n",
       "      <td>13</td>\n",
       "    </tr>\n",
       "    <tr>\n",
       "      <th>row_3</th>\n",
       "      <td>22</td>\n",
       "      <td>23</td>\n",
       "    </tr>\n",
       "    <tr>\n",
       "      <th>row_4</th>\n",
       "      <td>32</td>\n",
       "      <td>33</td>\n",
       "    </tr>\n",
       "    <tr>\n",
       "      <th>row_5</th>\n",
       "      <td>42</td>\n",
       "      <td>43</td>\n",
       "    </tr>\n",
       "    <tr>\n",
       "      <th>row_6</th>\n",
       "      <td>52</td>\n",
       "      <td>53</td>\n",
       "    </tr>\n",
       "    <tr>\n",
       "      <th>row_7</th>\n",
       "      <td>62</td>\n",
       "      <td>63</td>\n",
       "    </tr>\n",
       "    <tr>\n",
       "      <th>row_8</th>\n",
       "      <td>72</td>\n",
       "      <td>73</td>\n",
       "    </tr>\n",
       "    <tr>\n",
       "      <th>row_9</th>\n",
       "      <td>82</td>\n",
       "      <td>83</td>\n",
       "    </tr>\n",
       "    <tr>\n",
       "      <th>row_10</th>\n",
       "      <td>92</td>\n",
       "      <td>93</td>\n",
       "    </tr>\n",
       "    <tr>\n",
       "      <th>row_11</th>\n",
       "      <td>102</td>\n",
       "      <td>103</td>\n",
       "    </tr>\n",
       "    <tr>\n",
       "      <th>row_12</th>\n",
       "      <td>112</td>\n",
       "      <td>113</td>\n",
       "    </tr>\n",
       "    <tr>\n",
       "      <th>row_13</th>\n",
       "      <td>122</td>\n",
       "      <td>123</td>\n",
       "    </tr>\n",
       "    <tr>\n",
       "      <th>row_14</th>\n",
       "      <td>132</td>\n",
       "      <td>133</td>\n",
       "    </tr>\n",
       "    <tr>\n",
       "      <th>row_15</th>\n",
       "      <td>142</td>\n",
       "      <td>143</td>\n",
       "    </tr>\n",
       "    <tr>\n",
       "      <th>row_16</th>\n",
       "      <td>152</td>\n",
       "      <td>153</td>\n",
       "    </tr>\n",
       "    <tr>\n",
       "      <th>row_17</th>\n",
       "      <td>162</td>\n",
       "      <td>163</td>\n",
       "    </tr>\n",
       "    <tr>\n",
       "      <th>row_18</th>\n",
       "      <td>172</td>\n",
       "      <td>173</td>\n",
       "    </tr>\n",
       "    <tr>\n",
       "      <th>row_19</th>\n",
       "      <td>182</td>\n",
       "      <td>183</td>\n",
       "    </tr>\n",
       "    <tr>\n",
       "      <th>row_20</th>\n",
       "      <td>192</td>\n",
       "      <td>193</td>\n",
       "    </tr>\n",
       "    <tr>\n",
       "      <th>row_21</th>\n",
       "      <td>202</td>\n",
       "      <td>203</td>\n",
       "    </tr>\n",
       "    <tr>\n",
       "      <th>row_22</th>\n",
       "      <td>212</td>\n",
       "      <td>213</td>\n",
       "    </tr>\n",
       "    <tr>\n",
       "      <th>row_23</th>\n",
       "      <td>222</td>\n",
       "      <td>223</td>\n",
       "    </tr>\n",
       "    <tr>\n",
       "      <th>row_24</th>\n",
       "      <td>232</td>\n",
       "      <td>233</td>\n",
       "    </tr>\n",
       "    <tr>\n",
       "      <th>row_25</th>\n",
       "      <td>242</td>\n",
       "      <td>243</td>\n",
       "    </tr>\n",
       "    <tr>\n",
       "      <th>row_26</th>\n",
       "      <td>252</td>\n",
       "      <td>253</td>\n",
       "    </tr>\n",
       "    <tr>\n",
       "      <th>row_27</th>\n",
       "      <td>262</td>\n",
       "      <td>263</td>\n",
       "    </tr>\n",
       "    <tr>\n",
       "      <th>row_28</th>\n",
       "      <td>272</td>\n",
       "      <td>273</td>\n",
       "    </tr>\n",
       "    <tr>\n",
       "      <th>row_29</th>\n",
       "      <td>282</td>\n",
       "      <td>283</td>\n",
       "    </tr>\n",
       "    <tr>\n",
       "      <th>row_30</th>\n",
       "      <td>292</td>\n",
       "      <td>293</td>\n",
       "    </tr>\n",
       "    <tr>\n",
       "      <th>row_31</th>\n",
       "      <td>302</td>\n",
       "      <td>303</td>\n",
       "    </tr>\n",
       "    <tr>\n",
       "      <th>row_32</th>\n",
       "      <td>312</td>\n",
       "      <td>313</td>\n",
       "    </tr>\n",
       "    <tr>\n",
       "      <th>row_33</th>\n",
       "      <td>322</td>\n",
       "      <td>323</td>\n",
       "    </tr>\n",
       "    <tr>\n",
       "      <th>row_34</th>\n",
       "      <td>332</td>\n",
       "      <td>333</td>\n",
       "    </tr>\n",
       "    <tr>\n",
       "      <th>row_35</th>\n",
       "      <td>342</td>\n",
       "      <td>343</td>\n",
       "    </tr>\n",
       "    <tr>\n",
       "      <th>row_36</th>\n",
       "      <td>352</td>\n",
       "      <td>353</td>\n",
       "    </tr>\n",
       "    <tr>\n",
       "      <th>row_37</th>\n",
       "      <td>362</td>\n",
       "      <td>363</td>\n",
       "    </tr>\n",
       "    <tr>\n",
       "      <th>row_38</th>\n",
       "      <td>372</td>\n",
       "      <td>373</td>\n",
       "    </tr>\n",
       "    <tr>\n",
       "      <th>row_39</th>\n",
       "      <td>382</td>\n",
       "      <td>383</td>\n",
       "    </tr>\n",
       "    <tr>\n",
       "      <th>row_40</th>\n",
       "      <td>392</td>\n",
       "      <td>393</td>\n",
       "    </tr>\n",
       "    <tr>\n",
       "      <th>row_41</th>\n",
       "      <td>402</td>\n",
       "      <td>403</td>\n",
       "    </tr>\n",
       "    <tr>\n",
       "      <th>row_42</th>\n",
       "      <td>412</td>\n",
       "      <td>413</td>\n",
       "    </tr>\n",
       "    <tr>\n",
       "      <th>row_43</th>\n",
       "      <td>422</td>\n",
       "      <td>423</td>\n",
       "    </tr>\n",
       "    <tr>\n",
       "      <th>row_44</th>\n",
       "      <td>432</td>\n",
       "      <td>433</td>\n",
       "    </tr>\n",
       "    <tr>\n",
       "      <th>row_45</th>\n",
       "      <td>442</td>\n",
       "      <td>443</td>\n",
       "    </tr>\n",
       "    <tr>\n",
       "      <th>row_46</th>\n",
       "      <td>452</td>\n",
       "      <td>453</td>\n",
       "    </tr>\n",
       "    <tr>\n",
       "      <th>row_47</th>\n",
       "      <td>462</td>\n",
       "      <td>463</td>\n",
       "    </tr>\n",
       "    <tr>\n",
       "      <th>row_48</th>\n",
       "      <td>472</td>\n",
       "      <td>473</td>\n",
       "    </tr>\n",
       "    <tr>\n",
       "      <th>row_49</th>\n",
       "      <td>482</td>\n",
       "      <td>483</td>\n",
       "    </tr>\n",
       "    <tr>\n",
       "      <th>row_50</th>\n",
       "      <td>492</td>\n",
       "      <td>493</td>\n",
       "    </tr>\n",
       "  </tbody>\n",
       "</table>\n",
       "</div>"
      ],
      "text/plain": [
       "        col_2  col_3\n",
       "row_1       2      3\n",
       "row_2      12     13\n",
       "row_3      22     23\n",
       "row_4      32     33\n",
       "row_5      42     43\n",
       "row_6      52     53\n",
       "row_7      62     63\n",
       "row_8      72     73\n",
       "row_9      82     83\n",
       "row_10     92     93\n",
       "row_11    102    103\n",
       "row_12    112    113\n",
       "row_13    122    123\n",
       "row_14    132    133\n",
       "row_15    142    143\n",
       "row_16    152    153\n",
       "row_17    162    163\n",
       "row_18    172    173\n",
       "row_19    182    183\n",
       "row_20    192    193\n",
       "row_21    202    203\n",
       "row_22    212    213\n",
       "row_23    222    223\n",
       "row_24    232    233\n",
       "row_25    242    243\n",
       "row_26    252    253\n",
       "row_27    262    263\n",
       "row_28    272    273\n",
       "row_29    282    283\n",
       "row_30    292    293\n",
       "row_31    302    303\n",
       "row_32    312    313\n",
       "row_33    322    323\n",
       "row_34    332    333\n",
       "row_35    342    343\n",
       "row_36    352    353\n",
       "row_37    362    363\n",
       "row_38    372    373\n",
       "row_39    382    383\n",
       "row_40    392    393\n",
       "row_41    402    403\n",
       "row_42    412    413\n",
       "row_43    422    423\n",
       "row_44    432    433\n",
       "row_45    442    443\n",
       "row_46    452    453\n",
       "row_47    462    463\n",
       "row_48    472    473\n",
       "row_49    482    483\n",
       "row_50    492    493"
      ]
     },
     "execution_count": 25,
     "metadata": {},
     "output_type": "execute_result"
    }
   ],
   "source": [
    "df[['col_2','col_3']]"
   ]
  },
  {
   "cell_type": "code",
   "execution_count": 26,
   "id": "b8033a9c",
   "metadata": {},
   "outputs": [
    {
     "data": {
      "text/plain": [
       "col_2    12350\n",
       "col_3    12400\n",
       "dtype: int64"
      ]
     },
     "execution_count": 26,
     "metadata": {},
     "output_type": "execute_result"
    }
   ],
   "source": [
    "df[['col_2','col_3']].sum()"
   ]
  },
  {
   "cell_type": "code",
   "execution_count": 27,
   "id": "700faa9c",
   "metadata": {},
   "outputs": [
    {
     "data": {
      "text/plain": [
       "12300"
      ]
     },
     "execution_count": 27,
     "metadata": {},
     "output_type": "execute_result"
    }
   ],
   "source": [
    "df.col_1.sum()        #this is bad habbit"
   ]
  },
  {
   "cell_type": "code",
   "execution_count": 28,
   "id": "6e56800d",
   "metadata": {},
   "outputs": [
    {
     "data": {
      "text/html": [
       "<div>\n",
       "<style scoped>\n",
       "    .dataframe tbody tr th:only-of-type {\n",
       "        vertical-align: middle;\n",
       "    }\n",
       "\n",
       "    .dataframe tbody tr th {\n",
       "        vertical-align: top;\n",
       "    }\n",
       "\n",
       "    .dataframe thead th {\n",
       "        text-align: right;\n",
       "    }\n",
       "</style>\n",
       "<table border=\"1\" class=\"dataframe\">\n",
       "  <thead>\n",
       "    <tr style=\"text-align: right;\">\n",
       "      <th></th>\n",
       "      <th>col_1</th>\n",
       "      <th>col_2</th>\n",
       "      <th>col_3</th>\n",
       "      <th>col_4</th>\n",
       "      <th>col_5</th>\n",
       "      <th>col_6</th>\n",
       "      <th>col_7</th>\n",
       "      <th>col_8</th>\n",
       "      <th>col_9</th>\n",
       "      <th>col_10</th>\n",
       "    </tr>\n",
       "  </thead>\n",
       "  <tbody>\n",
       "    <tr>\n",
       "      <th>row_1</th>\n",
       "      <td>1</td>\n",
       "      <td>2</td>\n",
       "      <td>3</td>\n",
       "      <td>4</td>\n",
       "      <td>5</td>\n",
       "      <td>6</td>\n",
       "      <td>7</td>\n",
       "      <td>8</td>\n",
       "      <td>9</td>\n",
       "      <td>10</td>\n",
       "    </tr>\n",
       "    <tr>\n",
       "      <th>row_2</th>\n",
       "      <td>11</td>\n",
       "      <td>12</td>\n",
       "      <td>13</td>\n",
       "      <td>14</td>\n",
       "      <td>15</td>\n",
       "      <td>16</td>\n",
       "      <td>17</td>\n",
       "      <td>18</td>\n",
       "      <td>19</td>\n",
       "      <td>20</td>\n",
       "    </tr>\n",
       "    <tr>\n",
       "      <th>row_3</th>\n",
       "      <td>21</td>\n",
       "      <td>22</td>\n",
       "      <td>23</td>\n",
       "      <td>24</td>\n",
       "      <td>25</td>\n",
       "      <td>26</td>\n",
       "      <td>27</td>\n",
       "      <td>28</td>\n",
       "      <td>29</td>\n",
       "      <td>30</td>\n",
       "    </tr>\n",
       "    <tr>\n",
       "      <th>row_4</th>\n",
       "      <td>31</td>\n",
       "      <td>32</td>\n",
       "      <td>33</td>\n",
       "      <td>34</td>\n",
       "      <td>35</td>\n",
       "      <td>36</td>\n",
       "      <td>37</td>\n",
       "      <td>38</td>\n",
       "      <td>39</td>\n",
       "      <td>40</td>\n",
       "    </tr>\n",
       "    <tr>\n",
       "      <th>row_5</th>\n",
       "      <td>41</td>\n",
       "      <td>42</td>\n",
       "      <td>43</td>\n",
       "      <td>44</td>\n",
       "      <td>45</td>\n",
       "      <td>46</td>\n",
       "      <td>47</td>\n",
       "      <td>48</td>\n",
       "      <td>49</td>\n",
       "      <td>50</td>\n",
       "    </tr>\n",
       "  </tbody>\n",
       "</table>\n",
       "</div>"
      ],
      "text/plain": [
       "       col_1  col_2  col_3  col_4  col_5  col_6  col_7  col_8  col_9  col_10\n",
       "row_1      1      2      3      4      5      6      7      8      9      10\n",
       "row_2     11     12     13     14     15     16     17     18     19      20\n",
       "row_3     21     22     23     24     25     26     27     28     29      30\n",
       "row_4     31     32     33     34     35     36     37     38     39      40\n",
       "row_5     41     42     43     44     45     46     47     48     49      50"
      ]
     },
     "execution_count": 28,
     "metadata": {},
     "output_type": "execute_result"
    }
   ],
   "source": [
    "df.head()"
   ]
  },
  {
   "cell_type": "code",
   "execution_count": 30,
   "id": "74155dd3",
   "metadata": {},
   "outputs": [
    {
     "data": {
      "text/html": [
       "<div>\n",
       "<style scoped>\n",
       "    .dataframe tbody tr th:only-of-type {\n",
       "        vertical-align: middle;\n",
       "    }\n",
       "\n",
       "    .dataframe tbody tr th {\n",
       "        vertical-align: top;\n",
       "    }\n",
       "\n",
       "    .dataframe thead th {\n",
       "        text-align: right;\n",
       "    }\n",
       "</style>\n",
       "<table border=\"1\" class=\"dataframe\">\n",
       "  <thead>\n",
       "    <tr style=\"text-align: right;\">\n",
       "      <th></th>\n",
       "      <th>col_1</th>\n",
       "      <th>col_2</th>\n",
       "      <th>col_3</th>\n",
       "      <th>col_4</th>\n",
       "      <th>col_5</th>\n",
       "      <th>col_6</th>\n",
       "      <th>col_7</th>\n",
       "      <th>col_8</th>\n",
       "      <th>col_9</th>\n",
       "      <th>col_10</th>\n",
       "    </tr>\n",
       "  </thead>\n",
       "  <tbody>\n",
       "    <tr>\n",
       "      <th>row_1</th>\n",
       "      <td>1</td>\n",
       "      <td>2</td>\n",
       "      <td>3</td>\n",
       "      <td>4</td>\n",
       "      <td>5</td>\n",
       "      <td>6</td>\n",
       "      <td>7</td>\n",
       "      <td>8</td>\n",
       "      <td>9</td>\n",
       "      <td>10</td>\n",
       "    </tr>\n",
       "  </tbody>\n",
       "</table>\n",
       "</div>"
      ],
      "text/plain": [
       "       col_1  col_2  col_3  col_4  col_5  col_6  col_7  col_8  col_9  col_10\n",
       "row_1      1      2      3      4      5      6      7      8      9      10"
      ]
     },
     "execution_count": 30,
     "metadata": {},
     "output_type": "execute_result"
    }
   ],
   "source": [
    "df.head(1)"
   ]
  },
  {
   "cell_type": "code",
   "execution_count": 31,
   "id": "18211c47",
   "metadata": {},
   "outputs": [
    {
     "data": {
      "text/html": [
       "<div>\n",
       "<style scoped>\n",
       "    .dataframe tbody tr th:only-of-type {\n",
       "        vertical-align: middle;\n",
       "    }\n",
       "\n",
       "    .dataframe tbody tr th {\n",
       "        vertical-align: top;\n",
       "    }\n",
       "\n",
       "    .dataframe thead th {\n",
       "        text-align: right;\n",
       "    }\n",
       "</style>\n",
       "<table border=\"1\" class=\"dataframe\">\n",
       "  <thead>\n",
       "    <tr style=\"text-align: right;\">\n",
       "      <th></th>\n",
       "      <th>col_1</th>\n",
       "      <th>col_2</th>\n",
       "      <th>col_3</th>\n",
       "      <th>col_4</th>\n",
       "      <th>col_5</th>\n",
       "      <th>col_6</th>\n",
       "      <th>col_7</th>\n",
       "      <th>col_8</th>\n",
       "      <th>col_9</th>\n",
       "      <th>col_10</th>\n",
       "    </tr>\n",
       "  </thead>\n",
       "  <tbody>\n",
       "    <tr>\n",
       "      <th>row_1</th>\n",
       "      <td>1</td>\n",
       "      <td>2</td>\n",
       "      <td>3</td>\n",
       "      <td>4</td>\n",
       "      <td>5</td>\n",
       "      <td>6</td>\n",
       "      <td>7</td>\n",
       "      <td>8</td>\n",
       "      <td>9</td>\n",
       "      <td>10</td>\n",
       "    </tr>\n",
       "    <tr>\n",
       "      <th>row_2</th>\n",
       "      <td>11</td>\n",
       "      <td>12</td>\n",
       "      <td>13</td>\n",
       "      <td>14</td>\n",
       "      <td>15</td>\n",
       "      <td>16</td>\n",
       "      <td>17</td>\n",
       "      <td>18</td>\n",
       "      <td>19</td>\n",
       "      <td>20</td>\n",
       "    </tr>\n",
       "  </tbody>\n",
       "</table>\n",
       "</div>"
      ],
      "text/plain": [
       "       col_1  col_2  col_3  col_4  col_5  col_6  col_7  col_8  col_9  col_10\n",
       "row_1      1      2      3      4      5      6      7      8      9      10\n",
       "row_2     11     12     13     14     15     16     17     18     19      20"
      ]
     },
     "execution_count": 31,
     "metadata": {},
     "output_type": "execute_result"
    }
   ],
   "source": [
    "df.head(2)"
   ]
  },
  {
   "cell_type": "code",
   "execution_count": 36,
   "id": "2c72c095",
   "metadata": {},
   "outputs": [
    {
     "data": {
      "text/html": [
       "<div>\n",
       "<style scoped>\n",
       "    .dataframe tbody tr th:only-of-type {\n",
       "        vertical-align: middle;\n",
       "    }\n",
       "\n",
       "    .dataframe tbody tr th {\n",
       "        vertical-align: top;\n",
       "    }\n",
       "\n",
       "    .dataframe thead th {\n",
       "        text-align: right;\n",
       "    }\n",
       "</style>\n",
       "<table border=\"1\" class=\"dataframe\">\n",
       "  <thead>\n",
       "    <tr style=\"text-align: right;\">\n",
       "      <th></th>\n",
       "      <th>col_1</th>\n",
       "      <th>col_2</th>\n",
       "      <th>col_3</th>\n",
       "      <th>col_4</th>\n",
       "      <th>col_5</th>\n",
       "      <th>col_6</th>\n",
       "      <th>col_7</th>\n",
       "      <th>col_8</th>\n",
       "      <th>col_9</th>\n",
       "      <th>col_10</th>\n",
       "    </tr>\n",
       "  </thead>\n",
       "  <tbody>\n",
       "    <tr>\n",
       "      <th>count</th>\n",
       "      <td>50.000000</td>\n",
       "      <td>50.000000</td>\n",
       "      <td>50.000000</td>\n",
       "      <td>50.000000</td>\n",
       "      <td>50.000000</td>\n",
       "      <td>50.000000</td>\n",
       "      <td>50.000000</td>\n",
       "      <td>50.000000</td>\n",
       "      <td>50.000000</td>\n",
       "      <td>50.000000</td>\n",
       "    </tr>\n",
       "    <tr>\n",
       "      <th>mean</th>\n",
       "      <td>246.000000</td>\n",
       "      <td>247.000000</td>\n",
       "      <td>248.000000</td>\n",
       "      <td>249.000000</td>\n",
       "      <td>250.000000</td>\n",
       "      <td>251.000000</td>\n",
       "      <td>252.000000</td>\n",
       "      <td>253.000000</td>\n",
       "      <td>254.000000</td>\n",
       "      <td>255.000000</td>\n",
       "    </tr>\n",
       "    <tr>\n",
       "      <th>std</th>\n",
       "      <td>145.773797</td>\n",
       "      <td>145.773797</td>\n",
       "      <td>145.773797</td>\n",
       "      <td>145.773797</td>\n",
       "      <td>145.773797</td>\n",
       "      <td>145.773797</td>\n",
       "      <td>145.773797</td>\n",
       "      <td>145.773797</td>\n",
       "      <td>145.773797</td>\n",
       "      <td>145.773797</td>\n",
       "    </tr>\n",
       "    <tr>\n",
       "      <th>min</th>\n",
       "      <td>1.000000</td>\n",
       "      <td>2.000000</td>\n",
       "      <td>3.000000</td>\n",
       "      <td>4.000000</td>\n",
       "      <td>5.000000</td>\n",
       "      <td>6.000000</td>\n",
       "      <td>7.000000</td>\n",
       "      <td>8.000000</td>\n",
       "      <td>9.000000</td>\n",
       "      <td>10.000000</td>\n",
       "    </tr>\n",
       "    <tr>\n",
       "      <th>25%</th>\n",
       "      <td>123.500000</td>\n",
       "      <td>124.500000</td>\n",
       "      <td>125.500000</td>\n",
       "      <td>126.500000</td>\n",
       "      <td>127.500000</td>\n",
       "      <td>128.500000</td>\n",
       "      <td>129.500000</td>\n",
       "      <td>130.500000</td>\n",
       "      <td>131.500000</td>\n",
       "      <td>132.500000</td>\n",
       "    </tr>\n",
       "    <tr>\n",
       "      <th>50%</th>\n",
       "      <td>246.000000</td>\n",
       "      <td>247.000000</td>\n",
       "      <td>248.000000</td>\n",
       "      <td>249.000000</td>\n",
       "      <td>250.000000</td>\n",
       "      <td>251.000000</td>\n",
       "      <td>252.000000</td>\n",
       "      <td>253.000000</td>\n",
       "      <td>254.000000</td>\n",
       "      <td>255.000000</td>\n",
       "    </tr>\n",
       "    <tr>\n",
       "      <th>75%</th>\n",
       "      <td>368.500000</td>\n",
       "      <td>369.500000</td>\n",
       "      <td>370.500000</td>\n",
       "      <td>371.500000</td>\n",
       "      <td>372.500000</td>\n",
       "      <td>373.500000</td>\n",
       "      <td>374.500000</td>\n",
       "      <td>375.500000</td>\n",
       "      <td>376.500000</td>\n",
       "      <td>377.500000</td>\n",
       "    </tr>\n",
       "    <tr>\n",
       "      <th>max</th>\n",
       "      <td>491.000000</td>\n",
       "      <td>492.000000</td>\n",
       "      <td>493.000000</td>\n",
       "      <td>494.000000</td>\n",
       "      <td>495.000000</td>\n",
       "      <td>496.000000</td>\n",
       "      <td>497.000000</td>\n",
       "      <td>498.000000</td>\n",
       "      <td>499.000000</td>\n",
       "      <td>500.000000</td>\n",
       "    </tr>\n",
       "  </tbody>\n",
       "</table>\n",
       "</div>"
      ],
      "text/plain": [
       "            col_1       col_2       col_3       col_4       col_5       col_6  \\\n",
       "count   50.000000   50.000000   50.000000   50.000000   50.000000   50.000000   \n",
       "mean   246.000000  247.000000  248.000000  249.000000  250.000000  251.000000   \n",
       "std    145.773797  145.773797  145.773797  145.773797  145.773797  145.773797   \n",
       "min      1.000000    2.000000    3.000000    4.000000    5.000000    6.000000   \n",
       "25%    123.500000  124.500000  125.500000  126.500000  127.500000  128.500000   \n",
       "50%    246.000000  247.000000  248.000000  249.000000  250.000000  251.000000   \n",
       "75%    368.500000  369.500000  370.500000  371.500000  372.500000  373.500000   \n",
       "max    491.000000  492.000000  493.000000  494.000000  495.000000  496.000000   \n",
       "\n",
       "            col_7       col_8       col_9      col_10  \n",
       "count   50.000000   50.000000   50.000000   50.000000  \n",
       "mean   252.000000  253.000000  254.000000  255.000000  \n",
       "std    145.773797  145.773797  145.773797  145.773797  \n",
       "min      7.000000    8.000000    9.000000   10.000000  \n",
       "25%    129.500000  130.500000  131.500000  132.500000  \n",
       "50%    252.000000  253.000000  254.000000  255.000000  \n",
       "75%    374.500000  375.500000  376.500000  377.500000  \n",
       "max    497.000000  498.000000  499.000000  500.000000  "
      ]
     },
     "execution_count": 36,
     "metadata": {},
     "output_type": "execute_result"
    }
   ],
   "source": [
    "df.describe()     #details provide"
   ]
  },
  {
   "cell_type": "code",
   "execution_count": 40,
   "id": "5d137a41",
   "metadata": {},
   "outputs": [
    {
     "data": {
      "text/plain": [
       "col_1     246.0\n",
       "col_2     247.0\n",
       "col_3     248.0\n",
       "col_4     249.0\n",
       "col_5     250.0\n",
       "col_6     251.0\n",
       "col_7     252.0\n",
       "col_8     253.0\n",
       "col_9     254.0\n",
       "col_10    255.0\n",
       "dtype: float64"
      ]
     },
     "execution_count": 40,
     "metadata": {},
     "output_type": "execute_result"
    }
   ],
   "source": [
    "df.mean()       #for average"
   ]
  },
  {
   "cell_type": "code",
   "execution_count": 42,
   "id": "411830d6",
   "metadata": {},
   "outputs": [
    {
     "data": {
      "text/plain": [
       "col_1     145.773797\n",
       "col_2     145.773797\n",
       "col_3     145.773797\n",
       "col_4     145.773797\n",
       "col_5     145.773797\n",
       "col_6     145.773797\n",
       "col_7     145.773797\n",
       "col_8     145.773797\n",
       "col_9     145.773797\n",
       "col_10    145.773797\n",
       "dtype: float64"
      ]
     },
     "execution_count": 42,
     "metadata": {},
     "output_type": "execute_result"
    }
   ],
   "source": [
    "df.std()           #standard value"
   ]
  },
  {
   "cell_type": "code",
   "execution_count": 44,
   "id": "9fd2dd57",
   "metadata": {},
   "outputs": [
    {
     "data": {
      "text/plain": [
       "col_1      1\n",
       "col_2      2\n",
       "col_3      3\n",
       "col_4      4\n",
       "col_5      5\n",
       "col_6      6\n",
       "col_7      7\n",
       "col_8      8\n",
       "col_9      9\n",
       "col_10    10\n",
       "dtype: int32"
      ]
     },
     "execution_count": 44,
     "metadata": {},
     "output_type": "execute_result"
    }
   ],
   "source": [
    "df.min()"
   ]
  },
  {
   "cell_type": "code",
   "execution_count": 45,
   "id": "3c061868",
   "metadata": {},
   "outputs": [
    {
     "data": {
      "text/plain": [
       "col_1     491\n",
       "col_2     492\n",
       "col_3     493\n",
       "col_4     494\n",
       "col_5     495\n",
       "col_6     496\n",
       "col_7     497\n",
       "col_8     498\n",
       "col_9     499\n",
       "col_10    500\n",
       "dtype: int32"
      ]
     },
     "execution_count": 45,
     "metadata": {},
     "output_type": "execute_result"
    }
   ],
   "source": [
    "df.max()"
   ]
  },
  {
   "cell_type": "code",
   "execution_count": 47,
   "id": "e4a9cbc0",
   "metadata": {},
   "outputs": [
    {
     "data": {
      "text/plain": [
       "492"
      ]
     },
     "execution_count": 47,
     "metadata": {},
     "output_type": "execute_result"
    }
   ],
   "source": [
    "df.col_2.max()           #first way"
   ]
  },
  {
   "cell_type": "code",
   "execution_count": 48,
   "id": "d49ea954",
   "metadata": {},
   "outputs": [
    {
     "data": {
      "text/plain": [
       "492"
      ]
     },
     "execution_count": 48,
     "metadata": {},
     "output_type": "execute_result"
    }
   ],
   "source": [
    "df[\"col_2\"].max()           #second way fatch elment"
   ]
  },
  {
   "cell_type": "code",
   "execution_count": 53,
   "id": "335ba21d",
   "metadata": {},
   "outputs": [
    {
     "data": {
      "text/plain": [
       "col_1    491\n",
       "col_2    492\n",
       "dtype: int32"
      ]
     },
     "execution_count": 53,
     "metadata": {},
     "output_type": "execute_result"
    }
   ],
   "source": [
    "df[[\"col_1\",\"col_2\"]].max()"
   ]
  },
  {
   "cell_type": "code",
   "execution_count": 55,
   "id": "28a97c24",
   "metadata": {},
   "outputs": [
    {
     "data": {
      "text/plain": [
       "(50, 10)"
      ]
     },
     "execution_count": 55,
     "metadata": {},
     "output_type": "execute_result"
    }
   ],
   "source": [
    "df.shape       #for chek the shape of datafrmae"
   ]
  },
  {
   "cell_type": "code",
   "execution_count": 56,
   "id": "49456c1c",
   "metadata": {},
   "outputs": [
    {
     "data": {
      "text/plain": [
       "2"
      ]
     },
     "execution_count": 56,
     "metadata": {},
     "output_type": "execute_result"
    }
   ],
   "source": [
    "df.ndim             # chek the dimension in dataframe"
   ]
  },
  {
   "cell_type": "code",
   "execution_count": 54,
   "id": "f33ec528",
   "metadata": {},
   "outputs": [
    {
     "data": {
      "text/html": [
       "<div>\n",
       "<style scoped>\n",
       "    .dataframe tbody tr th:only-of-type {\n",
       "        vertical-align: middle;\n",
       "    }\n",
       "\n",
       "    .dataframe tbody tr th {\n",
       "        vertical-align: top;\n",
       "    }\n",
       "\n",
       "    .dataframe thead th {\n",
       "        text-align: right;\n",
       "    }\n",
       "</style>\n",
       "<table border=\"1\" class=\"dataframe\">\n",
       "  <thead>\n",
       "    <tr style=\"text-align: right;\">\n",
       "      <th></th>\n",
       "      <th>col_1</th>\n",
       "      <th>col_2</th>\n",
       "      <th>col_3</th>\n",
       "      <th>col_4</th>\n",
       "      <th>col_5</th>\n",
       "      <th>col_6</th>\n",
       "      <th>col_7</th>\n",
       "      <th>col_8</th>\n",
       "      <th>col_9</th>\n",
       "      <th>col_10</th>\n",
       "    </tr>\n",
       "  </thead>\n",
       "  <tbody>\n",
       "    <tr>\n",
       "      <th>row_2</th>\n",
       "      <td>11</td>\n",
       "      <td>12</td>\n",
       "      <td>13</td>\n",
       "      <td>14</td>\n",
       "      <td>15</td>\n",
       "      <td>16</td>\n",
       "      <td>17</td>\n",
       "      <td>18</td>\n",
       "      <td>19</td>\n",
       "      <td>20</td>\n",
       "    </tr>\n",
       "  </tbody>\n",
       "</table>\n",
       "</div>"
      ],
      "text/plain": [
       "       col_1  col_2  col_3  col_4  col_5  col_6  col_7  col_8  col_9  col_10\n",
       "row_2     11     12     13     14     15     16     17     18     19      20"
      ]
     },
     "execution_count": 54,
     "metadata": {},
     "output_type": "execute_result"
    }
   ],
   "source": [
    "df[1:2]"
   ]
  },
  {
   "cell_type": "code",
   "execution_count": 59,
   "id": "411947d7",
   "metadata": {},
   "outputs": [
    {
     "data": {
      "text/html": [
       "<div>\n",
       "<style scoped>\n",
       "    .dataframe tbody tr th:only-of-type {\n",
       "        vertical-align: middle;\n",
       "    }\n",
       "\n",
       "    .dataframe tbody tr th {\n",
       "        vertical-align: top;\n",
       "    }\n",
       "\n",
       "    .dataframe thead th {\n",
       "        text-align: right;\n",
       "    }\n",
       "</style>\n",
       "<table border=\"1\" class=\"dataframe\">\n",
       "  <thead>\n",
       "    <tr style=\"text-align: right;\">\n",
       "      <th></th>\n",
       "      <th>col_1</th>\n",
       "      <th>col_2</th>\n",
       "      <th>col_3</th>\n",
       "      <th>col_4</th>\n",
       "      <th>col_5</th>\n",
       "      <th>col_6</th>\n",
       "      <th>col_7</th>\n",
       "      <th>col_8</th>\n",
       "      <th>col_9</th>\n",
       "      <th>col_10</th>\n",
       "    </tr>\n",
       "  </thead>\n",
       "  <tbody>\n",
       "    <tr>\n",
       "      <th>row_3</th>\n",
       "      <td>21</td>\n",
       "      <td>22</td>\n",
       "      <td>23</td>\n",
       "      <td>24</td>\n",
       "      <td>25</td>\n",
       "      <td>26</td>\n",
       "      <td>27</td>\n",
       "      <td>28</td>\n",
       "      <td>29</td>\n",
       "      <td>30</td>\n",
       "    </tr>\n",
       "    <tr>\n",
       "      <th>row_4</th>\n",
       "      <td>31</td>\n",
       "      <td>32</td>\n",
       "      <td>33</td>\n",
       "      <td>34</td>\n",
       "      <td>35</td>\n",
       "      <td>36</td>\n",
       "      <td>37</td>\n",
       "      <td>38</td>\n",
       "      <td>39</td>\n",
       "      <td>40</td>\n",
       "    </tr>\n",
       "    <tr>\n",
       "      <th>row_5</th>\n",
       "      <td>41</td>\n",
       "      <td>42</td>\n",
       "      <td>43</td>\n",
       "      <td>44</td>\n",
       "      <td>45</td>\n",
       "      <td>46</td>\n",
       "      <td>47</td>\n",
       "      <td>48</td>\n",
       "      <td>49</td>\n",
       "      <td>50</td>\n",
       "    </tr>\n",
       "  </tbody>\n",
       "</table>\n",
       "</div>"
      ],
      "text/plain": [
       "       col_1  col_2  col_3  col_4  col_5  col_6  col_7  col_8  col_9  col_10\n",
       "row_3     21     22     23     24     25     26     27     28     29      30\n",
       "row_4     31     32     33     34     35     36     37     38     39      40\n",
       "row_5     41     42     43     44     45     46     47     48     49      50"
      ]
     },
     "execution_count": 59,
     "metadata": {},
     "output_type": "execute_result"
    }
   ],
   "source": [
    "df[2:5]"
   ]
  },
  {
   "cell_type": "code",
   "execution_count": 61,
   "id": "31a7a30b",
   "metadata": {},
   "outputs": [
    {
     "data": {
      "text/plain": [
       "Index(['col_1', 'col_2', 'col_3', 'col_4', 'col_5', 'col_6', 'col_7', 'col_8',\n",
       "       'col_9', 'col_10'],\n",
       "      dtype='object')"
      ]
     },
     "execution_count": 61,
     "metadata": {},
     "output_type": "execute_result"
    }
   ],
   "source": [
    "df.columns"
   ]
  },
  {
   "cell_type": "code",
   "execution_count": 62,
   "id": "b61b17ac",
   "metadata": {},
   "outputs": [
    {
     "data": {
      "text/plain": [
       "Index(['row_1', 'row_2', 'row_3', 'row_4', 'row_5', 'row_6', 'row_7', 'row_8',\n",
       "       'row_9', 'row_10', 'row_11', 'row_12', 'row_13', 'row_14', 'row_15',\n",
       "       'row_16', 'row_17', 'row_18', 'row_19', 'row_20', 'row_21', 'row_22',\n",
       "       'row_23', 'row_24', 'row_25', 'row_26', 'row_27', 'row_28', 'row_29',\n",
       "       'row_30', 'row_31', 'row_32', 'row_33', 'row_34', 'row_35', 'row_36',\n",
       "       'row_37', 'row_38', 'row_39', 'row_40', 'row_41', 'row_42', 'row_43',\n",
       "       'row_44', 'row_45', 'row_46', 'row_47', 'row_48', 'row_49', 'row_50'],\n",
       "      dtype='object')"
      ]
     },
     "execution_count": 62,
     "metadata": {},
     "output_type": "execute_result"
    }
   ],
   "source": [
    "df.index"
   ]
  },
  {
   "cell_type": "code",
   "execution_count": 3,
   "id": "b244fe87",
   "metadata": {},
   "outputs": [],
   "source": [
    "data=pd.read_csv('pollice data.csv')"
   ]
  },
  {
   "cell_type": "code",
   "execution_count": 4,
   "id": "168a8ccc",
   "metadata": {},
   "outputs": [
    {
     "data": {
      "text/html": [
       "<div>\n",
       "<style scoped>\n",
       "    .dataframe tbody tr th:only-of-type {\n",
       "        vertical-align: middle;\n",
       "    }\n",
       "\n",
       "    .dataframe tbody tr th {\n",
       "        vertical-align: top;\n",
       "    }\n",
       "\n",
       "    .dataframe thead th {\n",
       "        text-align: right;\n",
       "    }\n",
       "</style>\n",
       "<table border=\"1\" class=\"dataframe\">\n",
       "  <thead>\n",
       "    <tr style=\"text-align: right;\">\n",
       "      <th></th>\n",
       "      <th>stop_date</th>\n",
       "      <th>stop_time</th>\n",
       "      <th>country_name</th>\n",
       "      <th>driver_gender</th>\n",
       "      <th>driver_age_raw</th>\n",
       "      <th>driver_age</th>\n",
       "      <th>driver_race</th>\n",
       "      <th>violation_raw</th>\n",
       "      <th>violation</th>\n",
       "      <th>search_conducted</th>\n",
       "      <th>search_type</th>\n",
       "      <th>stop_outcome</th>\n",
       "      <th>is_arrested</th>\n",
       "      <th>stop_duration</th>\n",
       "      <th>drugs_related_stop</th>\n",
       "    </tr>\n",
       "  </thead>\n",
       "  <tbody>\n",
       "    <tr>\n",
       "      <th>0</th>\n",
       "      <td>1/2/2005</td>\n",
       "      <td>1:55</td>\n",
       "      <td>NaN</td>\n",
       "      <td>M</td>\n",
       "      <td>1985.0</td>\n",
       "      <td>20.0</td>\n",
       "      <td>White</td>\n",
       "      <td>Speeding</td>\n",
       "      <td>Speeding</td>\n",
       "      <td>False</td>\n",
       "      <td>NaN</td>\n",
       "      <td>Citation</td>\n",
       "      <td>False</td>\n",
       "      <td>0-15 Min</td>\n",
       "      <td>False</td>\n",
       "    </tr>\n",
       "    <tr>\n",
       "      <th>1</th>\n",
       "      <td>1/18/2005</td>\n",
       "      <td>8:15</td>\n",
       "      <td>NaN</td>\n",
       "      <td>M</td>\n",
       "      <td>1965.0</td>\n",
       "      <td>40.0</td>\n",
       "      <td>White</td>\n",
       "      <td>Speeding</td>\n",
       "      <td>Speeding</td>\n",
       "      <td>False</td>\n",
       "      <td>NaN</td>\n",
       "      <td>Citation</td>\n",
       "      <td>False</td>\n",
       "      <td>0-15 Min</td>\n",
       "      <td>False</td>\n",
       "    </tr>\n",
       "    <tr>\n",
       "      <th>2</th>\n",
       "      <td>1/23/2005</td>\n",
       "      <td>23:15</td>\n",
       "      <td>NaN</td>\n",
       "      <td>M</td>\n",
       "      <td>1972.0</td>\n",
       "      <td>33.0</td>\n",
       "      <td>White</td>\n",
       "      <td>Speeding</td>\n",
       "      <td>Speeding</td>\n",
       "      <td>False</td>\n",
       "      <td>NaN</td>\n",
       "      <td>Citation</td>\n",
       "      <td>False</td>\n",
       "      <td>0-15 Min</td>\n",
       "      <td>False</td>\n",
       "    </tr>\n",
       "  </tbody>\n",
       "</table>\n",
       "</div>"
      ],
      "text/plain": [
       "   stop_date stop_time  country_name driver_gender  driver_age_raw  \\\n",
       "0   1/2/2005      1:55           NaN             M          1985.0   \n",
       "1  1/18/2005      8:15           NaN             M          1965.0   \n",
       "2  1/23/2005     23:15           NaN             M          1972.0   \n",
       "\n",
       "   driver_age driver_race violation_raw violation  search_conducted  \\\n",
       "0        20.0       White      Speeding  Speeding             False   \n",
       "1        40.0       White      Speeding  Speeding             False   \n",
       "2        33.0       White      Speeding  Speeding             False   \n",
       "\n",
       "  search_type stop_outcome is_arrested stop_duration  drugs_related_stop  \n",
       "0         NaN     Citation       False      0-15 Min               False  \n",
       "1         NaN     Citation       False      0-15 Min               False  \n",
       "2         NaN     Citation       False      0-15 Min               False  "
      ]
     },
     "execution_count": 4,
     "metadata": {},
     "output_type": "execute_result"
    }
   ],
   "source": [
    "data.head(3)"
   ]
  },
  {
   "cell_type": "code",
   "execution_count": 5,
   "id": "6a924396",
   "metadata": {},
   "outputs": [
    {
     "data": {
      "text/html": [
       "<div>\n",
       "<style scoped>\n",
       "    .dataframe tbody tr th:only-of-type {\n",
       "        vertical-align: middle;\n",
       "    }\n",
       "\n",
       "    .dataframe tbody tr th {\n",
       "        vertical-align: top;\n",
       "    }\n",
       "\n",
       "    .dataframe thead th {\n",
       "        text-align: right;\n",
       "    }\n",
       "</style>\n",
       "<table border=\"1\" class=\"dataframe\">\n",
       "  <thead>\n",
       "    <tr style=\"text-align: right;\">\n",
       "      <th></th>\n",
       "      <th>country_name</th>\n",
       "      <th>driver_age_raw</th>\n",
       "      <th>driver_age</th>\n",
       "    </tr>\n",
       "  </thead>\n",
       "  <tbody>\n",
       "    <tr>\n",
       "      <th>count</th>\n",
       "      <td>0.0</td>\n",
       "      <td>61481.000000</td>\n",
       "      <td>61228.000000</td>\n",
       "    </tr>\n",
       "    <tr>\n",
       "      <th>mean</th>\n",
       "      <td>NaN</td>\n",
       "      <td>1967.791106</td>\n",
       "      <td>34.148984</td>\n",
       "    </tr>\n",
       "    <tr>\n",
       "      <th>std</th>\n",
       "      <td>NaN</td>\n",
       "      <td>121.050106</td>\n",
       "      <td>12.760710</td>\n",
       "    </tr>\n",
       "    <tr>\n",
       "      <th>min</th>\n",
       "      <td>NaN</td>\n",
       "      <td>0.000000</td>\n",
       "      <td>15.000000</td>\n",
       "    </tr>\n",
       "    <tr>\n",
       "      <th>25%</th>\n",
       "      <td>NaN</td>\n",
       "      <td>1965.000000</td>\n",
       "      <td>23.000000</td>\n",
       "    </tr>\n",
       "    <tr>\n",
       "      <th>50%</th>\n",
       "      <td>NaN</td>\n",
       "      <td>1978.000000</td>\n",
       "      <td>31.000000</td>\n",
       "    </tr>\n",
       "    <tr>\n",
       "      <th>75%</th>\n",
       "      <td>NaN</td>\n",
       "      <td>1985.000000</td>\n",
       "      <td>43.000000</td>\n",
       "    </tr>\n",
       "    <tr>\n",
       "      <th>max</th>\n",
       "      <td>NaN</td>\n",
       "      <td>8801.000000</td>\n",
       "      <td>88.000000</td>\n",
       "    </tr>\n",
       "  </tbody>\n",
       "</table>\n",
       "</div>"
      ],
      "text/plain": [
       "       country_name  driver_age_raw    driver_age\n",
       "count           0.0    61481.000000  61228.000000\n",
       "mean            NaN     1967.791106     34.148984\n",
       "std             NaN      121.050106     12.760710\n",
       "min             NaN        0.000000     15.000000\n",
       "25%             NaN     1965.000000     23.000000\n",
       "50%             NaN     1978.000000     31.000000\n",
       "75%             NaN     1985.000000     43.000000\n",
       "max             NaN     8801.000000     88.000000"
      ]
     },
     "execution_count": 5,
     "metadata": {},
     "output_type": "execute_result"
    }
   ],
   "source": [
    "data.describe()"
   ]
  },
  {
   "cell_type": "code",
   "execution_count": 33,
   "id": "5da5f8aa",
   "metadata": {},
   "outputs": [
    {
     "data": {
      "text/plain": [
       "array([15., 16., 17., ..., nan, nan, nan])"
      ]
     },
     "execution_count": 33,
     "metadata": {},
     "output_type": "execute_result"
    }
   ],
   "source": [
    "np.unique(data['driver_age'])\n"
   ]
  },
  {
   "cell_type": "code",
   "execution_count": null,
   "id": "4742b76f",
   "metadata": {},
   "outputs": [],
   "source": []
  },
  {
   "cell_type": "code",
   "execution_count": 11,
   "id": "d06bdcad",
   "metadata": {},
   "outputs": [
    {
     "data": {
      "text/plain": [
       "Index(['stop_date', 'stop_time', 'country_name', 'driver_gender',\n",
       "       'driver_age_raw', 'driver_age', 'driver_race', 'violation_raw',\n",
       "       'violation', 'search_conducted', 'search_type', 'stop_outcome',\n",
       "       'is_arrested', 'stop_duration', 'drugs_related_stop'],\n",
       "      dtype='object')"
      ]
     },
     "execution_count": 11,
     "metadata": {},
     "output_type": "execute_result"
    }
   ],
   "source": [
    "data.columns"
   ]
  },
  {
   "cell_type": "code",
   "execution_count": 30,
   "id": "35a443f4",
   "metadata": {},
   "outputs": [
    {
     "name": "stdout",
     "output_type": "stream",
     "text": [
      "stop_date >>>>>> 2651 >>>>> object\n",
      "this is else part in excehandling\n",
      "\n",
      "this is finally part \n",
      "stop_time >>>>>> 1432 >>>>> object\n",
      "this is else part in excehandling\n",
      "\n",
      "this is finally part \n",
      "country_name >>>>>> 65535 >>>>> float64\n",
      "this is else part in excehandling\n",
      "\n",
      "this is finally part \n",
      "here no other catogorical column\n",
      "\n",
      "this is finally part \n"
     ]
    }
   ],
   "source": [
    "#  >>>>>>>>>> here i am using exception handling concept<<<<<<<<<<<<<<<<<<<<<<<\n",
    "for col in data.columns:\n",
    "    try:\n",
    "        print(col,\">>>>>>\",len(np.unique(data[col])),'>>>>>',data[col].dtypes)\n",
    "    except: \n",
    "        print('here no other catogorical column')\n",
    "        print()\n",
    "        break\n",
    "    else:\n",
    "        print('this is else part in excehandling')\n",
    "        print()\n",
    "    finally:\n",
    "        print(\"this is finally part \")"
   ]
  },
  {
   "cell_type": "code",
   "execution_count": 19,
   "id": "b935e239",
   "metadata": {},
   "outputs": [
    {
     "data": {
      "text/plain": [
       "10:00    280\n",
       "11:00    280\n",
       "9:00     252\n",
       "10:30    251\n",
       "9:30     246\n",
       "        ... \n",
       "4:14       1\n",
       "4:50       1\n",
       "5:38       1\n",
       "4:32       1\n",
       "5:23       1\n",
       "Name: stop_time, Length: 1432, dtype: int64"
      ]
     },
     "execution_count": 19,
     "metadata": {},
     "output_type": "execute_result"
    }
   ],
   "source": [
    "pd.value_counts(data['stop_time'])"
   ]
  }
 ],
 "metadata": {
  "kernelspec": {
   "display_name": "Python 3",
   "language": "python",
   "name": "python3"
  },
  "language_info": {
   "codemirror_mode": {
    "name": "ipython",
    "version": 3
   },
   "file_extension": ".py",
   "mimetype": "text/x-python",
   "name": "python",
   "nbconvert_exporter": "python",
   "pygments_lexer": "ipython3",
   "version": "3.9.2"
  }
 },
 "nbformat": 4,
 "nbformat_minor": 5
}
