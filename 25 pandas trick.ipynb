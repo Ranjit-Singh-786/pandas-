{
 "cells": [
  {
   "cell_type": "markdown",
   "id": "28ef7b02",
   "metadata": {},
   "source": [
    "## >>>>>>>>>>>>> main branch <<<<<<<<<<<<<<<<<<<"
   ]
  },
  {
   "cell_type": "code",
   "execution_count": 2,
   "id": "dab33c3e",
   "metadata": {},
   "outputs": [],
   "source": [
    "import pandas as pd\n",
    "import numpy as np"
   ]
  },
  {
   "cell_type": "code",
   "execution_count": 2,
   "id": "39eacd6f",
   "metadata": {},
   "outputs": [
    {
     "data": {
      "text/plain": [
       "'1.2.3'"
      ]
     },
     "execution_count": 2,
     "metadata": {},
     "output_type": "execute_result"
    }
   ],
   "source": [
    "pd.__version__        #for pandas version"
   ]
  },
  {
   "cell_type": "code",
   "execution_count": 3,
   "id": "7e93816c",
   "metadata": {},
   "outputs": [
    {
     "name": "stderr",
     "output_type": "stream",
     "text": [
      "C:\\Users\\Ranjit Singh\\AppData\\Local\\Programs\\Python\\Python310\\lib\\site-packages\\_distutils_hack\\__init__.py:33: UserWarning: Setuptools is replacing distutils.\n",
      "  warnings.warn(\"Setuptools is replacing distutils.\")\n"
     ]
    },
    {
     "name": "stdout",
     "output_type": "stream",
     "text": [
      "\n",
      "INSTALLED VERSIONS\n",
      "------------------\n",
      "commit           : e8093ba372f9adfe79439d90fe74b0b5b6dea9d6\n",
      "python           : 3.10.6.final.0\n",
      "python-bits      : 64\n",
      "OS               : Windows\n",
      "OS-release       : 10\n",
      "Version          : 10.0.16299\n",
      "machine          : AMD64\n",
      "processor        : Intel64 Family 6 Model 142 Stepping 9, GenuineIntel\n",
      "byteorder        : little\n",
      "LC_ALL           : None\n",
      "LANG             : None\n",
      "LOCALE           : English_India.1252\n",
      "\n",
      "pandas           : 1.4.3\n",
      "numpy            : 1.23.1\n",
      "pytz             : 2022.1\n",
      "dateutil         : 2.8.2\n",
      "setuptools       : 63.2.0\n",
      "pip              : 22.2.1\n",
      "Cython           : None\n",
      "pytest           : None\n",
      "hypothesis       : None\n",
      "sphinx           : None\n",
      "blosc            : None\n",
      "feather          : None\n",
      "xlsxwriter       : None\n",
      "lxml.etree       : None\n",
      "html5lib         : None\n",
      "pymysql          : None\n",
      "psycopg2         : None\n",
      "jinja2           : 3.1.2\n",
      "IPython          : 8.4.0\n",
      "pandas_datareader: None\n",
      "bs4              : 4.11.1\n",
      "bottleneck       : None\n",
      "brotli           : None\n",
      "fastparquet      : None\n",
      "fsspec           : None\n",
      "gcsfs            : None\n",
      "markupsafe       : 2.1.1\n",
      "matplotlib       : 3.5.2\n",
      "numba            : None\n",
      "numexpr          : None\n",
      "odfpy            : None\n",
      "openpyxl         : None\n",
      "pandas_gbq       : None\n",
      "pyarrow          : None\n",
      "pyreadstat       : None\n",
      "pyxlsb           : None\n",
      "s3fs             : None\n",
      "scipy            : 1.9.0\n",
      "snappy           : None\n",
      "sqlalchemy       : None\n",
      "tables           : None\n",
      "tabulate         : None\n",
      "xarray           : None\n",
      "xlrd             : None\n",
      "xlwt             : None\n",
      "zstandard        : None\n"
     ]
    }
   ],
   "source": [
    "pd.show_versions()          #show all library versions"
   ]
  },
  {
   "cell_type": "code",
   "execution_count": 7,
   "id": "cb9a867d",
   "metadata": {},
   "outputs": [
    {
     "data": {
      "text/plain": [
       "(8, 4, 0, '')"
      ]
     },
     "execution_count": 7,
     "metadata": {},
     "output_type": "execute_result"
    }
   ],
   "source": [
    "import IPython as ip\n",
    "ip.version_info\n"
   ]
  },
  {
   "cell_type": "markdown",
   "id": "f60a1415",
   "metadata": {},
   "source": [
    "### series creating"
   ]
  },
  {
   "cell_type": "code",
   "execution_count": 2,
   "id": "2838d666",
   "metadata": {},
   "outputs": [
    {
     "data": {
      "text/plain": [
       "0         a\n",
       "1         3\n",
       "2       3.3\n",
       "3      True\n",
       "4    radhey\n",
       "dtype: object"
      ]
     },
     "execution_count": 2,
     "metadata": {},
     "output_type": "execute_result"
    }
   ],
   "source": [
    "listt=['a',3,3.3,True,'radhey']\n",
    "ser1=pd.Series(listt)\n",
    "\n",
    "ser1"
   ]
  },
  {
   "cell_type": "code",
   "execution_count": 10,
   "id": "efd244b4",
   "metadata": {},
   "outputs": [
    {
     "name": "stderr",
     "output_type": "stream",
     "text": [
      "<ipython-input-10-c01efd6af1c8>:1: DeprecationWarning: The default dtype for empty Series will be 'object' instead of 'float64' in a future version. Specify a dtype explicitly to silence this warning.\n",
      "  emptyser=pd.Series([])\n"
     ]
    },
    {
     "data": {
      "text/plain": [
       "Series([], dtype: float64)"
      ]
     },
     "execution_count": 10,
     "metadata": {},
     "output_type": "execute_result"
    }
   ],
   "source": [
    "emptyser=pd.Series([])\n",
    "emptyser               # create for empty series"
   ]
  },
  {
   "cell_type": "code",
   "execution_count": 3,
   "id": "3b0f4645",
   "metadata": {},
   "outputs": [
    {
     "data": {
      "text/plain": [
       "a    1.0\n",
       "b    2.0\n",
       "c    3.0\n",
       "d    4.0\n",
       "e    4.0\n",
       "Name: column_1, dtype: float64"
      ]
     },
     "execution_count": 3,
     "metadata": {},
     "output_type": "execute_result"
    }
   ],
   "source": [
    "ser4=pd.Series([1,2,3,4,4],index=['a','b','c','d','e'],dtype=float,name='column_1')     #series creation method\n",
    "ser4"
   ]
  },
  {
   "cell_type": "code",
   "execution_count": 23,
   "id": "b8a186ab",
   "metadata": {},
   "outputs": [
    {
     "data": {
      "text/plain": [
       "0    0.5\n",
       "dtype: float64"
      ]
     },
     "execution_count": 23,
     "metadata": {},
     "output_type": "execute_result"
    }
   ],
   "source": [
    "scalar_value=pd.Series(0.5)         # for creation any one elment in the series\n",
    "scalar_value"
   ]
  },
  {
   "cell_type": "markdown",
   "id": "4b5e96e3",
   "metadata": {},
   "source": [
    "## create Series with scaler value"
   ]
  },
  {
   "cell_type": "code",
   "execution_count": 22,
   "id": "ee8741db",
   "metadata": {},
   "outputs": [
    {
     "data": {
      "text/plain": [
       "1    0.5\n",
       "2    0.5\n",
       "4    0.5\n",
       "4    0.5\n",
       "dtype: float64"
      ]
     },
     "execution_count": 22,
     "metadata": {},
     "output_type": "execute_result"
    }
   ],
   "source": [
    "scalar_value=pd.Series(0.5,index=[1,2,4,4])              #for creation same filling value series\n",
    "scalar_value"
   ]
  },
  {
   "cell_type": "markdown",
   "id": "a4fc6772",
   "metadata": {},
   "source": [
    "scalar=pd.Series(o.5,index=[1,2,3,4])"
   ]
  },
  {
   "cell_type": "code",
   "execution_count": 10,
   "id": "7ed2bcba",
   "metadata": {},
   "outputs": [
    {
     "data": {
      "text/plain": [
       "['a', 's', 'd', 'f']"
      ]
     },
     "execution_count": 10,
     "metadata": {},
     "output_type": "execute_result"
    }
   ],
   "source": [
    "d=list('asdf')              #revise it next trik depensds on the basis\n",
    "d"
   ]
  },
  {
   "cell_type": "code",
   "execution_count": 9,
   "id": "8636b478",
   "metadata": {},
   "outputs": [],
   "source": [
    "import random"
   ]
  },
  {
   "cell_type": "code",
   "execution_count": 32,
   "id": "512355af",
   "metadata": {},
   "outputs": [
    {
     "data": {
      "text/plain": [
       "4"
      ]
     },
     "execution_count": 32,
     "metadata": {},
     "output_type": "execute_result"
    }
   ],
   "source": [
    "# data=pd.DataFrame(np.random.rand(8,4),columns=list('RSTV'))\n",
    "\n",
    "\n",
    "\n",
    "# random.randint\n",
    "# random.randrange\n",
    "# random.choice(d)\n",
    "# np.random.rand(2,4)\n",
    "# np.random.randn(2,4)\n",
    "# np.random.random((2,3))\n",
    "# np.random.randint(2,5)   ...single element return\n",
    "# passwo=\"\".join(random.sample(all,l))   # all for string and l for size captcha create\n"
   ]
  },
  {
   "cell_type": "code",
   "execution_count": 5,
   "id": "dd866583",
   "metadata": {},
   "outputs": [
    {
     "data": {
      "text/html": [
       "<div>\n",
       "<style scoped>\n",
       "    .dataframe tbody tr th:only-of-type {\n",
       "        vertical-align: middle;\n",
       "    }\n",
       "\n",
       "    .dataframe tbody tr th {\n",
       "        vertical-align: top;\n",
       "    }\n",
       "\n",
       "    .dataframe thead th {\n",
       "        text-align: right;\n",
       "    }\n",
       "</style>\n",
       "<table border=\"1\" class=\"dataframe\">\n",
       "  <thead>\n",
       "    <tr style=\"text-align: right;\">\n",
       "      <th></th>\n",
       "      <th>R</th>\n",
       "      <th>S</th>\n",
       "      <th>T</th>\n",
       "      <th>V</th>\n",
       "    </tr>\n",
       "  </thead>\n",
       "  <tbody>\n",
       "    <tr>\n",
       "      <th>0</th>\n",
       "      <td>0.816955</td>\n",
       "      <td>0.520385</td>\n",
       "      <td>0.365694</td>\n",
       "      <td>0.906517</td>\n",
       "    </tr>\n",
       "    <tr>\n",
       "      <th>1</th>\n",
       "      <td>0.331314</td>\n",
       "      <td>0.002404</td>\n",
       "      <td>0.495975</td>\n",
       "      <td>0.026677</td>\n",
       "    </tr>\n",
       "    <tr>\n",
       "      <th>2</th>\n",
       "      <td>0.746749</td>\n",
       "      <td>0.445355</td>\n",
       "      <td>0.191945</td>\n",
       "      <td>0.925743</td>\n",
       "    </tr>\n",
       "    <tr>\n",
       "      <th>3</th>\n",
       "      <td>0.653608</td>\n",
       "      <td>0.988599</td>\n",
       "      <td>0.383838</td>\n",
       "      <td>0.880024</td>\n",
       "    </tr>\n",
       "    <tr>\n",
       "      <th>4</th>\n",
       "      <td>0.952382</td>\n",
       "      <td>0.223211</td>\n",
       "      <td>0.607325</td>\n",
       "      <td>0.580785</td>\n",
       "    </tr>\n",
       "    <tr>\n",
       "      <th>5</th>\n",
       "      <td>0.754014</td>\n",
       "      <td>0.579668</td>\n",
       "      <td>0.871513</td>\n",
       "      <td>0.970870</td>\n",
       "    </tr>\n",
       "    <tr>\n",
       "      <th>6</th>\n",
       "      <td>0.427464</td>\n",
       "      <td>0.575591</td>\n",
       "      <td>0.024454</td>\n",
       "      <td>0.935536</td>\n",
       "    </tr>\n",
       "    <tr>\n",
       "      <th>7</th>\n",
       "      <td>0.604438</td>\n",
       "      <td>0.395427</td>\n",
       "      <td>0.228293</td>\n",
       "      <td>0.620999</td>\n",
       "    </tr>\n",
       "  </tbody>\n",
       "</table>\n",
       "</div>"
      ],
      "text/plain": [
       "          R         S         T         V\n",
       "0  0.816955  0.520385  0.365694  0.906517\n",
       "1  0.331314  0.002404  0.495975  0.026677\n",
       "2  0.746749  0.445355  0.191945  0.925743\n",
       "3  0.653608  0.988599  0.383838  0.880024\n",
       "4  0.952382  0.223211  0.607325  0.580785\n",
       "5  0.754014  0.579668  0.871513  0.970870\n",
       "6  0.427464  0.575591  0.024454  0.935536\n",
       "7  0.604438  0.395427  0.228293  0.620999"
      ]
     },
     "execution_count": 5,
     "metadata": {},
     "output_type": "execute_result"
    }
   ],
   "source": [
    "data"
   ]
  },
  {
   "cell_type": "markdown",
   "id": "f178d441",
   "metadata": {},
   "source": [
    "# rename column different types"
   ]
  },
  {
   "cell_type": "code",
   "execution_count": 6,
   "id": "8f1530da",
   "metadata": {},
   "outputs": [],
   "source": [
    "df={'col one':[2,4],'col two':[4,9]}"
   ]
  },
  {
   "cell_type": "code",
   "execution_count": 7,
   "id": "65a20bb7",
   "metadata": {},
   "outputs": [],
   "source": [
    "df2=pd.DataFrame(data=df)"
   ]
  },
  {
   "cell_type": "code",
   "execution_count": 8,
   "id": "22537f6d",
   "metadata": {},
   "outputs": [
    {
     "data": {
      "text/html": [
       "<div>\n",
       "<style scoped>\n",
       "    .dataframe tbody tr th:only-of-type {\n",
       "        vertical-align: middle;\n",
       "    }\n",
       "\n",
       "    .dataframe tbody tr th {\n",
       "        vertical-align: top;\n",
       "    }\n",
       "\n",
       "    .dataframe thead th {\n",
       "        text-align: right;\n",
       "    }\n",
       "</style>\n",
       "<table border=\"1\" class=\"dataframe\">\n",
       "  <thead>\n",
       "    <tr style=\"text-align: right;\">\n",
       "      <th></th>\n",
       "      <th>col one</th>\n",
       "      <th>col two</th>\n",
       "    </tr>\n",
       "  </thead>\n",
       "  <tbody>\n",
       "    <tr>\n",
       "      <th>0</th>\n",
       "      <td>2</td>\n",
       "      <td>4</td>\n",
       "    </tr>\n",
       "    <tr>\n",
       "      <th>1</th>\n",
       "      <td>4</td>\n",
       "      <td>9</td>\n",
       "    </tr>\n",
       "  </tbody>\n",
       "</table>\n",
       "</div>"
      ],
      "text/plain": [
       "   col one  col two\n",
       "0        2        4\n",
       "1        4        9"
      ]
     },
     "execution_count": 8,
     "metadata": {},
     "output_type": "execute_result"
    }
   ],
   "source": [
    "df2"
   ]
  },
  {
   "cell_type": "code",
   "execution_count": 23,
   "id": "8aa39f34",
   "metadata": {},
   "outputs": [],
   "source": [
    "df2.rename({\"col one\":'col_one','col two':\"col_two\"},axis=\"columns\",inplace=True)  #first method"
   ]
  },
  {
   "cell_type": "code",
   "execution_count": 19,
   "id": "befaaf6c",
   "metadata": {},
   "outputs": [
    {
     "data": {
      "text/html": [
       "<div>\n",
       "<style scoped>\n",
       "    .dataframe tbody tr th:only-of-type {\n",
       "        vertical-align: middle;\n",
       "    }\n",
       "\n",
       "    .dataframe tbody tr th {\n",
       "        vertical-align: top;\n",
       "    }\n",
       "\n",
       "    .dataframe thead th {\n",
       "        text-align: right;\n",
       "    }\n",
       "</style>\n",
       "<table border=\"1\" class=\"dataframe\">\n",
       "  <thead>\n",
       "    <tr style=\"text-align: right;\">\n",
       "      <th></th>\n",
       "      <th>col_one</th>\n",
       "      <th>col_two</th>\n",
       "    </tr>\n",
       "  </thead>\n",
       "  <tbody>\n",
       "    <tr>\n",
       "      <th>0</th>\n",
       "      <td>2</td>\n",
       "      <td>4</td>\n",
       "    </tr>\n",
       "    <tr>\n",
       "      <th>1</th>\n",
       "      <td>4</td>\n",
       "      <td>9</td>\n",
       "    </tr>\n",
       "  </tbody>\n",
       "</table>\n",
       "</div>"
      ],
      "text/plain": [
       "   col_one  col_two\n",
       "0        2        4\n",
       "1        4        9"
      ]
     },
     "execution_count": 19,
     "metadata": {},
     "output_type": "execute_result"
    }
   ],
   "source": [
    "df2"
   ]
  },
  {
   "cell_type": "code",
   "execution_count": 20,
   "id": "04bf572d",
   "metadata": {},
   "outputs": [],
   "source": [
    "df2.columns=['col one','col two']        #second method"
   ]
  },
  {
   "cell_type": "code",
   "execution_count": 21,
   "id": "c9abfc4e",
   "metadata": {},
   "outputs": [
    {
     "data": {
      "text/html": [
       "<div>\n",
       "<style scoped>\n",
       "    .dataframe tbody tr th:only-of-type {\n",
       "        vertical-align: middle;\n",
       "    }\n",
       "\n",
       "    .dataframe tbody tr th {\n",
       "        vertical-align: top;\n",
       "    }\n",
       "\n",
       "    .dataframe thead th {\n",
       "        text-align: right;\n",
       "    }\n",
       "</style>\n",
       "<table border=\"1\" class=\"dataframe\">\n",
       "  <thead>\n",
       "    <tr style=\"text-align: right;\">\n",
       "      <th></th>\n",
       "      <th>col one</th>\n",
       "      <th>col two</th>\n",
       "    </tr>\n",
       "  </thead>\n",
       "  <tbody>\n",
       "    <tr>\n",
       "      <th>0</th>\n",
       "      <td>2</td>\n",
       "      <td>4</td>\n",
       "    </tr>\n",
       "    <tr>\n",
       "      <th>1</th>\n",
       "      <td>4</td>\n",
       "      <td>9</td>\n",
       "    </tr>\n",
       "  </tbody>\n",
       "</table>\n",
       "</div>"
      ],
      "text/plain": [
       "   col one  col two\n",
       "0        2        4\n",
       "1        4        9"
      ]
     },
     "execution_count": 21,
     "metadata": {},
     "output_type": "execute_result"
    }
   ],
   "source": [
    "df2"
   ]
  },
  {
   "cell_type": "code",
   "execution_count": 29,
   "id": "49c462e3",
   "metadata": {},
   "outputs": [
    {
     "data": {
      "text/plain": [
       "Index(['col one', 'col two'], dtype='object')"
      ]
     },
     "execution_count": 29,
     "metadata": {},
     "output_type": "execute_result"
    }
   ],
   "source": [
    "df2.columns.str.replace(\"_\",\" \")             #using string formating rename column"
   ]
  },
  {
   "cell_type": "code",
   "execution_count": 30,
   "id": "3f857dbb",
   "metadata": {},
   "outputs": [],
   "source": [
    "df3=df2.columns.str.replace(\"_\",\" \")"
   ]
  },
  {
   "cell_type": "code",
   "execution_count": 31,
   "id": "3fcacc67",
   "metadata": {},
   "outputs": [
    {
     "data": {
      "text/plain": [
       "Index(['col one', 'col two'], dtype='object')"
      ]
     },
     "execution_count": 31,
     "metadata": {},
     "output_type": "execute_result"
    }
   ],
   "source": [
    "df3"
   ]
  },
  {
   "cell_type": "code",
   "execution_count": 32,
   "id": "4da689b5",
   "metadata": {},
   "outputs": [
    {
     "data": {
      "text/html": [
       "<div>\n",
       "<style scoped>\n",
       "    .dataframe tbody tr th:only-of-type {\n",
       "        vertical-align: middle;\n",
       "    }\n",
       "\n",
       "    .dataframe tbody tr th {\n",
       "        vertical-align: top;\n",
       "    }\n",
       "\n",
       "    .dataframe thead th {\n",
       "        text-align: right;\n",
       "    }\n",
       "</style>\n",
       "<table border=\"1\" class=\"dataframe\">\n",
       "  <thead>\n",
       "    <tr style=\"text-align: right;\">\n",
       "      <th></th>\n",
       "      <th>col_one</th>\n",
       "      <th>col_two</th>\n",
       "    </tr>\n",
       "  </thead>\n",
       "  <tbody>\n",
       "    <tr>\n",
       "      <th>0</th>\n",
       "      <td>2</td>\n",
       "      <td>4</td>\n",
       "    </tr>\n",
       "    <tr>\n",
       "      <th>1</th>\n",
       "      <td>4</td>\n",
       "      <td>9</td>\n",
       "    </tr>\n",
       "  </tbody>\n",
       "</table>\n",
       "</div>"
      ],
      "text/plain": [
       "   col_one  col_two\n",
       "0        2        4\n",
       "1        4        9"
      ]
     },
     "execution_count": 32,
     "metadata": {},
     "output_type": "execute_result"
    }
   ],
   "source": [
    "df2"
   ]
  },
  {
   "cell_type": "code",
   "execution_count": 33,
   "id": "8c59430a",
   "metadata": {},
   "outputs": [],
   "source": [
    "df2.columns=df3        #done remove _ with the space"
   ]
  },
  {
   "cell_type": "code",
   "execution_count": 34,
   "id": "f44591c8",
   "metadata": {},
   "outputs": [
    {
     "data": {
      "text/html": [
       "<div>\n",
       "<style scoped>\n",
       "    .dataframe tbody tr th:only-of-type {\n",
       "        vertical-align: middle;\n",
       "    }\n",
       "\n",
       "    .dataframe tbody tr th {\n",
       "        vertical-align: top;\n",
       "    }\n",
       "\n",
       "    .dataframe thead th {\n",
       "        text-align: right;\n",
       "    }\n",
       "</style>\n",
       "<table border=\"1\" class=\"dataframe\">\n",
       "  <thead>\n",
       "    <tr style=\"text-align: right;\">\n",
       "      <th></th>\n",
       "      <th>col one</th>\n",
       "      <th>col two</th>\n",
       "    </tr>\n",
       "  </thead>\n",
       "  <tbody>\n",
       "    <tr>\n",
       "      <th>0</th>\n",
       "      <td>2</td>\n",
       "      <td>4</td>\n",
       "    </tr>\n",
       "    <tr>\n",
       "      <th>1</th>\n",
       "      <td>4</td>\n",
       "      <td>9</td>\n",
       "    </tr>\n",
       "  </tbody>\n",
       "</table>\n",
       "</div>"
      ],
      "text/plain": [
       "   col one  col two\n",
       "0        2        4\n",
       "1        4        9"
      ]
     },
     "execution_count": 34,
     "metadata": {},
     "output_type": "execute_result"
    }
   ],
   "source": [
    "df2"
   ]
  },
  {
   "cell_type": "code",
   "execution_count": null,
   "id": "6cbcce46",
   "metadata": {},
   "outputs": [],
   "source": [
    "df2=df2.columns.str.replace(\"_\",\" \")        #third type of rename"
   ]
  },
  {
   "cell_type": "code",
   "execution_count": 35,
   "id": "dda3de99",
   "metadata": {},
   "outputs": [
    {
     "data": {
      "text/html": [
       "<div>\n",
       "<style scoped>\n",
       "    .dataframe tbody tr th:only-of-type {\n",
       "        vertical-align: middle;\n",
       "    }\n",
       "\n",
       "    .dataframe tbody tr th {\n",
       "        vertical-align: top;\n",
       "    }\n",
       "\n",
       "    .dataframe thead th {\n",
       "        text-align: right;\n",
       "    }\n",
       "</style>\n",
       "<table border=\"1\" class=\"dataframe\">\n",
       "  <thead>\n",
       "    <tr style=\"text-align: right;\">\n",
       "      <th></th>\n",
       "      <th>col_one</th>\n",
       "      <th>col two</th>\n",
       "    </tr>\n",
       "  </thead>\n",
       "  <tbody>\n",
       "    <tr>\n",
       "      <th>0</th>\n",
       "      <td>2</td>\n",
       "      <td>4</td>\n",
       "    </tr>\n",
       "    <tr>\n",
       "      <th>1</th>\n",
       "      <td>4</td>\n",
       "      <td>9</td>\n",
       "    </tr>\n",
       "  </tbody>\n",
       "</table>\n",
       "</div>"
      ],
      "text/plain": [
       "   col_one  col two\n",
       "0        2        4\n",
       "1        4        9"
      ]
     },
     "execution_count": 35,
     "metadata": {},
     "output_type": "execute_result"
    }
   ],
   "source": [
    "df2.rename({\"col one\":'col_one'},axis=\"columns\")    #you can use this type a particular column"
   ]
  },
  {
   "cell_type": "code",
   "execution_count": 41,
   "id": "f694307a",
   "metadata": {},
   "outputs": [
    {
     "data": {
      "text/html": [
       "<div>\n",
       "<style scoped>\n",
       "    .dataframe tbody tr th:only-of-type {\n",
       "        vertical-align: middle;\n",
       "    }\n",
       "\n",
       "    .dataframe tbody tr th {\n",
       "        vertical-align: top;\n",
       "    }\n",
       "\n",
       "    .dataframe thead th {\n",
       "        text-align: right;\n",
       "    }\n",
       "</style>\n",
       "<table border=\"1\" class=\"dataframe\">\n",
       "  <thead>\n",
       "    <tr style=\"text-align: right;\">\n",
       "      <th></th>\n",
       "      <th>col one</th>\n",
       "      <th>col_two</th>\n",
       "    </tr>\n",
       "  </thead>\n",
       "  <tbody>\n",
       "    <tr>\n",
       "      <th>0</th>\n",
       "      <td>2</td>\n",
       "      <td>4</td>\n",
       "    </tr>\n",
       "    <tr>\n",
       "      <th>1</th>\n",
       "      <td>4</td>\n",
       "      <td>9</td>\n",
       "    </tr>\n",
       "  </tbody>\n",
       "</table>\n",
       "</div>"
      ],
      "text/plain": [
       "   col one  col_two\n",
       "0        2        4\n",
       "1        4        9"
      ]
     },
     "execution_count": 41,
     "metadata": {},
     "output_type": "execute_result"
    }
   ],
   "source": [
    "df2.rename({'col two':\"col_two\"},axis=\"columns\")      #here axis is compulsory passed here"
   ]
  },
  {
   "cell_type": "markdown",
   "id": "80029447",
   "metadata": {},
   "source": [
    "# prefix and suffix method "
   ]
  },
  {
   "cell_type": "code",
   "execution_count": 42,
   "id": "524cbf12",
   "metadata": {},
   "outputs": [
    {
     "data": {
      "text/html": [
       "<div>\n",
       "<style scoped>\n",
       "    .dataframe tbody tr th:only-of-type {\n",
       "        vertical-align: middle;\n",
       "    }\n",
       "\n",
       "    .dataframe tbody tr th {\n",
       "        vertical-align: top;\n",
       "    }\n",
       "\n",
       "    .dataframe thead th {\n",
       "        text-align: right;\n",
       "    }\n",
       "</style>\n",
       "<table border=\"1\" class=\"dataframe\">\n",
       "  <thead>\n",
       "    <tr style=\"text-align: right;\">\n",
       "      <th></th>\n",
       "      <th>col one</th>\n",
       "      <th>col two</th>\n",
       "    </tr>\n",
       "  </thead>\n",
       "  <tbody>\n",
       "    <tr>\n",
       "      <th>0</th>\n",
       "      <td>2</td>\n",
       "      <td>4</td>\n",
       "    </tr>\n",
       "    <tr>\n",
       "      <th>1</th>\n",
       "      <td>4</td>\n",
       "      <td>9</td>\n",
       "    </tr>\n",
       "  </tbody>\n",
       "</table>\n",
       "</div>"
      ],
      "text/plain": [
       "   col one  col two\n",
       "0        2        4\n",
       "1        4        9"
      ]
     },
     "execution_count": 42,
     "metadata": {},
     "output_type": "execute_result"
    }
   ],
   "source": [
    "df2"
   ]
  },
  {
   "cell_type": "code",
   "execution_count": 44,
   "id": "e38bb74d",
   "metadata": {},
   "outputs": [
    {
     "data": {
      "text/html": [
       "<div>\n",
       "<style scoped>\n",
       "    .dataframe tbody tr th:only-of-type {\n",
       "        vertical-align: middle;\n",
       "    }\n",
       "\n",
       "    .dataframe tbody tr th {\n",
       "        vertical-align: top;\n",
       "    }\n",
       "\n",
       "    .dataframe thead th {\n",
       "        text-align: right;\n",
       "    }\n",
       "</style>\n",
       "<table border=\"1\" class=\"dataframe\">\n",
       "  <thead>\n",
       "    <tr style=\"text-align: right;\">\n",
       "      <th></th>\n",
       "      <th>_c_col one</th>\n",
       "      <th>_c_col two</th>\n",
       "    </tr>\n",
       "  </thead>\n",
       "  <tbody>\n",
       "    <tr>\n",
       "      <th>0</th>\n",
       "      <td>2</td>\n",
       "      <td>4</td>\n",
       "    </tr>\n",
       "    <tr>\n",
       "      <th>1</th>\n",
       "      <td>4</td>\n",
       "      <td>9</td>\n",
       "    </tr>\n",
       "  </tbody>\n",
       "</table>\n",
       "</div>"
      ],
      "text/plain": [
       "   _c_col one  _c_col two\n",
       "0           2           4\n",
       "1           4           9"
      ]
     },
     "execution_count": 44,
     "metadata": {},
     "output_type": "execute_result"
    }
   ],
   "source": [
    "df2.add_prefix(\"_c_\")             #add a string in start position by using add_prefix()"
   ]
  },
  {
   "cell_type": "code",
   "execution_count": 49,
   "id": "9dafb62c",
   "metadata": {},
   "outputs": [
    {
     "data": {
      "text/html": [
       "<div>\n",
       "<style scoped>\n",
       "    .dataframe tbody tr th:only-of-type {\n",
       "        vertical-align: middle;\n",
       "    }\n",
       "\n",
       "    .dataframe tbody tr th {\n",
       "        vertical-align: top;\n",
       "    }\n",
       "\n",
       "    .dataframe thead th {\n",
       "        text-align: right;\n",
       "    }\n",
       "</style>\n",
       "<table border=\"1\" class=\"dataframe\">\n",
       "  <thead>\n",
       "    <tr style=\"text-align: right;\">\n",
       "      <th></th>\n",
       "      <th>col one_endig</th>\n",
       "      <th>col two_endig</th>\n",
       "    </tr>\n",
       "  </thead>\n",
       "  <tbody>\n",
       "    <tr>\n",
       "      <th>0</th>\n",
       "      <td>2</td>\n",
       "      <td>4</td>\n",
       "    </tr>\n",
       "    <tr>\n",
       "      <th>1</th>\n",
       "      <td>4</td>\n",
       "      <td>9</td>\n",
       "    </tr>\n",
       "  </tbody>\n",
       "</table>\n",
       "</div>"
      ],
      "text/plain": [
       "   col one_endig  col two_endig\n",
       "0              2              4\n",
       "1              4              9"
      ]
     },
     "execution_count": 49,
     "metadata": {},
     "output_type": "execute_result"
    }
   ],
   "source": [
    "df2.add_suffix(\"_endig\")           #add string in the end of columns by using add_suffix()"
   ]
  },
  {
   "cell_type": "markdown",
   "id": "4edbe38f",
   "metadata": {},
   "source": [
    "# reverse row printed"
   ]
  },
  {
   "cell_type": "code",
   "execution_count": 3,
   "id": "b22997fd",
   "metadata": {},
   "outputs": [],
   "source": [
    "polic=pd.read_csv('pollice data.csv',parse_dates=['stop_date','stop_time'])     \n",
    "#here i am change the dtype stop_date,& stop_time"
   ]
  },
  {
   "cell_type": "code",
   "execution_count": 38,
   "id": "ba6a489f",
   "metadata": {},
   "outputs": [
    {
     "data": {
      "text/plain": [
       "stop_date             datetime64[ns]\n",
       "stop_time             datetime64[ns]\n",
       "country_name                 float64\n",
       "driver_gender                 object\n",
       "driver_age_raw               float64\n",
       "driver_age                   float64\n",
       "driver_race                   object\n",
       "violation_raw                 object\n",
       "violation                     object\n",
       "search_conducted                bool\n",
       "search_type                   object\n",
       "stop_outcome                  object\n",
       "is_arrested                   object\n",
       "stop_duration                 object\n",
       "drugs_related_stop              bool\n",
       "dtype: object"
      ]
     },
     "execution_count": 38,
     "metadata": {},
     "output_type": "execute_result"
    }
   ],
   "source": [
    "polic.dtypes"
   ]
  },
  {
   "cell_type": "code",
   "execution_count": 6,
   "id": "e810f2a3",
   "metadata": {},
   "outputs": [
    {
     "data": {
      "text/html": [
       "<div>\n",
       "<style scoped>\n",
       "    .dataframe tbody tr th:only-of-type {\n",
       "        vertical-align: middle;\n",
       "    }\n",
       "\n",
       "    .dataframe tbody tr th {\n",
       "        vertical-align: top;\n",
       "    }\n",
       "\n",
       "    .dataframe thead th {\n",
       "        text-align: right;\n",
       "    }\n",
       "</style>\n",
       "<table border=\"1\" class=\"dataframe\">\n",
       "  <thead>\n",
       "    <tr style=\"text-align: right;\">\n",
       "      <th></th>\n",
       "      <th>stop_date</th>\n",
       "      <th>stop_time</th>\n",
       "      <th>country_name</th>\n",
       "      <th>driver_gender</th>\n",
       "      <th>driver_age_raw</th>\n",
       "      <th>driver_age</th>\n",
       "      <th>driver_race</th>\n",
       "      <th>violation_raw</th>\n",
       "      <th>violation</th>\n",
       "      <th>search_conducted</th>\n",
       "      <th>search_type</th>\n",
       "      <th>stop_outcome</th>\n",
       "      <th>is_arrested</th>\n",
       "      <th>stop_duration</th>\n",
       "      <th>drugs_related_stop</th>\n",
       "    </tr>\n",
       "  </thead>\n",
       "  <tbody>\n",
       "    <tr>\n",
       "      <th>65534</th>\n",
       "      <td>12/7/2012</td>\n",
       "      <td>0:30</td>\n",
       "      <td>NaN</td>\n",
       "      <td>F</td>\n",
       "      <td>1985.0</td>\n",
       "      <td>27.0</td>\n",
       "      <td>White</td>\n",
       "      <td>Speeding</td>\n",
       "      <td>Speeding</td>\n",
       "      <td>False</td>\n",
       "      <td>NaN</td>\n",
       "      <td>Citation</td>\n",
       "      <td>False</td>\n",
       "      <td>0-15 Min</td>\n",
       "      <td>False</td>\n",
       "    </tr>\n",
       "    <tr>\n",
       "      <th>65533</th>\n",
       "      <td>12/7/2012</td>\n",
       "      <td>0:23</td>\n",
       "      <td>NaN</td>\n",
       "      <td>NaN</td>\n",
       "      <td>NaN</td>\n",
       "      <td>NaN</td>\n",
       "      <td>NaN</td>\n",
       "      <td>NaN</td>\n",
       "      <td>NaN</td>\n",
       "      <td>False</td>\n",
       "      <td>NaN</td>\n",
       "      <td>NaN</td>\n",
       "      <td>NaN</td>\n",
       "      <td>NaN</td>\n",
       "      <td>False</td>\n",
       "    </tr>\n",
       "    <tr>\n",
       "      <th>65532</th>\n",
       "      <td>12/6/2012</td>\n",
       "      <td>23:20</td>\n",
       "      <td>NaN</td>\n",
       "      <td>M</td>\n",
       "      <td>1985.0</td>\n",
       "      <td>27.0</td>\n",
       "      <td>Black</td>\n",
       "      <td>Equipment/Inspection Violation</td>\n",
       "      <td>Equipment</td>\n",
       "      <td>False</td>\n",
       "      <td>NaN</td>\n",
       "      <td>Citation</td>\n",
       "      <td>False</td>\n",
       "      <td>0-15 Min</td>\n",
       "      <td>False</td>\n",
       "    </tr>\n",
       "    <tr>\n",
       "      <th>65531</th>\n",
       "      <td>12/6/2012</td>\n",
       "      <td>22:22</td>\n",
       "      <td>NaN</td>\n",
       "      <td>M</td>\n",
       "      <td>1954.0</td>\n",
       "      <td>58.0</td>\n",
       "      <td>White</td>\n",
       "      <td>Speeding</td>\n",
       "      <td>Speeding</td>\n",
       "      <td>False</td>\n",
       "      <td>NaN</td>\n",
       "      <td>Warning</td>\n",
       "      <td>False</td>\n",
       "      <td>0-15 Min</td>\n",
       "      <td>False</td>\n",
       "    </tr>\n",
       "    <tr>\n",
       "      <th>65530</th>\n",
       "      <td>12/6/2012</td>\n",
       "      <td>17:54</td>\n",
       "      <td>NaN</td>\n",
       "      <td>F</td>\n",
       "      <td>1987.0</td>\n",
       "      <td>25.0</td>\n",
       "      <td>White</td>\n",
       "      <td>Speeding</td>\n",
       "      <td>Speeding</td>\n",
       "      <td>False</td>\n",
       "      <td>NaN</td>\n",
       "      <td>Citation</td>\n",
       "      <td>False</td>\n",
       "      <td>0-15 Min</td>\n",
       "      <td>False</td>\n",
       "    </tr>\n",
       "    <tr>\n",
       "      <th>...</th>\n",
       "      <td>...</td>\n",
       "      <td>...</td>\n",
       "      <td>...</td>\n",
       "      <td>...</td>\n",
       "      <td>...</td>\n",
       "      <td>...</td>\n",
       "      <td>...</td>\n",
       "      <td>...</td>\n",
       "      <td>...</td>\n",
       "      <td>...</td>\n",
       "      <td>...</td>\n",
       "      <td>...</td>\n",
       "      <td>...</td>\n",
       "      <td>...</td>\n",
       "      <td>...</td>\n",
       "    </tr>\n",
       "    <tr>\n",
       "      <th>4</th>\n",
       "      <td>3/14/2005</td>\n",
       "      <td>10:00</td>\n",
       "      <td>NaN</td>\n",
       "      <td>F</td>\n",
       "      <td>1984.0</td>\n",
       "      <td>21.0</td>\n",
       "      <td>White</td>\n",
       "      <td>Speeding</td>\n",
       "      <td>Speeding</td>\n",
       "      <td>False</td>\n",
       "      <td>NaN</td>\n",
       "      <td>Citation</td>\n",
       "      <td>False</td>\n",
       "      <td>0-15 Min</td>\n",
       "      <td>False</td>\n",
       "    </tr>\n",
       "    <tr>\n",
       "      <th>3</th>\n",
       "      <td>2/20/2005</td>\n",
       "      <td>17:15</td>\n",
       "      <td>NaN</td>\n",
       "      <td>M</td>\n",
       "      <td>1986.0</td>\n",
       "      <td>19.0</td>\n",
       "      <td>White</td>\n",
       "      <td>Call for Service</td>\n",
       "      <td>Other</td>\n",
       "      <td>False</td>\n",
       "      <td>NaN</td>\n",
       "      <td>Arrest Driver</td>\n",
       "      <td>True</td>\n",
       "      <td>16-30 Min</td>\n",
       "      <td>False</td>\n",
       "    </tr>\n",
       "    <tr>\n",
       "      <th>2</th>\n",
       "      <td>1/23/2005</td>\n",
       "      <td>23:15</td>\n",
       "      <td>NaN</td>\n",
       "      <td>M</td>\n",
       "      <td>1972.0</td>\n",
       "      <td>33.0</td>\n",
       "      <td>White</td>\n",
       "      <td>Speeding</td>\n",
       "      <td>Speeding</td>\n",
       "      <td>False</td>\n",
       "      <td>NaN</td>\n",
       "      <td>Citation</td>\n",
       "      <td>False</td>\n",
       "      <td>0-15 Min</td>\n",
       "      <td>False</td>\n",
       "    </tr>\n",
       "    <tr>\n",
       "      <th>1</th>\n",
       "      <td>1/18/2005</td>\n",
       "      <td>8:15</td>\n",
       "      <td>NaN</td>\n",
       "      <td>M</td>\n",
       "      <td>1965.0</td>\n",
       "      <td>40.0</td>\n",
       "      <td>White</td>\n",
       "      <td>Speeding</td>\n",
       "      <td>Speeding</td>\n",
       "      <td>False</td>\n",
       "      <td>NaN</td>\n",
       "      <td>Citation</td>\n",
       "      <td>False</td>\n",
       "      <td>0-15 Min</td>\n",
       "      <td>False</td>\n",
       "    </tr>\n",
       "    <tr>\n",
       "      <th>0</th>\n",
       "      <td>1/2/2005</td>\n",
       "      <td>1:55</td>\n",
       "      <td>NaN</td>\n",
       "      <td>M</td>\n",
       "      <td>1985.0</td>\n",
       "      <td>20.0</td>\n",
       "      <td>White</td>\n",
       "      <td>Speeding</td>\n",
       "      <td>Speeding</td>\n",
       "      <td>False</td>\n",
       "      <td>NaN</td>\n",
       "      <td>Citation</td>\n",
       "      <td>False</td>\n",
       "      <td>0-15 Min</td>\n",
       "      <td>False</td>\n",
       "    </tr>\n",
       "  </tbody>\n",
       "</table>\n",
       "<p>65535 rows × 15 columns</p>\n",
       "</div>"
      ],
      "text/plain": [
       "       stop_date stop_time  country_name driver_gender  driver_age_raw  \\\n",
       "65534  12/7/2012      0:30           NaN             F          1985.0   \n",
       "65533  12/7/2012      0:23           NaN           NaN             NaN   \n",
       "65532  12/6/2012     23:20           NaN             M          1985.0   \n",
       "65531  12/6/2012     22:22           NaN             M          1954.0   \n",
       "65530  12/6/2012     17:54           NaN             F          1987.0   \n",
       "...          ...       ...           ...           ...             ...   \n",
       "4      3/14/2005     10:00           NaN             F          1984.0   \n",
       "3      2/20/2005     17:15           NaN             M          1986.0   \n",
       "2      1/23/2005     23:15           NaN             M          1972.0   \n",
       "1      1/18/2005      8:15           NaN             M          1965.0   \n",
       "0       1/2/2005      1:55           NaN             M          1985.0   \n",
       "\n",
       "       driver_age driver_race                   violation_raw  violation  \\\n",
       "65534        27.0       White                        Speeding   Speeding   \n",
       "65533         NaN         NaN                             NaN        NaN   \n",
       "65532        27.0       Black  Equipment/Inspection Violation  Equipment   \n",
       "65531        58.0       White                        Speeding   Speeding   \n",
       "65530        25.0       White                        Speeding   Speeding   \n",
       "...           ...         ...                             ...        ...   \n",
       "4            21.0       White                        Speeding   Speeding   \n",
       "3            19.0       White                Call for Service      Other   \n",
       "2            33.0       White                        Speeding   Speeding   \n",
       "1            40.0       White                        Speeding   Speeding   \n",
       "0            20.0       White                        Speeding   Speeding   \n",
       "\n",
       "       search_conducted search_type   stop_outcome is_arrested stop_duration  \\\n",
       "65534             False         NaN       Citation       False      0-15 Min   \n",
       "65533             False         NaN            NaN         NaN           NaN   \n",
       "65532             False         NaN       Citation       False      0-15 Min   \n",
       "65531             False         NaN        Warning       False      0-15 Min   \n",
       "65530             False         NaN       Citation       False      0-15 Min   \n",
       "...                 ...         ...            ...         ...           ...   \n",
       "4                 False         NaN       Citation       False      0-15 Min   \n",
       "3                 False         NaN  Arrest Driver        True     16-30 Min   \n",
       "2                 False         NaN       Citation       False      0-15 Min   \n",
       "1                 False         NaN       Citation       False      0-15 Min   \n",
       "0                 False         NaN       Citation       False      0-15 Min   \n",
       "\n",
       "       drugs_related_stop  \n",
       "65534               False  \n",
       "65533               False  \n",
       "65532               False  \n",
       "65531               False  \n",
       "65530               False  \n",
       "...                   ...  \n",
       "4                   False  \n",
       "3                   False  \n",
       "2                   False  \n",
       "1                   False  \n",
       "0                   False  \n",
       "\n",
       "[65535 rows x 15 columns]"
      ]
     },
     "execution_count": 6,
     "metadata": {},
     "output_type": "execute_result"
    }
   ],
   "source": [
    "polic[::-1]   #if u wannt to aces last row then u can step in minus"
   ]
  },
  {
   "cell_type": "code",
   "execution_count": 29,
   "id": "12e05da4",
   "metadata": {},
   "outputs": [
    {
     "data": {
      "text/plain": [
       "'Sunday'"
      ]
     },
     "execution_count": 29,
     "metadata": {},
     "output_type": "execute_result"
    }
   ],
   "source": [
    "polic.stop_date[0].day_name()             # for print the day_name()"
   ]
  },
  {
   "cell_type": "code",
   "execution_count": 30,
   "id": "45fe2635",
   "metadata": {},
   "outputs": [
    {
     "data": {
      "text/html": [
       "<div>\n",
       "<style scoped>\n",
       "    .dataframe tbody tr th:only-of-type {\n",
       "        vertical-align: middle;\n",
       "    }\n",
       "\n",
       "    .dataframe tbody tr th {\n",
       "        vertical-align: top;\n",
       "    }\n",
       "\n",
       "    .dataframe thead th {\n",
       "        text-align: right;\n",
       "    }\n",
       "</style>\n",
       "<table border=\"1\" class=\"dataframe\">\n",
       "  <thead>\n",
       "    <tr style=\"text-align: right;\">\n",
       "      <th></th>\n",
       "      <th>country_name</th>\n",
       "      <th>driver_age_raw</th>\n",
       "      <th>driver_age</th>\n",
       "    </tr>\n",
       "  </thead>\n",
       "  <tbody>\n",
       "    <tr>\n",
       "      <th>count</th>\n",
       "      <td>0.0</td>\n",
       "      <td>61481.000000</td>\n",
       "      <td>61228.000000</td>\n",
       "    </tr>\n",
       "    <tr>\n",
       "      <th>mean</th>\n",
       "      <td>NaN</td>\n",
       "      <td>1967.791106</td>\n",
       "      <td>34.148984</td>\n",
       "    </tr>\n",
       "    <tr>\n",
       "      <th>std</th>\n",
       "      <td>NaN</td>\n",
       "      <td>121.050106</td>\n",
       "      <td>12.760710</td>\n",
       "    </tr>\n",
       "    <tr>\n",
       "      <th>min</th>\n",
       "      <td>NaN</td>\n",
       "      <td>0.000000</td>\n",
       "      <td>15.000000</td>\n",
       "    </tr>\n",
       "    <tr>\n",
       "      <th>25%</th>\n",
       "      <td>NaN</td>\n",
       "      <td>1965.000000</td>\n",
       "      <td>23.000000</td>\n",
       "    </tr>\n",
       "    <tr>\n",
       "      <th>50%</th>\n",
       "      <td>NaN</td>\n",
       "      <td>1978.000000</td>\n",
       "      <td>31.000000</td>\n",
       "    </tr>\n",
       "    <tr>\n",
       "      <th>75%</th>\n",
       "      <td>NaN</td>\n",
       "      <td>1985.000000</td>\n",
       "      <td>43.000000</td>\n",
       "    </tr>\n",
       "    <tr>\n",
       "      <th>max</th>\n",
       "      <td>NaN</td>\n",
       "      <td>8801.000000</td>\n",
       "      <td>88.000000</td>\n",
       "    </tr>\n",
       "  </tbody>\n",
       "</table>\n",
       "</div>"
      ],
      "text/plain": [
       "       country_name  driver_age_raw    driver_age\n",
       "count           0.0    61481.000000  61228.000000\n",
       "mean            NaN     1967.791106     34.148984\n",
       "std             NaN      121.050106     12.760710\n",
       "min             NaN        0.000000     15.000000\n",
       "25%             NaN     1965.000000     23.000000\n",
       "50%             NaN     1978.000000     31.000000\n",
       "75%             NaN     1985.000000     43.000000\n",
       "max             NaN     8801.000000     88.000000"
      ]
     },
     "execution_count": 30,
     "metadata": {},
     "output_type": "execute_result"
    }
   ],
   "source": [
    "polic.describe()"
   ]
  },
  {
   "cell_type": "code",
   "execution_count": 9,
   "id": "f8d7d925",
   "metadata": {},
   "outputs": [
    {
     "data": {
      "text/html": [
       "<div>\n",
       "<style scoped>\n",
       "    .dataframe tbody tr th:only-of-type {\n",
       "        vertical-align: middle;\n",
       "    }\n",
       "\n",
       "    .dataframe tbody tr th {\n",
       "        vertical-align: top;\n",
       "    }\n",
       "\n",
       "    .dataframe thead th {\n",
       "        text-align: right;\n",
       "    }\n",
       "</style>\n",
       "<table border=\"1\" class=\"dataframe\">\n",
       "  <thead>\n",
       "    <tr style=\"text-align: right;\">\n",
       "      <th></th>\n",
       "      <th>stop_date</th>\n",
       "      <th>stop_time</th>\n",
       "      <th>country_name</th>\n",
       "      <th>driver_gender</th>\n",
       "      <th>driver_age_raw</th>\n",
       "      <th>driver_age</th>\n",
       "      <th>driver_race</th>\n",
       "      <th>violation_raw</th>\n",
       "      <th>violation</th>\n",
       "      <th>search_conducted</th>\n",
       "      <th>search_type</th>\n",
       "      <th>stop_outcome</th>\n",
       "      <th>is_arrested</th>\n",
       "      <th>stop_duration</th>\n",
       "      <th>drugs_related_stop</th>\n",
       "    </tr>\n",
       "  </thead>\n",
       "  <tbody>\n",
       "    <tr>\n",
       "      <th>65534</th>\n",
       "      <td>2012-12-07</td>\n",
       "      <td>2021-07-06 00:30:00</td>\n",
       "      <td>NaN</td>\n",
       "      <td>F</td>\n",
       "      <td>1985.0</td>\n",
       "      <td>27.0</td>\n",
       "      <td>White</td>\n",
       "      <td>Speeding</td>\n",
       "      <td>Speeding</td>\n",
       "      <td>False</td>\n",
       "      <td>NaN</td>\n",
       "      <td>Citation</td>\n",
       "      <td>False</td>\n",
       "      <td>0-15 Min</td>\n",
       "      <td>False</td>\n",
       "    </tr>\n",
       "    <tr>\n",
       "      <th>65533</th>\n",
       "      <td>2012-12-07</td>\n",
       "      <td>2021-07-06 00:23:00</td>\n",
       "      <td>NaN</td>\n",
       "      <td>NaN</td>\n",
       "      <td>NaN</td>\n",
       "      <td>NaN</td>\n",
       "      <td>NaN</td>\n",
       "      <td>NaN</td>\n",
       "      <td>NaN</td>\n",
       "      <td>False</td>\n",
       "      <td>NaN</td>\n",
       "      <td>NaN</td>\n",
       "      <td>NaN</td>\n",
       "      <td>NaN</td>\n",
       "      <td>False</td>\n",
       "    </tr>\n",
       "    <tr>\n",
       "      <th>65532</th>\n",
       "      <td>2012-12-06</td>\n",
       "      <td>2021-07-06 23:20:00</td>\n",
       "      <td>NaN</td>\n",
       "      <td>M</td>\n",
       "      <td>1985.0</td>\n",
       "      <td>27.0</td>\n",
       "      <td>Black</td>\n",
       "      <td>Equipment/Inspection Violation</td>\n",
       "      <td>Equipment</td>\n",
       "      <td>False</td>\n",
       "      <td>NaN</td>\n",
       "      <td>Citation</td>\n",
       "      <td>False</td>\n",
       "      <td>0-15 Min</td>\n",
       "      <td>False</td>\n",
       "    </tr>\n",
       "    <tr>\n",
       "      <th>65531</th>\n",
       "      <td>2012-12-06</td>\n",
       "      <td>2021-07-06 22:22:00</td>\n",
       "      <td>NaN</td>\n",
       "      <td>M</td>\n",
       "      <td>1954.0</td>\n",
       "      <td>58.0</td>\n",
       "      <td>White</td>\n",
       "      <td>Speeding</td>\n",
       "      <td>Speeding</td>\n",
       "      <td>False</td>\n",
       "      <td>NaN</td>\n",
       "      <td>Warning</td>\n",
       "      <td>False</td>\n",
       "      <td>0-15 Min</td>\n",
       "      <td>False</td>\n",
       "    </tr>\n",
       "    <tr>\n",
       "      <th>65530</th>\n",
       "      <td>2012-12-06</td>\n",
       "      <td>2021-07-06 17:54:00</td>\n",
       "      <td>NaN</td>\n",
       "      <td>F</td>\n",
       "      <td>1987.0</td>\n",
       "      <td>25.0</td>\n",
       "      <td>White</td>\n",
       "      <td>Speeding</td>\n",
       "      <td>Speeding</td>\n",
       "      <td>False</td>\n",
       "      <td>NaN</td>\n",
       "      <td>Citation</td>\n",
       "      <td>False</td>\n",
       "      <td>0-15 Min</td>\n",
       "      <td>False</td>\n",
       "    </tr>\n",
       "  </tbody>\n",
       "</table>\n",
       "</div>"
      ],
      "text/plain": [
       "       stop_date           stop_time  country_name driver_gender  \\\n",
       "65534 2012-12-07 2021-07-06 00:30:00           NaN             F   \n",
       "65533 2012-12-07 2021-07-06 00:23:00           NaN           NaN   \n",
       "65532 2012-12-06 2021-07-06 23:20:00           NaN             M   \n",
       "65531 2012-12-06 2021-07-06 22:22:00           NaN             M   \n",
       "65530 2012-12-06 2021-07-06 17:54:00           NaN             F   \n",
       "\n",
       "       driver_age_raw  driver_age driver_race                   violation_raw  \\\n",
       "65534          1985.0        27.0       White                        Speeding   \n",
       "65533             NaN         NaN         NaN                             NaN   \n",
       "65532          1985.0        27.0       Black  Equipment/Inspection Violation   \n",
       "65531          1954.0        58.0       White                        Speeding   \n",
       "65530          1987.0        25.0       White                        Speeding   \n",
       "\n",
       "       violation  search_conducted search_type stop_outcome is_arrested  \\\n",
       "65534   Speeding             False         NaN     Citation       False   \n",
       "65533        NaN             False         NaN          NaN         NaN   \n",
       "65532  Equipment             False         NaN     Citation       False   \n",
       "65531   Speeding             False         NaN      Warning       False   \n",
       "65530   Speeding             False         NaN     Citation       False   \n",
       "\n",
       "      stop_duration  drugs_related_stop  \n",
       "65534      0-15 Min               False  \n",
       "65533           NaN               False  \n",
       "65532      0-15 Min               False  \n",
       "65531      0-15 Min               False  \n",
       "65530      0-15 Min               False  "
      ]
     },
     "execution_count": 9,
     "metadata": {},
     "output_type": "execute_result"
    }
   ],
   "source": [
    "polic[::-1].head()           #for print the last position row  last 2 row "
   ]
  },
  {
   "cell_type": "code",
   "execution_count": 18,
   "id": "4c7be183",
   "metadata": {},
   "outputs": [
    {
     "data": {
      "text/plain": [
       "RangeIndex(start=0, stop=65535, step=1)"
      ]
     },
     "execution_count": 18,
     "metadata": {},
     "output_type": "execute_result"
    }
   ],
   "source": [
    "polic.index"
   ]
  },
  {
   "cell_type": "code",
   "execution_count": 15,
   "id": "10c462f8",
   "metadata": {},
   "outputs": [
    {
     "data": {
      "text/html": [
       "<div>\n",
       "<style scoped>\n",
       "    .dataframe tbody tr th:only-of-type {\n",
       "        vertical-align: middle;\n",
       "    }\n",
       "\n",
       "    .dataframe tbody tr th {\n",
       "        vertical-align: top;\n",
       "    }\n",
       "\n",
       "    .dataframe thead th {\n",
       "        text-align: right;\n",
       "    }\n",
       "</style>\n",
       "<table border=\"1\" class=\"dataframe\">\n",
       "  <thead>\n",
       "    <tr style=\"text-align: right;\">\n",
       "      <th></th>\n",
       "      <th>stop_date</th>\n",
       "      <th>stop_time</th>\n",
       "      <th>country_name</th>\n",
       "      <th>driver_gender</th>\n",
       "      <th>driver_age_raw</th>\n",
       "      <th>driver_age</th>\n",
       "      <th>driver_race</th>\n",
       "      <th>violation_raw</th>\n",
       "      <th>violation</th>\n",
       "      <th>search_conducted</th>\n",
       "      <th>search_type</th>\n",
       "      <th>stop_outcome</th>\n",
       "      <th>is_arrested</th>\n",
       "      <th>stop_duration</th>\n",
       "      <th>drugs_related_stop</th>\n",
       "    </tr>\n",
       "  </thead>\n",
       "  <tbody>\n",
       "    <tr>\n",
       "      <th>0</th>\n",
       "      <td>2012-12-07</td>\n",
       "      <td>2021-07-06 00:30:00</td>\n",
       "      <td>NaN</td>\n",
       "      <td>F</td>\n",
       "      <td>1985.0</td>\n",
       "      <td>27.0</td>\n",
       "      <td>White</td>\n",
       "      <td>Speeding</td>\n",
       "      <td>Speeding</td>\n",
       "      <td>False</td>\n",
       "      <td>NaN</td>\n",
       "      <td>Citation</td>\n",
       "      <td>False</td>\n",
       "      <td>0-15 Min</td>\n",
       "      <td>False</td>\n",
       "    </tr>\n",
       "    <tr>\n",
       "      <th>1</th>\n",
       "      <td>2012-12-07</td>\n",
       "      <td>2021-07-06 00:23:00</td>\n",
       "      <td>NaN</td>\n",
       "      <td>NaN</td>\n",
       "      <td>NaN</td>\n",
       "      <td>NaN</td>\n",
       "      <td>NaN</td>\n",
       "      <td>NaN</td>\n",
       "      <td>NaN</td>\n",
       "      <td>False</td>\n",
       "      <td>NaN</td>\n",
       "      <td>NaN</td>\n",
       "      <td>NaN</td>\n",
       "      <td>NaN</td>\n",
       "      <td>False</td>\n",
       "    </tr>\n",
       "    <tr>\n",
       "      <th>2</th>\n",
       "      <td>2012-12-06</td>\n",
       "      <td>2021-07-06 23:20:00</td>\n",
       "      <td>NaN</td>\n",
       "      <td>M</td>\n",
       "      <td>1985.0</td>\n",
       "      <td>27.0</td>\n",
       "      <td>Black</td>\n",
       "      <td>Equipment/Inspection Violation</td>\n",
       "      <td>Equipment</td>\n",
       "      <td>False</td>\n",
       "      <td>NaN</td>\n",
       "      <td>Citation</td>\n",
       "      <td>False</td>\n",
       "      <td>0-15 Min</td>\n",
       "      <td>False</td>\n",
       "    </tr>\n",
       "    <tr>\n",
       "      <th>3</th>\n",
       "      <td>2012-12-06</td>\n",
       "      <td>2021-07-06 22:22:00</td>\n",
       "      <td>NaN</td>\n",
       "      <td>M</td>\n",
       "      <td>1954.0</td>\n",
       "      <td>58.0</td>\n",
       "      <td>White</td>\n",
       "      <td>Speeding</td>\n",
       "      <td>Speeding</td>\n",
       "      <td>False</td>\n",
       "      <td>NaN</td>\n",
       "      <td>Warning</td>\n",
       "      <td>False</td>\n",
       "      <td>0-15 Min</td>\n",
       "      <td>False</td>\n",
       "    </tr>\n",
       "    <tr>\n",
       "      <th>4</th>\n",
       "      <td>2012-12-06</td>\n",
       "      <td>2021-07-06 17:54:00</td>\n",
       "      <td>NaN</td>\n",
       "      <td>F</td>\n",
       "      <td>1987.0</td>\n",
       "      <td>25.0</td>\n",
       "      <td>White</td>\n",
       "      <td>Speeding</td>\n",
       "      <td>Speeding</td>\n",
       "      <td>False</td>\n",
       "      <td>NaN</td>\n",
       "      <td>Citation</td>\n",
       "      <td>False</td>\n",
       "      <td>0-15 Min</td>\n",
       "      <td>False</td>\n",
       "    </tr>\n",
       "  </tbody>\n",
       "</table>\n",
       "</div>"
      ],
      "text/plain": [
       "   stop_date           stop_time  country_name driver_gender  driver_age_raw  \\\n",
       "0 2012-12-07 2021-07-06 00:30:00           NaN             F          1985.0   \n",
       "1 2012-12-07 2021-07-06 00:23:00           NaN           NaN             NaN   \n",
       "2 2012-12-06 2021-07-06 23:20:00           NaN             M          1985.0   \n",
       "3 2012-12-06 2021-07-06 22:22:00           NaN             M          1954.0   \n",
       "4 2012-12-06 2021-07-06 17:54:00           NaN             F          1987.0   \n",
       "\n",
       "   driver_age driver_race                   violation_raw  violation  \\\n",
       "0        27.0       White                        Speeding   Speeding   \n",
       "1         NaN         NaN                             NaN        NaN   \n",
       "2        27.0       Black  Equipment/Inspection Violation  Equipment   \n",
       "3        58.0       White                        Speeding   Speeding   \n",
       "4        25.0       White                        Speeding   Speeding   \n",
       "\n",
       "   search_conducted search_type stop_outcome is_arrested stop_duration  \\\n",
       "0             False         NaN     Citation       False      0-15 Min   \n",
       "1             False         NaN          NaN         NaN           NaN   \n",
       "2             False         NaN     Citation       False      0-15 Min   \n",
       "3             False         NaN      Warning       False      0-15 Min   \n",
       "4             False         NaN     Citation       False      0-15 Min   \n",
       "\n",
       "   drugs_related_stop  \n",
       "0               False  \n",
       "1               False  \n",
       "2               False  \n",
       "3               False  \n",
       "4               False  "
      ]
     },
     "execution_count": 15,
     "metadata": {},
     "output_type": "execute_result"
    }
   ],
   "source": [
    "polic[::-1].reset_index(drop=True).head()       #print last five row but index is true "
   ]
  },
  {
   "cell_type": "markdown",
   "id": "96dacea7",
   "metadata": {},
   "source": [
    "# reverse column printe\n",
    "if you want to acces reverse column name then u always remeber that slicing is not support <br>\n",
    "the column  name but u can use here column name by the loc function <br>\n",
    " and here step point given in minus value"
   ]
  },
  {
   "cell_type": "code",
   "execution_count": 68,
   "id": "e2d519f7",
   "metadata": {},
   "outputs": [
    {
     "data": {
      "text/html": [
       "<div>\n",
       "<style scoped>\n",
       "    .dataframe tbody tr th:only-of-type {\n",
       "        vertical-align: middle;\n",
       "    }\n",
       "\n",
       "    .dataframe tbody tr th {\n",
       "        vertical-align: top;\n",
       "    }\n",
       "\n",
       "    .dataframe thead th {\n",
       "        text-align: right;\n",
       "    }\n",
       "</style>\n",
       "<table border=\"1\" class=\"dataframe\">\n",
       "  <thead>\n",
       "    <tr style=\"text-align: right;\">\n",
       "      <th></th>\n",
       "      <th>col two</th>\n",
       "      <th>col one</th>\n",
       "    </tr>\n",
       "  </thead>\n",
       "  <tbody>\n",
       "    <tr>\n",
       "      <th>0</th>\n",
       "      <td>4</td>\n",
       "      <td>2</td>\n",
       "    </tr>\n",
       "    <tr>\n",
       "      <th>1</th>\n",
       "      <td>9</td>\n",
       "      <td>4</td>\n",
       "    </tr>\n",
       "  </tbody>\n",
       "</table>\n",
       "</div>"
      ],
      "text/plain": [
       "   col two  col one\n",
       "0        4        2\n",
       "1        9        4"
      ]
     },
     "execution_count": 68,
     "metadata": {},
     "output_type": "execute_result"
    }
   ],
   "source": [
    "df2.loc[:,::-1]          #for print the reverse column name"
   ]
  },
  {
   "cell_type": "markdown",
   "id": "a61f4585",
   "metadata": {},
   "source": [
    "# select column data by using data dtype"
   ]
  },
  {
   "cell_type": "code",
   "execution_count": 71,
   "id": "610680db",
   "metadata": {},
   "outputs": [
    {
     "data": {
      "text/html": [
       "<div>\n",
       "<style scoped>\n",
       "    .dataframe tbody tr th:only-of-type {\n",
       "        vertical-align: middle;\n",
       "    }\n",
       "\n",
       "    .dataframe tbody tr th {\n",
       "        vertical-align: top;\n",
       "    }\n",
       "\n",
       "    .dataframe thead th {\n",
       "        text-align: right;\n",
       "    }\n",
       "</style>\n",
       "<table border=\"1\" class=\"dataframe\">\n",
       "  <thead>\n",
       "    <tr style=\"text-align: right;\">\n",
       "      <th></th>\n",
       "      <th>stop_date</th>\n",
       "      <th>stop_time</th>\n",
       "      <th>country_name</th>\n",
       "      <th>driver_gender</th>\n",
       "      <th>driver_age_raw</th>\n",
       "      <th>driver_age</th>\n",
       "      <th>driver_race</th>\n",
       "      <th>violation_raw</th>\n",
       "      <th>violation</th>\n",
       "      <th>search_conducted</th>\n",
       "      <th>search_type</th>\n",
       "      <th>stop_outcome</th>\n",
       "      <th>is_arrested</th>\n",
       "      <th>stop_duration</th>\n",
       "      <th>drugs_related_stop</th>\n",
       "    </tr>\n",
       "  </thead>\n",
       "  <tbody>\n",
       "    <tr>\n",
       "      <th>0</th>\n",
       "      <td>1/2/2005</td>\n",
       "      <td>1:55</td>\n",
       "      <td>NaN</td>\n",
       "      <td>M</td>\n",
       "      <td>1985.0</td>\n",
       "      <td>20.0</td>\n",
       "      <td>White</td>\n",
       "      <td>Speeding</td>\n",
       "      <td>Speeding</td>\n",
       "      <td>False</td>\n",
       "      <td>NaN</td>\n",
       "      <td>Citation</td>\n",
       "      <td>False</td>\n",
       "      <td>0-15 Min</td>\n",
       "      <td>False</td>\n",
       "    </tr>\n",
       "    <tr>\n",
       "      <th>1</th>\n",
       "      <td>1/18/2005</td>\n",
       "      <td>8:15</td>\n",
       "      <td>NaN</td>\n",
       "      <td>M</td>\n",
       "      <td>1965.0</td>\n",
       "      <td>40.0</td>\n",
       "      <td>White</td>\n",
       "      <td>Speeding</td>\n",
       "      <td>Speeding</td>\n",
       "      <td>False</td>\n",
       "      <td>NaN</td>\n",
       "      <td>Citation</td>\n",
       "      <td>False</td>\n",
       "      <td>0-15 Min</td>\n",
       "      <td>False</td>\n",
       "    </tr>\n",
       "  </tbody>\n",
       "</table>\n",
       "</div>"
      ],
      "text/plain": [
       "   stop_date stop_time  country_name driver_gender  driver_age_raw  \\\n",
       "0   1/2/2005      1:55           NaN             M          1985.0   \n",
       "1  1/18/2005      8:15           NaN             M          1965.0   \n",
       "\n",
       "   driver_age driver_race violation_raw violation  search_conducted  \\\n",
       "0        20.0       White      Speeding  Speeding             False   \n",
       "1        40.0       White      Speeding  Speeding             False   \n",
       "\n",
       "  search_type stop_outcome is_arrested stop_duration  drugs_related_stop  \n",
       "0         NaN     Citation       False      0-15 Min               False  \n",
       "1         NaN     Citation       False      0-15 Min               False  "
      ]
     },
     "execution_count": 71,
     "metadata": {},
     "output_type": "execute_result"
    }
   ],
   "source": [
    "polic.head(2)"
   ]
  },
  {
   "cell_type": "code",
   "execution_count": 75,
   "id": "af7aa39b",
   "metadata": {},
   "outputs": [
    {
     "data": {
      "text/plain": [
       "stop_date              object\n",
       "stop_time              object\n",
       "country_name          float64\n",
       "driver_gender          object\n",
       "driver_age_raw        float64\n",
       "driver_age            float64\n",
       "driver_race            object\n",
       "violation_raw          object\n",
       "violation              object\n",
       "search_conducted         bool\n",
       "search_type            object\n",
       "stop_outcome           object\n",
       "is_arrested            object\n",
       "stop_duration          object\n",
       "drugs_related_stop       bool\n",
       "dtype: object"
      ]
     },
     "execution_count": 75,
     "metadata": {},
     "output_type": "execute_result"
    }
   ],
   "source": [
    "polic.dtypes"
   ]
  },
  {
   "cell_type": "code",
   "execution_count": 40,
   "id": "7f2cf132",
   "metadata": {},
   "outputs": [
    {
     "data": {
      "text/html": [
       "<div>\n",
       "<style scoped>\n",
       "    .dataframe tbody tr th:only-of-type {\n",
       "        vertical-align: middle;\n",
       "    }\n",
       "\n",
       "    .dataframe tbody tr th {\n",
       "        vertical-align: top;\n",
       "    }\n",
       "\n",
       "    .dataframe thead th {\n",
       "        text-align: right;\n",
       "    }\n",
       "</style>\n",
       "<table border=\"1\" class=\"dataframe\">\n",
       "  <thead>\n",
       "    <tr style=\"text-align: right;\">\n",
       "      <th></th>\n",
       "      <th>driver_gender</th>\n",
       "      <th>driver_race</th>\n",
       "      <th>violation_raw</th>\n",
       "      <th>violation</th>\n",
       "      <th>search_type</th>\n",
       "      <th>stop_outcome</th>\n",
       "      <th>is_arrested</th>\n",
       "      <th>stop_duration</th>\n",
       "    </tr>\n",
       "  </thead>\n",
       "  <tbody>\n",
       "    <tr>\n",
       "      <th>0</th>\n",
       "      <td>M</td>\n",
       "      <td>White</td>\n",
       "      <td>Speeding</td>\n",
       "      <td>Speeding</td>\n",
       "      <td>NaN</td>\n",
       "      <td>Citation</td>\n",
       "      <td>False</td>\n",
       "      <td>0-15 Min</td>\n",
       "    </tr>\n",
       "    <tr>\n",
       "      <th>1</th>\n",
       "      <td>M</td>\n",
       "      <td>White</td>\n",
       "      <td>Speeding</td>\n",
       "      <td>Speeding</td>\n",
       "      <td>NaN</td>\n",
       "      <td>Citation</td>\n",
       "      <td>False</td>\n",
       "      <td>0-15 Min</td>\n",
       "    </tr>\n",
       "  </tbody>\n",
       "</table>\n",
       "</div>"
      ],
      "text/plain": [
       "  driver_gender driver_race violation_raw violation search_type stop_outcome  \\\n",
       "0             M       White      Speeding  Speeding         NaN     Citation   \n",
       "1             M       White      Speeding  Speeding         NaN     Citation   \n",
       "\n",
       "  is_arrested stop_duration  \n",
       "0       False      0-15 Min  \n",
       "1       False      0-15 Min  "
      ]
     },
     "execution_count": 40,
     "metadata": {},
     "output_type": "execute_result"
    }
   ],
   "source": [
    "polic.select_dtypes(include='object').head(2)   \n",
    "# polic.select_dtypes(include='O').head(2)   simply you can use capital 'O'\n",
    "#whenever meet the condition than print datafrma acording to selecting include parameter"
   ]
  },
  {
   "cell_type": "code",
   "execution_count": 7,
   "id": "eb984743",
   "metadata": {},
   "outputs": [
    {
     "data": {
      "text/plain": [
       "driver_gender    object\n",
       "driver_race      object\n",
       "violation_raw    object\n",
       "violation        object\n",
       "search_type      object\n",
       "stop_outcome     object\n",
       "is_arrested      object\n",
       "stop_duration    object\n",
       "dtype: object"
      ]
     },
     "execution_count": 7,
     "metadata": {},
     "output_type": "execute_result"
    }
   ],
   "source": [
    "polic.dtypes[polic.dtypes=='object']\n",
    "\n",
    "# or\n",
    "\n",
    "polic.dtypes[polic.dtypes=='O']\n",
    "\n",
    "# second method"
   ]
  },
  {
   "cell_type": "code",
   "execution_count": 45,
   "id": "7b3e0cbf",
   "metadata": {},
   "outputs": [
    {
     "data": {
      "text/plain": [
       "object    8\n",
       "dtype: int64"
      ]
     },
     "execution_count": 45,
     "metadata": {},
     "output_type": "execute_result"
    }
   ],
   "source": [
    "# pd.value_counts(polic.select_dtypes(include='object').dtypes ) \n",
    "\n",
    "\n",
    "polic.select_dtypes(include='O').dtypes.value_counts()\n",
    "\n",
    "\n",
    "#according to this condition value_counts returning 10 , \n",
    "#it means, here 10 objects columns are present there"
   ]
  },
  {
   "cell_type": "code",
   "execution_count": 48,
   "id": "20e92af8",
   "metadata": {},
   "outputs": [
    {
     "ename": "ValueError",
     "evalue": "could not broadcast input array from shape (65535,8) into shape (65535,)",
     "output_type": "error",
     "traceback": [
      "\u001b[1;31m---------------------------------------------------------------------------\u001b[0m",
      "\u001b[1;31mValueError\u001b[0m                                Traceback (most recent call last)",
      "Input \u001b[1;32mIn [48]\u001b[0m, in \u001b[0;36m<cell line: 1>\u001b[1;34m()\u001b[0m\n\u001b[1;32m----> 1\u001b[0m \u001b[43mpd\u001b[49m\u001b[38;5;241;43m.\u001b[39;49m\u001b[43mvalue_counts\u001b[49m\u001b[43m(\u001b[49m\u001b[43mpolic\u001b[49m\u001b[38;5;241;43m.\u001b[39;49m\u001b[43mselect_dtypes\u001b[49m\u001b[43m(\u001b[49m\u001b[43minclude\u001b[49m\u001b[38;5;241;43m=\u001b[39;49m\u001b[38;5;124;43m'\u001b[39;49m\u001b[38;5;124;43mobject\u001b[39;49m\u001b[38;5;124;43m'\u001b[39;49m\u001b[43m)\u001b[49m\u001b[43m \u001b[49m\u001b[43m)\u001b[49m\n",
      "File \u001b[1;32m~\\AppData\\Local\\Programs\\Python\\Python310\\lib\\site-packages\\pandas\\core\\algorithms.py:869\u001b[0m, in \u001b[0;36mvalue_counts\u001b[1;34m(values, sort, ascending, normalize, bins, dropna)\u001b[0m\n\u001b[0;32m    866\u001b[0m         counts \u001b[38;5;241m=\u001b[39m result\u001b[38;5;241m.\u001b[39m_values\n\u001b[0;32m    868\u001b[0m     \u001b[38;5;28;01melse\u001b[39;00m:\n\u001b[1;32m--> 869\u001b[0m         keys, counts \u001b[38;5;241m=\u001b[39m \u001b[43mvalue_counts_arraylike\u001b[49m\u001b[43m(\u001b[49m\u001b[43mvalues\u001b[49m\u001b[43m,\u001b[49m\u001b[43m \u001b[49m\u001b[43mdropna\u001b[49m\u001b[43m)\u001b[49m\n\u001b[0;32m    871\u001b[0m         result \u001b[38;5;241m=\u001b[39m Series(counts, index\u001b[38;5;241m=\u001b[39mkeys, name\u001b[38;5;241m=\u001b[39mname)\n\u001b[0;32m    873\u001b[0m \u001b[38;5;28;01mif\u001b[39;00m sort:\n",
      "File \u001b[1;32m~\\AppData\\Local\\Programs\\Python\\Python310\\lib\\site-packages\\pandas\\core\\algorithms.py:895\u001b[0m, in \u001b[0;36mvalue_counts_arraylike\u001b[1;34m(values, dropna)\u001b[0m\n\u001b[0;32m    883\u001b[0m \u001b[38;5;28;01mdef\u001b[39;00m \u001b[38;5;21mvalue_counts_arraylike\u001b[39m(values, dropna: \u001b[38;5;28mbool\u001b[39m):\n\u001b[0;32m    884\u001b[0m     \u001b[38;5;124;03m\"\"\"\u001b[39;00m\n\u001b[0;32m    885\u001b[0m \u001b[38;5;124;03m    Parameters\u001b[39;00m\n\u001b[0;32m    886\u001b[0m \u001b[38;5;124;03m    ----------\u001b[39;00m\n\u001b[1;32m   (...)\u001b[0m\n\u001b[0;32m    893\u001b[0m \u001b[38;5;124;03m    counts : np.ndarray\u001b[39;00m\n\u001b[0;32m    894\u001b[0m \u001b[38;5;124;03m    \"\"\"\u001b[39;00m\n\u001b[1;32m--> 895\u001b[0m     values \u001b[38;5;241m=\u001b[39m \u001b[43m_ensure_arraylike\u001b[49m\u001b[43m(\u001b[49m\u001b[43mvalues\u001b[49m\u001b[43m)\u001b[49m\n\u001b[0;32m    896\u001b[0m     original \u001b[38;5;241m=\u001b[39m values\n\u001b[0;32m    897\u001b[0m     values \u001b[38;5;241m=\u001b[39m _ensure_data(values)\n",
      "File \u001b[1;32m~\\AppData\\Local\\Programs\\Python\\Python310\\lib\\site-packages\\pandas\\core\\algorithms.py:247\u001b[0m, in \u001b[0;36m_ensure_arraylike\u001b[1;34m(values)\u001b[0m\n\u001b[0;32m    245\u001b[0m     \u001b[38;5;28;01mif\u001b[39;00m \u001b[38;5;28misinstance\u001b[39m(values, \u001b[38;5;28mtuple\u001b[39m):\n\u001b[0;32m    246\u001b[0m         values \u001b[38;5;241m=\u001b[39m \u001b[38;5;28mlist\u001b[39m(values)\n\u001b[1;32m--> 247\u001b[0m     values \u001b[38;5;241m=\u001b[39m \u001b[43mconstruct_1d_object_array_from_listlike\u001b[49m\u001b[43m(\u001b[49m\u001b[43mvalues\u001b[49m\u001b[43m)\u001b[49m\n\u001b[0;32m    248\u001b[0m \u001b[38;5;28;01melse\u001b[39;00m:\n\u001b[0;32m    249\u001b[0m     values \u001b[38;5;241m=\u001b[39m np\u001b[38;5;241m.\u001b[39masarray(values)\n",
      "File \u001b[1;32m~\\AppData\\Local\\Programs\\Python\\Python310\\lib\\site-packages\\pandas\\core\\dtypes\\cast.py:1983\u001b[0m, in \u001b[0;36mconstruct_1d_object_array_from_listlike\u001b[1;34m(values)\u001b[0m\n\u001b[0;32m   1980\u001b[0m \u001b[38;5;66;03m# numpy will try to interpret nested lists as further dimensions, hence\u001b[39;00m\n\u001b[0;32m   1981\u001b[0m \u001b[38;5;66;03m# making a 1D array that contains list-likes is a bit tricky:\u001b[39;00m\n\u001b[0;32m   1982\u001b[0m result \u001b[38;5;241m=\u001b[39m np\u001b[38;5;241m.\u001b[39mempty(\u001b[38;5;28mlen\u001b[39m(values), dtype\u001b[38;5;241m=\u001b[39m\u001b[38;5;124m\"\u001b[39m\u001b[38;5;124mobject\u001b[39m\u001b[38;5;124m\"\u001b[39m)\n\u001b[1;32m-> 1983\u001b[0m \u001b[43mresult\u001b[49m\u001b[43m[\u001b[49m\u001b[43m:\u001b[49m\u001b[43m]\u001b[49m \u001b[38;5;241m=\u001b[39m values\n\u001b[0;32m   1984\u001b[0m \u001b[38;5;28;01mreturn\u001b[39;00m result\n",
      "\u001b[1;31mValueError\u001b[0m: could not broadcast input array from shape (65535,8) into shape (65535,)"
     ]
    }
   ],
   "source": [
    "pd.value_counts(polic.select_dtypes(include='object') )\n",
    "#if you want to here pass  without dtypes then you remember that always\n",
    "#here you fatch a dataframe after than u are checkouting the value_counts method\n",
    "#it is not possible bcz value_counts apply on a series"
   ]
  },
  {
   "cell_type": "code",
   "execution_count": 54,
   "id": "e75f9e98",
   "metadata": {},
   "outputs": [
    {
     "data": {
      "text/html": [
       "<div>\n",
       "<style scoped>\n",
       "    .dataframe tbody tr th:only-of-type {\n",
       "        vertical-align: middle;\n",
       "    }\n",
       "\n",
       "    .dataframe tbody tr th {\n",
       "        vertical-align: top;\n",
       "    }\n",
       "\n",
       "    .dataframe thead th {\n",
       "        text-align: right;\n",
       "    }\n",
       "</style>\n",
       "<table border=\"1\" class=\"dataframe\">\n",
       "  <thead>\n",
       "    <tr style=\"text-align: right;\">\n",
       "      <th></th>\n",
       "      <th>stop_date</th>\n",
       "      <th>stop_time</th>\n",
       "      <th>driver_gender</th>\n",
       "      <th>driver_race</th>\n",
       "      <th>violation_raw</th>\n",
       "      <th>violation</th>\n",
       "      <th>search_type</th>\n",
       "      <th>stop_outcome</th>\n",
       "      <th>is_arrested</th>\n",
       "      <th>stop_duration</th>\n",
       "    </tr>\n",
       "  </thead>\n",
       "  <tbody>\n",
       "    <tr>\n",
       "      <th>0</th>\n",
       "      <td>1/2/2005</td>\n",
       "      <td>1:55</td>\n",
       "      <td>M</td>\n",
       "      <td>White</td>\n",
       "      <td>Speeding</td>\n",
       "      <td>Speeding</td>\n",
       "      <td>NaN</td>\n",
       "      <td>Citation</td>\n",
       "      <td>False</td>\n",
       "      <td>0-15 Min</td>\n",
       "    </tr>\n",
       "    <tr>\n",
       "      <th>1</th>\n",
       "      <td>1/18/2005</td>\n",
       "      <td>8:15</td>\n",
       "      <td>M</td>\n",
       "      <td>White</td>\n",
       "      <td>Speeding</td>\n",
       "      <td>Speeding</td>\n",
       "      <td>NaN</td>\n",
       "      <td>Citation</td>\n",
       "      <td>False</td>\n",
       "      <td>0-15 Min</td>\n",
       "    </tr>\n",
       "    <tr>\n",
       "      <th>2</th>\n",
       "      <td>1/23/2005</td>\n",
       "      <td>23:15</td>\n",
       "      <td>M</td>\n",
       "      <td>White</td>\n",
       "      <td>Speeding</td>\n",
       "      <td>Speeding</td>\n",
       "      <td>NaN</td>\n",
       "      <td>Citation</td>\n",
       "      <td>False</td>\n",
       "      <td>0-15 Min</td>\n",
       "    </tr>\n",
       "    <tr>\n",
       "      <th>3</th>\n",
       "      <td>2/20/2005</td>\n",
       "      <td>17:15</td>\n",
       "      <td>M</td>\n",
       "      <td>White</td>\n",
       "      <td>Call for Service</td>\n",
       "      <td>Other</td>\n",
       "      <td>NaN</td>\n",
       "      <td>Arrest Driver</td>\n",
       "      <td>True</td>\n",
       "      <td>16-30 Min</td>\n",
       "    </tr>\n",
       "    <tr>\n",
       "      <th>4</th>\n",
       "      <td>3/14/2005</td>\n",
       "      <td>10:00</td>\n",
       "      <td>F</td>\n",
       "      <td>White</td>\n",
       "      <td>Speeding</td>\n",
       "      <td>Speeding</td>\n",
       "      <td>NaN</td>\n",
       "      <td>Citation</td>\n",
       "      <td>False</td>\n",
       "      <td>0-15 Min</td>\n",
       "    </tr>\n",
       "    <tr>\n",
       "      <th>...</th>\n",
       "      <td>...</td>\n",
       "      <td>...</td>\n",
       "      <td>...</td>\n",
       "      <td>...</td>\n",
       "      <td>...</td>\n",
       "      <td>...</td>\n",
       "      <td>...</td>\n",
       "      <td>...</td>\n",
       "      <td>...</td>\n",
       "      <td>...</td>\n",
       "    </tr>\n",
       "    <tr>\n",
       "      <th>65530</th>\n",
       "      <td>12/6/2012</td>\n",
       "      <td>17:54</td>\n",
       "      <td>F</td>\n",
       "      <td>White</td>\n",
       "      <td>Speeding</td>\n",
       "      <td>Speeding</td>\n",
       "      <td>NaN</td>\n",
       "      <td>Citation</td>\n",
       "      <td>False</td>\n",
       "      <td>0-15 Min</td>\n",
       "    </tr>\n",
       "    <tr>\n",
       "      <th>65531</th>\n",
       "      <td>12/6/2012</td>\n",
       "      <td>22:22</td>\n",
       "      <td>M</td>\n",
       "      <td>White</td>\n",
       "      <td>Speeding</td>\n",
       "      <td>Speeding</td>\n",
       "      <td>NaN</td>\n",
       "      <td>Warning</td>\n",
       "      <td>False</td>\n",
       "      <td>0-15 Min</td>\n",
       "    </tr>\n",
       "    <tr>\n",
       "      <th>65532</th>\n",
       "      <td>12/6/2012</td>\n",
       "      <td>23:20</td>\n",
       "      <td>M</td>\n",
       "      <td>Black</td>\n",
       "      <td>Equipment/Inspection Violation</td>\n",
       "      <td>Equipment</td>\n",
       "      <td>NaN</td>\n",
       "      <td>Citation</td>\n",
       "      <td>False</td>\n",
       "      <td>0-15 Min</td>\n",
       "    </tr>\n",
       "    <tr>\n",
       "      <th>65533</th>\n",
       "      <td>12/7/2012</td>\n",
       "      <td>0:23</td>\n",
       "      <td>NaN</td>\n",
       "      <td>NaN</td>\n",
       "      <td>NaN</td>\n",
       "      <td>NaN</td>\n",
       "      <td>NaN</td>\n",
       "      <td>NaN</td>\n",
       "      <td>NaN</td>\n",
       "      <td>NaN</td>\n",
       "    </tr>\n",
       "    <tr>\n",
       "      <th>65534</th>\n",
       "      <td>12/7/2012</td>\n",
       "      <td>0:30</td>\n",
       "      <td>F</td>\n",
       "      <td>White</td>\n",
       "      <td>Speeding</td>\n",
       "      <td>Speeding</td>\n",
       "      <td>NaN</td>\n",
       "      <td>Citation</td>\n",
       "      <td>False</td>\n",
       "      <td>0-15 Min</td>\n",
       "    </tr>\n",
       "  </tbody>\n",
       "</table>\n",
       "<p>65535 rows × 10 columns</p>\n",
       "</div>"
      ],
      "text/plain": [
       "       stop_date stop_time driver_gender driver_race  \\\n",
       "0       1/2/2005      1:55             M       White   \n",
       "1      1/18/2005      8:15             M       White   \n",
       "2      1/23/2005     23:15             M       White   \n",
       "3      2/20/2005     17:15             M       White   \n",
       "4      3/14/2005     10:00             F       White   \n",
       "...          ...       ...           ...         ...   \n",
       "65530  12/6/2012     17:54             F       White   \n",
       "65531  12/6/2012     22:22             M       White   \n",
       "65532  12/6/2012     23:20             M       Black   \n",
       "65533  12/7/2012      0:23           NaN         NaN   \n",
       "65534  12/7/2012      0:30             F       White   \n",
       "\n",
       "                        violation_raw  violation search_type   stop_outcome  \\\n",
       "0                            Speeding   Speeding         NaN       Citation   \n",
       "1                            Speeding   Speeding         NaN       Citation   \n",
       "2                            Speeding   Speeding         NaN       Citation   \n",
       "3                    Call for Service      Other         NaN  Arrest Driver   \n",
       "4                            Speeding   Speeding         NaN       Citation   \n",
       "...                               ...        ...         ...            ...   \n",
       "65530                        Speeding   Speeding         NaN       Citation   \n",
       "65531                        Speeding   Speeding         NaN        Warning   \n",
       "65532  Equipment/Inspection Violation  Equipment         NaN       Citation   \n",
       "65533                             NaN        NaN         NaN            NaN   \n",
       "65534                        Speeding   Speeding         NaN       Citation   \n",
       "\n",
       "      is_arrested stop_duration  \n",
       "0           False      0-15 Min  \n",
       "1           False      0-15 Min  \n",
       "2           False      0-15 Min  \n",
       "3            True     16-30 Min  \n",
       "4           False      0-15 Min  \n",
       "...           ...           ...  \n",
       "65530       False      0-15 Min  \n",
       "65531       False      0-15 Min  \n",
       "65532       False      0-15 Min  \n",
       "65533         NaN           NaN  \n",
       "65534       False      0-15 Min  \n",
       "\n",
       "[65535 rows x 10 columns]"
      ]
     },
     "execution_count": 54,
     "metadata": {},
     "output_type": "execute_result"
    }
   ],
   "source": [
    "polic.select_dtypes(include='object')   #this is data frme so here value_counts method does not work"
   ]
  },
  {
   "cell_type": "code",
   "execution_count": 31,
   "id": "1e75a1dc",
   "metadata": {},
   "outputs": [
    {
     "data": {
      "text/plain": [
       "pandas.core.series.Series"
      ]
     },
     "execution_count": 31,
     "metadata": {},
     "output_type": "execute_result"
    }
   ],
   "source": [
    "type(polic.select_dtypes(include=\"float64\").dtypes)    # and now this series and u want to apply your \n",
    "#value counts method can apply\n",
    "# polic.dtypes"
   ]
  },
  {
   "cell_type": "code",
   "execution_count": 32,
   "id": "56376dd8",
   "metadata": {},
   "outputs": [
    {
     "data": {
      "text/plain": [
       "pandas.core.frame.DataFrame"
      ]
     },
     "execution_count": 32,
     "metadata": {},
     "output_type": "execute_result"
    }
   ],
   "source": [
    "type(polic.select_dtypes(include=\"float64\"))  #here this is dataframe\n",
    "# and here u can,t apply value_counts method bcz ths is pandas dataframe"
   ]
  },
  {
   "cell_type": "code",
   "execution_count": 53,
   "id": "a83f450b",
   "metadata": {},
   "outputs": [
    {
     "name": "stdout",
     "output_type": "stream",
     "text": [
      "<class 'pandas.core.series.Series'>\n"
     ]
    },
    {
     "data": {
      "text/plain": [
       "stop_date             datetime64[ns]\n",
       "stop_time             datetime64[ns]\n",
       "country_name                 float64\n",
       "driver_gender                 object\n",
       "driver_age_raw               float64\n",
       "driver_age                   float64\n",
       "driver_race                   object\n",
       "violation_raw                 object\n",
       "violation                     object\n",
       "search_conducted                bool\n",
       "search_type                   object\n",
       "stop_outcome                  object\n",
       "is_arrested                   object\n",
       "stop_duration                 object\n",
       "drugs_related_stop              bool\n",
       "dtype: object"
      ]
     },
     "execution_count": 53,
     "metadata": {},
     "output_type": "execute_result"
    }
   ],
   "source": [
    "print(type(polic.dtypes))\n",
    "polic.dtypes"
   ]
  },
  {
   "cell_type": "code",
   "execution_count": 47,
   "id": "f804620e",
   "metadata": {},
   "outputs": [
    {
     "data": {
      "text/plain": [
       "(15,)"
      ]
     },
     "execution_count": 47,
     "metadata": {},
     "output_type": "execute_result"
    }
   ],
   "source": [
    "polic.dtypes.shape"
   ]
  },
  {
   "cell_type": "code",
   "execution_count": 56,
   "id": "f05002b4",
   "metadata": {},
   "outputs": [
    {
     "data": {
      "text/plain": [
       "object            8\n",
       "float64           3\n",
       "datetime64[ns]    2\n",
       "bool              2\n",
       "dtype: int64"
      ]
     },
     "execution_count": 56,
     "metadata": {},
     "output_type": "execute_result"
    }
   ],
   "source": [
    "polic.dtypes.value_counts()"
   ]
  },
  {
   "cell_type": "code",
   "execution_count": 57,
   "id": "fb39ac34",
   "metadata": {},
   "outputs": [
    {
     "data": {
      "text/plain": [
       "object            8\n",
       "float64           3\n",
       "datetime64[ns]    2\n",
       "bool              2\n",
       "dtype: int64"
      ]
     },
     "execution_count": 57,
     "metadata": {},
     "output_type": "execute_result"
    }
   ],
   "source": [
    "pd.value_counts(polic.dtypes)      #chek for how many column float &\n",
    "# and how many column integer by usiing value_counts"
   ]
  },
  {
   "cell_type": "code",
   "execution_count": 8,
   "id": "f6b38e73",
   "metadata": {},
   "outputs": [
    {
     "data": {
      "text/plain": [
       "15"
      ]
     },
     "execution_count": 8,
     "metadata": {},
     "output_type": "execute_result"
    }
   ],
   "source": [
    "len(polic.dtypes)"
   ]
  },
  {
   "cell_type": "code",
   "execution_count": 9,
   "id": "ed263368",
   "metadata": {},
   "outputs": [
    {
     "data": {
      "text/plain": [
       "object            8\n",
       "float64           3\n",
       "datetime64[ns]    2\n",
       "bool              2\n",
       "dtype: int64"
      ]
     },
     "execution_count": 9,
     "metadata": {},
     "output_type": "execute_result"
    }
   ],
   "source": [
    "polic.dtypes.value_counts()"
   ]
  },
  {
   "cell_type": "code",
   "execution_count": 103,
   "id": "aa33a354",
   "metadata": {},
   "outputs": [
    {
     "data": {
      "text/plain": [
       "object    10\n",
       "bool       2\n",
       "dtype: int64"
      ]
     },
     "execution_count": 103,
     "metadata": {},
     "output_type": "execute_result"
    }
   ],
   "source": [
    "pd.value_counts(polic.select_dtypes(exclude=\"float64\").dtypes)\n",
    "#exclude keyword means except the particular dtypes all dtype all fatch"
   ]
  },
  {
   "cell_type": "code",
   "execution_count": 104,
   "id": "3ea0c8f5",
   "metadata": {},
   "outputs": [
    {
     "data": {
      "text/plain": [
       "object    10\n",
       "bool       2\n",
       "dtype: int64"
      ]
     },
     "execution_count": 104,
     "metadata": {},
     "output_type": "execute_result"
    }
   ],
   "source": [
    "pd.value_counts(polic.select_dtypes(exclude=[\"float64\"]).dtypes)\n",
    "#here u should keep remember that here u can apply multiple dtypes okay"
   ]
  },
  {
   "cell_type": "code",
   "execution_count": 100,
   "id": "38652377",
   "metadata": {},
   "outputs": [
    {
     "data": {
      "text/plain": [
       "object     10\n",
       "float64     3\n",
       "bool        2\n",
       "dtype: int64"
      ]
     },
     "execution_count": 100,
     "metadata": {},
     "output_type": "execute_result"
    }
   ],
   "source": [
    "pd.value_counts(polic.dtypes)"
   ]
  },
  {
   "cell_type": "code",
   "execution_count": 72,
   "id": "674ecac0",
   "metadata": {},
   "outputs": [
    {
     "data": {
      "text/html": [
       "<div>\n",
       "<style scoped>\n",
       "    .dataframe tbody tr th:only-of-type {\n",
       "        vertical-align: middle;\n",
       "    }\n",
       "\n",
       "    .dataframe tbody tr th {\n",
       "        vertical-align: top;\n",
       "    }\n",
       "\n",
       "    .dataframe thead th {\n",
       "        text-align: right;\n",
       "    }\n",
       "</style>\n",
       "<table border=\"1\" class=\"dataframe\">\n",
       "  <thead>\n",
       "    <tr style=\"text-align: right;\">\n",
       "      <th></th>\n",
       "      <th>stop_date</th>\n",
       "      <th>stop_time</th>\n",
       "      <th>country_name</th>\n",
       "      <th>driver_gender</th>\n",
       "      <th>driver_age_raw</th>\n",
       "      <th>driver_age</th>\n",
       "      <th>driver_race</th>\n",
       "      <th>violation_raw</th>\n",
       "      <th>violation</th>\n",
       "      <th>search_type</th>\n",
       "      <th>stop_outcome</th>\n",
       "      <th>is_arrested</th>\n",
       "      <th>stop_duration</th>\n",
       "    </tr>\n",
       "  </thead>\n",
       "  <tbody>\n",
       "    <tr>\n",
       "      <th>0</th>\n",
       "      <td>1/2/2005</td>\n",
       "      <td>1:55</td>\n",
       "      <td>NaN</td>\n",
       "      <td>M</td>\n",
       "      <td>1985.0</td>\n",
       "      <td>20.0</td>\n",
       "      <td>White</td>\n",
       "      <td>Speeding</td>\n",
       "      <td>Speeding</td>\n",
       "      <td>NaN</td>\n",
       "      <td>Citation</td>\n",
       "      <td>False</td>\n",
       "      <td>0-15 Min</td>\n",
       "    </tr>\n",
       "    <tr>\n",
       "      <th>1</th>\n",
       "      <td>1/18/2005</td>\n",
       "      <td>8:15</td>\n",
       "      <td>NaN</td>\n",
       "      <td>M</td>\n",
       "      <td>1965.0</td>\n",
       "      <td>40.0</td>\n",
       "      <td>White</td>\n",
       "      <td>Speeding</td>\n",
       "      <td>Speeding</td>\n",
       "      <td>NaN</td>\n",
       "      <td>Citation</td>\n",
       "      <td>False</td>\n",
       "      <td>0-15 Min</td>\n",
       "    </tr>\n",
       "  </tbody>\n",
       "</table>\n",
       "</div>"
      ],
      "text/plain": [
       "   stop_date stop_time  country_name driver_gender  driver_age_raw  \\\n",
       "0   1/2/2005      1:55           NaN             M          1985.0   \n",
       "1  1/18/2005      8:15           NaN             M          1965.0   \n",
       "\n",
       "   driver_age driver_race violation_raw violation search_type stop_outcome  \\\n",
       "0        20.0       White      Speeding  Speeding         NaN     Citation   \n",
       "1        40.0       White      Speeding  Speeding         NaN     Citation   \n",
       "\n",
       "  is_arrested stop_duration  \n",
       "0       False      0-15 Min  \n",
       "1       False      0-15 Min  "
      ]
     },
     "execution_count": 72,
     "metadata": {},
     "output_type": "execute_result"
    }
   ],
   "source": [
    "polic.select_dtypes(include=[\"object\",\"float64\"]).head(2)\n",
    "#here u can pass multiple data type but keep remeber \n",
    "#multiple dtypes must be present in a list"
   ]
  },
  {
   "cell_type": "code",
   "execution_count": 62,
   "id": "02545c4a",
   "metadata": {},
   "outputs": [
    {
     "data": {
      "text/html": [
       "<div>\n",
       "<style scoped>\n",
       "    .dataframe tbody tr th:only-of-type {\n",
       "        vertical-align: middle;\n",
       "    }\n",
       "\n",
       "    .dataframe tbody tr th {\n",
       "        vertical-align: top;\n",
       "    }\n",
       "\n",
       "    .dataframe thead th {\n",
       "        text-align: right;\n",
       "    }\n",
       "</style>\n",
       "<table border=\"1\" class=\"dataframe\">\n",
       "  <thead>\n",
       "    <tr style=\"text-align: right;\">\n",
       "      <th></th>\n",
       "      <th>stop_date</th>\n",
       "      <th>stop_time</th>\n",
       "      <th>country_name</th>\n",
       "      <th>driver_gender</th>\n",
       "      <th>driver_age_raw</th>\n",
       "      <th>driver_age</th>\n",
       "      <th>driver_race</th>\n",
       "      <th>violation_raw</th>\n",
       "      <th>violation</th>\n",
       "      <th>search_conducted</th>\n",
       "      <th>search_type</th>\n",
       "      <th>stop_outcome</th>\n",
       "      <th>is_arrested</th>\n",
       "      <th>stop_duration</th>\n",
       "      <th>drugs_related_stop</th>\n",
       "    </tr>\n",
       "  </thead>\n",
       "  <tbody>\n",
       "    <tr>\n",
       "      <th>0</th>\n",
       "      <td>1/2/2005</td>\n",
       "      <td>1:55</td>\n",
       "      <td>NaN</td>\n",
       "      <td>M</td>\n",
       "      <td>1985.0</td>\n",
       "      <td>20.0</td>\n",
       "      <td>White</td>\n",
       "      <td>Speeding</td>\n",
       "      <td>Speeding</td>\n",
       "      <td>False</td>\n",
       "      <td>NaN</td>\n",
       "      <td>Citation</td>\n",
       "      <td>False</td>\n",
       "      <td>0-15 Min</td>\n",
       "      <td>False</td>\n",
       "    </tr>\n",
       "    <tr>\n",
       "      <th>1</th>\n",
       "      <td>1/18/2005</td>\n",
       "      <td>8:15</td>\n",
       "      <td>NaN</td>\n",
       "      <td>M</td>\n",
       "      <td>1965.0</td>\n",
       "      <td>40.0</td>\n",
       "      <td>White</td>\n",
       "      <td>Speeding</td>\n",
       "      <td>Speeding</td>\n",
       "      <td>False</td>\n",
       "      <td>NaN</td>\n",
       "      <td>Citation</td>\n",
       "      <td>False</td>\n",
       "      <td>0-15 Min</td>\n",
       "      <td>False</td>\n",
       "    </tr>\n",
       "  </tbody>\n",
       "</table>\n",
       "</div>"
      ],
      "text/plain": [
       "   stop_date stop_time  country_name driver_gender  driver_age_raw  \\\n",
       "0   1/2/2005      1:55           NaN             M          1985.0   \n",
       "1  1/18/2005      8:15           NaN             M          1965.0   \n",
       "\n",
       "   driver_age driver_race violation_raw violation  search_conducted  \\\n",
       "0        20.0       White      Speeding  Speeding             False   \n",
       "1        40.0       White      Speeding  Speeding             False   \n",
       "\n",
       "  search_type stop_outcome is_arrested stop_duration  drugs_related_stop  \n",
       "0         NaN     Citation       False      0-15 Min               False  \n",
       "1         NaN     Citation       False      0-15 Min               False  "
      ]
     },
     "execution_count": 62,
     "metadata": {},
     "output_type": "execute_result"
    }
   ],
   "source": [
    "polic.head(2)"
   ]
  },
  {
   "cell_type": "code",
   "execution_count": 66,
   "id": "94cba91b",
   "metadata": {},
   "outputs": [
    {
     "data": {
      "text/html": [
       "<div>\n",
       "<style scoped>\n",
       "    .dataframe tbody tr th:only-of-type {\n",
       "        vertical-align: middle;\n",
       "    }\n",
       "\n",
       "    .dataframe tbody tr th {\n",
       "        vertical-align: top;\n",
       "    }\n",
       "\n",
       "    .dataframe thead th {\n",
       "        text-align: right;\n",
       "    }\n",
       "</style>\n",
       "<table border=\"1\" class=\"dataframe\">\n",
       "  <thead>\n",
       "    <tr style=\"text-align: right;\">\n",
       "      <th></th>\n",
       "      <th>stop_date</th>\n",
       "      <th>stop_time</th>\n",
       "      <th>driver_gender</th>\n",
       "    </tr>\n",
       "  </thead>\n",
       "  <tbody>\n",
       "    <tr>\n",
       "      <th>0</th>\n",
       "      <td>1/2/2005</td>\n",
       "      <td>1:55</td>\n",
       "      <td>M</td>\n",
       "    </tr>\n",
       "    <tr>\n",
       "      <th>1</th>\n",
       "      <td>1/18/2005</td>\n",
       "      <td>8:15</td>\n",
       "      <td>M</td>\n",
       "    </tr>\n",
       "  </tbody>\n",
       "</table>\n",
       "</div>"
      ],
      "text/plain": [
       "   stop_date stop_time driver_gender\n",
       "0   1/2/2005      1:55             M\n",
       "1  1/18/2005      8:15             M"
      ]
     },
     "execution_count": 66,
     "metadata": {},
     "output_type": "execute_result"
    }
   ],
   "source": [
    "polic[[\"stop_date\",\"stop_time\",\"driver_gender\"]].head(2)"
   ]
  },
  {
   "cell_type": "code",
   "execution_count": 58,
   "id": "d7dbbdfe",
   "metadata": {},
   "outputs": [
    {
     "data": {
      "text/plain": [
       "0         True\n",
       "1         True\n",
       "2         True\n",
       "3         True\n",
       "4        False\n",
       "         ...  \n",
       "65530    False\n",
       "65531     True\n",
       "65532     True\n",
       "65533    False\n",
       "65534    False\n",
       "Name: driver_gender, Length: 65535, dtype: bool"
      ]
     },
     "execution_count": 58,
     "metadata": {},
     "output_type": "execute_result"
    }
   ],
   "source": [
    "polic[\"driver_gender\"]==\"M\""
   ]
  },
  {
   "cell_type": "code",
   "execution_count": 73,
   "id": "1b28b08c",
   "metadata": {},
   "outputs": [
    {
     "data": {
      "text/plain": [
       "True     45164\n",
       "False    20371\n",
       "Name: driver_gender, dtype: int64"
      ]
     },
     "execution_count": 73,
     "metadata": {},
     "output_type": "execute_result"
    }
   ],
   "source": [
    "pd.value_counts(polic[\"driver_gender\"]==\"M\")"
   ]
  },
  {
   "cell_type": "code",
   "execution_count": 10,
   "id": "7da279dc",
   "metadata": {},
   "outputs": [],
   "source": [
    "dt=polic[\"driver_gender\"]==\"M\""
   ]
  },
  {
   "cell_type": "code",
   "execution_count": 11,
   "id": "a7ff6f85",
   "metadata": {},
   "outputs": [
    {
     "data": {
      "text/plain": [
       "True     45164\n",
       "False    20371\n",
       "Name: driver_gender, dtype: int64"
      ]
     },
     "execution_count": 11,
     "metadata": {},
     "output_type": "execute_result"
    }
   ],
   "source": [
    "pd.value_counts(dt)"
   ]
  },
  {
   "cell_type": "code",
   "execution_count": 13,
   "id": "862197c7",
   "metadata": {},
   "outputs": [
    {
     "data": {
      "text/html": [
       "<div>\n",
       "<style scoped>\n",
       "    .dataframe tbody tr th:only-of-type {\n",
       "        vertical-align: middle;\n",
       "    }\n",
       "\n",
       "    .dataframe tbody tr th {\n",
       "        vertical-align: top;\n",
       "    }\n",
       "\n",
       "    .dataframe thead th {\n",
       "        text-align: right;\n",
       "    }\n",
       "</style>\n",
       "<table border=\"1\" class=\"dataframe\">\n",
       "  <thead>\n",
       "    <tr style=\"text-align: right;\">\n",
       "      <th></th>\n",
       "      <th>stop_date</th>\n",
       "      <th>stop_time</th>\n",
       "      <th>country_name</th>\n",
       "      <th>driver_gender</th>\n",
       "      <th>driver_age_raw</th>\n",
       "      <th>driver_age</th>\n",
       "      <th>driver_race</th>\n",
       "      <th>violation_raw</th>\n",
       "      <th>violation</th>\n",
       "      <th>search_conducted</th>\n",
       "      <th>search_type</th>\n",
       "      <th>stop_outcome</th>\n",
       "      <th>is_arrested</th>\n",
       "      <th>stop_duration</th>\n",
       "      <th>drugs_related_stop</th>\n",
       "    </tr>\n",
       "  </thead>\n",
       "  <tbody>\n",
       "    <tr>\n",
       "      <th>0</th>\n",
       "      <td>2005-01-02</td>\n",
       "      <td>2022-08-04 01:55:00</td>\n",
       "      <td>NaN</td>\n",
       "      <td>M</td>\n",
       "      <td>1985.0</td>\n",
       "      <td>20.0</td>\n",
       "      <td>White</td>\n",
       "      <td>Speeding</td>\n",
       "      <td>Speeding</td>\n",
       "      <td>False</td>\n",
       "      <td>NaN</td>\n",
       "      <td>Citation</td>\n",
       "      <td>False</td>\n",
       "      <td>0-15 Min</td>\n",
       "      <td>False</td>\n",
       "    </tr>\n",
       "    <tr>\n",
       "      <th>1</th>\n",
       "      <td>2005-01-18</td>\n",
       "      <td>2022-08-04 08:15:00</td>\n",
       "      <td>NaN</td>\n",
       "      <td>M</td>\n",
       "      <td>1965.0</td>\n",
       "      <td>40.0</td>\n",
       "      <td>White</td>\n",
       "      <td>Speeding</td>\n",
       "      <td>Speeding</td>\n",
       "      <td>False</td>\n",
       "      <td>NaN</td>\n",
       "      <td>Citation</td>\n",
       "      <td>False</td>\n",
       "      <td>0-15 Min</td>\n",
       "      <td>False</td>\n",
       "    </tr>\n",
       "  </tbody>\n",
       "</table>\n",
       "</div>"
      ],
      "text/plain": [
       "   stop_date           stop_time  country_name driver_gender  driver_age_raw  \\\n",
       "0 2005-01-02 2022-08-04 01:55:00           NaN             M          1985.0   \n",
       "1 2005-01-18 2022-08-04 08:15:00           NaN             M          1965.0   \n",
       "\n",
       "   driver_age driver_race violation_raw violation  search_conducted  \\\n",
       "0        20.0       White      Speeding  Speeding             False   \n",
       "1        40.0       White      Speeding  Speeding             False   \n",
       "\n",
       "  search_type stop_outcome is_arrested stop_duration  drugs_related_stop  \n",
       "0         NaN     Citation       False      0-15 Min               False  \n",
       "1         NaN     Citation       False      0-15 Min               False  "
      ]
     },
     "execution_count": 13,
     "metadata": {},
     "output_type": "execute_result"
    }
   ],
   "source": [
    "polic[dt].head(2)"
   ]
  },
  {
   "cell_type": "markdown",
   "id": "06e7591a",
   "metadata": {},
   "source": [
    "## reverse column trick"
   ]
  },
  {
   "cell_type": "code",
   "execution_count": 80,
   "id": "7459d863",
   "metadata": {},
   "outputs": [
    {
     "data": {
      "text/html": [
       "<div>\n",
       "<style scoped>\n",
       "    .dataframe tbody tr th:only-of-type {\n",
       "        vertical-align: middle;\n",
       "    }\n",
       "\n",
       "    .dataframe tbody tr th {\n",
       "        vertical-align: top;\n",
       "    }\n",
       "\n",
       "    .dataframe thead th {\n",
       "        text-align: right;\n",
       "    }\n",
       "</style>\n",
       "<table border=\"1\" class=\"dataframe\">\n",
       "  <thead>\n",
       "    <tr style=\"text-align: right;\">\n",
       "      <th></th>\n",
       "      <th>stop_date</th>\n",
       "      <th>stop_time</th>\n",
       "      <th>country_name</th>\n",
       "      <th>driver_gender</th>\n",
       "      <th>driver_age_raw</th>\n",
       "      <th>driver_age</th>\n",
       "      <th>driver_race</th>\n",
       "      <th>violation_raw</th>\n",
       "      <th>violation</th>\n",
       "      <th>search_conducted</th>\n",
       "      <th>search_type</th>\n",
       "      <th>stop_outcome</th>\n",
       "      <th>is_arrested</th>\n",
       "      <th>stop_duration</th>\n",
       "      <th>drugs_related_stop</th>\n",
       "    </tr>\n",
       "  </thead>\n",
       "  <tbody>\n",
       "    <tr>\n",
       "      <th>0</th>\n",
       "      <td>1/2/2005</td>\n",
       "      <td>1:55</td>\n",
       "      <td>NaN</td>\n",
       "      <td>M</td>\n",
       "      <td>1985.0</td>\n",
       "      <td>20.0</td>\n",
       "      <td>White</td>\n",
       "      <td>Speeding</td>\n",
       "      <td>Speeding</td>\n",
       "      <td>False</td>\n",
       "      <td>NaN</td>\n",
       "      <td>Citation</td>\n",
       "      <td>False</td>\n",
       "      <td>0-15 Min</td>\n",
       "      <td>False</td>\n",
       "    </tr>\n",
       "    <tr>\n",
       "      <th>1</th>\n",
       "      <td>1/18/2005</td>\n",
       "      <td>8:15</td>\n",
       "      <td>NaN</td>\n",
       "      <td>M</td>\n",
       "      <td>1965.0</td>\n",
       "      <td>40.0</td>\n",
       "      <td>White</td>\n",
       "      <td>Speeding</td>\n",
       "      <td>Speeding</td>\n",
       "      <td>False</td>\n",
       "      <td>NaN</td>\n",
       "      <td>Citation</td>\n",
       "      <td>False</td>\n",
       "      <td>0-15 Min</td>\n",
       "      <td>False</td>\n",
       "    </tr>\n",
       "    <tr>\n",
       "      <th>2</th>\n",
       "      <td>1/23/2005</td>\n",
       "      <td>23:15</td>\n",
       "      <td>NaN</td>\n",
       "      <td>M</td>\n",
       "      <td>1972.0</td>\n",
       "      <td>33.0</td>\n",
       "      <td>White</td>\n",
       "      <td>Speeding</td>\n",
       "      <td>Speeding</td>\n",
       "      <td>False</td>\n",
       "      <td>NaN</td>\n",
       "      <td>Citation</td>\n",
       "      <td>False</td>\n",
       "      <td>0-15 Min</td>\n",
       "      <td>False</td>\n",
       "    </tr>\n",
       "  </tbody>\n",
       "</table>\n",
       "</div>"
      ],
      "text/plain": [
       "   stop_date stop_time  country_name driver_gender  driver_age_raw  \\\n",
       "0   1/2/2005      1:55           NaN             M          1985.0   \n",
       "1  1/18/2005      8:15           NaN             M          1965.0   \n",
       "2  1/23/2005     23:15           NaN             M          1972.0   \n",
       "\n",
       "   driver_age driver_race violation_raw violation  search_conducted  \\\n",
       "0        20.0       White      Speeding  Speeding             False   \n",
       "1        40.0       White      Speeding  Speeding             False   \n",
       "2        33.0       White      Speeding  Speeding             False   \n",
       "\n",
       "  search_type stop_outcome is_arrested stop_duration  drugs_related_stop  \n",
       "0         NaN     Citation       False      0-15 Min               False  \n",
       "1         NaN     Citation       False      0-15 Min               False  \n",
       "2         NaN     Citation       False      0-15 Min               False  "
      ]
     },
     "execution_count": 80,
     "metadata": {},
     "output_type": "execute_result"
    }
   ],
   "source": [
    "polic.head(3)"
   ]
  },
  {
   "cell_type": "code",
   "execution_count": 14,
   "id": "0bc5a327",
   "metadata": {},
   "outputs": [
    {
     "data": {
      "text/html": [
       "<div>\n",
       "<style scoped>\n",
       "    .dataframe tbody tr th:only-of-type {\n",
       "        vertical-align: middle;\n",
       "    }\n",
       "\n",
       "    .dataframe tbody tr th {\n",
       "        vertical-align: top;\n",
       "    }\n",
       "\n",
       "    .dataframe thead th {\n",
       "        text-align: right;\n",
       "    }\n",
       "</style>\n",
       "<table border=\"1\" class=\"dataframe\">\n",
       "  <thead>\n",
       "    <tr style=\"text-align: right;\">\n",
       "      <th></th>\n",
       "      <th>drugs_related_stop</th>\n",
       "      <th>stop_duration</th>\n",
       "      <th>is_arrested</th>\n",
       "      <th>stop_outcome</th>\n",
       "      <th>search_type</th>\n",
       "      <th>search_conducted</th>\n",
       "      <th>violation</th>\n",
       "      <th>violation_raw</th>\n",
       "      <th>driver_race</th>\n",
       "      <th>driver_age</th>\n",
       "      <th>driver_age_raw</th>\n",
       "      <th>driver_gender</th>\n",
       "      <th>country_name</th>\n",
       "      <th>stop_time</th>\n",
       "      <th>stop_date</th>\n",
       "    </tr>\n",
       "  </thead>\n",
       "  <tbody>\n",
       "    <tr>\n",
       "      <th>0</th>\n",
       "      <td>False</td>\n",
       "      <td>0-15 Min</td>\n",
       "      <td>False</td>\n",
       "      <td>Citation</td>\n",
       "      <td>NaN</td>\n",
       "      <td>False</td>\n",
       "      <td>Speeding</td>\n",
       "      <td>Speeding</td>\n",
       "      <td>White</td>\n",
       "      <td>20.0</td>\n",
       "      <td>1985.0</td>\n",
       "      <td>M</td>\n",
       "      <td>NaN</td>\n",
       "      <td>2022-08-04 01:55:00</td>\n",
       "      <td>2005-01-02</td>\n",
       "    </tr>\n",
       "    <tr>\n",
       "      <th>1</th>\n",
       "      <td>False</td>\n",
       "      <td>0-15 Min</td>\n",
       "      <td>False</td>\n",
       "      <td>Citation</td>\n",
       "      <td>NaN</td>\n",
       "      <td>False</td>\n",
       "      <td>Speeding</td>\n",
       "      <td>Speeding</td>\n",
       "      <td>White</td>\n",
       "      <td>40.0</td>\n",
       "      <td>1965.0</td>\n",
       "      <td>M</td>\n",
       "      <td>NaN</td>\n",
       "      <td>2022-08-04 08:15:00</td>\n",
       "      <td>2005-01-18</td>\n",
       "    </tr>\n",
       "  </tbody>\n",
       "</table>\n",
       "</div>"
      ],
      "text/plain": [
       "   drugs_related_stop stop_duration is_arrested stop_outcome search_type  \\\n",
       "0               False      0-15 Min       False     Citation         NaN   \n",
       "1               False      0-15 Min       False     Citation         NaN   \n",
       "\n",
       "   search_conducted violation violation_raw driver_race  driver_age  \\\n",
       "0             False  Speeding      Speeding       White        20.0   \n",
       "1             False  Speeding      Speeding       White        40.0   \n",
       "\n",
       "   driver_age_raw driver_gender  country_name           stop_time  stop_date  \n",
       "0          1985.0             M           NaN 2022-08-04 01:55:00 2005-01-02  \n",
       "1          1965.0             M           NaN 2022-08-04 08:15:00 2005-01-18  "
      ]
     },
     "execution_count": 14,
     "metadata": {},
     "output_type": "execute_result"
    }
   ],
   "source": [
    "polic.loc[:,::-1].head(2)   \n",
    "#for print the reverse column name"
   ]
  },
  {
   "cell_type": "code",
   "execution_count": 16,
   "id": "a0f78404",
   "metadata": {},
   "outputs": [
    {
     "data": {
      "text/html": [
       "<div>\n",
       "<style scoped>\n",
       "    .dataframe tbody tr th:only-of-type {\n",
       "        vertical-align: middle;\n",
       "    }\n",
       "\n",
       "    .dataframe tbody tr th {\n",
       "        vertical-align: top;\n",
       "    }\n",
       "\n",
       "    .dataframe thead th {\n",
       "        text-align: right;\n",
       "    }\n",
       "</style>\n",
       "<table border=\"1\" class=\"dataframe\">\n",
       "  <thead>\n",
       "    <tr style=\"text-align: right;\">\n",
       "      <th></th>\n",
       "      <th>drugs_related_stop</th>\n",
       "      <th>stop_duration</th>\n",
       "      <th>is_arrested</th>\n",
       "      <th>stop_outcome</th>\n",
       "      <th>search_type</th>\n",
       "      <th>search_conducted</th>\n",
       "      <th>violation</th>\n",
       "      <th>violation_raw</th>\n",
       "      <th>driver_race</th>\n",
       "      <th>driver_age</th>\n",
       "      <th>driver_age_raw</th>\n",
       "      <th>driver_gender</th>\n",
       "      <th>country_name</th>\n",
       "      <th>stop_time</th>\n",
       "      <th>stop_date</th>\n",
       "    </tr>\n",
       "  </thead>\n",
       "  <tbody>\n",
       "    <tr>\n",
       "      <th>0</th>\n",
       "      <td>False</td>\n",
       "      <td>0-15 Min</td>\n",
       "      <td>False</td>\n",
       "      <td>Citation</td>\n",
       "      <td>NaN</td>\n",
       "      <td>False</td>\n",
       "      <td>Speeding</td>\n",
       "      <td>Speeding</td>\n",
       "      <td>White</td>\n",
       "      <td>20.0</td>\n",
       "      <td>1985.0</td>\n",
       "      <td>M</td>\n",
       "      <td>NaN</td>\n",
       "      <td>2022-08-04 01:55:00</td>\n",
       "      <td>2005-01-02</td>\n",
       "    </tr>\n",
       "    <tr>\n",
       "      <th>1</th>\n",
       "      <td>False</td>\n",
       "      <td>0-15 Min</td>\n",
       "      <td>False</td>\n",
       "      <td>Citation</td>\n",
       "      <td>NaN</td>\n",
       "      <td>False</td>\n",
       "      <td>Speeding</td>\n",
       "      <td>Speeding</td>\n",
       "      <td>White</td>\n",
       "      <td>40.0</td>\n",
       "      <td>1965.0</td>\n",
       "      <td>M</td>\n",
       "      <td>NaN</td>\n",
       "      <td>2022-08-04 08:15:00</td>\n",
       "      <td>2005-01-18</td>\n",
       "    </tr>\n",
       "  </tbody>\n",
       "</table>\n",
       "</div>"
      ],
      "text/plain": [
       "   drugs_related_stop stop_duration is_arrested stop_outcome search_type  \\\n",
       "0               False      0-15 Min       False     Citation         NaN   \n",
       "1               False      0-15 Min       False     Citation         NaN   \n",
       "\n",
       "   search_conducted violation violation_raw driver_race  driver_age  \\\n",
       "0             False  Speeding      Speeding       White        20.0   \n",
       "1             False  Speeding      Speeding       White        40.0   \n",
       "\n",
       "   driver_age_raw driver_gender  country_name           stop_time  stop_date  \n",
       "0          1985.0             M           NaN 2022-08-04 01:55:00 2005-01-02  \n",
       "1          1965.0             M           NaN 2022-08-04 08:15:00 2005-01-18  "
      ]
     },
     "execution_count": 16,
     "metadata": {},
     "output_type": "execute_result"
    }
   ],
   "source": [
    "polic.loc[0:1,::-1]"
   ]
  },
  {
   "cell_type": "code",
   "execution_count": 68,
   "id": "c5b7efdf",
   "metadata": {},
   "outputs": [
    {
     "data": {
      "text/plain": [
       "45164"
      ]
     },
     "execution_count": 68,
     "metadata": {},
     "output_type": "execute_result"
    }
   ],
   "source": [
    "sum(polic[\"driver_gender\"]==\"M\")            #here boolean broadcastingsum()            #here boolean broadcastingsum()            #here boolean broadcastingsum()            #here boolean broadcasting"
   ]
  },
  {
   "cell_type": "markdown",
   "id": "b18da8a3",
   "metadata": {},
   "source": [
    "## convert string to number"
   ]
  },
  {
   "cell_type": "code",
   "execution_count": 61,
   "id": "ad9991f3",
   "metadata": {},
   "outputs": [],
   "source": [
    "df=pd.DataFrame({\"col_1\":[\"1.1\",'2.2','3.3'],\n",
    "                \"col_2\":['4.4','5.5','6.6'],\n",
    "                \"col_3\":['7.7','8.8','-']})"
   ]
  },
  {
   "cell_type": "code",
   "execution_count": 62,
   "id": "1f2aacd5",
   "metadata": {},
   "outputs": [
    {
     "data": {
      "text/html": [
       "<div>\n",
       "<style scoped>\n",
       "    .dataframe tbody tr th:only-of-type {\n",
       "        vertical-align: middle;\n",
       "    }\n",
       "\n",
       "    .dataframe tbody tr th {\n",
       "        vertical-align: top;\n",
       "    }\n",
       "\n",
       "    .dataframe thead th {\n",
       "        text-align: right;\n",
       "    }\n",
       "</style>\n",
       "<table border=\"1\" class=\"dataframe\">\n",
       "  <thead>\n",
       "    <tr style=\"text-align: right;\">\n",
       "      <th></th>\n",
       "      <th>col_1</th>\n",
       "      <th>col_2</th>\n",
       "      <th>col_3</th>\n",
       "    </tr>\n",
       "  </thead>\n",
       "  <tbody>\n",
       "    <tr>\n",
       "      <th>0</th>\n",
       "      <td>1.1</td>\n",
       "      <td>4.4</td>\n",
       "      <td>7.7</td>\n",
       "    </tr>\n",
       "    <tr>\n",
       "      <th>1</th>\n",
       "      <td>2.2</td>\n",
       "      <td>5.5</td>\n",
       "      <td>8.8</td>\n",
       "    </tr>\n",
       "    <tr>\n",
       "      <th>2</th>\n",
       "      <td>3.3</td>\n",
       "      <td>6.6</td>\n",
       "      <td>-</td>\n",
       "    </tr>\n",
       "  </tbody>\n",
       "</table>\n",
       "</div>"
      ],
      "text/plain": [
       "  col_1 col_2 col_3\n",
       "0   1.1   4.4   7.7\n",
       "1   2.2   5.5   8.8\n",
       "2   3.3   6.6     -"
      ]
     },
     "execution_count": 62,
     "metadata": {},
     "output_type": "execute_result"
    }
   ],
   "source": [
    "df"
   ]
  },
  {
   "cell_type": "code",
   "execution_count": 107,
   "id": "d198320e",
   "metadata": {},
   "outputs": [
    {
     "data": {
      "text/plain": [
       "col_1    object\n",
       "col_2    object\n",
       "col_3    object\n",
       "dtype: object"
      ]
     },
     "execution_count": 107,
     "metadata": {},
     "output_type": "execute_result"
    }
   ],
   "source": [
    "df.dtypes"
   ]
  },
  {
   "cell_type": "code",
   "execution_count": 67,
   "id": "2f6c69af",
   "metadata": {},
   "outputs": [
    {
     "data": {
      "text/plain": [
       "dtype('float64')"
      ]
     },
     "execution_count": 67,
     "metadata": {},
     "output_type": "execute_result"
    }
   ],
   "source": [
    "df['col_1'].astype('float64').dtypes"
   ]
  },
  {
   "cell_type": "code",
   "execution_count": 69,
   "id": "9bfeac82",
   "metadata": {},
   "outputs": [
    {
     "data": {
      "text/plain": [
       "col_1       object\n",
       "col_2       object\n",
       "col_3       object\n",
       "col_one    float64\n",
       "dtype: object"
      ]
     },
     "execution_count": 69,
     "metadata": {},
     "output_type": "execute_result"
    }
   ],
   "source": [
    "df[\"col_one\"]= df['col_1'].astype(\"float\")   #1st method but here another column is creating \n",
    "df.dtypes"
   ]
  },
  {
   "cell_type": "code",
   "execution_count": 74,
   "id": "3297dcef",
   "metadata": {},
   "outputs": [
    {
     "data": {
      "text/html": [
       "<div>\n",
       "<style scoped>\n",
       "    .dataframe tbody tr th:only-of-type {\n",
       "        vertical-align: middle;\n",
       "    }\n",
       "\n",
       "    .dataframe tbody tr th {\n",
       "        vertical-align: top;\n",
       "    }\n",
       "\n",
       "    .dataframe thead th {\n",
       "        text-align: right;\n",
       "    }\n",
       "</style>\n",
       "<table border=\"1\" class=\"dataframe\">\n",
       "  <thead>\n",
       "    <tr style=\"text-align: right;\">\n",
       "      <th></th>\n",
       "      <th>col_2</th>\n",
       "      <th>col_3</th>\n",
       "      <th>col_one</th>\n",
       "    </tr>\n",
       "  </thead>\n",
       "  <tbody>\n",
       "    <tr>\n",
       "      <th>0</th>\n",
       "      <td>4.4</td>\n",
       "      <td>7.7</td>\n",
       "      <td>1.1</td>\n",
       "    </tr>\n",
       "    <tr>\n",
       "      <th>1</th>\n",
       "      <td>5.5</td>\n",
       "      <td>8.8</td>\n",
       "      <td>2.2</td>\n",
       "    </tr>\n",
       "    <tr>\n",
       "      <th>2</th>\n",
       "      <td>6.6</td>\n",
       "      <td>-</td>\n",
       "      <td>3.3</td>\n",
       "    </tr>\n",
       "  </tbody>\n",
       "</table>\n",
       "</div>"
      ],
      "text/plain": [
       "  col_2 col_3  col_one\n",
       "0   4.4   7.7      1.1\n",
       "1   5.5   8.8      2.2\n",
       "2   6.6     -      3.3"
      ]
     },
     "execution_count": 74,
     "metadata": {},
     "output_type": "execute_result"
    }
   ],
   "source": [
    "df2=df[['col_2','col_3','col_one']]\n",
    "df2"
   ]
  },
  {
   "cell_type": "code",
   "execution_count": 71,
   "id": "1a57d1cb",
   "metadata": {},
   "outputs": [
    {
     "data": {
      "text/html": [
       "<div>\n",
       "<style scoped>\n",
       "    .dataframe tbody tr th:only-of-type {\n",
       "        vertical-align: middle;\n",
       "    }\n",
       "\n",
       "    .dataframe tbody tr th {\n",
       "        vertical-align: top;\n",
       "    }\n",
       "\n",
       "    .dataframe thead th {\n",
       "        text-align: right;\n",
       "    }\n",
       "</style>\n",
       "<table border=\"1\" class=\"dataframe\">\n",
       "  <thead>\n",
       "    <tr style=\"text-align: right;\">\n",
       "      <th></th>\n",
       "      <th>col_1</th>\n",
       "      <th>col_2</th>\n",
       "      <th>col_3</th>\n",
       "      <th>col_one</th>\n",
       "    </tr>\n",
       "  </thead>\n",
       "  <tbody>\n",
       "    <tr>\n",
       "      <th>0</th>\n",
       "      <td>1.1</td>\n",
       "      <td>4.4</td>\n",
       "      <td>7.7</td>\n",
       "      <td>1.1</td>\n",
       "    </tr>\n",
       "    <tr>\n",
       "      <th>1</th>\n",
       "      <td>2.2</td>\n",
       "      <td>5.5</td>\n",
       "      <td>8.8</td>\n",
       "      <td>2.2</td>\n",
       "    </tr>\n",
       "    <tr>\n",
       "      <th>2</th>\n",
       "      <td>3.3</td>\n",
       "      <td>6.6</td>\n",
       "      <td>-</td>\n",
       "      <td>3.3</td>\n",
       "    </tr>\n",
       "  </tbody>\n",
       "</table>\n",
       "</div>"
      ],
      "text/plain": [
       "  col_1 col_2 col_3  col_one\n",
       "0   1.1   4.4   7.7      1.1\n",
       "1   2.2   5.5   8.8      2.2\n",
       "2   3.3   6.6     -      3.3"
      ]
     },
     "execution_count": 71,
     "metadata": {},
     "output_type": "execute_result"
    }
   ],
   "source": [
    "df.rename({'col_one':'col_1'},inplace=True)"
   ]
  },
  {
   "cell_type": "code",
   "execution_count": 150,
   "id": "ede3a42d",
   "metadata": {},
   "outputs": [],
   "source": [
    "df3=pd.to_numeric(df2['col_2']).dtypes\n",
    "#to_numeric used for as it is dtypes define"
   ]
  },
  {
   "cell_type": "code",
   "execution_count": 154,
   "id": "30ce3824",
   "metadata": {},
   "outputs": [
    {
     "data": {
      "text/plain": [
       "col_2       object\n",
       "col_3       object\n",
       "col_one    float64\n",
       "dtype: object"
      ]
     },
     "execution_count": 154,
     "metadata": {},
     "output_type": "execute_result"
    }
   ],
   "source": [
    "df2.dtypes"
   ]
  },
  {
   "cell_type": "code",
   "execution_count": 77,
   "id": "5514becd",
   "metadata": {},
   "outputs": [
    {
     "data": {
      "text/plain": [
       "dtype('O')"
      ]
     },
     "execution_count": 77,
     "metadata": {},
     "output_type": "execute_result"
    }
   ],
   "source": [
    "df2['col_2'].dtypes"
   ]
  },
  {
   "cell_type": "code",
   "execution_count": 78,
   "id": "6e07f213",
   "metadata": {},
   "outputs": [
    {
     "data": {
      "text/html": [
       "<div>\n",
       "<style scoped>\n",
       "    .dataframe tbody tr th:only-of-type {\n",
       "        vertical-align: middle;\n",
       "    }\n",
       "\n",
       "    .dataframe tbody tr th {\n",
       "        vertical-align: top;\n",
       "    }\n",
       "\n",
       "    .dataframe thead th {\n",
       "        text-align: right;\n",
       "    }\n",
       "</style>\n",
       "<table border=\"1\" class=\"dataframe\">\n",
       "  <thead>\n",
       "    <tr style=\"text-align: right;\">\n",
       "      <th></th>\n",
       "      <th>col_2</th>\n",
       "      <th>col_3</th>\n",
       "      <th>col_one</th>\n",
       "    </tr>\n",
       "  </thead>\n",
       "  <tbody>\n",
       "    <tr>\n",
       "      <th>0</th>\n",
       "      <td>4.4</td>\n",
       "      <td>7.7</td>\n",
       "      <td>1.1</td>\n",
       "    </tr>\n",
       "    <tr>\n",
       "      <th>1</th>\n",
       "      <td>5.5</td>\n",
       "      <td>8.8</td>\n",
       "      <td>2.2</td>\n",
       "    </tr>\n",
       "    <tr>\n",
       "      <th>2</th>\n",
       "      <td>6.6</td>\n",
       "      <td>-</td>\n",
       "      <td>3.3</td>\n",
       "    </tr>\n",
       "  </tbody>\n",
       "</table>\n",
       "</div>"
      ],
      "text/plain": [
       "   col_2 col_3  col_one\n",
       "0    4.4   7.7      1.1\n",
       "1    5.5   8.8      2.2\n",
       "2    6.6     -      3.3"
      ]
     },
     "execution_count": 78,
     "metadata": {},
     "output_type": "execute_result"
    }
   ],
   "source": [
    "df2.astype({'col_2':float})\n"
   ]
  },
  {
   "cell_type": "code",
   "execution_count": 142,
   "id": "738a9332",
   "metadata": {},
   "outputs": [
    {
     "data": {
      "text/plain": [
       "col_1      object\n",
       "col_2      object\n",
       "col_3      object\n",
       "col_one    object\n",
       "dtype: object"
      ]
     },
     "execution_count": 142,
     "metadata": {},
     "output_type": "execute_result"
    }
   ],
   "source": [
    "df.astype({'col_one':'str'}).dtypes   # 2nd method"
   ]
  },
  {
   "cell_type": "code",
   "execution_count": 117,
   "id": "30771108",
   "metadata": {},
   "outputs": [
    {
     "data": {
      "text/html": [
       "<div>\n",
       "<style scoped>\n",
       "    .dataframe tbody tr th:only-of-type {\n",
       "        vertical-align: middle;\n",
       "    }\n",
       "\n",
       "    .dataframe tbody tr th {\n",
       "        vertical-align: top;\n",
       "    }\n",
       "\n",
       "    .dataframe thead th {\n",
       "        text-align: right;\n",
       "    }\n",
       "</style>\n",
       "<table border=\"1\" class=\"dataframe\">\n",
       "  <thead>\n",
       "    <tr style=\"text-align: right;\">\n",
       "      <th></th>\n",
       "      <th>col_1</th>\n",
       "      <th>col_2</th>\n",
       "      <th>col_3</th>\n",
       "      <th>col_one</th>\n",
       "    </tr>\n",
       "  </thead>\n",
       "  <tbody>\n",
       "    <tr>\n",
       "      <th>0</th>\n",
       "      <td>1.1</td>\n",
       "      <td>4.4</td>\n",
       "      <td>7.7</td>\n",
       "      <td>1.1</td>\n",
       "    </tr>\n",
       "    <tr>\n",
       "      <th>1</th>\n",
       "      <td>2.2</td>\n",
       "      <td>5.5</td>\n",
       "      <td>8.8</td>\n",
       "      <td>2.2</td>\n",
       "    </tr>\n",
       "    <tr>\n",
       "      <th>2</th>\n",
       "      <td>3.3</td>\n",
       "      <td>6.6</td>\n",
       "      <td>-</td>\n",
       "      <td>3.3</td>\n",
       "    </tr>\n",
       "  </tbody>\n",
       "</table>\n",
       "</div>"
      ],
      "text/plain": [
       "  col_1  col_2 col_3 col_one\n",
       "0   1.1    4.4   7.7     1.1\n",
       "1   2.2    5.5   8.8     2.2\n",
       "2   3.3    6.6     -     3.3"
      ]
     },
     "execution_count": 117,
     "metadata": {},
     "output_type": "execute_result"
    }
   ],
   "source": [
    "df.astype({'col_one':'str','col_2':\"float\"})\n",
    "#here u can multiple columns name"
   ]
  },
  {
   "cell_type": "code",
   "execution_count": 118,
   "id": "23f271f2",
   "metadata": {},
   "outputs": [
    {
     "data": {
      "text/plain": [
       "col_1       object\n",
       "col_2       object\n",
       "col_3       object\n",
       "col_one    float64\n",
       "dtype: object"
      ]
     },
     "execution_count": 118,
     "metadata": {},
     "output_type": "execute_result"
    }
   ],
   "source": [
    "df.dtypes"
   ]
  },
  {
   "cell_type": "markdown",
   "id": "99009828",
   "metadata": {},
   "source": [
    "## here we want to change the dtypes of column 3 but i have some issue chek it"
   ]
  }
 ],
 "metadata": {
  "kernelspec": {
   "display_name": "Python 3 (ipykernel)",
   "language": "python",
   "name": "python3"
  },
  "language_info": {
   "codemirror_mode": {
    "name": "ipython",
    "version": 3
   },
   "file_extension": ".py",
   "mimetype": "text/x-python",
   "name": "python",
   "nbconvert_exporter": "python",
   "pygments_lexer": "ipython3",
   "version": "3.10.6"
  }
 },
 "nbformat": 4,
 "nbformat_minor": 5
}
